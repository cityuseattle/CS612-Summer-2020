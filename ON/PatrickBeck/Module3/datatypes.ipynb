{
 "metadata": {
  "language_info": {
   "codemirror_mode": {
    "name": "ipython",
    "version": 3
   },
   "file_extension": ".py",
   "mimetype": "text/x-python",
   "name": "python",
   "nbconvert_exporter": "python",
   "pygments_lexer": "ipython3",
   "version": "3.7.6-final"
  },
  "orig_nbformat": 2,
  "kernelspec": {
   "name": "python3",
   "display_name": "Python 3"
  }
 },
 "nbformat": 4,
 "nbformat_minor": 2,
 "cells": [
  {
   "cell_type": "code",
   "execution_count": 1,
   "metadata": {},
   "outputs": [],
   "source": [
    "import numpy as np"
   ]
  },
  {
   "cell_type": "code",
   "execution_count": 2,
   "metadata": {
    "tags": []
   },
   "outputs": [
    {
     "output_type": "stream",
     "name": "stdout",
     "text": "int64\nfloat64\n[1. 2.]\nfloat64\n"
    }
   ],
   "source": [
    "dt = np.array([1, 2])\n",
    "print(dt.dtype)            # Output > \"int64\"\n",
    "\n",
    "dt = np.array([1.0, 2.0])\n",
    "print(dt.dtype)          # Output > \"float64\"\n",
    "\n",
    "dt = np.array([1, 2], dtype=np.float64)     # Force a particular datatype\n",
    "print(dt)\n",
    "print(dt.dtype)"
   ]
  },
  {
   "cell_type": "code",
   "execution_count": 3,
   "metadata": {
    "tags": []
   },
   "outputs": [
    {
     "output_type": "stream",
     "name": "stdout",
     "text": "[('name', '<U10'), ('age', '<i8'), ('marks', '<f8')]\n"
    }
   ],
   "source": [
    "student = np.dtype([('name', np.unicode_, 10), ('age', np.int64), ('marks', np.float64)])\n",
    "# <U10 is unicode with 10 characters\n",
    "# <i8 is 64-bit integer\n",
    "# <f8 is 64-bit float\n",
    "print(student)"
   ]
  },
  {
   "cell_type": "code",
   "execution_count": 4,
   "metadata": {
    "tags": []
   },
   "outputs": [
    {
     "output_type": "stream",
     "name": "stdout",
     "text": "[('student1', 20, 100.) ('student2wi', 22,  89.)]\n[('name', '<U10'), ('age', '<i8'), ('marks', '<f8')]\n"
    }
   ],
   "source": [
    "ms_student = np.array([('student1', 20, 100), ('student2withlongname', 22, 89)], dtype = student)\n",
    "print(ms_student)\n",
    "print(ms_student.dtype)"
   ]
  },
  {
   "cell_type": "code",
   "execution_count": null,
   "metadata": {},
   "outputs": [],
   "source": []
  }
 ]
}