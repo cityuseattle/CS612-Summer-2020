{
 "metadata": {
  "language_info": {
   "codemirror_mode": {
    "name": "ipython",
    "version": 3
   },
   "file_extension": ".py",
   "mimetype": "text/x-python",
   "name": "python",
   "nbconvert_exporter": "python",
   "pygments_lexer": "ipython3",
   "version": "3.7.7-final"
  },
  "orig_nbformat": 2,
  "kernelspec": {
   "name": "python37664bitbasecondafaa4aa7caddb40dea736c638312c90a8",
   "display_name": "Python 3.7.6 64-bit ('base': conda)"
  }
 },
 "nbformat": 4,
 "nbformat_minor": 2,
 "cells": [
  {
   "cell_type": "code",
   "execution_count": null,
   "metadata": {},
   "outputs": [],
   "source": [
    "import numpy as np"
   ]
  },
  {
   "cell_type": "code",
   "execution_count": null,
   "metadata": {},
   "outputs": [],
   "source": [
    "# Create rank 1 dim array\n",
    "arr=np.array([1,2,3])\n",
    "print(type(arr))\n",
    "print(arr.dtype)\n",
    "print(arr.shape)\n",
    "print(arr[0],arr[1],arr[2])\n",
    "arr[2]=4\n",
    "print(arr)\n",
    "\n",
    "# Create rank 2 array\n",
    "arr2=np.array([[1,2,3],[4,5,6]])\n",
    "print(arr2.shape)\n",
    "print(arr2[0,0],arr2[0,1],arr2[1,0])\n",
    "print(arr2[-1])"
   ]
  },
  {
   "cell_type": "code",
   "execution_count": null,
   "metadata": {},
   "outputs": [],
   "source": [
    "zero=np.zeros((2,2))\n",
    "print(zero)\n",
    "\n",
    "one=np.ones((1,2))\n",
    "print(one)\n",
    "\n",
    "constant=np.full((2,2),5)\n",
    "print(constant)\n",
    "\n",
    "diag=np.eye(3)\n",
    "print(diag)\n",
    "\n",
    "diag=np.eye(4, k=1)\n",
    "print(diag)\n",
    "\n",
    "rand=np.random.random((2,2))\n",
    "print(rand)"
   ]
  },
  {
   "cell_type": "code",
   "execution_count": null,
   "metadata": {},
   "outputs": [],
   "source": [
    "arr=np.arange(10)\n",
    "print(arr[0:8:2])\n",
    "\n",
    "arr=np.array([[1,2,3,4],[5,6,7,8],[9,10,11,12]])\n",
    "print(arr[:2,:2])"
   ]
  }
 ]
}