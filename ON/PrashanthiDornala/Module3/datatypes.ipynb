{
 "metadata": {
  "language_info": {
   "codemirror_mode": {
    "name": "ipython",
    "version": 3
   },
   "file_extension": ".py",
   "mimetype": "text/x-python",
   "name": "python",
   "nbconvert_exporter": "python",
   "pygments_lexer": "ipython3",
   "version": 3
  },
  "orig_nbformat": 2
 },
 "nbformat": 4,
 "nbformat_minor": 2,
 "cells": [
  {
   "cell_type": "code",
   "execution_count": null,
   "metadata": {},
   "outputs": [],
   "source": [
    "import numpy as np\n"
   ]
  },
  {
   "cell_type": "code",
   "execution_count": null,
   "metadata": {},
   "outputs": [],
   "source": [
    "dt=np.array([1,2])\n",
    "print(dt.dtype)\n",
    "\n",
    "dt=np.array([1.0,2.0])\n",
    "print(dt.dtype)\n",
    "\n",
    "dt=np.array([1,2],dtype=np.float64)\n",
    "print(dt)\n",
    "print(dt.dtype)\n"
   ]
  }
 ]
}