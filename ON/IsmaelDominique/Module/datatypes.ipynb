{
 "metadata": {
  "language_info": {
   "codemirror_mode": {
    "name": "ipython",
    "version": 3
   },
   "file_extension": ".py",
   "mimetype": "text/x-python",
   "name": "python",
   "nbconvert_exporter": "python",
   "pygments_lexer": "ipython3",
   "version": 3
  },
  "orig_nbformat": 2
 },
 "nbformat": 4,
 "nbformat_minor": 2,
 "cells": [
  {
   "cell_type": "code",
   "execution_count": null,
   "metadata": {},
   "outputs": [],
   "source": [
    "import numpy as np"
   ]
  },
  {
   "cell_type": "code",
   "execution_count": null,
   "metadata": {},
   "outputs": [],
   "source": [
    "dt = np.array([1,2])\n",
    "print(dt.dtype)            # output > \"int64\"\n",
    "\n",
    "dt = np.array([1.0,2.0])\n",
    "print(dt.dtype)            # output > \"float64\"\n",
    "\n",
    "dt = np.array([1,2], dtype=np.float64) # Force a particular dadatype\n",
    "print(dt)\n",
    "print(dt.dtype)\n"
   ]
  },
  {
   "cell_type": "code",
   "execution_count": null,
   "metadata": {},
   "outputs": [],
   "source": [
    "student = np.dtype([]('name , np.unicode_, 10'),('age, np.int64'), ('marks', np.float)])\n",
    "#U10 is unicode with 10 characters\n",
    "#<i8 is 64-bit interger\n",
    "#>f8 is 64-bit float\n",
    "print(student)\n"
   ]
  },
  {
   "cell_type": "code",
   "execution_count": null,
   "metadata": {},
   "outputs": [],
   "source": [
    "ms_student = np.array([('student1', 20 , 100),('student2withlongname , 22, 89(], dtype=student)\n",
    "print(ms_student)\n",
    "print(ms_student.dtype)"
   ]
  }
 ]
}