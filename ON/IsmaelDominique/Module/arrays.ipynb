{
 "metadata": {
  "language_info": {
   "codemirror_mode": {
    "name": "ipython",
    "version": 3
   },
   "file_extension": ".py",
   "mimetype": "text/x-python",
   "name": "python",
   "nbconvert_exporter": "python",
   "pygments_lexer": "ipython3",
   "version": 3
  },
  "orig_nbformat": 2,
  "kernelspec": {
   "name": "python_defaultSpec_1596160632683",
   "display_name": "Python 3.8.5 32-bit"
  }
 },
 "nbformat": 4,
 "nbformat_minor": 2,
 "cells": [
  {
   "cell_type": "code",
   "execution_count": null,
   "metadata": {},
   "outputs": [],
   "source": []
  },
  {
   "cell_type": "code",
   "execution_count": null,
   "metadata": {},
   "outputs": [],
   "source": []
  },
  {
   "cell_type": "code",
   "execution_count": 1,
   "metadata": {},
   "outputs": [
    {
     "output_type": "error",
     "ename": "NameError",
     "evalue": "name 'np' is not defined",
     "traceback": [
      "\u001b[1;31m---------------------------------------------------------------------------\u001b[0m",
      "\u001b[1;31mNameError\u001b[0m                                 Traceback (most recent call last)",
      "\u001b[1;32m<ipython-input-1-5fd3db1f6a18>\u001b[0m in \u001b[0;36m<module>\u001b[1;34m\u001b[0m\n\u001b[0;32m      1\u001b[0m \u001b[1;31m#create rank 1 dim array\u001b[0m\u001b[1;33m\u001b[0m\u001b[1;33m\u001b[0m\u001b[1;33m\u001b[0m\u001b[0m\n\u001b[1;32m----> 2\u001b[1;33m \u001b[0marr\u001b[0m \u001b[1;33m=\u001b[0m \u001b[0mnp\u001b[0m\u001b[1;33m.\u001b[0m\u001b[0marray\u001b[0m\u001b[1;33m(\u001b[0m\u001b[1;33m[\u001b[0m\u001b[1;36m1\u001b[0m\u001b[1;33m,\u001b[0m\u001b[1;36m2\u001b[0m\u001b[1;33m,\u001b[0m\u001b[1;36m3\u001b[0m\u001b[1;33m]\u001b[0m\u001b[1;33m)\u001b[0m\u001b[1;33m\u001b[0m\u001b[1;33m\u001b[0m\u001b[0m\n\u001b[0m\u001b[0;32m      3\u001b[0m \u001b[0mprint\u001b[0m\u001b[1;33m(\u001b[0m\u001b[0mtype\u001b[0m\u001b[1;33m(\u001b[0m\u001b[0marr\u001b[0m\u001b[1;33m)\u001b[0m\u001b[1;33m)\u001b[0m\u001b[1;33m\u001b[0m\u001b[1;33m\u001b[0m\u001b[0m\n\u001b[0;32m      4\u001b[0m \u001b[0mprint\u001b[0m\u001b[1;33m(\u001b[0m\u001b[0marr\u001b[0m\u001b[1;33m.\u001b[0m\u001b[0mdtype\u001b[0m\u001b[1;33m)\u001b[0m\u001b[1;33m\u001b[0m\u001b[1;33m\u001b[0m\u001b[0m\n\u001b[0;32m      5\u001b[0m \u001b[0mprint\u001b[0m\u001b[1;33m(\u001b[0m\u001b[0marr\u001b[0m\u001b[1;33m.\u001b[0m\u001b[0mshape\u001b[0m\u001b[1;33m)\u001b[0m\u001b[1;33m\u001b[0m\u001b[1;33m\u001b[0m\u001b[0m\n",
      "\u001b[1;31mNameError\u001b[0m: name 'np' is not defined"
     ]
    }
   ],
   "source": [
    "#create rank 1 dim array\n",
    "arr = np.array([1,2,3])\n",
    "print(type(arr))\n",
    "print(arr.dtype)\n",
    "print(arr.shape)\n",
    "print(arr[0], arr[1], arr[2])\n",
    "arr[2] = 4\n",
    "print(arr)\n",
    "\n",
    "#create rank 2 array\n",
    "arr2 = np.array([[1,2,3],[4,5,6]])\n",
    "print(arr2.shape)\n",
    "print(arr2[0,0], arr2[0,1], arr2[1,0])\n",
    "print(arr2[-1])\n"
   ]
  },
  {
   "cell_type": "code",
   "execution_count": null,
   "metadata": {},
   "outputs": [],
   "source": []
  },
  {
   "cell_type": "code",
   "execution_count": null,
   "metadata": {},
   "outputs": [],
   "source": [
    "#create an array of zeros with 2 dim and size of 2 each\n",
    "zero = np.zeros((2,2))\n",
    "print (zero)                           #outputs \"[[0.0]]\"\n",
    "\n",
    "#create a new array of ones with 1 dim and size of 2 easch\n",
    "one = np.ones((1,2))\n",
    "print(one)\n",
    "\n",
    "#create a new array with given sharpe\n",
    "constant = np.full((2,2),5)\n",
    "print(constant)\n",
    "\n",
    "#create a 2 -D array with on diagonal and 0 on others\n",
    "\n",
    "diag = np.eye(4, k=1)\n",
    "print(diag)\n",
    "\n",
    "\n",
    "#Array indexing\n",
    "arr = np.arange(10)\n",
    "print(arr[0:8:2])\n",
    "\n",
    "#create rank 2 with shape (3,4) array\n",
    "arr = np.array([[1,2,3,4],[5,6,7,8],[9,10,11,12]])\n",
    "print(arr[:2, :2])\n",
    "\n",
    "#integet indexing\n",
    "arr = np.array([[1,2],[3,4],[5,6]])\n",
    "print(arr[[0,1,2],[0,1,1]])\n",
    "\n"
   ]
  },
  {
   "cell_type": "code",
   "execution_count": null,
   "metadata": {},
   "outputs": [],
   "source": [
    "arr = np.arange(9)\n",
    "reshape_arr = arr.reshape(3,3)print(resharpe_arr)\n",
    "\n"
   ]
  },
  {
   "cell_type": "code",
   "execution_count": null,
   "metadata": {},
   "outputs": [],
   "source": [
    "arr= np.arange(8).reshape(2,4)\n",
    "print(arr.flatten())\n",
    "\n",
    "#print(arr[4])"
   ]
  },
  {
   "cell_type": "code",
   "execution_count": null,
   "metadata": {},
   "outputs": [],
   "source": [
    "#numpy built-in supporting broadcasting \n",
    "a= np.array([[1],[2],[3]])\n",
    "b= np.array([4,5,6])\n",
    "c= a+b\n",
    "print(c)\n",
    " #this is what it was doing for us\n",
    " bc= np.broadcast(a,b)\n",
    " x= np.zeros(bc.shape)\n",
    "\n",
    " x.flat= [a+b for (a,b) in bc]\n",
    " print(x)"
   ]
  },
  {
   "cell_type": "code",
   "execution_count": null,
   "metadata": {},
   "outputs": [],
   "source": [
    "arr= np.array([[1,2,3],[4,5,6]])\n",
    "arr_resized= np.resize(arr,(3,3))\n",
    "print(arr_resized)\n"
   ]
  },
  {
   "cell_type": "code",
   "execution_count": null,
   "metadata": {},
   "outputs": [],
   "source": [
    "unique = np.unique([1,1,2,2,3,3])\n",
    "print(unique)\n",
    "\n",
    "arr= np.array([[1,1],[2,3]])\n",
    "print(np.unique(arr))\n",
    "\n",
    "arr=np.array(['a','b','c','a'])\n",
    "unique, indices= np.unique(arr, return_index=True)\n",
    "print(unique,indices)\n",
    "\n",
    "count= np.unique(arr,return_counts=True)\n",
    "print(count[0],count[1])"
   ]
  }
 ]
}