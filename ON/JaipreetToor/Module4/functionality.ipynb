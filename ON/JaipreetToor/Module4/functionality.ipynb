{
 "nbformat": 4,
 "nbformat_minor": 2,
 "metadata": {
  "language_info": {
   "name": "python",
   "codemirror_mode": {
    "name": "ipython",
    "version": 3
   }
  },
  "orig_nbformat": 2,
  "file_extension": ".py",
  "mimetype": "text/x-python",
  "name": "python",
  "npconvert_exporter": "python",
  "pygments_lexer": "ipython3",
  "version": 3
 },
 "cells": [
  {
   "cell_type": "code",
   "execution_count": 326,
   "metadata": {},
   "outputs": [],
   "source": [
    "import pandas as pd"
   ]
  },
  {
   "cell_type": "code",
   "execution_count": 327,
   "metadata": {},
   "outputs": [
    {
     "data": {
      "text/html": "<div>\n<style scoped>\n    .dataframe tbody tr th:only-of-type {\n        vertical-align: middle;\n    }\n\n    .dataframe tbody tr th {\n        vertical-align: top;\n    }\n\n    .dataframe thead th {\n        text-align: right;\n    }\n</style>\n<table border=\"1\" class=\"dataframe\">\n  <thead>\n    <tr style=\"text-align: right;\">\n      <th></th>\n      <th>Value</th>\n      <th>Change</th>\n      <th>Sector</th>\n    </tr>\n  </thead>\n  <tbody>\n    <tr>\n      <th>Amazon</th>\n      <td>220</td>\n      <td>17.5</td>\n      <td>Retail</td>\n    </tr>\n    <tr>\n      <th>Google</th>\n      <td>160</td>\n      <td>11.9</td>\n      <td>Tech</td>\n    </tr>\n    <tr>\n      <th>Apple</th>\n      <td>140</td>\n      <td>-8.5</td>\n      <td>Tech</td>\n    </tr>\n    <tr>\n      <th>Microsoft</th>\n      <td>117</td>\n      <td>-2.1</td>\n      <td>Tech</td>\n    </tr>\n    <tr>\n      <th>Samsung</th>\n      <td>94</td>\n      <td>3.5</td>\n      <td>Tech</td>\n    </tr>\n  </tbody>\n</table>\n</div>",
      "text/plain": "           Value  Change  Sector\nAmazon       220    17.5  Retail\nGoogle       160    11.9    Tech\nApple        140    -8.5    Tech\nMicrosoft    117    -2.1    Tech\nSamsung       94     3.5    Tech"
     },
     "execution_count": 327,
     "metadata": {},
     "output_type": "execute_result"
    }
   ],
   "source": [
    "companies = {\n",
    "    'Value': [220, 160, 140, 117, 94],\n",
    "    'Change': [17.5, 11.9, -8.5, -2.1, 3.5],\n",
    "    'Sector': ['Retail', 'Tech', 'Tech', 'Tech', 'Tech']\n",
    "}\n",
    "\n",
    "data = pd.DataFrame(companies, index=['Amazon', 'Google', 'Apple', 'Microsoft', 'Samsung'])\n",
    "data"
   ]
  },
  {
   "cell_type": "code",
   "execution_count": 328,
   "metadata": {},
   "outputs": [
    {
     "name": "stdout",
     "output_type": "stream",
     "text": "<class 'pandas.core.frame.DataFrame'>\nIndex: 5 entries, Amazon to Samsung\nData columns (total 3 columns):\n #   Column  Non-Null Count  Dtype  \n---  ------  --------------  -----  \n 0   Value   5 non-null      int64  \n 1   Change  5 non-null      float64\n 2   Sector  5 non-null      object \ndtypes: float64(1), int64(1), object(1)\nmemory usage: 160.0+ bytes\n"
    }
   ],
   "source": [
    "data.info()"
   ]
  },
  {
   "cell_type": "code",
   "execution_count": 329,
   "metadata": {},
   "outputs": [
    {
     "data": {
      "text/plain": "Index(['Value', 'Change', 'Sector'], dtype='object')"
     },
     "execution_count": 329,
     "metadata": {},
     "output_type": "execute_result"
    }
   ],
   "source": [
    "data.columns"
   ]
  },
  {
   "cell_type": "code",
   "execution_count": 330,
   "metadata": {},
   "outputs": [
    {
     "data": {
      "text/plain": "Index(['Amazon', 'Google', 'Apple', 'Microsoft', 'Samsung'], dtype='object')"
     },
     "execution_count": 330,
     "metadata": {},
     "output_type": "execute_result"
    }
   ],
   "source": [
    "data.index"
   ]
  },
  {
   "cell_type": "code",
   "execution_count": 331,
   "metadata": {},
   "outputs": [
    {
     "data": {
      "text/html": "<div>\n<style scoped>\n    .dataframe tbody tr th:only-of-type {\n        vertical-align: middle;\n    }\n\n    .dataframe tbody tr th {\n        vertical-align: top;\n    }\n\n    .dataframe thead th {\n        text-align: right;\n    }\n</style>\n<table border=\"1\" class=\"dataframe\">\n  <thead>\n    <tr style=\"text-align: right;\">\n      <th></th>\n      <th>Value</th>\n      <th>Change</th>\n    </tr>\n  </thead>\n  <tbody>\n    <tr>\n      <th>count</th>\n      <td>5.000000</td>\n      <td>5.000000</td>\n    </tr>\n    <tr>\n      <th>mean</th>\n      <td>146.200000</td>\n      <td>4.460000</td>\n    </tr>\n    <tr>\n      <th>std</th>\n      <td>48.095738</td>\n      <td>10.456003</td>\n    </tr>\n    <tr>\n      <th>min</th>\n      <td>94.000000</td>\n      <td>-8.500000</td>\n    </tr>\n    <tr>\n      <th>25%</th>\n      <td>117.000000</td>\n      <td>-2.100000</td>\n    </tr>\n    <tr>\n      <th>50%</th>\n      <td>140.000000</td>\n      <td>3.500000</td>\n    </tr>\n    <tr>\n      <th>75%</th>\n      <td>160.000000</td>\n      <td>11.900000</td>\n    </tr>\n    <tr>\n      <th>max</th>\n      <td>220.000000</td>\n      <td>17.500000</td>\n    </tr>\n  </tbody>\n</table>\n</div>",
      "text/plain": "            Value     Change\ncount    5.000000   5.000000\nmean   146.200000   4.460000\nstd     48.095738  10.456003\nmin     94.000000  -8.500000\n25%    117.000000  -2.100000\n50%    140.000000   3.500000\n75%    160.000000  11.900000\nmax    220.000000  17.500000"
     },
     "execution_count": 331,
     "metadata": {},
     "output_type": "execute_result"
    }
   ],
   "source": [
    "data.describe()"
   ]
  },
  {
   "cell_type": "code",
   "execution_count": 332,
   "metadata": {},
   "outputs": [
    {
     "data": {
      "text/html": "<div>\n<style scoped>\n    .dataframe tbody tr th:only-of-type {\n        vertical-align: middle;\n    }\n\n    .dataframe tbody tr th {\n        vertical-align: top;\n    }\n\n    .dataframe thead th {\n        text-align: right;\n    }\n</style>\n<table border=\"1\" class=\"dataframe\">\n  <thead>\n    <tr style=\"text-align: right;\">\n      <th></th>\n      <th>Value</th>\n      <th>Change</th>\n      <th>Sector</th>\n    </tr>\n  </thead>\n  <tbody>\n    <tr>\n      <th>Amazon</th>\n      <td>220</td>\n      <td>17.5</td>\n      <td>Retail</td>\n    </tr>\n    <tr>\n      <th>Google</th>\n      <td>160</td>\n      <td>11.9</td>\n      <td>Tech</td>\n    </tr>\n  </tbody>\n</table>\n</div>",
      "text/plain": "        Value  Change  Sector\nAmazon    220    17.5  Retail\nGoogle    160    11.9    Tech"
     },
     "execution_count": 332,
     "metadata": {},
     "output_type": "execute_result"
    }
   ],
   "source": [
    "data.loc[data['Value'] > 150]       #Only show companies that have its values > 150 M"
   ]
  },
  {
   "cell_type": "code",
   "execution_count": 333,
   "metadata": {},
   "outputs": [
    {
     "data": {
      "text/html": "<div>\n<style scoped>\n    .dataframe tbody tr th:only-of-type {\n        vertical-align: middle;\n    }\n\n    .dataframe tbody tr th {\n        vertical-align: top;\n    }\n\n    .dataframe thead th {\n        text-align: right;\n    }\n</style>\n<table border=\"1\" class=\"dataframe\">\n  <thead>\n    <tr style=\"text-align: right;\">\n      <th></th>\n      <th>Value</th>\n      <th>Change</th>\n      <th>Sector</th>\n    </tr>\n  </thead>\n  <tbody>\n    <tr>\n      <th>Amazon</th>\n      <td>220</td>\n      <td>17.5</td>\n      <td>Retail</td>\n    </tr>\n    <tr>\n      <th>Google</th>\n      <td>160</td>\n      <td>11.9</td>\n      <td>Tech</td>\n    </tr>\n    <tr>\n      <th>Apple</th>\n      <td>140</td>\n      <td>-8.5</td>\n      <td>Tech</td>\n    </tr>\n    <tr>\n      <th>Microsoft</th>\n      <td>117</td>\n      <td>-2.1</td>\n      <td>Tech</td>\n    </tr>\n    <tr>\n      <th>Samsung</th>\n      <td>94</td>\n      <td>3.5</td>\n      <td>Tech</td>\n    </tr>\n  </tbody>\n</table>\n</div>",
      "text/plain": "           Value  Change  Sector\nAmazon       220    17.5  Retail\nGoogle       160    11.9    Tech\nApple        140    -8.5    Tech\nMicrosoft    117    -2.1    Tech\nSamsung       94     3.5    Tech"
     },
     "execution_count": 333,
     "metadata": {},
     "output_type": "execute_result"
    }
   ],
   "source": [
    "data"
   ]
  },
  {
   "cell_type": "code",
   "execution_count": 334,
   "metadata": {},
   "outputs": [
    {
     "data": {
      "text/plain": "Value      117\nChange    -2.1\nSector    Tech\nName: Microsoft, dtype: object"
     },
     "execution_count": 334,
     "metadata": {},
     "output_type": "execute_result"
    }
   ],
   "source": [
    "data.iloc[3]        # select row index of 3, which is Microsoft"
   ]
  },
  {
   "cell_type": "code",
   "execution_count": 335,
   "metadata": {},
   "outputs": [
    {
     "data": {
      "text/html": "<div>\n<style scoped>\n    .dataframe tbody tr th:only-of-type {\n        vertical-align: middle;\n    }\n\n    .dataframe tbody tr th {\n        vertical-align: top;\n    }\n\n    .dataframe thead th {\n        text-align: right;\n    }\n</style>\n<table border=\"1\" class=\"dataframe\">\n  <thead>\n    <tr style=\"text-align: right;\">\n      <th></th>\n      <th>Change</th>\n      <th>Sector</th>\n    </tr>\n  </thead>\n  <tbody>\n    <tr>\n      <th>Google</th>\n      <td>11.9</td>\n      <td>Tech</td>\n    </tr>\n    <tr>\n      <th>Apple</th>\n      <td>-8.5</td>\n      <td>Tech</td>\n    </tr>\n    <tr>\n      <th>Microsoft</th>\n      <td>-2.1</td>\n      <td>Tech</td>\n    </tr>\n  </tbody>\n</table>\n</div>",
      "text/plain": "           Change Sector\nGoogle       11.9   Tech\nApple        -8.5   Tech\nMicrosoft    -2.1   Tech"
     },
     "execution_count": 335,
     "metadata": {},
     "output_type": "execute_result"
    }
   ],
   "source": [
    "# slicing\n",
    "data.iloc[1:4, 1:3]\n",
    "#  [row:row, col:col]"
   ]
  },
  {
   "cell_type": "code",
   "execution_count": 336,
   "metadata": {},
   "outputs": [
    {
     "data": {
      "text/html": "<div>\n<style scoped>\n    .dataframe tbody tr th:only-of-type {\n        vertical-align: middle;\n    }\n\n    .dataframe tbody tr th {\n        vertical-align: top;\n    }\n\n    .dataframe thead th {\n        text-align: right;\n    }\n</style>\n<table border=\"1\" class=\"dataframe\">\n  <thead>\n    <tr style=\"text-align: right;\">\n      <th></th>\n      <th>Value</th>\n      <th>Change</th>\n      <th>Sector</th>\n    </tr>\n  </thead>\n  <tbody>\n    <tr>\n      <th>Amazon</th>\n      <td>220</td>\n      <td>17.5</td>\n      <td>Retail</td>\n    </tr>\n    <tr>\n      <th>Google</th>\n      <td>160</td>\n      <td>11.9</td>\n      <td>Tech</td>\n    </tr>\n    <tr>\n      <th>Apple</th>\n      <td>140</td>\n      <td>-8.5</td>\n      <td>Tech</td>\n    </tr>\n  </tbody>\n</table>\n</div>",
      "text/plain": "        Value  Change  Sector\nAmazon    220    17.5  Retail\nGoogle    160    11.9    Tech\nApple     140    -8.5    Tech"
     },
     "execution_count": 336,
     "metadata": {},
     "output_type": "execute_result"
    }
   ],
   "source": [
    "# number slicing\n",
    "# Only row 0 to row 2\n",
    "data[0:3]"
   ]
  },
  {
   "cell_type": "code",
   "execution_count": 337,
   "metadata": {},
   "outputs": [
    {
     "data": {
      "text/html": "<div>\n<style scoped>\n    .dataframe tbody tr th:only-of-type {\n        vertical-align: middle;\n    }\n\n    .dataframe tbody tr th {\n        vertical-align: top;\n    }\n\n    .dataframe thead th {\n        text-align: right;\n    }\n</style>\n<table border=\"1\" class=\"dataframe\">\n  <thead>\n    <tr style=\"text-align: right;\">\n      <th></th>\n      <th>Value</th>\n      <th>Change</th>\n      <th>Sector</th>\n    </tr>\n  </thead>\n  <tbody>\n    <tr>\n      <th>Amazon</th>\n      <td>220</td>\n      <td>17.5</td>\n      <td>Retail</td>\n    </tr>\n    <tr>\n      <th>Google</th>\n      <td>160</td>\n      <td>11.9</td>\n      <td>Tech</td>\n    </tr>\n    <tr>\n      <th>Apple</th>\n      <td>140</td>\n      <td>-8.5</td>\n      <td>Tech</td>\n    </tr>\n    <tr>\n      <th>Microsoft</th>\n      <td>117</td>\n      <td>-2.1</td>\n      <td>Tech</td>\n    </tr>\n  </tbody>\n</table>\n</div>",
      "text/plain": "           Value  Change  Sector\nAmazon       220    17.5  Retail\nGoogle       160    11.9    Tech\nApple        140    -8.5    Tech\nMicrosoft    117    -2.1    Tech"
     },
     "execution_count": 337,
     "metadata": {},
     "output_type": "execute_result"
    }
   ],
   "source": [
    "# string slicing\n",
    "# Returns data from Amaazon row to Microsoft row\n",
    "data['Amazon':'Microsoft']\n"
   ]
  },
  {
   "cell_type": "code",
   "execution_count": 338,
   "metadata": {},
   "outputs": [
    {
     "data": {
      "text/html": "<div>\n<style scoped>\n    .dataframe tbody tr th:only-of-type {\n        vertical-align: middle;\n    }\n\n    .dataframe tbody tr th {\n        vertical-align: top;\n    }\n\n    .dataframe thead th {\n        text-align: right;\n    }\n</style>\n<table border=\"1\" class=\"dataframe\">\n  <thead>\n    <tr style=\"text-align: right;\">\n      <th></th>\n      <th>Value</th>\n      <th>Change</th>\n      <th>Sector</th>\n    </tr>\n  </thead>\n  <tbody>\n    <tr>\n      <th>Amazon</th>\n      <td>220</td>\n      <td>17.5</td>\n      <td>Retail</td>\n    </tr>\n    <tr>\n      <th>Google</th>\n      <td>160</td>\n      <td>11.9</td>\n      <td>Tech</td>\n    </tr>\n    <tr>\n      <th>Apple</th>\n      <td>140</td>\n      <td>-8.5</td>\n      <td>Tech</td>\n    </tr>\n    <tr>\n      <th>Microsoft</th>\n      <td>117</td>\n      <td>-2.1</td>\n      <td>Tech</td>\n    </tr>\n    <tr>\n      <th>Samsung</th>\n      <td>94</td>\n      <td>3.5</td>\n      <td>Tech</td>\n    </tr>\n  </tbody>\n</table>\n</div>",
      "text/plain": "           Value  Change  Sector\nAmazon       220    17.5  Retail\nGoogle       160    11.9    Tech\nApple        140    -8.5    Tech\nMicrosoft    117    -2.1    Tech\nSamsung       94     3.5    Tech"
     },
     "execution_count": 338,
     "metadata": {},
     "output_type": "execute_result"
    }
   ],
   "source": [
    "data\n"
   ]
  },
  {
   "cell_type": "code",
   "execution_count": 339,
   "metadata": {},
   "outputs": [
    {
     "data": {
      "text/plain": "Amazon       440\nGoogle       320\nApple        280\nMicrosoft    234\nSamsung      188\nName: Value, dtype: int64"
     },
     "execution_count": 339,
     "metadata": {},
     "output_type": "execute_result"
    }
   ],
   "source": [
    "# multiply\n",
    "data['Value'].mul(2)\n"
   ]
  },
  {
   "cell_type": "code",
   "execution_count": 340,
   "metadata": {},
   "outputs": [
    {
     "data": {
      "text/plain": "Amazon       218\nGoogle       158\nApple        138\nMicrosoft    115\nSamsung       92\nName: Value, dtype: int64"
     },
     "execution_count": 340,
     "metadata": {},
     "output_type": "execute_result"
    }
   ],
   "source": [
    "# subtract\n",
    "data['Value'].sub(2)"
   ]
  },
  {
   "cell_type": "code",
   "execution_count": 341,
   "metadata": {},
   "outputs": [
    {
     "data": {
      "text/plain": "Amazon       222\nGoogle       162\nApple        142\nMicrosoft    119\nSamsung       96\nName: Value, dtype: int64"
     },
     "execution_count": 341,
     "metadata": {},
     "output_type": "execute_result"
    }
   ],
   "source": [
    "# add\n",
    "data['Value'].add(2)"
   ]
  },
  {
   "cell_type": "code",
   "execution_count": 342,
   "metadata": {},
   "outputs": [
    {
     "data": {
      "text/plain": "(Amazon       110\n Google        80\n Apple         70\n Microsoft     58\n Samsung       47\n Name: Value, dtype: int64,\n Amazon       0\n Google       0\n Apple        0\n Microsoft    1\n Samsung      0\n Name: Value, dtype: int64)"
     },
     "execution_count": 342,
     "metadata": {},
     "output_type": "execute_result"
    }
   ],
   "source": [
    "# div and mod values in 'Value col by 2\n",
    "# div is the floor of each value divided by 2\n",
    "# rem is the remainder of each value divided by 2\n",
    "div, rem = divmod(data['Value'], 2)\n",
    "div, rem"
   ]
  },
  {
   "cell_type": "code",
   "execution_count": 343,
   "metadata": {},
   "outputs": [
    {
     "data": {
      "text/html": "<div>\n<style scoped>\n    .dataframe tbody tr th:only-of-type {\n        vertical-align: middle;\n    }\n\n    .dataframe tbody tr th {\n        vertical-align: top;\n    }\n\n    .dataframe thead th {\n        text-align: right;\n    }\n</style>\n<table border=\"1\" class=\"dataframe\">\n  <thead>\n    <tr style=\"text-align: right;\">\n      <th></th>\n      <th>Value</th>\n      <th>Change</th>\n      <th>Sector</th>\n    </tr>\n  </thead>\n  <tbody>\n    <tr>\n      <th>Amazon</th>\n      <td>220</td>\n      <td>17.5</td>\n      <td>Retail</td>\n    </tr>\n    <tr>\n      <th>Google</th>\n      <td>160</td>\n      <td>11.9</td>\n      <td>Tech</td>\n    </tr>\n    <tr>\n      <th>Apple</th>\n      <td>140</td>\n      <td>-8.5</td>\n      <td>Tech</td>\n    </tr>\n    <tr>\n      <th>Microsoft</th>\n      <td>117</td>\n      <td>-2.1</td>\n      <td>Tech</td>\n    </tr>\n    <tr>\n      <th>Samsung</th>\n      <td>94</td>\n      <td>3.5</td>\n      <td>Tech</td>\n    </tr>\n  </tbody>\n</table>\n</div>",
      "text/plain": "           Value  Change  Sector\nAmazon       220    17.5  Retail\nGoogle       160    11.9    Tech\nApple        140    -8.5    Tech\nMicrosoft    117    -2.1    Tech\nSamsung       94     3.5    Tech"
     },
     "execution_count": 343,
     "metadata": {},
     "output_type": "execute_result"
    }
   ],
   "source": [
    "data"
   ]
  },
  {
   "cell_type": "code",
   "execution_count": 344,
   "metadata": {},
   "outputs": [
    {
     "data": {
      "text/plain": "Value     146.20\nChange      4.46\ndtype: float64"
     },
     "execution_count": 344,
     "metadata": {},
     "output_type": "execute_result"
    }
   ],
   "source": [
    "# Calculate mean (avereage) of numerical data\n",
    "data.mean()\n"
   ]
  },
  {
   "cell_type": "code",
   "execution_count": 345,
   "metadata": {},
   "outputs": [
    {
     "data": {
      "text/plain": "Value                        731\nChange                      22.3\nSector    RetailTechTechTechTech\ndtype: object"
     },
     "execution_count": 345,
     "metadata": {},
     "output_type": "execute_result"
    }
   ],
   "source": [
    "# Sum values for each column\n",
    "# sum(0)<default> - sum values for each column\n",
    "data.sum(0)"
   ]
  },
  {
   "cell_type": "code",
   "execution_count": 346,
   "metadata": {},
   "outputs": [
    {
     "data": {
      "text/plain": "Amazon       237.5\nGoogle       171.9\nApple        131.5\nMicrosoft    114.9\nSamsung       97.5\ndtype: float64"
     },
     "execution_count": 346,
     "metadata": {},
     "output_type": "execute_result"
    }
   ],
   "source": [
    "# sum values for each index (row)\n",
    "data.sum(1)"
   ]
  },
  {
   "cell_type": "code",
   "execution_count": 347,
   "metadata": {},
   "outputs": [
    {
     "data": {
      "text/plain": "Value     48.095738\nChange    10.456003\ndtype: float64"
     },
     "execution_count": 347,
     "metadata": {},
     "output_type": "execute_result"
    }
   ],
   "source": [
    "# returns the Bressel standard deviation of the numerical columns\n",
    "data.std()"
   ]
  },
  {
   "cell_type": "code",
   "execution_count": 348,
   "metadata": {},
   "outputs": [
    {
     "data": {
      "text/plain": "Value     140.0\nChange      3.5\nName: 0.5, dtype: float64"
     },
     "execution_count": 348,
     "metadata": {},
     "output_type": "execute_result"
    }
   ],
   "source": [
    "# (0-1 interval), this case is 50% quantile\n",
    "data.quantile(.5)"
   ]
  },
  {
   "cell_type": "code",
   "execution_count": 349,
   "metadata": {},
   "outputs": [
    {
     "data": {
      "text/plain": "Value         94\nChange      -8.5\nSector    Retail\ndtype: object"
     },
     "execution_count": 349,
     "metadata": {},
     "output_type": "execute_result"
    }
   ],
   "source": [
    "# returns minimum of each column\n",
    "data.min()"
   ]
  },
  {
   "cell_type": "code",
   "execution_count": 350,
   "metadata": {},
   "outputs": [
    {
     "data": {
      "text/html": "<div>\n<style scoped>\n    .dataframe tbody tr th:only-of-type {\n        vertical-align: middle;\n    }\n\n    .dataframe tbody tr th {\n        vertical-align: top;\n    }\n\n    .dataframe thead th {\n        text-align: right;\n    }\n</style>\n<table border=\"1\" class=\"dataframe\">\n  <thead>\n    <tr style=\"text-align: right;\">\n      <th></th>\n      <th>Value</th>\n      <th>Change</th>\n      <th>Sector</th>\n    </tr>\n  </thead>\n  <tbody>\n    <tr>\n      <th>Amazon</th>\n      <td>220</td>\n      <td>17.5</td>\n      <td>Retail</td>\n    </tr>\n    <tr>\n      <th>Google</th>\n      <td>380</td>\n      <td>29.4</td>\n      <td>RetailTech</td>\n    </tr>\n    <tr>\n      <th>Apple</th>\n      <td>520</td>\n      <td>20.9</td>\n      <td>RetailTechTech</td>\n    </tr>\n    <tr>\n      <th>Microsoft</th>\n      <td>637</td>\n      <td>18.8</td>\n      <td>RetailTechTechTech</td>\n    </tr>\n    <tr>\n      <th>Samsung</th>\n      <td>731</td>\n      <td>22.3</td>\n      <td>RetailTechTechTechTech</td>\n    </tr>\n  </tbody>\n</table>\n</div>",
      "text/plain": "           Value  Change                  Sector\nAmazon       220    17.5                  Retail\nGoogle       380    29.4              RetailTech\nApple        520    20.9          RetailTechTech\nMicrosoft    637    18.8      RetailTechTechTech\nSamsung      731    22.3  RetailTechTechTechTech"
     },
     "execution_count": 350,
     "metadata": {},
     "output_type": "execute_result"
    }
   ],
   "source": [
    "#returns cumllative sum over a DataFrame or series axis\n",
    "data.cumsum()"
   ]
  },
  {
   "cell_type": "code",
   "execution_count": 351,
   "metadata": {},
   "outputs": [
    {
     "data": {
      "text/plain": "Value     5\nChange    5\nSector    5\ndtype: int64"
     },
     "execution_count": 351,
     "metadata": {},
     "output_type": "execute_result"
    }
   ],
   "source": [
    "# number of non-null values\n",
    "data.count()"
   ]
  }
 ]
}