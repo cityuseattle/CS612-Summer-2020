{
 "nbformat": 4,
 "nbformat_minor": 2,
 "metadata": {
  "language_info": {
   "name": "python",
   "codemirror_mode": {
    "name": "ipython",
    "version": 3
   }
  },
  "orig_nbformat": 2,
  "file_extension": ".py",
  "mimetype": "text/x-python",
  "name": "python",
  "npconvert_exporter": "python",
  "pygments_lexer": "ipython3",
  "version": 3
 },
 "cells": [
  {
   "cell_type": "code",
   "execution_count": 32,
   "metadata": {},
   "outputs": [],
   "source": [
    "import pandas as pd"
   ]
  },
  {
   "cell_type": "code",
   "execution_count": 33,
   "metadata": {},
   "outputs": [
    {
     "data": {
      "text/plain": "0    1\n1    3\n2    5\n3    6\n4    8\ndtype: int64"
     },
     "execution_count": 33,
     "metadata": {},
     "output_type": "execute_result"
    }
   ],
   "source": [
    "series = pd.Series([1, 3, 5, 6, 8])\n",
    "series"
   ]
  },
  {
   "cell_type": "code",
   "execution_count": 34,
   "metadata": {},
   "outputs": [
    {
     "data": {
      "text/html": "<div>\n<style scoped>\n    .dataframe tbody tr th:only-of-type {\n        vertical-align: middle;\n    }\n\n    .dataframe tbody tr th {\n        vertical-align: top;\n    }\n\n    .dataframe thead th {\n        text-align: right;\n    }\n</style>\n<table border=\"1\" class=\"dataframe\">\n  <thead>\n    <tr style=\"text-align: right;\">\n      <th></th>\n      <th>apples</th>\n      <th>oranges</th>\n      <th>peaches</th>\n    </tr>\n  </thead>\n  <tbody>\n    <tr>\n      <th>0</th>\n      <td>3</td>\n      <td>0</td>\n      <td>2</td>\n    </tr>\n    <tr>\n      <th>1</th>\n      <td>2</td>\n      <td>3</td>\n      <td>4</td>\n    </tr>\n    <tr>\n      <th>2</th>\n      <td>0</td>\n      <td>7</td>\n      <td>6</td>\n    </tr>\n    <tr>\n      <th>3</th>\n      <td>1</td>\n      <td>2</td>\n      <td>8</td>\n    </tr>\n  </tbody>\n</table>\n</div>",
      "text/plain": "   apples  oranges  peaches\n0       3        0        2\n1       2        3        4\n2       0        7        6\n3       1        2        8"
     },
     "execution_count": 34,
     "metadata": {},
     "output_type": "execute_result"
    }
   ],
   "source": [
    "data = {\n",
    "    'apples': [3, 2, 0, 1],\n",
    "    'oranges': [0, 3, 7, 2],\n",
    "    'peaches': [2, 4, 6, 8]\n",
    "}\n",
    "fruits = pd.DataFrame(data)\n",
    "fruits"
   ]
  },
  {
   "cell_type": "code",
   "execution_count": 35,
   "metadata": {},
   "outputs": [
    {
     "data": {
      "text/html": "<div>\n<style scoped>\n    .dataframe tbody tr th:only-of-type {\n        vertical-align: middle;\n    }\n\n    .dataframe tbody tr th {\n        vertical-align: top;\n    }\n\n    .dataframe thead th {\n        text-align: right;\n    }\n</style>\n<table border=\"1\" class=\"dataframe\">\n  <thead>\n    <tr style=\"text-align: right;\">\n      <th></th>\n      <th>apples</th>\n      <th>oranges</th>\n      <th>peaches</th>\n    </tr>\n  </thead>\n  <tbody>\n    <tr>\n      <th>Tom</th>\n      <td>3</td>\n      <td>0</td>\n      <td>2</td>\n    </tr>\n    <tr>\n      <th>Isabelle</th>\n      <td>2</td>\n      <td>3</td>\n      <td>4</td>\n    </tr>\n    <tr>\n      <th>Daisy</th>\n      <td>0</td>\n      <td>7</td>\n      <td>6</td>\n    </tr>\n    <tr>\n      <th>Blathers</th>\n      <td>1</td>\n      <td>2</td>\n      <td>8</td>\n    </tr>\n  </tbody>\n</table>\n</div>",
      "text/plain": "          apples  oranges  peaches\nTom            3        0        2\nIsabelle       2        3        4\nDaisy          0        7        6\nBlathers       1        2        8"
     },
     "execution_count": 35,
     "metadata": {},
     "output_type": "execute_result"
    }
   ],
   "source": [
    "buyer = pd.DataFrame(data, index=['Tom', 'Isabelle', 'Daisy', 'Blathers'])\n",
    "buyer\n"
   ]
  },
  {
   "cell_type": "code",
   "execution_count": 36,
   "metadata": {},
   "outputs": [
    {
     "data": {
      "text/plain": "apples     3\noranges    0\npeaches    2\nName: Tom, dtype: int64"
     },
     "execution_count": 36,
     "metadata": {},
     "output_type": "execute_result"
    }
   ],
   "source": [
    "buyer.loc['Tom']"
   ]
  },
  {
   "cell_type": "code",
   "execution_count": 37,
   "metadata": {},
   "outputs": [
    {
     "data": {
      "text/html": "<div>\n<style scoped>\n    .dataframe tbody tr th:only-of-type {\n        vertical-align: middle;\n    }\n\n    .dataframe tbody tr th {\n        vertical-align: top;\n    }\n\n    .dataframe thead th {\n        text-align: right;\n    }\n</style>\n<table border=\"1\" class=\"dataframe\">\n  <thead>\n    <tr style=\"text-align: right;\">\n      <th></th>\n      <th>apples</th>\n      <th>oranges</th>\n      <th>peaches</th>\n    </tr>\n  </thead>\n  <tbody>\n    <tr>\n      <th>Tom</th>\n      <td>3000000</td>\n      <td>0</td>\n      <td>2000000</td>\n    </tr>\n    <tr>\n      <th>Isabelle</th>\n      <td>2000000</td>\n      <td>3000000</td>\n      <td>4000000</td>\n    </tr>\n    <tr>\n      <th>Daisy</th>\n      <td>0</td>\n      <td>7000000</td>\n      <td>6000000</td>\n    </tr>\n    <tr>\n      <th>Blathers</th>\n      <td>1000000</td>\n      <td>2000000</td>\n      <td>8000000</td>\n    </tr>\n  </tbody>\n</table>\n</div>",
      "text/plain": "           apples  oranges  peaches\nTom       3000000        0  2000000\nIsabelle  2000000  3000000  4000000\nDaisy           0  7000000  6000000\nBlathers  1000000  2000000  8000000"
     },
     "execution_count": 37,
     "metadata": {},
     "output_type": "execute_result"
    }
   ],
   "source": [
    "# multiply 1,000,000 to each fruit\n",
    "buyer = buyer * 1_000_000\n",
    "buyer"
   ]
  },
  {
   "cell_type": "code",
   "execution_count": 38,
   "metadata": {},
   "outputs": [
    {
     "data": {
      "text/html": "<div>\n<style scoped>\n    .dataframe tbody tr th:only-of-type {\n        vertical-align: middle;\n    }\n\n    .dataframe tbody tr th {\n        vertical-align: top;\n    }\n\n    .dataframe thead th {\n        text-align: right;\n    }\n</style>\n<table border=\"1\" class=\"dataframe\">\n  <thead>\n    <tr style=\"text-align: right;\">\n      <th></th>\n      <th>apples</th>\n      <th>oranges</th>\n      <th>peaches</th>\n    </tr>\n  </thead>\n  <tbody>\n    <tr>\n      <th>Tom</th>\n      <td>False</td>\n      <td>False</td>\n      <td>False</td>\n    </tr>\n    <tr>\n      <th>Isabelle</th>\n      <td>False</td>\n      <td>False</td>\n      <td>False</td>\n    </tr>\n    <tr>\n      <th>Daisy</th>\n      <td>False</td>\n      <td>True</td>\n      <td>False</td>\n    </tr>\n    <tr>\n      <th>Blathers</th>\n      <td>False</td>\n      <td>False</td>\n      <td>True</td>\n    </tr>\n  </tbody>\n</table>\n</div>",
      "text/plain": "          apples  oranges  peaches\nTom        False    False    False\nIsabelle   False    False    False\nDaisy      False     True    False\nBlathers   False    False     True"
     },
     "execution_count": 38,
     "metadata": {},
     "output_type": "execute_result"
    }
   ],
   "source": [
    "buyer > 6_000_000"
   ]
  }
 ]
}