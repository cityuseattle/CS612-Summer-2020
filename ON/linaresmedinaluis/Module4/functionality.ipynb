{
 "metadata": {
  "language_info": {
   "codemirror_mode": {
    "name": "ipython",
    "version": 3
   },
   "file_extension": ".py",
   "mimetype": "text/x-python",
   "name": "python",
   "nbconvert_exporter": "python",
   "pygments_lexer": "ipython3",
   "version": "3.8.5-final"
  },
  "orig_nbformat": 2,
  "kernelspec": {
   "name": "python38564bitc3b9f0842b6742cba42d0f91406c37ae",
   "display_name": "Python 3.8.5 64-bit"
  }
 },
 "nbformat": 4,
 "nbformat_minor": 2,
 "cells": [
  {
   "cell_type": "code",
   "execution_count": 1,
   "metadata": {},
   "outputs": [
    {
     "output_type": "execute_result",
     "data": {
      "text/plain": "           value  Change  Sector\nAmazon       220    17.5  Retail\nGoogle       160    11.9    Tech\nApple        140    -8.5    Tech\nMicrosoft    117    -2.1    Tech\nSamsumg       94     3.5    Tech",
      "text/html": "<div>\n<style scoped>\n    .dataframe tbody tr th:only-of-type {\n        vertical-align: middle;\n    }\n\n    .dataframe tbody tr th {\n        vertical-align: top;\n    }\n\n    .dataframe thead th {\n        text-align: right;\n    }\n</style>\n<table border=\"1\" class=\"dataframe\">\n  <thead>\n    <tr style=\"text-align: right;\">\n      <th></th>\n      <th>value</th>\n      <th>Change</th>\n      <th>Sector</th>\n    </tr>\n  </thead>\n  <tbody>\n    <tr>\n      <th>Amazon</th>\n      <td>220</td>\n      <td>17.5</td>\n      <td>Retail</td>\n    </tr>\n    <tr>\n      <th>Google</th>\n      <td>160</td>\n      <td>11.9</td>\n      <td>Tech</td>\n    </tr>\n    <tr>\n      <th>Apple</th>\n      <td>140</td>\n      <td>-8.5</td>\n      <td>Tech</td>\n    </tr>\n    <tr>\n      <th>Microsoft</th>\n      <td>117</td>\n      <td>-2.1</td>\n      <td>Tech</td>\n    </tr>\n    <tr>\n      <th>Samsumg</th>\n      <td>94</td>\n      <td>3.5</td>\n      <td>Tech</td>\n    </tr>\n  </tbody>\n</table>\n</div>"
     },
     "metadata": {},
     "execution_count": 1
    }
   ],
   "source": [
    "import pandas as pd\n",
    "companies = {\n",
    "    'value' : [220, 160, 140, 117, 94],\n",
    "    'Change': [17.5, 11.9, -8.5, -2.1, 3.5],\n",
    "    'Sector' : ['Retail', 'Tech', 'Tech', 'Tech', 'Tech']\n",
    "}\n",
    "\n",
    "data = pd.DataFrame(companies, index=['Amazon', 'Google', 'Apple', 'Microsoft', 'Samsumg'])\n",
    "data\n"
   ]
  },
  {
   "cell_type": "code",
   "execution_count": 3,
   "metadata": {
    "tags": []
   },
   "outputs": [
    {
     "output_type": "stream",
     "name": "stdout",
     "text": "<class 'pandas.core.frame.DataFrame'>\nIndex: 5 entries, Amazon to Samsumg\nData columns (total 3 columns):\n #   Column  Non-Null Count  Dtype  \n---  ------  --------------  -----  \n 0   value   5 non-null      int64  \n 1   Change  5 non-null      float64\n 2   Sector  5 non-null      object \ndtypes: float64(1), int64(1), object(1)\nmemory usage: 160.0+ bytes\n"
    },
    {
     "output_type": "execute_result",
     "data": {
      "text/plain": "Index(['Amazon', 'Google', 'Apple', 'Microsoft', 'Samsumg'], dtype='object')"
     },
     "metadata": {},
     "execution_count": 3
    }
   ],
   "source": [
    "data.info()\n",
    "\n"
   ]
  },
  {
   "cell_type": "code",
   "execution_count": 5,
   "metadata": {},
   "outputs": [
    {
     "output_type": "execute_result",
     "data": {
      "text/plain": "Index(['value', 'Change', 'Sector'], dtype='object')"
     },
     "metadata": {},
     "execution_count": 5
    }
   ],
   "source": [
    "data.columns\n",
    " "
   ]
  },
  {
   "cell_type": "code",
   "execution_count": 6,
   "metadata": {},
   "outputs": [
    {
     "output_type": "execute_result",
     "data": {
      "text/plain": "Index(['Amazon', 'Google', 'Apple', 'Microsoft', 'Samsumg'], dtype='object')"
     },
     "metadata": {},
     "execution_count": 6
    }
   ],
   "source": [
    "\n",
    "data.index"
   ]
  },
  {
   "cell_type": "code",
   "execution_count": 8,
   "metadata": {},
   "outputs": [
    {
     "output_type": "execute_result",
     "data": {
      "text/plain": "            value     Change\ncount    5.000000   5.000000\nmean   146.200000   4.460000\nstd     48.095738  10.456003\nmin     94.000000  -8.500000\n25%    117.000000  -2.100000\n50%    140.000000   3.500000\n75%    160.000000  11.900000\nmax    220.000000  17.500000",
      "text/html": "<div>\n<style scoped>\n    .dataframe tbody tr th:only-of-type {\n        vertical-align: middle;\n    }\n\n    .dataframe tbody tr th {\n        vertical-align: top;\n    }\n\n    .dataframe thead th {\n        text-align: right;\n    }\n</style>\n<table border=\"1\" class=\"dataframe\">\n  <thead>\n    <tr style=\"text-align: right;\">\n      <th></th>\n      <th>value</th>\n      <th>Change</th>\n    </tr>\n  </thead>\n  <tbody>\n    <tr>\n      <th>count</th>\n      <td>5.000000</td>\n      <td>5.000000</td>\n    </tr>\n    <tr>\n      <th>mean</th>\n      <td>146.200000</td>\n      <td>4.460000</td>\n    </tr>\n    <tr>\n      <th>std</th>\n      <td>48.095738</td>\n      <td>10.456003</td>\n    </tr>\n    <tr>\n      <th>min</th>\n      <td>94.000000</td>\n      <td>-8.500000</td>\n    </tr>\n    <tr>\n      <th>25%</th>\n      <td>117.000000</td>\n      <td>-2.100000</td>\n    </tr>\n    <tr>\n      <th>50%</th>\n      <td>140.000000</td>\n      <td>3.500000</td>\n    </tr>\n    <tr>\n      <th>75%</th>\n      <td>160.000000</td>\n      <td>11.900000</td>\n    </tr>\n    <tr>\n      <th>max</th>\n      <td>220.000000</td>\n      <td>17.500000</td>\n    </tr>\n  </tbody>\n</table>\n</div>"
     },
     "metadata": {},
     "execution_count": 8
    }
   ],
   "source": [
    "data.describe()"
   ]
  },
  {
   "cell_type": "code",
   "execution_count": 10,
   "metadata": {},
   "outputs": [
    {
     "output_type": "execute_result",
     "data": {
      "text/plain": "        value  Change  Sector\nAmazon    220    17.5  Retail\nGoogle    160    11.9    Tech",
      "text/html": "<div>\n<style scoped>\n    .dataframe tbody tr th:only-of-type {\n        vertical-align: middle;\n    }\n\n    .dataframe tbody tr th {\n        vertical-align: top;\n    }\n\n    .dataframe thead th {\n        text-align: right;\n    }\n</style>\n<table border=\"1\" class=\"dataframe\">\n  <thead>\n    <tr style=\"text-align: right;\">\n      <th></th>\n      <th>value</th>\n      <th>Change</th>\n      <th>Sector</th>\n    </tr>\n  </thead>\n  <tbody>\n    <tr>\n      <th>Amazon</th>\n      <td>220</td>\n      <td>17.5</td>\n      <td>Retail</td>\n    </tr>\n    <tr>\n      <th>Google</th>\n      <td>160</td>\n      <td>11.9</td>\n      <td>Tech</td>\n    </tr>\n  </tbody>\n</table>\n</div>"
     },
     "metadata": {},
     "execution_count": 10
    }
   ],
   "source": [
    "data.loc[data['value'] > 150]"
   ]
  },
  {
   "cell_type": "code",
   "execution_count": 11,
   "metadata": {},
   "outputs": [
    {
     "output_type": "execute_result",
     "data": {
      "text/plain": "Amazon       17.5\nGoogle       11.9\nApple        -8.5\nMicrosoft    -2.1\nSamsumg       3.5\nName: Change, dtype: float64"
     },
     "metadata": {},
     "execution_count": 11
    }
   ],
   "source": [
    "data['Change']\n"
   ]
  },
  {
   "cell_type": "code",
   "execution_count": 12,
   "metadata": {},
   "outputs": [
    {
     "output_type": "execute_result",
     "data": {
      "text/plain": "           value  Change  Sector\nAmazon       220    17.5  Retail\nGoogle       160    11.9    Tech\nApple        140    -8.5    Tech\nMicrosoft    117    -2.1    Tech\nSamsumg       94     3.5    Tech",
      "text/html": "<div>\n<style scoped>\n    .dataframe tbody tr th:only-of-type {\n        vertical-align: middle;\n    }\n\n    .dataframe tbody tr th {\n        vertical-align: top;\n    }\n\n    .dataframe thead th {\n        text-align: right;\n    }\n</style>\n<table border=\"1\" class=\"dataframe\">\n  <thead>\n    <tr style=\"text-align: right;\">\n      <th></th>\n      <th>value</th>\n      <th>Change</th>\n      <th>Sector</th>\n    </tr>\n  </thead>\n  <tbody>\n    <tr>\n      <th>Amazon</th>\n      <td>220</td>\n      <td>17.5</td>\n      <td>Retail</td>\n    </tr>\n    <tr>\n      <th>Google</th>\n      <td>160</td>\n      <td>11.9</td>\n      <td>Tech</td>\n    </tr>\n    <tr>\n      <th>Apple</th>\n      <td>140</td>\n      <td>-8.5</td>\n      <td>Tech</td>\n    </tr>\n    <tr>\n      <th>Microsoft</th>\n      <td>117</td>\n      <td>-2.1</td>\n      <td>Tech</td>\n    </tr>\n    <tr>\n      <th>Samsumg</th>\n      <td>94</td>\n      <td>3.5</td>\n      <td>Tech</td>\n    </tr>\n  </tbody>\n</table>\n</div>"
     },
     "metadata": {},
     "execution_count": 12
    }
   ],
   "source": [
    "data"
   ]
  },
  {
   "cell_type": "code",
   "execution_count": 13,
   "metadata": {},
   "outputs": [
    {
     "output_type": "execute_result",
     "data": {
      "text/plain": "value      117\nChange    -2.1\nSector    Tech\nName: Microsoft, dtype: object"
     },
     "metadata": {},
     "execution_count": 13
    }
   ],
   "source": [
    "data.iloc[3]"
   ]
  },
  {
   "cell_type": "code",
   "execution_count": 14,
   "metadata": {},
   "outputs": [
    {
     "output_type": "execute_result",
     "data": {
      "text/plain": "        value  Change  Sector\nAmazon    220    17.5  Retail\nGoogle    160    11.9    Tech\nApple     140    -8.5    Tech",
      "text/html": "<div>\n<style scoped>\n    .dataframe tbody tr th:only-of-type {\n        vertical-align: middle;\n    }\n\n    .dataframe tbody tr th {\n        vertical-align: top;\n    }\n\n    .dataframe thead th {\n        text-align: right;\n    }\n</style>\n<table border=\"1\" class=\"dataframe\">\n  <thead>\n    <tr style=\"text-align: right;\">\n      <th></th>\n      <th>value</th>\n      <th>Change</th>\n      <th>Sector</th>\n    </tr>\n  </thead>\n  <tbody>\n    <tr>\n      <th>Amazon</th>\n      <td>220</td>\n      <td>17.5</td>\n      <td>Retail</td>\n    </tr>\n    <tr>\n      <th>Google</th>\n      <td>160</td>\n      <td>11.9</td>\n      <td>Tech</td>\n    </tr>\n    <tr>\n      <th>Apple</th>\n      <td>140</td>\n      <td>-8.5</td>\n      <td>Tech</td>\n    </tr>\n  </tbody>\n</table>\n</div>"
     },
     "metadata": {},
     "execution_count": 14
    }
   ],
   "source": [
    "data[0:3]"
   ]
  },
  {
   "cell_type": "code",
   "execution_count": 15,
   "metadata": {},
   "outputs": [
    {
     "output_type": "execute_result",
     "data": {
      "text/plain": "           value  Change  Sector\nAmazon       220    17.5  Retail\nGoogle       160    11.9    Tech\nApple        140    -8.5    Tech\nMicrosoft    117    -2.1    Tech",
      "text/html": "<div>\n<style scoped>\n    .dataframe tbody tr th:only-of-type {\n        vertical-align: middle;\n    }\n\n    .dataframe tbody tr th {\n        vertical-align: top;\n    }\n\n    .dataframe thead th {\n        text-align: right;\n    }\n</style>\n<table border=\"1\" class=\"dataframe\">\n  <thead>\n    <tr style=\"text-align: right;\">\n      <th></th>\n      <th>value</th>\n      <th>Change</th>\n      <th>Sector</th>\n    </tr>\n  </thead>\n  <tbody>\n    <tr>\n      <th>Amazon</th>\n      <td>220</td>\n      <td>17.5</td>\n      <td>Retail</td>\n    </tr>\n    <tr>\n      <th>Google</th>\n      <td>160</td>\n      <td>11.9</td>\n      <td>Tech</td>\n    </tr>\n    <tr>\n      <th>Apple</th>\n      <td>140</td>\n      <td>-8.5</td>\n      <td>Tech</td>\n    </tr>\n    <tr>\n      <th>Microsoft</th>\n      <td>117</td>\n      <td>-2.1</td>\n      <td>Tech</td>\n    </tr>\n  </tbody>\n</table>\n</div>"
     },
     "metadata": {},
     "execution_count": 15
    }
   ],
   "source": [
    "data['Amazon':'Microsoft']"
   ]
  },
  {
   "cell_type": "code",
   "execution_count": 16,
   "metadata": {},
   "outputs": [
    {
     "output_type": "execute_result",
     "data": {
      "text/plain": "           value  Change  Sector\nAmazon       220    17.5  Retail\nGoogle       160    11.9    Tech\nApple        140    -8.5    Tech\nMicrosoft    117    -2.1    Tech\nSamsumg       94     3.5    Tech",
      "text/html": "<div>\n<style scoped>\n    .dataframe tbody tr th:only-of-type {\n        vertical-align: middle;\n    }\n\n    .dataframe tbody tr th {\n        vertical-align: top;\n    }\n\n    .dataframe thead th {\n        text-align: right;\n    }\n</style>\n<table border=\"1\" class=\"dataframe\">\n  <thead>\n    <tr style=\"text-align: right;\">\n      <th></th>\n      <th>value</th>\n      <th>Change</th>\n      <th>Sector</th>\n    </tr>\n  </thead>\n  <tbody>\n    <tr>\n      <th>Amazon</th>\n      <td>220</td>\n      <td>17.5</td>\n      <td>Retail</td>\n    </tr>\n    <tr>\n      <th>Google</th>\n      <td>160</td>\n      <td>11.9</td>\n      <td>Tech</td>\n    </tr>\n    <tr>\n      <th>Apple</th>\n      <td>140</td>\n      <td>-8.5</td>\n      <td>Tech</td>\n    </tr>\n    <tr>\n      <th>Microsoft</th>\n      <td>117</td>\n      <td>-2.1</td>\n      <td>Tech</td>\n    </tr>\n    <tr>\n      <th>Samsumg</th>\n      <td>94</td>\n      <td>3.5</td>\n      <td>Tech</td>\n    </tr>\n  </tbody>\n</table>\n</div>"
     },
     "metadata": {},
     "execution_count": 16
    }
   ],
   "source": [
    "data"
   ]
  },
  {
   "cell_type": "code",
   "execution_count": 21,
   "metadata": {},
   "outputs": [
    {
     "output_type": "execute_result",
     "data": {
      "text/plain": "Amazon       440\nGoogle       320\nApple        280\nMicrosoft    234\nSamsumg      188\nName: value, dtype: int64"
     },
     "metadata": {},
     "execution_count": 21
    }
   ],
   "source": [
    "data['value'].mul(2)"
   ]
  },
  {
   "cell_type": "code",
   "execution_count": 22,
   "metadata": {},
   "outputs": [
    {
     "output_type": "execute_result",
     "data": {
      "text/plain": "Amazon       218\nGoogle       158\nApple        138\nMicrosoft    115\nSamsumg       92\nName: value, dtype: int64"
     },
     "metadata": {},
     "execution_count": 22
    }
   ],
   "source": [
    "data['value'].sub(2)"
   ]
  },
  {
   "cell_type": "code",
   "execution_count": 23,
   "metadata": {},
   "outputs": [
    {
     "output_type": "execute_result",
     "data": {
      "text/plain": "Amazon       222\nGoogle       162\nApple        142\nMicrosoft    119\nSamsumg       96\nName: value, dtype: int64"
     },
     "metadata": {},
     "execution_count": 23
    }
   ],
   "source": [
    "data['value'].add(2)"
   ]
  },
  {
   "cell_type": "code",
   "execution_count": 30,
   "metadata": {},
   "outputs": [
    {
     "output_type": "execute_result",
     "data": {
      "text/plain": "(Amazon       110\n Google        80\n Apple         70\n Microsoft     58\n Samsumg       47\n Name: value, dtype: int64,\n Amazon       0\n Google       0\n Apple        0\n Microsoft    1\n Samsumg      0\n Name: value, dtype: int64)"
     },
     "metadata": {},
     "execution_count": 30
    }
   ],
   "source": [
    "div, rem = divmod(data['value'], 2)\n",
    "div, rem"
   ]
  },
  {
   "cell_type": "code",
   "execution_count": 31,
   "metadata": {},
   "outputs": [
    {
     "output_type": "execute_result",
     "data": {
      "text/plain": "           value  Change  Sector\nAmazon       220    17.5  Retail\nGoogle       160    11.9    Tech\nApple        140    -8.5    Tech\nMicrosoft    117    -2.1    Tech\nSamsumg       94     3.5    Tech",
      "text/html": "<div>\n<style scoped>\n    .dataframe tbody tr th:only-of-type {\n        vertical-align: middle;\n    }\n\n    .dataframe tbody tr th {\n        vertical-align: top;\n    }\n\n    .dataframe thead th {\n        text-align: right;\n    }\n</style>\n<table border=\"1\" class=\"dataframe\">\n  <thead>\n    <tr style=\"text-align: right;\">\n      <th></th>\n      <th>value</th>\n      <th>Change</th>\n      <th>Sector</th>\n    </tr>\n  </thead>\n  <tbody>\n    <tr>\n      <th>Amazon</th>\n      <td>220</td>\n      <td>17.5</td>\n      <td>Retail</td>\n    </tr>\n    <tr>\n      <th>Google</th>\n      <td>160</td>\n      <td>11.9</td>\n      <td>Tech</td>\n    </tr>\n    <tr>\n      <th>Apple</th>\n      <td>140</td>\n      <td>-8.5</td>\n      <td>Tech</td>\n    </tr>\n    <tr>\n      <th>Microsoft</th>\n      <td>117</td>\n      <td>-2.1</td>\n      <td>Tech</td>\n    </tr>\n    <tr>\n      <th>Samsumg</th>\n      <td>94</td>\n      <td>3.5</td>\n      <td>Tech</td>\n    </tr>\n  </tbody>\n</table>\n</div>"
     },
     "metadata": {},
     "execution_count": 31
    }
   ],
   "source": [
    "data"
   ]
  },
  {
   "cell_type": "code",
   "execution_count": 32,
   "metadata": {},
   "outputs": [
    {
     "output_type": "execute_result",
     "data": {
      "text/plain": "value     146.20\nChange      4.46\ndtype: float64"
     },
     "metadata": {},
     "execution_count": 32
    }
   ],
   "source": [
    "data.mean()"
   ]
  },
  {
   "cell_type": "code",
   "execution_count": 33,
   "metadata": {},
   "outputs": [
    {
     "output_type": "execute_result",
     "data": {
      "text/plain": "value                        731\nChange                      22.3\nSector    RetailTechTechTechTech\ndtype: object"
     },
     "metadata": {},
     "execution_count": 33
    }
   ],
   "source": [
    "data.sum()"
   ]
  },
  {
   "cell_type": "code",
   "execution_count": 36,
   "metadata": {},
   "outputs": [
    {
     "output_type": "execute_result",
     "data": {
      "text/plain": "value                        731\nChange                      22.3\nSector    RetailTechTechTechTech\ndtype: object"
     },
     "metadata": {},
     "execution_count": 36
    }
   ],
   "source": [
    "data.sum(0)"
   ]
  },
  {
   "cell_type": "code",
   "execution_count": 35,
   "metadata": {},
   "outputs": [
    {
     "output_type": "execute_result",
     "data": {
      "text/plain": "Amazon       237.5\nGoogle       171.9\nApple        131.5\nMicrosoft    114.9\nSamsumg       97.5\ndtype: float64"
     },
     "metadata": {},
     "execution_count": 35
    }
   ],
   "source": [
    "data.sum(1)"
   ]
  },
  {
   "cell_type": "code",
   "execution_count": 37,
   "metadata": {},
   "outputs": [
    {
     "output_type": "execute_result",
     "data": {
      "text/plain": "value     48.095738\nChange    10.456003\ndtype: float64"
     },
     "metadata": {},
     "execution_count": 37
    }
   ],
   "source": [
    "data.std()"
   ]
  },
  {
   "cell_type": "code",
   "execution_count": 38,
   "metadata": {},
   "outputs": [
    {
     "output_type": "execute_result",
     "data": {
      "text/plain": "value     140.0\nChange      3.5\nName: 0.5, dtype: float64"
     },
     "metadata": {},
     "execution_count": 38
    }
   ],
   "source": [
    "data.quantile(.5)"
   ]
  },
  {
   "cell_type": "code",
   "execution_count": 40,
   "metadata": {},
   "outputs": [
    {
     "output_type": "execute_result",
     "data": {
      "text/plain": "value         94\nChange      -8.5\nSector    Retail\ndtype: object"
     },
     "metadata": {},
     "execution_count": 40
    }
   ],
   "source": [
    "data.min()"
   ]
  },
  {
   "cell_type": "code",
   "execution_count": 41,
   "metadata": {},
   "outputs": [
    {
     "output_type": "execute_result",
     "data": {
      "text/plain": "           value  Change                  Sector\nAmazon       220    17.5                  Retail\nGoogle       380    29.4              RetailTech\nApple        520    20.9          RetailTechTech\nMicrosoft    637    18.8      RetailTechTechTech\nSamsumg      731    22.3  RetailTechTechTechTech",
      "text/html": "<div>\n<style scoped>\n    .dataframe tbody tr th:only-of-type {\n        vertical-align: middle;\n    }\n\n    .dataframe tbody tr th {\n        vertical-align: top;\n    }\n\n    .dataframe thead th {\n        text-align: right;\n    }\n</style>\n<table border=\"1\" class=\"dataframe\">\n  <thead>\n    <tr style=\"text-align: right;\">\n      <th></th>\n      <th>value</th>\n      <th>Change</th>\n      <th>Sector</th>\n    </tr>\n  </thead>\n  <tbody>\n    <tr>\n      <th>Amazon</th>\n      <td>220</td>\n      <td>17.5</td>\n      <td>Retail</td>\n    </tr>\n    <tr>\n      <th>Google</th>\n      <td>380</td>\n      <td>29.4</td>\n      <td>RetailTech</td>\n    </tr>\n    <tr>\n      <th>Apple</th>\n      <td>520</td>\n      <td>20.9</td>\n      <td>RetailTechTech</td>\n    </tr>\n    <tr>\n      <th>Microsoft</th>\n      <td>637</td>\n      <td>18.8</td>\n      <td>RetailTechTechTech</td>\n    </tr>\n    <tr>\n      <th>Samsumg</th>\n      <td>731</td>\n      <td>22.3</td>\n      <td>RetailTechTechTechTech</td>\n    </tr>\n  </tbody>\n</table>\n</div>"
     },
     "metadata": {},
     "execution_count": 41
    }
   ],
   "source": [
    "data.cumsum()"
   ]
  },
  {
   "cell_type": "code",
   "execution_count": 43,
   "metadata": {},
   "outputs": [
    {
     "output_type": "execute_result",
     "data": {
      "text/plain": "value     5\nChange    5\nSector    5\ndtype: int64"
     },
     "metadata": {},
     "execution_count": 43
    }
   ],
   "source": [
    "data.count()"
   ]
  },
  {
   "cell_type": "code",
   "execution_count": null,
   "metadata": {},
   "outputs": [],
   "source": []
  }
 ]
}