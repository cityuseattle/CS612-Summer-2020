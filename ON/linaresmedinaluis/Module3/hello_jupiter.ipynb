greeting = 'Hello from CS612 inside Jupyter Notebook'
print(greeting)
