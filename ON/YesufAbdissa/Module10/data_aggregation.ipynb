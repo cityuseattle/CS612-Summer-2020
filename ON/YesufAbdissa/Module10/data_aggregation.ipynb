{
 "cells": [
  {
   "cell_type": "code",
   "execution_count": 1,
   "metadata": {},
   "outputs": [],
   "source": [
    "import numpy as np \n",
    "import pandas as pd \n",
    "import seaborn as sb \n"
   ]
  },
  {
   "cell_type": "code",
   "execution_count": 3,
   "metadata": {},
   "outputs": [
    {
     "output_type": "execute_result",
     "data": {
      "text/plain": "     total_bill   tip     sex smoker   day    time  size\n0         16.99  1.01  Female     No   Sun  Dinner     2\n1         10.34  1.66    Male     No   Sun  Dinner     3\n2         21.01  3.50    Male     No   Sun  Dinner     3\n3         23.68  3.31    Male     No   Sun  Dinner     2\n4         24.59  3.61  Female     No   Sun  Dinner     4\n5         25.29  4.71    Male     No   Sun  Dinner     4\n6          8.77  2.00    Male     No   Sun  Dinner     2\n7         26.88  3.12    Male     No   Sun  Dinner     4\n8         15.04  1.96    Male     No   Sun  Dinner     2\n9         14.78  3.23    Male     No   Sun  Dinner     2\n10        10.27  1.71    Male     No   Sun  Dinner     2\n11        35.26  5.00  Female     No   Sun  Dinner     4\n12        15.42  1.57    Male     No   Sun  Dinner     2\n13        18.43  3.00    Male     No   Sun  Dinner     4\n14        14.83  3.02  Female     No   Sun  Dinner     2\n15        21.58  3.92    Male     No   Sun  Dinner     2\n16        10.33  1.67  Female     No   Sun  Dinner     3\n17        16.29  3.71    Male     No   Sun  Dinner     3\n18        16.97  3.50  Female     No   Sun  Dinner     3\n19        20.65  3.35    Male     No   Sat  Dinner     3\n20        17.92  4.08    Male     No   Sat  Dinner     2\n21        20.29  2.75  Female     No   Sat  Dinner     2\n22        15.77  2.23  Female     No   Sat  Dinner     2\n23        39.42  7.58    Male     No   Sat  Dinner     4\n24        19.82  3.18    Male     No   Sat  Dinner     2\n25        17.81  2.34    Male     No   Sat  Dinner     4\n26        13.37  2.00    Male     No   Sat  Dinner     2\n27        12.69  2.00    Male     No   Sat  Dinner     2\n28        21.70  4.30    Male     No   Sat  Dinner     2\n29        19.65  3.00  Female     No   Sat  Dinner     2\n..          ...   ...     ...    ...   ...     ...   ...\n214       28.17  6.50  Female    Yes   Sat  Dinner     3\n215       12.90  1.10  Female    Yes   Sat  Dinner     2\n216       28.15  3.00    Male    Yes   Sat  Dinner     5\n217       11.59  1.50    Male    Yes   Sat  Dinner     2\n218        7.74  1.44    Male    Yes   Sat  Dinner     2\n219       30.14  3.09  Female    Yes   Sat  Dinner     4\n220       12.16  2.20    Male    Yes   Fri   Lunch     2\n221       13.42  3.48  Female    Yes   Fri   Lunch     2\n222        8.58  1.92    Male    Yes   Fri   Lunch     1\n223       15.98  3.00  Female     No   Fri   Lunch     3\n224       13.42  1.58    Male    Yes   Fri   Lunch     2\n225       16.27  2.50  Female    Yes   Fri   Lunch     2\n226       10.09  2.00  Female    Yes   Fri   Lunch     2\n227       20.45  3.00    Male     No   Sat  Dinner     4\n228       13.28  2.72    Male     No   Sat  Dinner     2\n229       22.12  2.88  Female    Yes   Sat  Dinner     2\n230       24.01  2.00    Male    Yes   Sat  Dinner     4\n231       15.69  3.00    Male    Yes   Sat  Dinner     3\n232       11.61  3.39    Male     No   Sat  Dinner     2\n233       10.77  1.47    Male     No   Sat  Dinner     2\n234       15.53  3.00    Male    Yes   Sat  Dinner     2\n235       10.07  1.25    Male     No   Sat  Dinner     2\n236       12.60  1.00    Male    Yes   Sat  Dinner     2\n237       32.83  1.17    Male    Yes   Sat  Dinner     2\n238       35.83  4.67  Female     No   Sat  Dinner     3\n239       29.03  5.92    Male     No   Sat  Dinner     3\n240       27.18  2.00  Female    Yes   Sat  Dinner     2\n241       22.67  2.00    Male    Yes   Sat  Dinner     2\n242       17.82  1.75    Male     No   Sat  Dinner     2\n243       18.78  3.00  Female     No  Thur  Dinner     2\n\n[244 rows x 7 columns]",
      "text/html": "<div>\n<style scoped>\n    .dataframe tbody tr th:only-of-type {\n        vertical-align: middle;\n    }\n\n    .dataframe tbody tr th {\n        vertical-align: top;\n    }\n\n    .dataframe thead th {\n        text-align: right;\n    }\n</style>\n<table border=\"1\" class=\"dataframe\">\n  <thead>\n    <tr style=\"text-align: right;\">\n      <th></th>\n      <th>total_bill</th>\n      <th>tip</th>\n      <th>sex</th>\n      <th>smoker</th>\n      <th>day</th>\n      <th>time</th>\n      <th>size</th>\n    </tr>\n  </thead>\n  <tbody>\n    <tr>\n      <th>0</th>\n      <td>16.99</td>\n      <td>1.01</td>\n      <td>Female</td>\n      <td>No</td>\n      <td>Sun</td>\n      <td>Dinner</td>\n      <td>2</td>\n    </tr>\n    <tr>\n      <th>1</th>\n      <td>10.34</td>\n      <td>1.66</td>\n      <td>Male</td>\n      <td>No</td>\n      <td>Sun</td>\n      <td>Dinner</td>\n      <td>3</td>\n    </tr>\n    <tr>\n      <th>2</th>\n      <td>21.01</td>\n      <td>3.50</td>\n      <td>Male</td>\n      <td>No</td>\n      <td>Sun</td>\n      <td>Dinner</td>\n      <td>3</td>\n    </tr>\n    <tr>\n      <th>3</th>\n      <td>23.68</td>\n      <td>3.31</td>\n      <td>Male</td>\n      <td>No</td>\n      <td>Sun</td>\n      <td>Dinner</td>\n      <td>2</td>\n    </tr>\n    <tr>\n      <th>4</th>\n      <td>24.59</td>\n      <td>3.61</td>\n      <td>Female</td>\n      <td>No</td>\n      <td>Sun</td>\n      <td>Dinner</td>\n      <td>4</td>\n    </tr>\n    <tr>\n      <th>5</th>\n      <td>25.29</td>\n      <td>4.71</td>\n      <td>Male</td>\n      <td>No</td>\n      <td>Sun</td>\n      <td>Dinner</td>\n      <td>4</td>\n    </tr>\n    <tr>\n      <th>6</th>\n      <td>8.77</td>\n      <td>2.00</td>\n      <td>Male</td>\n      <td>No</td>\n      <td>Sun</td>\n      <td>Dinner</td>\n      <td>2</td>\n    </tr>\n    <tr>\n      <th>7</th>\n      <td>26.88</td>\n      <td>3.12</td>\n      <td>Male</td>\n      <td>No</td>\n      <td>Sun</td>\n      <td>Dinner</td>\n      <td>4</td>\n    </tr>\n    <tr>\n      <th>8</th>\n      <td>15.04</td>\n      <td>1.96</td>\n      <td>Male</td>\n      <td>No</td>\n      <td>Sun</td>\n      <td>Dinner</td>\n      <td>2</td>\n    </tr>\n    <tr>\n      <th>9</th>\n      <td>14.78</td>\n      <td>3.23</td>\n      <td>Male</td>\n      <td>No</td>\n      <td>Sun</td>\n      <td>Dinner</td>\n      <td>2</td>\n    </tr>\n    <tr>\n      <th>10</th>\n      <td>10.27</td>\n      <td>1.71</td>\n      <td>Male</td>\n      <td>No</td>\n      <td>Sun</td>\n      <td>Dinner</td>\n      <td>2</td>\n    </tr>\n    <tr>\n      <th>11</th>\n      <td>35.26</td>\n      <td>5.00</td>\n      <td>Female</td>\n      <td>No</td>\n      <td>Sun</td>\n      <td>Dinner</td>\n      <td>4</td>\n    </tr>\n    <tr>\n      <th>12</th>\n      <td>15.42</td>\n      <td>1.57</td>\n      <td>Male</td>\n      <td>No</td>\n      <td>Sun</td>\n      <td>Dinner</td>\n      <td>2</td>\n    </tr>\n    <tr>\n      <th>13</th>\n      <td>18.43</td>\n      <td>3.00</td>\n      <td>Male</td>\n      <td>No</td>\n      <td>Sun</td>\n      <td>Dinner</td>\n      <td>4</td>\n    </tr>\n    <tr>\n      <th>14</th>\n      <td>14.83</td>\n      <td>3.02</td>\n      <td>Female</td>\n      <td>No</td>\n      <td>Sun</td>\n      <td>Dinner</td>\n      <td>2</td>\n    </tr>\n    <tr>\n      <th>15</th>\n      <td>21.58</td>\n      <td>3.92</td>\n      <td>Male</td>\n      <td>No</td>\n      <td>Sun</td>\n      <td>Dinner</td>\n      <td>2</td>\n    </tr>\n    <tr>\n      <th>16</th>\n      <td>10.33</td>\n      <td>1.67</td>\n      <td>Female</td>\n      <td>No</td>\n      <td>Sun</td>\n      <td>Dinner</td>\n      <td>3</td>\n    </tr>\n    <tr>\n      <th>17</th>\n      <td>16.29</td>\n      <td>3.71</td>\n      <td>Male</td>\n      <td>No</td>\n      <td>Sun</td>\n      <td>Dinner</td>\n      <td>3</td>\n    </tr>\n    <tr>\n      <th>18</th>\n      <td>16.97</td>\n      <td>3.50</td>\n      <td>Female</td>\n      <td>No</td>\n      <td>Sun</td>\n      <td>Dinner</td>\n      <td>3</td>\n    </tr>\n    <tr>\n      <th>19</th>\n      <td>20.65</td>\n      <td>3.35</td>\n      <td>Male</td>\n      <td>No</td>\n      <td>Sat</td>\n      <td>Dinner</td>\n      <td>3</td>\n    </tr>\n    <tr>\n      <th>20</th>\n      <td>17.92</td>\n      <td>4.08</td>\n      <td>Male</td>\n      <td>No</td>\n      <td>Sat</td>\n      <td>Dinner</td>\n      <td>2</td>\n    </tr>\n    <tr>\n      <th>21</th>\n      <td>20.29</td>\n      <td>2.75</td>\n      <td>Female</td>\n      <td>No</td>\n      <td>Sat</td>\n      <td>Dinner</td>\n      <td>2</td>\n    </tr>\n    <tr>\n      <th>22</th>\n      <td>15.77</td>\n      <td>2.23</td>\n      <td>Female</td>\n      <td>No</td>\n      <td>Sat</td>\n      <td>Dinner</td>\n      <td>2</td>\n    </tr>\n    <tr>\n      <th>23</th>\n      <td>39.42</td>\n      <td>7.58</td>\n      <td>Male</td>\n      <td>No</td>\n      <td>Sat</td>\n      <td>Dinner</td>\n      <td>4</td>\n    </tr>\n    <tr>\n      <th>24</th>\n      <td>19.82</td>\n      <td>3.18</td>\n      <td>Male</td>\n      <td>No</td>\n      <td>Sat</td>\n      <td>Dinner</td>\n      <td>2</td>\n    </tr>\n    <tr>\n      <th>25</th>\n      <td>17.81</td>\n      <td>2.34</td>\n      <td>Male</td>\n      <td>No</td>\n      <td>Sat</td>\n      <td>Dinner</td>\n      <td>4</td>\n    </tr>\n    <tr>\n      <th>26</th>\n      <td>13.37</td>\n      <td>2.00</td>\n      <td>Male</td>\n      <td>No</td>\n      <td>Sat</td>\n      <td>Dinner</td>\n      <td>2</td>\n    </tr>\n    <tr>\n      <th>27</th>\n      <td>12.69</td>\n      <td>2.00</td>\n      <td>Male</td>\n      <td>No</td>\n      <td>Sat</td>\n      <td>Dinner</td>\n      <td>2</td>\n    </tr>\n    <tr>\n      <th>28</th>\n      <td>21.70</td>\n      <td>4.30</td>\n      <td>Male</td>\n      <td>No</td>\n      <td>Sat</td>\n      <td>Dinner</td>\n      <td>2</td>\n    </tr>\n    <tr>\n      <th>29</th>\n      <td>19.65</td>\n      <td>3.00</td>\n      <td>Female</td>\n      <td>No</td>\n      <td>Sat</td>\n      <td>Dinner</td>\n      <td>2</td>\n    </tr>\n    <tr>\n      <th>...</th>\n      <td>...</td>\n      <td>...</td>\n      <td>...</td>\n      <td>...</td>\n      <td>...</td>\n      <td>...</td>\n      <td>...</td>\n    </tr>\n    <tr>\n      <th>214</th>\n      <td>28.17</td>\n      <td>6.50</td>\n      <td>Female</td>\n      <td>Yes</td>\n      <td>Sat</td>\n      <td>Dinner</td>\n      <td>3</td>\n    </tr>\n    <tr>\n      <th>215</th>\n      <td>12.90</td>\n      <td>1.10</td>\n      <td>Female</td>\n      <td>Yes</td>\n      <td>Sat</td>\n      <td>Dinner</td>\n      <td>2</td>\n    </tr>\n    <tr>\n      <th>216</th>\n      <td>28.15</td>\n      <td>3.00</td>\n      <td>Male</td>\n      <td>Yes</td>\n      <td>Sat</td>\n      <td>Dinner</td>\n      <td>5</td>\n    </tr>\n    <tr>\n      <th>217</th>\n      <td>11.59</td>\n      <td>1.50</td>\n      <td>Male</td>\n      <td>Yes</td>\n      <td>Sat</td>\n      <td>Dinner</td>\n      <td>2</td>\n    </tr>\n    <tr>\n      <th>218</th>\n      <td>7.74</td>\n      <td>1.44</td>\n      <td>Male</td>\n      <td>Yes</td>\n      <td>Sat</td>\n      <td>Dinner</td>\n      <td>2</td>\n    </tr>\n    <tr>\n      <th>219</th>\n      <td>30.14</td>\n      <td>3.09</td>\n      <td>Female</td>\n      <td>Yes</td>\n      <td>Sat</td>\n      <td>Dinner</td>\n      <td>4</td>\n    </tr>\n    <tr>\n      <th>220</th>\n      <td>12.16</td>\n      <td>2.20</td>\n      <td>Male</td>\n      <td>Yes</td>\n      <td>Fri</td>\n      <td>Lunch</td>\n      <td>2</td>\n    </tr>\n    <tr>\n      <th>221</th>\n      <td>13.42</td>\n      <td>3.48</td>\n      <td>Female</td>\n      <td>Yes</td>\n      <td>Fri</td>\n      <td>Lunch</td>\n      <td>2</td>\n    </tr>\n    <tr>\n      <th>222</th>\n      <td>8.58</td>\n      <td>1.92</td>\n      <td>Male</td>\n      <td>Yes</td>\n      <td>Fri</td>\n      <td>Lunch</td>\n      <td>1</td>\n    </tr>\n    <tr>\n      <th>223</th>\n      <td>15.98</td>\n      <td>3.00</td>\n      <td>Female</td>\n      <td>No</td>\n      <td>Fri</td>\n      <td>Lunch</td>\n      <td>3</td>\n    </tr>\n    <tr>\n      <th>224</th>\n      <td>13.42</td>\n      <td>1.58</td>\n      <td>Male</td>\n      <td>Yes</td>\n      <td>Fri</td>\n      <td>Lunch</td>\n      <td>2</td>\n    </tr>\n    <tr>\n      <th>225</th>\n      <td>16.27</td>\n      <td>2.50</td>\n      <td>Female</td>\n      <td>Yes</td>\n      <td>Fri</td>\n      <td>Lunch</td>\n      <td>2</td>\n    </tr>\n    <tr>\n      <th>226</th>\n      <td>10.09</td>\n      <td>2.00</td>\n      <td>Female</td>\n      <td>Yes</td>\n      <td>Fri</td>\n      <td>Lunch</td>\n      <td>2</td>\n    </tr>\n    <tr>\n      <th>227</th>\n      <td>20.45</td>\n      <td>3.00</td>\n      <td>Male</td>\n      <td>No</td>\n      <td>Sat</td>\n      <td>Dinner</td>\n      <td>4</td>\n    </tr>\n    <tr>\n      <th>228</th>\n      <td>13.28</td>\n      <td>2.72</td>\n      <td>Male</td>\n      <td>No</td>\n      <td>Sat</td>\n      <td>Dinner</td>\n      <td>2</td>\n    </tr>\n    <tr>\n      <th>229</th>\n      <td>22.12</td>\n      <td>2.88</td>\n      <td>Female</td>\n      <td>Yes</td>\n      <td>Sat</td>\n      <td>Dinner</td>\n      <td>2</td>\n    </tr>\n    <tr>\n      <th>230</th>\n      <td>24.01</td>\n      <td>2.00</td>\n      <td>Male</td>\n      <td>Yes</td>\n      <td>Sat</td>\n      <td>Dinner</td>\n      <td>4</td>\n    </tr>\n    <tr>\n      <th>231</th>\n      <td>15.69</td>\n      <td>3.00</td>\n      <td>Male</td>\n      <td>Yes</td>\n      <td>Sat</td>\n      <td>Dinner</td>\n      <td>3</td>\n    </tr>\n    <tr>\n      <th>232</th>\n      <td>11.61</td>\n      <td>3.39</td>\n      <td>Male</td>\n      <td>No</td>\n      <td>Sat</td>\n      <td>Dinner</td>\n      <td>2</td>\n    </tr>\n    <tr>\n      <th>233</th>\n      <td>10.77</td>\n      <td>1.47</td>\n      <td>Male</td>\n      <td>No</td>\n      <td>Sat</td>\n      <td>Dinner</td>\n      <td>2</td>\n    </tr>\n    <tr>\n      <th>234</th>\n      <td>15.53</td>\n      <td>3.00</td>\n      <td>Male</td>\n      <td>Yes</td>\n      <td>Sat</td>\n      <td>Dinner</td>\n      <td>2</td>\n    </tr>\n    <tr>\n      <th>235</th>\n      <td>10.07</td>\n      <td>1.25</td>\n      <td>Male</td>\n      <td>No</td>\n      <td>Sat</td>\n      <td>Dinner</td>\n      <td>2</td>\n    </tr>\n    <tr>\n      <th>236</th>\n      <td>12.60</td>\n      <td>1.00</td>\n      <td>Male</td>\n      <td>Yes</td>\n      <td>Sat</td>\n      <td>Dinner</td>\n      <td>2</td>\n    </tr>\n    <tr>\n      <th>237</th>\n      <td>32.83</td>\n      <td>1.17</td>\n      <td>Male</td>\n      <td>Yes</td>\n      <td>Sat</td>\n      <td>Dinner</td>\n      <td>2</td>\n    </tr>\n    <tr>\n      <th>238</th>\n      <td>35.83</td>\n      <td>4.67</td>\n      <td>Female</td>\n      <td>No</td>\n      <td>Sat</td>\n      <td>Dinner</td>\n      <td>3</td>\n    </tr>\n    <tr>\n      <th>239</th>\n      <td>29.03</td>\n      <td>5.92</td>\n      <td>Male</td>\n      <td>No</td>\n      <td>Sat</td>\n      <td>Dinner</td>\n      <td>3</td>\n    </tr>\n    <tr>\n      <th>240</th>\n      <td>27.18</td>\n      <td>2.00</td>\n      <td>Female</td>\n      <td>Yes</td>\n      <td>Sat</td>\n      <td>Dinner</td>\n      <td>2</td>\n    </tr>\n    <tr>\n      <th>241</th>\n      <td>22.67</td>\n      <td>2.00</td>\n      <td>Male</td>\n      <td>Yes</td>\n      <td>Sat</td>\n      <td>Dinner</td>\n      <td>2</td>\n    </tr>\n    <tr>\n      <th>242</th>\n      <td>17.82</td>\n      <td>1.75</td>\n      <td>Male</td>\n      <td>No</td>\n      <td>Sat</td>\n      <td>Dinner</td>\n      <td>2</td>\n    </tr>\n    <tr>\n      <th>243</th>\n      <td>18.78</td>\n      <td>3.00</td>\n      <td>Female</td>\n      <td>No</td>\n      <td>Thur</td>\n      <td>Dinner</td>\n      <td>2</td>\n    </tr>\n  </tbody>\n</table>\n<p>244 rows × 7 columns</p>\n</div>"
     },
     "metadata": {},
     "execution_count": 3
    }
   ],
   "source": [
    "df = sb.load_dataset('tips')\n",
    "df"
   ]
  },
  {
   "cell_type": "code",
   "execution_count": 4,
   "metadata": {},
   "outputs": [
    {
     "output_type": "execute_result",
     "data": {
      "text/plain": "total_bill    4827.77\ntip            731.58\nsize           627.00\ndtype: float64"
     },
     "metadata": {},
     "execution_count": 4
    }
   ],
   "source": [
    "df.sum(numeric_only=True, skipna=True)"
   ]
  },
  {
   "cell_type": "code",
   "execution_count": 6,
   "metadata": {},
   "outputs": [
    {
     "output_type": "execute_result",
     "data": {
      "text/plain": "total_bill    19.785943\ntip            2.998279\nsize           2.569672\ndtype: float64"
     },
     "metadata": {},
     "execution_count": 6
    }
   ],
   "source": [
    "df.mean(numeric_only=True, skipna=True)"
   ]
  },
  {
   "cell_type": "code",
   "execution_count": 7,
   "metadata": {},
   "outputs": [
    {
     "output_type": "execute_result",
     "data": {
      "text/plain": "       total_bill         tip        size\ncount  244.000000  244.000000  244.000000\nmean    19.785943    2.998279    2.569672\nstd      8.902412    1.383638    0.951100\nmin      3.070000    1.000000    1.000000\n25%     13.347500    2.000000    2.000000\n50%     17.795000    2.900000    2.000000\n75%     24.127500    3.562500    3.000000\nmax     50.810000   10.000000    6.000000",
      "text/html": "<div>\n<style scoped>\n    .dataframe tbody tr th:only-of-type {\n        vertical-align: middle;\n    }\n\n    .dataframe tbody tr th {\n        vertical-align: top;\n    }\n\n    .dataframe thead th {\n        text-align: right;\n    }\n</style>\n<table border=\"1\" class=\"dataframe\">\n  <thead>\n    <tr style=\"text-align: right;\">\n      <th></th>\n      <th>total_bill</th>\n      <th>tip</th>\n      <th>size</th>\n    </tr>\n  </thead>\n  <tbody>\n    <tr>\n      <th>count</th>\n      <td>244.000000</td>\n      <td>244.000000</td>\n      <td>244.000000</td>\n    </tr>\n    <tr>\n      <th>mean</th>\n      <td>19.785943</td>\n      <td>2.998279</td>\n      <td>2.569672</td>\n    </tr>\n    <tr>\n      <th>std</th>\n      <td>8.902412</td>\n      <td>1.383638</td>\n      <td>0.951100</td>\n    </tr>\n    <tr>\n      <th>min</th>\n      <td>3.070000</td>\n      <td>1.000000</td>\n      <td>1.000000</td>\n    </tr>\n    <tr>\n      <th>25%</th>\n      <td>13.347500</td>\n      <td>2.000000</td>\n      <td>2.000000</td>\n    </tr>\n    <tr>\n      <th>50%</th>\n      <td>17.795000</td>\n      <td>2.900000</td>\n      <td>2.000000</td>\n    </tr>\n    <tr>\n      <th>75%</th>\n      <td>24.127500</td>\n      <td>3.562500</td>\n      <td>3.000000</td>\n    </tr>\n    <tr>\n      <th>max</th>\n      <td>50.810000</td>\n      <td>10.000000</td>\n      <td>6.000000</td>\n    </tr>\n  </tbody>\n</table>\n</div>"
     },
     "metadata": {},
     "execution_count": 7
    }
   ],
   "source": [
    "df.dropna().describe()"
   ]
  },
  {
   "cell_type": "code",
   "execution_count": 8,
   "metadata": {},
   "outputs": [
    {
     "output_type": "execute_result",
     "data": {
      "text/plain": "        total_bill     tip  size\ntime                            \nLunch      1167.47  185.51   164\nDinner     3660.30  546.07   463",
      "text/html": "<div>\n<style scoped>\n    .dataframe tbody tr th:only-of-type {\n        vertical-align: middle;\n    }\n\n    .dataframe tbody tr th {\n        vertical-align: top;\n    }\n\n    .dataframe thead th {\n        text-align: right;\n    }\n</style>\n<table border=\"1\" class=\"dataframe\">\n  <thead>\n    <tr style=\"text-align: right;\">\n      <th></th>\n      <th>total_bill</th>\n      <th>tip</th>\n      <th>size</th>\n    </tr>\n    <tr>\n      <th>time</th>\n      <th></th>\n      <th></th>\n      <th></th>\n    </tr>\n  </thead>\n  <tbody>\n    <tr>\n      <th>Lunch</th>\n      <td>1167.47</td>\n      <td>185.51</td>\n      <td>164</td>\n    </tr>\n    <tr>\n      <th>Dinner</th>\n      <td>3660.30</td>\n      <td>546.07</td>\n      <td>463</td>\n    </tr>\n  </tbody>\n</table>\n</div>"
     },
     "metadata": {},
     "execution_count": 8
    }
   ],
   "source": [
    "df.groupby('time').sum()"
   ]
  },
  {
   "cell_type": "code",
   "execution_count": 9,
   "metadata": {},
   "outputs": [
    {
     "output_type": "execute_result",
     "data": {
      "text/plain": "time\nLunch     164\nDinner    463\nName: size, dtype: int64"
     },
     "metadata": {},
     "execution_count": 9
    }
   ],
   "source": [
    "df.groupby('time')['size'].sum()"
   ]
  },
  {
   "cell_type": "code",
   "execution_count": 11,
   "metadata": {
    "tags": []
   },
   "outputs": [
    {
     "output_type": "stream",
     "name": "stdout",
     "text": "Lunch:\n     total_bill   tip     sex smoker   day   time  size\n77        27.20  4.00    Male     No  Thur  Lunch     4\n78        22.76  3.00    Male     No  Thur  Lunch     2\n79        17.29  2.71    Male     No  Thur  Lunch     2\n80        19.44  3.00    Male    Yes  Thur  Lunch     2\n81        16.66  3.40    Male     No  Thur  Lunch     2\n82        10.07  1.83  Female     No  Thur  Lunch     1\n83        32.68  5.00    Male    Yes  Thur  Lunch     2\n84        15.98  2.03    Male     No  Thur  Lunch     2\n85        34.83  5.17  Female     No  Thur  Lunch     4\n86        13.03  2.00    Male     No  Thur  Lunch     2\n87        18.28  4.00    Male     No  Thur  Lunch     2\n88        24.71  5.85    Male     No  Thur  Lunch     2\n89        21.16  3.00    Male     No  Thur  Lunch     2\n117       10.65  1.50  Female     No  Thur  Lunch     2\n118       12.43  1.80  Female     No  Thur  Lunch     2\n119       24.08  2.92  Female     No  Thur  Lunch     4\n120       11.69  2.31    Male     No  Thur  Lunch     2\n121       13.42  1.68  Female     No  Thur  Lunch     2\n122       14.26  2.50    Male     No  Thur  Lunch     2\n123       15.95  2.00    Male     No  Thur  Lunch     2\n124       12.48  2.52  Female     No  Thur  Lunch     2\n125       29.80  4.20  Female     No  Thur  Lunch     6\n126        8.52  1.48    Male     No  Thur  Lunch     2\n127       14.52  2.00  Female     No  Thur  Lunch     2\n128       11.38  2.00  Female     No  Thur  Lunch     2\n129       22.82  2.18    Male     No  Thur  Lunch     3\n130       19.08  1.50    Male     No  Thur  Lunch     2\n131       20.27  2.83  Female     No  Thur  Lunch     2\n132       11.17  1.50  Female     No  Thur  Lunch     2\n133       12.26  2.00  Female     No  Thur  Lunch     2\n..          ...   ...     ...    ...   ...    ...   ...\n142       41.19  5.00    Male     No  Thur  Lunch     5\n143       27.05  5.00  Female     No  Thur  Lunch     6\n144       16.43  2.30  Female     No  Thur  Lunch     2\n145        8.35  1.50  Female     No  Thur  Lunch     2\n146       18.64  1.36  Female     No  Thur  Lunch     3\n147       11.87  1.63  Female     No  Thur  Lunch     2\n148        9.78  1.73    Male     No  Thur  Lunch     2\n149        7.51  2.00    Male     No  Thur  Lunch     2\n191       19.81  4.19  Female    Yes  Thur  Lunch     2\n192       28.44  2.56    Male    Yes  Thur  Lunch     2\n193       15.48  2.02    Male    Yes  Thur  Lunch     2\n194       16.58  4.00    Male    Yes  Thur  Lunch     2\n195        7.56  1.44    Male     No  Thur  Lunch     2\n196       10.34  2.00    Male    Yes  Thur  Lunch     2\n197       43.11  5.00  Female    Yes  Thur  Lunch     4\n198       13.00  2.00  Female    Yes  Thur  Lunch     2\n199       13.51  2.00    Male    Yes  Thur  Lunch     2\n200       18.71  4.00    Male    Yes  Thur  Lunch     3\n201       12.74  2.01  Female    Yes  Thur  Lunch     2\n202       13.00  2.00  Female    Yes  Thur  Lunch     2\n203       16.40  2.50  Female    Yes  Thur  Lunch     2\n204       20.53  4.00    Male    Yes  Thur  Lunch     4\n205       16.47  3.23  Female    Yes  Thur  Lunch     3\n220       12.16  2.20    Male    Yes   Fri  Lunch     2\n221       13.42  3.48  Female    Yes   Fri  Lunch     2\n222        8.58  1.92    Male    Yes   Fri  Lunch     1\n223       15.98  3.00  Female     No   Fri  Lunch     3\n224       13.42  1.58    Male    Yes   Fri  Lunch     2\n225       16.27  2.50  Female    Yes   Fri  Lunch     2\n226       10.09  2.00  Female    Yes   Fri  Lunch     2\n\n[68 rows x 7 columns]\nDinner:\n     total_bill   tip     sex smoker   day    time  size\n0         16.99  1.01  Female     No   Sun  Dinner     2\n1         10.34  1.66    Male     No   Sun  Dinner     3\n2         21.01  3.50    Male     No   Sun  Dinner     3\n3         23.68  3.31    Male     No   Sun  Dinner     2\n4         24.59  3.61  Female     No   Sun  Dinner     4\n5         25.29  4.71    Male     No   Sun  Dinner     4\n6          8.77  2.00    Male     No   Sun  Dinner     2\n7         26.88  3.12    Male     No   Sun  Dinner     4\n8         15.04  1.96    Male     No   Sun  Dinner     2\n9         14.78  3.23    Male     No   Sun  Dinner     2\n10        10.27  1.71    Male     No   Sun  Dinner     2\n11        35.26  5.00  Female     No   Sun  Dinner     4\n12        15.42  1.57    Male     No   Sun  Dinner     2\n13        18.43  3.00    Male     No   Sun  Dinner     4\n14        14.83  3.02  Female     No   Sun  Dinner     2\n15        21.58  3.92    Male     No   Sun  Dinner     2\n16        10.33  1.67  Female     No   Sun  Dinner     3\n17        16.29  3.71    Male     No   Sun  Dinner     3\n18        16.97  3.50  Female     No   Sun  Dinner     3\n19        20.65  3.35    Male     No   Sat  Dinner     3\n20        17.92  4.08    Male     No   Sat  Dinner     2\n21        20.29  2.75  Female     No   Sat  Dinner     2\n22        15.77  2.23  Female     No   Sat  Dinner     2\n23        39.42  7.58    Male     No   Sat  Dinner     4\n24        19.82  3.18    Male     No   Sat  Dinner     2\n25        17.81  2.34    Male     No   Sat  Dinner     4\n26        13.37  2.00    Male     No   Sat  Dinner     2\n27        12.69  2.00    Male     No   Sat  Dinner     2\n28        21.70  4.30    Male     No   Sat  Dinner     2\n29        19.65  3.00  Female     No   Sat  Dinner     2\n..          ...   ...     ...    ...   ...     ...   ...\n207       38.73  3.00    Male    Yes   Sat  Dinner     4\n208       24.27  2.03    Male    Yes   Sat  Dinner     2\n209       12.76  2.23  Female    Yes   Sat  Dinner     2\n210       30.06  2.00    Male    Yes   Sat  Dinner     3\n211       25.89  5.16    Male    Yes   Sat  Dinner     4\n212       48.33  9.00    Male     No   Sat  Dinner     4\n213       13.27  2.50  Female    Yes   Sat  Dinner     2\n214       28.17  6.50  Female    Yes   Sat  Dinner     3\n215       12.90  1.10  Female    Yes   Sat  Dinner     2\n216       28.15  3.00    Male    Yes   Sat  Dinner     5\n217       11.59  1.50    Male    Yes   Sat  Dinner     2\n218        7.74  1.44    Male    Yes   Sat  Dinner     2\n219       30.14  3.09  Female    Yes   Sat  Dinner     4\n227       20.45  3.00    Male     No   Sat  Dinner     4\n228       13.28  2.72    Male     No   Sat  Dinner     2\n229       22.12  2.88  Female    Yes   Sat  Dinner     2\n230       24.01  2.00    Male    Yes   Sat  Dinner     4\n231       15.69  3.00    Male    Yes   Sat  Dinner     3\n232       11.61  3.39    Male     No   Sat  Dinner     2\n233       10.77  1.47    Male     No   Sat  Dinner     2\n234       15.53  3.00    Male    Yes   Sat  Dinner     2\n235       10.07  1.25    Male     No   Sat  Dinner     2\n236       12.60  1.00    Male    Yes   Sat  Dinner     2\n237       32.83  1.17    Male    Yes   Sat  Dinner     2\n238       35.83  4.67  Female     No   Sat  Dinner     3\n239       29.03  5.92    Male     No   Sat  Dinner     3\n240       27.18  2.00  Female    Yes   Sat  Dinner     2\n241       22.67  2.00    Male    Yes   Sat  Dinner     2\n242       17.82  1.75    Male     No   Sat  Dinner     2\n243       18.78  3.00  Female     No  Thur  Dinner     2\n\n[176 rows x 7 columns]\n"
    }
   ],
   "source": [
    "for(time, group) in df.groupby('time'):\n",
    "    print(f'{time}:\\n{group}')"
   ]
  },
  {
   "cell_type": "code",
   "execution_count": 12,
   "metadata": {},
   "outputs": [
    {
     "output_type": "execute_result",
     "data": {
      "text/plain": "        count      mean       std   min  25%   50%     75%   max\ntime                                                            \nLunch    68.0  2.728088  1.205345  1.25  2.0  2.25  3.2875   6.7\nDinner  176.0  3.102670  1.436243  1.00  2.0  3.00  3.6875  10.0",
      "text/html": "<div>\n<style scoped>\n    .dataframe tbody tr th:only-of-type {\n        vertical-align: middle;\n    }\n\n    .dataframe tbody tr th {\n        vertical-align: top;\n    }\n\n    .dataframe thead th {\n        text-align: right;\n    }\n</style>\n<table border=\"1\" class=\"dataframe\">\n  <thead>\n    <tr style=\"text-align: right;\">\n      <th></th>\n      <th>count</th>\n      <th>mean</th>\n      <th>std</th>\n      <th>min</th>\n      <th>25%</th>\n      <th>50%</th>\n      <th>75%</th>\n      <th>max</th>\n    </tr>\n    <tr>\n      <th>time</th>\n      <th></th>\n      <th></th>\n      <th></th>\n      <th></th>\n      <th></th>\n      <th></th>\n      <th></th>\n      <th></th>\n    </tr>\n  </thead>\n  <tbody>\n    <tr>\n      <th>Lunch</th>\n      <td>68.0</td>\n      <td>2.728088</td>\n      <td>1.205345</td>\n      <td>1.25</td>\n      <td>2.0</td>\n      <td>2.25</td>\n      <td>3.2875</td>\n      <td>6.7</td>\n    </tr>\n    <tr>\n      <th>Dinner</th>\n      <td>176.0</td>\n      <td>3.102670</td>\n      <td>1.436243</td>\n      <td>1.00</td>\n      <td>2.0</td>\n      <td>3.00</td>\n      <td>3.6875</td>\n      <td>10.0</td>\n    </tr>\n  </tbody>\n</table>\n</div>"
     },
     "metadata": {},
     "execution_count": 12
    }
   ],
   "source": [
    "df.groupby('time')['tip'].describe()"
   ]
  },
  {
   "cell_type": "code",
   "execution_count": 14,
   "metadata": {},
   "outputs": [
    {
     "output_type": "execute_result",
     "data": {
      "text/plain": "       total_bill                  tip              size           \n              min  median    max   min median   max  min median max\ntime                                                               \nLunch        7.51  15.965  43.11  1.25   2.25   6.7    1      2   6\nDinner       3.07  18.390  50.81  1.00   3.00  10.0    1      2   6",
      "text/html": "<div>\n<style scoped>\n    .dataframe tbody tr th:only-of-type {\n        vertical-align: middle;\n    }\n\n    .dataframe tbody tr th {\n        vertical-align: top;\n    }\n\n    .dataframe thead tr th {\n        text-align: left;\n    }\n\n    .dataframe thead tr:last-of-type th {\n        text-align: right;\n    }\n</style>\n<table border=\"1\" class=\"dataframe\">\n  <thead>\n    <tr>\n      <th></th>\n      <th colspan=\"3\" halign=\"left\">total_bill</th>\n      <th colspan=\"3\" halign=\"left\">tip</th>\n      <th colspan=\"3\" halign=\"left\">size</th>\n    </tr>\n    <tr>\n      <th></th>\n      <th>min</th>\n      <th>median</th>\n      <th>max</th>\n      <th>min</th>\n      <th>median</th>\n      <th>max</th>\n      <th>min</th>\n      <th>median</th>\n      <th>max</th>\n    </tr>\n    <tr>\n      <th>time</th>\n      <th></th>\n      <th></th>\n      <th></th>\n      <th></th>\n      <th></th>\n      <th></th>\n      <th></th>\n      <th></th>\n      <th></th>\n    </tr>\n  </thead>\n  <tbody>\n    <tr>\n      <th>Lunch</th>\n      <td>7.51</td>\n      <td>15.965</td>\n      <td>43.11</td>\n      <td>1.25</td>\n      <td>2.25</td>\n      <td>6.7</td>\n      <td>1</td>\n      <td>2</td>\n      <td>6</td>\n    </tr>\n    <tr>\n      <th>Dinner</th>\n      <td>3.07</td>\n      <td>18.390</td>\n      <td>50.81</td>\n      <td>1.00</td>\n      <td>3.00</td>\n      <td>10.0</td>\n      <td>1</td>\n      <td>2</td>\n      <td>6</td>\n    </tr>\n  </tbody>\n</table>\n</div>"
     },
     "metadata": {},
     "execution_count": 14
    }
   ],
   "source": [
    "df.groupby('time').aggregate(['min', np.median, max])"
   ]
  },
  {
   "cell_type": "code",
   "execution_count": 15,
   "metadata": {},
   "outputs": [
    {
     "output_type": "execute_result",
     "data": {
      "text/plain": "         tip  size\ntime              \nLunch    6.7     1\nDinner  10.0     1",
      "text/html": "<div>\n<style scoped>\n    .dataframe tbody tr th:only-of-type {\n        vertical-align: middle;\n    }\n\n    .dataframe tbody tr th {\n        vertical-align: top;\n    }\n\n    .dataframe thead th {\n        text-align: right;\n    }\n</style>\n<table border=\"1\" class=\"dataframe\">\n  <thead>\n    <tr style=\"text-align: right;\">\n      <th></th>\n      <th>tip</th>\n      <th>size</th>\n    </tr>\n    <tr>\n      <th>time</th>\n      <th></th>\n      <th></th>\n    </tr>\n  </thead>\n  <tbody>\n    <tr>\n      <th>Lunch</th>\n      <td>6.7</td>\n      <td>1</td>\n    </tr>\n    <tr>\n      <th>Dinner</th>\n      <td>10.0</td>\n      <td>1</td>\n    </tr>\n  </tbody>\n</table>\n</div>"
     },
     "metadata": {},
     "execution_count": 15
    }
   ],
   "source": [
    "df.groupby('time').aggregate({'tip': max, 'size': min})"
   ]
  },
  {
   "cell_type": "code",
   "execution_count": 17,
   "metadata": {},
   "outputs": [
    {
     "output_type": "execute_result",
     "data": {
      "text/plain": "     total_bill   tip     sex smoker   day   time  size\n77        27.20  4.00    Male     No  Thur  Lunch     4\n78        22.76  3.00    Male     No  Thur  Lunch     2\n79        17.29  2.71    Male     No  Thur  Lunch     2\n80        19.44  3.00    Male    Yes  Thur  Lunch     2\n81        16.66  3.40    Male     No  Thur  Lunch     2\n82        10.07  1.83  Female     No  Thur  Lunch     1\n83        32.68  5.00    Male    Yes  Thur  Lunch     2\n84        15.98  2.03    Male     No  Thur  Lunch     2\n85        34.83  5.17  Female     No  Thur  Lunch     4\n86        13.03  2.00    Male     No  Thur  Lunch     2\n87        18.28  4.00    Male     No  Thur  Lunch     2\n88        24.71  5.85    Male     No  Thur  Lunch     2\n89        21.16  3.00    Male     No  Thur  Lunch     2\n117       10.65  1.50  Female     No  Thur  Lunch     2\n118       12.43  1.80  Female     No  Thur  Lunch     2\n119       24.08  2.92  Female     No  Thur  Lunch     4\n120       11.69  2.31    Male     No  Thur  Lunch     2\n121       13.42  1.68  Female     No  Thur  Lunch     2\n122       14.26  2.50    Male     No  Thur  Lunch     2\n123       15.95  2.00    Male     No  Thur  Lunch     2\n124       12.48  2.52  Female     No  Thur  Lunch     2\n125       29.80  4.20  Female     No  Thur  Lunch     6\n126        8.52  1.48    Male     No  Thur  Lunch     2\n127       14.52  2.00  Female     No  Thur  Lunch     2\n128       11.38  2.00  Female     No  Thur  Lunch     2\n129       22.82  2.18    Male     No  Thur  Lunch     3\n130       19.08  1.50    Male     No  Thur  Lunch     2\n131       20.27  2.83  Female     No  Thur  Lunch     2\n132       11.17  1.50  Female     No  Thur  Lunch     2\n133       12.26  2.00  Female     No  Thur  Lunch     2\n..          ...   ...     ...    ...   ...    ...   ...\n142       41.19  5.00    Male     No  Thur  Lunch     5\n143       27.05  5.00  Female     No  Thur  Lunch     6\n144       16.43  2.30  Female     No  Thur  Lunch     2\n145        8.35  1.50  Female     No  Thur  Lunch     2\n146       18.64  1.36  Female     No  Thur  Lunch     3\n147       11.87  1.63  Female     No  Thur  Lunch     2\n148        9.78  1.73    Male     No  Thur  Lunch     2\n149        7.51  2.00    Male     No  Thur  Lunch     2\n191       19.81  4.19  Female    Yes  Thur  Lunch     2\n192       28.44  2.56    Male    Yes  Thur  Lunch     2\n193       15.48  2.02    Male    Yes  Thur  Lunch     2\n194       16.58  4.00    Male    Yes  Thur  Lunch     2\n195        7.56  1.44    Male     No  Thur  Lunch     2\n196       10.34  2.00    Male    Yes  Thur  Lunch     2\n197       43.11  5.00  Female    Yes  Thur  Lunch     4\n198       13.00  2.00  Female    Yes  Thur  Lunch     2\n199       13.51  2.00    Male    Yes  Thur  Lunch     2\n200       18.71  4.00    Male    Yes  Thur  Lunch     3\n201       12.74  2.01  Female    Yes  Thur  Lunch     2\n202       13.00  2.00  Female    Yes  Thur  Lunch     2\n203       16.40  2.50  Female    Yes  Thur  Lunch     2\n204       20.53  4.00    Male    Yes  Thur  Lunch     4\n205       16.47  3.23  Female    Yes  Thur  Lunch     3\n220       12.16  2.20    Male    Yes   Fri  Lunch     2\n221       13.42  3.48  Female    Yes   Fri  Lunch     2\n222        8.58  1.92    Male    Yes   Fri  Lunch     1\n223       15.98  3.00  Female     No   Fri  Lunch     3\n224       13.42  1.58    Male    Yes   Fri  Lunch     2\n225       16.27  2.50  Female    Yes   Fri  Lunch     2\n226       10.09  2.00  Female    Yes   Fri  Lunch     2\n\n[68 rows x 7 columns]",
      "text/html": "<div>\n<style scoped>\n    .dataframe tbody tr th:only-of-type {\n        vertical-align: middle;\n    }\n\n    .dataframe tbody tr th {\n        vertical-align: top;\n    }\n\n    .dataframe thead th {\n        text-align: right;\n    }\n</style>\n<table border=\"1\" class=\"dataframe\">\n  <thead>\n    <tr style=\"text-align: right;\">\n      <th></th>\n      <th>total_bill</th>\n      <th>tip</th>\n      <th>sex</th>\n      <th>smoker</th>\n      <th>day</th>\n      <th>time</th>\n      <th>size</th>\n    </tr>\n  </thead>\n  <tbody>\n    <tr>\n      <th>77</th>\n      <td>27.20</td>\n      <td>4.00</td>\n      <td>Male</td>\n      <td>No</td>\n      <td>Thur</td>\n      <td>Lunch</td>\n      <td>4</td>\n    </tr>\n    <tr>\n      <th>78</th>\n      <td>22.76</td>\n      <td>3.00</td>\n      <td>Male</td>\n      <td>No</td>\n      <td>Thur</td>\n      <td>Lunch</td>\n      <td>2</td>\n    </tr>\n    <tr>\n      <th>79</th>\n      <td>17.29</td>\n      <td>2.71</td>\n      <td>Male</td>\n      <td>No</td>\n      <td>Thur</td>\n      <td>Lunch</td>\n      <td>2</td>\n    </tr>\n    <tr>\n      <th>80</th>\n      <td>19.44</td>\n      <td>3.00</td>\n      <td>Male</td>\n      <td>Yes</td>\n      <td>Thur</td>\n      <td>Lunch</td>\n      <td>2</td>\n    </tr>\n    <tr>\n      <th>81</th>\n      <td>16.66</td>\n      <td>3.40</td>\n      <td>Male</td>\n      <td>No</td>\n      <td>Thur</td>\n      <td>Lunch</td>\n      <td>2</td>\n    </tr>\n    <tr>\n      <th>82</th>\n      <td>10.07</td>\n      <td>1.83</td>\n      <td>Female</td>\n      <td>No</td>\n      <td>Thur</td>\n      <td>Lunch</td>\n      <td>1</td>\n    </tr>\n    <tr>\n      <th>83</th>\n      <td>32.68</td>\n      <td>5.00</td>\n      <td>Male</td>\n      <td>Yes</td>\n      <td>Thur</td>\n      <td>Lunch</td>\n      <td>2</td>\n    </tr>\n    <tr>\n      <th>84</th>\n      <td>15.98</td>\n      <td>2.03</td>\n      <td>Male</td>\n      <td>No</td>\n      <td>Thur</td>\n      <td>Lunch</td>\n      <td>2</td>\n    </tr>\n    <tr>\n      <th>85</th>\n      <td>34.83</td>\n      <td>5.17</td>\n      <td>Female</td>\n      <td>No</td>\n      <td>Thur</td>\n      <td>Lunch</td>\n      <td>4</td>\n    </tr>\n    <tr>\n      <th>86</th>\n      <td>13.03</td>\n      <td>2.00</td>\n      <td>Male</td>\n      <td>No</td>\n      <td>Thur</td>\n      <td>Lunch</td>\n      <td>2</td>\n    </tr>\n    <tr>\n      <th>87</th>\n      <td>18.28</td>\n      <td>4.00</td>\n      <td>Male</td>\n      <td>No</td>\n      <td>Thur</td>\n      <td>Lunch</td>\n      <td>2</td>\n    </tr>\n    <tr>\n      <th>88</th>\n      <td>24.71</td>\n      <td>5.85</td>\n      <td>Male</td>\n      <td>No</td>\n      <td>Thur</td>\n      <td>Lunch</td>\n      <td>2</td>\n    </tr>\n    <tr>\n      <th>89</th>\n      <td>21.16</td>\n      <td>3.00</td>\n      <td>Male</td>\n      <td>No</td>\n      <td>Thur</td>\n      <td>Lunch</td>\n      <td>2</td>\n    </tr>\n    <tr>\n      <th>117</th>\n      <td>10.65</td>\n      <td>1.50</td>\n      <td>Female</td>\n      <td>No</td>\n      <td>Thur</td>\n      <td>Lunch</td>\n      <td>2</td>\n    </tr>\n    <tr>\n      <th>118</th>\n      <td>12.43</td>\n      <td>1.80</td>\n      <td>Female</td>\n      <td>No</td>\n      <td>Thur</td>\n      <td>Lunch</td>\n      <td>2</td>\n    </tr>\n    <tr>\n      <th>119</th>\n      <td>24.08</td>\n      <td>2.92</td>\n      <td>Female</td>\n      <td>No</td>\n      <td>Thur</td>\n      <td>Lunch</td>\n      <td>4</td>\n    </tr>\n    <tr>\n      <th>120</th>\n      <td>11.69</td>\n      <td>2.31</td>\n      <td>Male</td>\n      <td>No</td>\n      <td>Thur</td>\n      <td>Lunch</td>\n      <td>2</td>\n    </tr>\n    <tr>\n      <th>121</th>\n      <td>13.42</td>\n      <td>1.68</td>\n      <td>Female</td>\n      <td>No</td>\n      <td>Thur</td>\n      <td>Lunch</td>\n      <td>2</td>\n    </tr>\n    <tr>\n      <th>122</th>\n      <td>14.26</td>\n      <td>2.50</td>\n      <td>Male</td>\n      <td>No</td>\n      <td>Thur</td>\n      <td>Lunch</td>\n      <td>2</td>\n    </tr>\n    <tr>\n      <th>123</th>\n      <td>15.95</td>\n      <td>2.00</td>\n      <td>Male</td>\n      <td>No</td>\n      <td>Thur</td>\n      <td>Lunch</td>\n      <td>2</td>\n    </tr>\n    <tr>\n      <th>124</th>\n      <td>12.48</td>\n      <td>2.52</td>\n      <td>Female</td>\n      <td>No</td>\n      <td>Thur</td>\n      <td>Lunch</td>\n      <td>2</td>\n    </tr>\n    <tr>\n      <th>125</th>\n      <td>29.80</td>\n      <td>4.20</td>\n      <td>Female</td>\n      <td>No</td>\n      <td>Thur</td>\n      <td>Lunch</td>\n      <td>6</td>\n    </tr>\n    <tr>\n      <th>126</th>\n      <td>8.52</td>\n      <td>1.48</td>\n      <td>Male</td>\n      <td>No</td>\n      <td>Thur</td>\n      <td>Lunch</td>\n      <td>2</td>\n    </tr>\n    <tr>\n      <th>127</th>\n      <td>14.52</td>\n      <td>2.00</td>\n      <td>Female</td>\n      <td>No</td>\n      <td>Thur</td>\n      <td>Lunch</td>\n      <td>2</td>\n    </tr>\n    <tr>\n      <th>128</th>\n      <td>11.38</td>\n      <td>2.00</td>\n      <td>Female</td>\n      <td>No</td>\n      <td>Thur</td>\n      <td>Lunch</td>\n      <td>2</td>\n    </tr>\n    <tr>\n      <th>129</th>\n      <td>22.82</td>\n      <td>2.18</td>\n      <td>Male</td>\n      <td>No</td>\n      <td>Thur</td>\n      <td>Lunch</td>\n      <td>3</td>\n    </tr>\n    <tr>\n      <th>130</th>\n      <td>19.08</td>\n      <td>1.50</td>\n      <td>Male</td>\n      <td>No</td>\n      <td>Thur</td>\n      <td>Lunch</td>\n      <td>2</td>\n    </tr>\n    <tr>\n      <th>131</th>\n      <td>20.27</td>\n      <td>2.83</td>\n      <td>Female</td>\n      <td>No</td>\n      <td>Thur</td>\n      <td>Lunch</td>\n      <td>2</td>\n    </tr>\n    <tr>\n      <th>132</th>\n      <td>11.17</td>\n      <td>1.50</td>\n      <td>Female</td>\n      <td>No</td>\n      <td>Thur</td>\n      <td>Lunch</td>\n      <td>2</td>\n    </tr>\n    <tr>\n      <th>133</th>\n      <td>12.26</td>\n      <td>2.00</td>\n      <td>Female</td>\n      <td>No</td>\n      <td>Thur</td>\n      <td>Lunch</td>\n      <td>2</td>\n    </tr>\n    <tr>\n      <th>...</th>\n      <td>...</td>\n      <td>...</td>\n      <td>...</td>\n      <td>...</td>\n      <td>...</td>\n      <td>...</td>\n      <td>...</td>\n    </tr>\n    <tr>\n      <th>142</th>\n      <td>41.19</td>\n      <td>5.00</td>\n      <td>Male</td>\n      <td>No</td>\n      <td>Thur</td>\n      <td>Lunch</td>\n      <td>5</td>\n    </tr>\n    <tr>\n      <th>143</th>\n      <td>27.05</td>\n      <td>5.00</td>\n      <td>Female</td>\n      <td>No</td>\n      <td>Thur</td>\n      <td>Lunch</td>\n      <td>6</td>\n    </tr>\n    <tr>\n      <th>144</th>\n      <td>16.43</td>\n      <td>2.30</td>\n      <td>Female</td>\n      <td>No</td>\n      <td>Thur</td>\n      <td>Lunch</td>\n      <td>2</td>\n    </tr>\n    <tr>\n      <th>145</th>\n      <td>8.35</td>\n      <td>1.50</td>\n      <td>Female</td>\n      <td>No</td>\n      <td>Thur</td>\n      <td>Lunch</td>\n      <td>2</td>\n    </tr>\n    <tr>\n      <th>146</th>\n      <td>18.64</td>\n      <td>1.36</td>\n      <td>Female</td>\n      <td>No</td>\n      <td>Thur</td>\n      <td>Lunch</td>\n      <td>3</td>\n    </tr>\n    <tr>\n      <th>147</th>\n      <td>11.87</td>\n      <td>1.63</td>\n      <td>Female</td>\n      <td>No</td>\n      <td>Thur</td>\n      <td>Lunch</td>\n      <td>2</td>\n    </tr>\n    <tr>\n      <th>148</th>\n      <td>9.78</td>\n      <td>1.73</td>\n      <td>Male</td>\n      <td>No</td>\n      <td>Thur</td>\n      <td>Lunch</td>\n      <td>2</td>\n    </tr>\n    <tr>\n      <th>149</th>\n      <td>7.51</td>\n      <td>2.00</td>\n      <td>Male</td>\n      <td>No</td>\n      <td>Thur</td>\n      <td>Lunch</td>\n      <td>2</td>\n    </tr>\n    <tr>\n      <th>191</th>\n      <td>19.81</td>\n      <td>4.19</td>\n      <td>Female</td>\n      <td>Yes</td>\n      <td>Thur</td>\n      <td>Lunch</td>\n      <td>2</td>\n    </tr>\n    <tr>\n      <th>192</th>\n      <td>28.44</td>\n      <td>2.56</td>\n      <td>Male</td>\n      <td>Yes</td>\n      <td>Thur</td>\n      <td>Lunch</td>\n      <td>2</td>\n    </tr>\n    <tr>\n      <th>193</th>\n      <td>15.48</td>\n      <td>2.02</td>\n      <td>Male</td>\n      <td>Yes</td>\n      <td>Thur</td>\n      <td>Lunch</td>\n      <td>2</td>\n    </tr>\n    <tr>\n      <th>194</th>\n      <td>16.58</td>\n      <td>4.00</td>\n      <td>Male</td>\n      <td>Yes</td>\n      <td>Thur</td>\n      <td>Lunch</td>\n      <td>2</td>\n    </tr>\n    <tr>\n      <th>195</th>\n      <td>7.56</td>\n      <td>1.44</td>\n      <td>Male</td>\n      <td>No</td>\n      <td>Thur</td>\n      <td>Lunch</td>\n      <td>2</td>\n    </tr>\n    <tr>\n      <th>196</th>\n      <td>10.34</td>\n      <td>2.00</td>\n      <td>Male</td>\n      <td>Yes</td>\n      <td>Thur</td>\n      <td>Lunch</td>\n      <td>2</td>\n    </tr>\n    <tr>\n      <th>197</th>\n      <td>43.11</td>\n      <td>5.00</td>\n      <td>Female</td>\n      <td>Yes</td>\n      <td>Thur</td>\n      <td>Lunch</td>\n      <td>4</td>\n    </tr>\n    <tr>\n      <th>198</th>\n      <td>13.00</td>\n      <td>2.00</td>\n      <td>Female</td>\n      <td>Yes</td>\n      <td>Thur</td>\n      <td>Lunch</td>\n      <td>2</td>\n    </tr>\n    <tr>\n      <th>199</th>\n      <td>13.51</td>\n      <td>2.00</td>\n      <td>Male</td>\n      <td>Yes</td>\n      <td>Thur</td>\n      <td>Lunch</td>\n      <td>2</td>\n    </tr>\n    <tr>\n      <th>200</th>\n      <td>18.71</td>\n      <td>4.00</td>\n      <td>Male</td>\n      <td>Yes</td>\n      <td>Thur</td>\n      <td>Lunch</td>\n      <td>3</td>\n    </tr>\n    <tr>\n      <th>201</th>\n      <td>12.74</td>\n      <td>2.01</td>\n      <td>Female</td>\n      <td>Yes</td>\n      <td>Thur</td>\n      <td>Lunch</td>\n      <td>2</td>\n    </tr>\n    <tr>\n      <th>202</th>\n      <td>13.00</td>\n      <td>2.00</td>\n      <td>Female</td>\n      <td>Yes</td>\n      <td>Thur</td>\n      <td>Lunch</td>\n      <td>2</td>\n    </tr>\n    <tr>\n      <th>203</th>\n      <td>16.40</td>\n      <td>2.50</td>\n      <td>Female</td>\n      <td>Yes</td>\n      <td>Thur</td>\n      <td>Lunch</td>\n      <td>2</td>\n    </tr>\n    <tr>\n      <th>204</th>\n      <td>20.53</td>\n      <td>4.00</td>\n      <td>Male</td>\n      <td>Yes</td>\n      <td>Thur</td>\n      <td>Lunch</td>\n      <td>4</td>\n    </tr>\n    <tr>\n      <th>205</th>\n      <td>16.47</td>\n      <td>3.23</td>\n      <td>Female</td>\n      <td>Yes</td>\n      <td>Thur</td>\n      <td>Lunch</td>\n      <td>3</td>\n    </tr>\n    <tr>\n      <th>220</th>\n      <td>12.16</td>\n      <td>2.20</td>\n      <td>Male</td>\n      <td>Yes</td>\n      <td>Fri</td>\n      <td>Lunch</td>\n      <td>2</td>\n    </tr>\n    <tr>\n      <th>221</th>\n      <td>13.42</td>\n      <td>3.48</td>\n      <td>Female</td>\n      <td>Yes</td>\n      <td>Fri</td>\n      <td>Lunch</td>\n      <td>2</td>\n    </tr>\n    <tr>\n      <th>222</th>\n      <td>8.58</td>\n      <td>1.92</td>\n      <td>Male</td>\n      <td>Yes</td>\n      <td>Fri</td>\n      <td>Lunch</td>\n      <td>1</td>\n    </tr>\n    <tr>\n      <th>223</th>\n      <td>15.98</td>\n      <td>3.00</td>\n      <td>Female</td>\n      <td>No</td>\n      <td>Fri</td>\n      <td>Lunch</td>\n      <td>3</td>\n    </tr>\n    <tr>\n      <th>224</th>\n      <td>13.42</td>\n      <td>1.58</td>\n      <td>Male</td>\n      <td>Yes</td>\n      <td>Fri</td>\n      <td>Lunch</td>\n      <td>2</td>\n    </tr>\n    <tr>\n      <th>225</th>\n      <td>16.27</td>\n      <td>2.50</td>\n      <td>Female</td>\n      <td>Yes</td>\n      <td>Fri</td>\n      <td>Lunch</td>\n      <td>2</td>\n    </tr>\n    <tr>\n      <th>226</th>\n      <td>10.09</td>\n      <td>2.00</td>\n      <td>Female</td>\n      <td>Yes</td>\n      <td>Fri</td>\n      <td>Lunch</td>\n      <td>2</td>\n    </tr>\n  </tbody>\n</table>\n<p>68 rows × 7 columns</p>\n</div>"
     },
     "metadata": {},
     "execution_count": 17
    }
   ],
   "source": [
    "df.groupby('time').filter(lambda x: x['size'].std() > 1)"
   ]
  },
  {
   "cell_type": "code",
   "execution_count": 18,
   "metadata": {},
   "outputs": [
    {
     "output_type": "execute_result",
     "data": {
      "text/plain": "        total_bill       tip      size\ntime                                  \nLunch     7.713882  1.205345  1.040024\nDinner    9.142029  1.436243  0.910241",
      "text/html": "<div>\n<style scoped>\n    .dataframe tbody tr th:only-of-type {\n        vertical-align: middle;\n    }\n\n    .dataframe tbody tr th {\n        vertical-align: top;\n    }\n\n    .dataframe thead th {\n        text-align: right;\n    }\n</style>\n<table border=\"1\" class=\"dataframe\">\n  <thead>\n    <tr style=\"text-align: right;\">\n      <th></th>\n      <th>total_bill</th>\n      <th>tip</th>\n      <th>size</th>\n    </tr>\n    <tr>\n      <th>time</th>\n      <th></th>\n      <th></th>\n      <th></th>\n    </tr>\n  </thead>\n  <tbody>\n    <tr>\n      <th>Lunch</th>\n      <td>7.713882</td>\n      <td>1.205345</td>\n      <td>1.040024</td>\n    </tr>\n    <tr>\n      <th>Dinner</th>\n      <td>9.142029</td>\n      <td>1.436243</td>\n      <td>0.910241</td>\n    </tr>\n  </tbody>\n</table>\n</div>"
     },
     "metadata": {},
     "execution_count": 18
    }
   ],
   "source": [
    "df.groupby('time').std()"
   ]
  },
  {
   "cell_type": "code",
   "execution_count": 19,
   "metadata": {},
   "outputs": [
    {
     "output_type": "execute_result",
     "data": {
      "text/plain": "     total_bill       tip      size\n0     26.132029  2.446243  2.910241\n1     19.482029  3.096243  3.910241\n2     30.152029  4.936243  3.910241\n3     32.822029  4.746243  2.910241\n4     33.732029  5.046243  4.910241\n5     34.432029  6.146243  4.910241\n6     17.912029  3.436243  2.910241\n7     36.022029  4.556243  4.910241\n8     24.182029  3.396243  2.910241\n9     23.922029  4.666243  2.910241\n10    19.412029  3.146243  2.910241\n11    44.402029  6.436243  4.910241\n12    24.562029  3.006243  2.910241\n13    27.572029  4.436243  4.910241\n14    23.972029  4.456243  2.910241\n15    30.722029  5.356243  2.910241\n16    19.472029  3.106243  3.910241\n17    25.432029  5.146243  3.910241\n18    26.112029  4.936243  3.910241\n19    29.792029  4.786243  3.910241\n20    27.062029  5.516243  2.910241\n21    29.432029  4.186243  2.910241\n22    24.912029  3.666243  2.910241\n23    48.562029  9.016243  4.910241\n24    28.962029  4.616243  2.910241\n25    26.952029  3.776243  4.910241\n26    22.512029  3.436243  2.910241\n27    21.832029  3.436243  2.910241\n28    30.842029  5.736243  2.910241\n29    28.792029  4.436243  2.910241\n..          ...       ...       ...\n214   37.312029  7.936243  3.910241\n215   22.042029  2.536243  2.910241\n216   37.292029  4.436243  5.910241\n217   20.732029  2.936243  2.910241\n218   16.882029  2.876243  2.910241\n219   39.282029  4.526243  4.910241\n220   19.873882  3.405345  3.040024\n221   21.133882  4.685345  3.040024\n222   16.293882  3.125345  2.040024\n223   23.693882  4.205345  4.040024\n224   21.133882  2.785345  3.040024\n225   23.983882  3.705345  3.040024\n226   17.803882  3.205345  3.040024\n227   29.592029  4.436243  4.910241\n228   22.422029  4.156243  2.910241\n229   31.262029  4.316243  2.910241\n230   33.152029  3.436243  4.910241\n231   24.832029  4.436243  3.910241\n232   20.752029  4.826243  2.910241\n233   19.912029  2.906243  2.910241\n234   24.672029  4.436243  2.910241\n235   19.212029  2.686243  2.910241\n236   21.742029  2.436243  2.910241\n237   41.972029  2.606243  2.910241\n238   44.972029  6.106243  3.910241\n239   38.172029  7.356243  3.910241\n240   36.322029  3.436243  2.910241\n241   31.812029  3.436243  2.910241\n242   26.962029  3.186243  2.910241\n243   27.922029  4.436243  2.910241\n\n[244 rows x 3 columns]",
      "text/html": "<div>\n<style scoped>\n    .dataframe tbody tr th:only-of-type {\n        vertical-align: middle;\n    }\n\n    .dataframe tbody tr th {\n        vertical-align: top;\n    }\n\n    .dataframe thead th {\n        text-align: right;\n    }\n</style>\n<table border=\"1\" class=\"dataframe\">\n  <thead>\n    <tr style=\"text-align: right;\">\n      <th></th>\n      <th>total_bill</th>\n      <th>tip</th>\n      <th>size</th>\n    </tr>\n  </thead>\n  <tbody>\n    <tr>\n      <th>0</th>\n      <td>26.132029</td>\n      <td>2.446243</td>\n      <td>2.910241</td>\n    </tr>\n    <tr>\n      <th>1</th>\n      <td>19.482029</td>\n      <td>3.096243</td>\n      <td>3.910241</td>\n    </tr>\n    <tr>\n      <th>2</th>\n      <td>30.152029</td>\n      <td>4.936243</td>\n      <td>3.910241</td>\n    </tr>\n    <tr>\n      <th>3</th>\n      <td>32.822029</td>\n      <td>4.746243</td>\n      <td>2.910241</td>\n    </tr>\n    <tr>\n      <th>4</th>\n      <td>33.732029</td>\n      <td>5.046243</td>\n      <td>4.910241</td>\n    </tr>\n    <tr>\n      <th>5</th>\n      <td>34.432029</td>\n      <td>6.146243</td>\n      <td>4.910241</td>\n    </tr>\n    <tr>\n      <th>6</th>\n      <td>17.912029</td>\n      <td>3.436243</td>\n      <td>2.910241</td>\n    </tr>\n    <tr>\n      <th>7</th>\n      <td>36.022029</td>\n      <td>4.556243</td>\n      <td>4.910241</td>\n    </tr>\n    <tr>\n      <th>8</th>\n      <td>24.182029</td>\n      <td>3.396243</td>\n      <td>2.910241</td>\n    </tr>\n    <tr>\n      <th>9</th>\n      <td>23.922029</td>\n      <td>4.666243</td>\n      <td>2.910241</td>\n    </tr>\n    <tr>\n      <th>10</th>\n      <td>19.412029</td>\n      <td>3.146243</td>\n      <td>2.910241</td>\n    </tr>\n    <tr>\n      <th>11</th>\n      <td>44.402029</td>\n      <td>6.436243</td>\n      <td>4.910241</td>\n    </tr>\n    <tr>\n      <th>12</th>\n      <td>24.562029</td>\n      <td>3.006243</td>\n      <td>2.910241</td>\n    </tr>\n    <tr>\n      <th>13</th>\n      <td>27.572029</td>\n      <td>4.436243</td>\n      <td>4.910241</td>\n    </tr>\n    <tr>\n      <th>14</th>\n      <td>23.972029</td>\n      <td>4.456243</td>\n      <td>2.910241</td>\n    </tr>\n    <tr>\n      <th>15</th>\n      <td>30.722029</td>\n      <td>5.356243</td>\n      <td>2.910241</td>\n    </tr>\n    <tr>\n      <th>16</th>\n      <td>19.472029</td>\n      <td>3.106243</td>\n      <td>3.910241</td>\n    </tr>\n    <tr>\n      <th>17</th>\n      <td>25.432029</td>\n      <td>5.146243</td>\n      <td>3.910241</td>\n    </tr>\n    <tr>\n      <th>18</th>\n      <td>26.112029</td>\n      <td>4.936243</td>\n      <td>3.910241</td>\n    </tr>\n    <tr>\n      <th>19</th>\n      <td>29.792029</td>\n      <td>4.786243</td>\n      <td>3.910241</td>\n    </tr>\n    <tr>\n      <th>20</th>\n      <td>27.062029</td>\n      <td>5.516243</td>\n      <td>2.910241</td>\n    </tr>\n    <tr>\n      <th>21</th>\n      <td>29.432029</td>\n      <td>4.186243</td>\n      <td>2.910241</td>\n    </tr>\n    <tr>\n      <th>22</th>\n      <td>24.912029</td>\n      <td>3.666243</td>\n      <td>2.910241</td>\n    </tr>\n    <tr>\n      <th>23</th>\n      <td>48.562029</td>\n      <td>9.016243</td>\n      <td>4.910241</td>\n    </tr>\n    <tr>\n      <th>24</th>\n      <td>28.962029</td>\n      <td>4.616243</td>\n      <td>2.910241</td>\n    </tr>\n    <tr>\n      <th>25</th>\n      <td>26.952029</td>\n      <td>3.776243</td>\n      <td>4.910241</td>\n    </tr>\n    <tr>\n      <th>26</th>\n      <td>22.512029</td>\n      <td>3.436243</td>\n      <td>2.910241</td>\n    </tr>\n    <tr>\n      <th>27</th>\n      <td>21.832029</td>\n      <td>3.436243</td>\n      <td>2.910241</td>\n    </tr>\n    <tr>\n      <th>28</th>\n      <td>30.842029</td>\n      <td>5.736243</td>\n      <td>2.910241</td>\n    </tr>\n    <tr>\n      <th>29</th>\n      <td>28.792029</td>\n      <td>4.436243</td>\n      <td>2.910241</td>\n    </tr>\n    <tr>\n      <th>...</th>\n      <td>...</td>\n      <td>...</td>\n      <td>...</td>\n    </tr>\n    <tr>\n      <th>214</th>\n      <td>37.312029</td>\n      <td>7.936243</td>\n      <td>3.910241</td>\n    </tr>\n    <tr>\n      <th>215</th>\n      <td>22.042029</td>\n      <td>2.536243</td>\n      <td>2.910241</td>\n    </tr>\n    <tr>\n      <th>216</th>\n      <td>37.292029</td>\n      <td>4.436243</td>\n      <td>5.910241</td>\n    </tr>\n    <tr>\n      <th>217</th>\n      <td>20.732029</td>\n      <td>2.936243</td>\n      <td>2.910241</td>\n    </tr>\n    <tr>\n      <th>218</th>\n      <td>16.882029</td>\n      <td>2.876243</td>\n      <td>2.910241</td>\n    </tr>\n    <tr>\n      <th>219</th>\n      <td>39.282029</td>\n      <td>4.526243</td>\n      <td>4.910241</td>\n    </tr>\n    <tr>\n      <th>220</th>\n      <td>19.873882</td>\n      <td>3.405345</td>\n      <td>3.040024</td>\n    </tr>\n    <tr>\n      <th>221</th>\n      <td>21.133882</td>\n      <td>4.685345</td>\n      <td>3.040024</td>\n    </tr>\n    <tr>\n      <th>222</th>\n      <td>16.293882</td>\n      <td>3.125345</td>\n      <td>2.040024</td>\n    </tr>\n    <tr>\n      <th>223</th>\n      <td>23.693882</td>\n      <td>4.205345</td>\n      <td>4.040024</td>\n    </tr>\n    <tr>\n      <th>224</th>\n      <td>21.133882</td>\n      <td>2.785345</td>\n      <td>3.040024</td>\n    </tr>\n    <tr>\n      <th>225</th>\n      <td>23.983882</td>\n      <td>3.705345</td>\n      <td>3.040024</td>\n    </tr>\n    <tr>\n      <th>226</th>\n      <td>17.803882</td>\n      <td>3.205345</td>\n      <td>3.040024</td>\n    </tr>\n    <tr>\n      <th>227</th>\n      <td>29.592029</td>\n      <td>4.436243</td>\n      <td>4.910241</td>\n    </tr>\n    <tr>\n      <th>228</th>\n      <td>22.422029</td>\n      <td>4.156243</td>\n      <td>2.910241</td>\n    </tr>\n    <tr>\n      <th>229</th>\n      <td>31.262029</td>\n      <td>4.316243</td>\n      <td>2.910241</td>\n    </tr>\n    <tr>\n      <th>230</th>\n      <td>33.152029</td>\n      <td>3.436243</td>\n      <td>4.910241</td>\n    </tr>\n    <tr>\n      <th>231</th>\n      <td>24.832029</td>\n      <td>4.436243</td>\n      <td>3.910241</td>\n    </tr>\n    <tr>\n      <th>232</th>\n      <td>20.752029</td>\n      <td>4.826243</td>\n      <td>2.910241</td>\n    </tr>\n    <tr>\n      <th>233</th>\n      <td>19.912029</td>\n      <td>2.906243</td>\n      <td>2.910241</td>\n    </tr>\n    <tr>\n      <th>234</th>\n      <td>24.672029</td>\n      <td>4.436243</td>\n      <td>2.910241</td>\n    </tr>\n    <tr>\n      <th>235</th>\n      <td>19.212029</td>\n      <td>2.686243</td>\n      <td>2.910241</td>\n    </tr>\n    <tr>\n      <th>236</th>\n      <td>21.742029</td>\n      <td>2.436243</td>\n      <td>2.910241</td>\n    </tr>\n    <tr>\n      <th>237</th>\n      <td>41.972029</td>\n      <td>2.606243</td>\n      <td>2.910241</td>\n    </tr>\n    <tr>\n      <th>238</th>\n      <td>44.972029</td>\n      <td>6.106243</td>\n      <td>3.910241</td>\n    </tr>\n    <tr>\n      <th>239</th>\n      <td>38.172029</td>\n      <td>7.356243</td>\n      <td>3.910241</td>\n    </tr>\n    <tr>\n      <th>240</th>\n      <td>36.322029</td>\n      <td>3.436243</td>\n      <td>2.910241</td>\n    </tr>\n    <tr>\n      <th>241</th>\n      <td>31.812029</td>\n      <td>3.436243</td>\n      <td>2.910241</td>\n    </tr>\n    <tr>\n      <th>242</th>\n      <td>26.962029</td>\n      <td>3.186243</td>\n      <td>2.910241</td>\n    </tr>\n    <tr>\n      <th>243</th>\n      <td>27.922029</td>\n      <td>4.436243</td>\n      <td>2.910241</td>\n    </tr>\n  </tbody>\n</table>\n<p>244 rows × 3 columns</p>\n</div>"
     },
     "metadata": {},
     "execution_count": 19
    }
   ],
   "source": [
    "df.groupby('time').transform(lambda x: x + x.std())"
   ]
  },
  {
   "cell_type": "code",
   "execution_count": 20,
   "metadata": {},
   "outputs": [
    {
     "output_type": "execute_result",
     "data": {
      "text/plain": "time       \nLunch   77      8.00\n        78      5.00\n        79      4.71\n        80      5.00\n        81      5.40\n        82      2.83\n        83      7.00\n        84      4.03\n        85      9.17\n        86      4.00\n        87      6.00\n        88      7.85\n        89      5.00\n        117     3.50\n        118     3.80\n        119     6.92\n        120     4.31\n        121     3.68\n        122     4.50\n        123     4.00\n        124     4.52\n        125    10.20\n        126     3.48\n        127     4.00\n        128     4.00\n        129     5.18\n        130     3.50\n        131     4.83\n        132     3.50\n        133     4.00\n               ...  \nDinner  207     7.00\n        208     4.03\n        209     4.23\n        210     5.00\n        211     9.16\n        212    13.00\n        213     4.50\n        214     9.50\n        215     3.10\n        216     8.00\n        217     3.50\n        218     3.44\n        219     7.09\n        227     7.00\n        228     4.72\n        229     4.88\n        230     6.00\n        231     6.00\n        232     5.39\n        233     3.47\n        234     5.00\n        235     3.25\n        236     3.00\n        237     3.17\n        238     7.67\n        239     8.92\n        240     4.00\n        241     4.00\n        242     3.75\n        243     5.00\nLength: 244, dtype: float64"
     },
     "metadata": {},
     "execution_count": 20
    }
   ],
   "source": [
    "df.groupby('time').apply(lambda x: x['tip'] + x['size'])"
   ]
  },
  {
   "cell_type": "code",
   "execution_count": 22,
   "metadata": {},
   "outputs": [
    {
     "output_type": "execute_result",
     "data": {
      "text/plain": "sex       Male  Female\ntime                  \nLunch    95.11   90.40\nDinner  389.96  156.11",
      "text/html": "<div>\n<style scoped>\n    .dataframe tbody tr th:only-of-type {\n        vertical-align: middle;\n    }\n\n    .dataframe tbody tr th {\n        vertical-align: top;\n    }\n\n    .dataframe thead th {\n        text-align: right;\n    }\n</style>\n<table border=\"1\" class=\"dataframe\">\n  <thead>\n    <tr style=\"text-align: right;\">\n      <th>sex</th>\n      <th>Male</th>\n      <th>Female</th>\n    </tr>\n    <tr>\n      <th>time</th>\n      <th></th>\n      <th></th>\n    </tr>\n  </thead>\n  <tbody>\n    <tr>\n      <th>Lunch</th>\n      <td>95.11</td>\n      <td>90.40</td>\n    </tr>\n    <tr>\n      <th>Dinner</th>\n      <td>389.96</td>\n      <td>156.11</td>\n    </tr>\n  </tbody>\n</table>\n</div>"
     },
     "metadata": {},
     "execution_count": 22
    }
   ],
   "source": [
    "pd.pivot_table(df, index='time', columns='sex', values='tip', aggfunc=sum, fill_value=0)"
   ]
  },
  {
   "cell_type": "code",
   "execution_count": null,
   "metadata": {},
   "outputs": [],
   "source": []
  }
 ],
 "metadata": {
  "language_info": {
   "codemirror_mode": {
    "name": "ipython",
    "version": 3
   },
   "file_extension": ".py",
   "mimetype": "text/x-python",
   "name": "python",
   "nbconvert_exporter": "python",
   "pygments_lexer": "ipython3",
   "version": 3
  },
  "orig_nbformat": 2,
  "kernelspec": {
   "name": "python_defaultSpec_1599778375714",
   "display_name": "Python 3.7.3 64-bit ('base': conda)"
  }
 },
 "nbformat": 4,
 "nbformat_minor": 2
}