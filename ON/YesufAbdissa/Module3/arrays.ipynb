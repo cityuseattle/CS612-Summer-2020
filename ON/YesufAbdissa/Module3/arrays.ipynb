{
 "cells": [
  {
   "cell_type": "code",
   "execution_count": 1,
   "metadata": {},
   "outputs": [],
   "source": [
    "import numpy as np"
   ]
  },
  {
   "cell_type": "code",
   "execution_count": 3,
   "metadata": {
    "tags": []
   },
   "outputs": [
    {
     "output_type": "stream",
     "name": "stdout",
     "text": "<class 'numpy.ndarray'>\nint64\n(3,)\n1 2 3\n(2, 3)\n1 2 4\n[4 5 6]\n"
    }
   ],
   "source": [
    "# create rank 1 dim array\n",
    "arr = np.array([1, 2, 3])\n",
    "print(type(arr))                     # output <class 'numpy.ndarray'>\n",
    "print(arr.dtype)                     # outputs int64\n",
    "print(arr.shape)                     # output (3,)\n",
    "print(arr[0], arr[1], arr[2])        # output 1 2 3\n",
    "arr[2] =4                            #change last element to 4\n",
    "print                                # output [1 2 4]\n",
    "\n",
    "# create rank 2 array\n",
    "arr2 = np.array([[1, 2, 3], [4, 5, 6]])\n",
    "print(arr2.shape)                         # output (2, 3)\n",
    "print(arr2[0, 0], arr2[0, 1], arr2[1, 0])  # outputs (2, 3)\n",
    "print(arr2[-1])                             # outputs last element [4, 5, 6]"
   ]
  },
  {
   "cell_type": "code",
   "execution_count": 9,
   "metadata": {
    "tags": []
   },
   "outputs": [
    {
     "output_type": "stream",
     "name": "stdout",
     "text": "[[1. 1.]]\n[[5 5]\n [5 5]]\n[[1. 0. 0.]\n [0. 1. 0.]\n [0. 0. 1.]]\n[[0. 1. 0. 0.]\n [0. 0. 1. 0.]\n [0. 0. 0. 1.]\n [0. 0. 0. 0.]]\n[[0.69616508 0.04451545]\n [0.91765357 0.44204349]]\n"
    }
   ],
   "source": [
    "# create an array of zeros with 2 dim and size of 2 each\n",
    "zero = np.zeros((2, 2))                             # outputs \"[[0.  0.\"\n",
    "                                                    #          [0. 0.]]\"\n",
    "\n",
    "\n",
    "# create an array of ones with 1 dim and size of each\n",
    "one = np.ones((1, 2))\n",
    "print(one)                                      # outputs \"[[1.  1.]]\"\n",
    "\n",
    "#create a new array with given shape, type, and filled with value\n",
    "constant = np.full((2,2), 5)      # default type is float\n",
    "print(constant)                   #outputs \"[[5 5]\n",
    "                                  #          [5 5]]\"\n",
    "\n",
    "# create a 2 - D array with 1 on diagonal and 0 on others\n",
    "diag = np.eye(3)                  # number of rows\n",
    "print(diag)                       # outputs [[1. 0. 0.]\n",
    "                                  #          [0. 1. 0.]\n",
    "                                  #          [0. 0. 1.]]\n",
    "\n",
    "# diag starts at index 1\n",
    "diag = np.eye(4, k=1)\n",
    "print(diag)                       # outputs [[1. 1. 0. 0.]\n",
    "                                  #          [0. 0. 1. 0.]\n",
    "                                  #          [0. 0. 0. 1.]\n",
    "                                  #          [0. 0. 0. 0.]\n",
    "\n",
    "# create an array with random values\n",
    "rand = np.random.random((2,2))\n",
    "print(rand)\n",
    "\n"
   ]
  },
  {
   "cell_type": "code",
   "execution_count": 8,
   "metadata": {
    "tags": []
   },
   "outputs": [
    {
     "output_type": "stream",
     "name": "stdout",
     "text": "[0 2 4 6]\n[[1 2]\n [5 6]]\n"
    }
   ],
   "source": [
    "# Array indexing\n",
    "arr = np.arange(10)              # generate array [0 1 2 3 4 5 6 7 8 9]\n",
    "print(arr[0:8:2])                 # every two number from 0 up to but not include 8\n",
    "\n",
    "# create rank 2 with shape (3, 4) array\n",
    "arr = np.array([[1, 2, 3, 4], [5, 6, 7, 8], [9, 10, 11, 12]])\n",
    "print(arr[:2, :2])                # outputs [[1 2]\n",
    "                                  #          [5 6]]"
   ]
  },
  {
   "cell_type": "code",
   "execution_count": null,
   "metadata": {},
   "outputs": [],
   "source": [
    "# integer indexing\n",
    "\n",
    "arr = np.array([[1,2], [3, 4], [5, 6]])\n",
    "print(arr[[0, 1, 2], [0, 1, 1]])             # outputs [1 4 6]\n",
    "\n",
    "# arr[[0, 1, 2], [0, 1, 1]] is equivalent to [arr[0,0], arr[1, 1, arr[2, 1]]]"
   ]
  },
  {
   "cell_type": "code",
   "execution_count": 11,
   "metadata": {
    "tags": []
   },
   "outputs": [
    {
     "output_type": "stream",
     "name": "stdout",
     "text": "[[0 1 2]\n [3 4 5]\n [6 7 8]]\n"
    }
   ],
   "source": [
    "arr = np.arange(9)                           # create [0, 1, 2, 3, 4, 5, 6, 7, 8]\n",
    "reshape_arr = arr.reshape(3, 3)               # reshape 1-D arr to 2-d with (3, 3)\n",
    "print(reshape_arr)                           # output    [[0 1 2]\n",
    "                                             #            [3 4 5]\n",
    "                                             #            [6 7 8]]"
   ]
  },
  {
   "cell_type": "code",
   "execution_count": 12,
   "metadata": {
    "tags": []
   },
   "outputs": [
    {
     "output_type": "stream",
     "name": "stdout",
     "text": "4\n"
    }
   ],
   "source": [
    "arr = np.arange(8).reshape(2, 4)             # generates [[0, 1, 2, 3],\n",
    "                                             #            [4, 5, 6, 7]]\n",
    "# print(arr[4])                              # access arr[4] would cause an error\n",
    "                                             # since index out of range \n",
    "                                             #\n",
    "print(arr.flat[4])                           # turned arr into 1-D array ->[0, 1, 2, 3, 4, 5, 6, 7 ,8]"
   ]
  },
  {
   "cell_type": "code",
   "execution_count": 13,
   "metadata": {
    "tags": []
   },
   "outputs": [
    {
     "output_type": "stream",
     "name": "stdout",
     "text": "[0 1 2 3 4 5 6 7]\n"
    }
   ],
   "source": [
    "# flatten()\n",
    "\n",
    "Collapse to 1-D array and return a copy of the array\n",
    "\n",
    "arr = np.arange(8).reshape(2, 4)             # generates [[0, 1, 2, 3]\n",
    "                                             #            [4, 5, 6, 7]]\n",
    "print(arr.flatten())                         # outputs [0, 1, 2, 3, 4, 5, 6, 7, 8]"
   ]
  },
  {
   "cell_type": "code",
   "execution_count": 14,
   "metadata": {
    "tags": []
   },
   "outputs": [
    {
     "output_type": "stream",
     "name": "stdout",
     "text": "[[0 4]\n [1 5]\n [2 6]\n [3 7]]\n"
    }
   ],
   "source": [
    "# transpose()\n",
    "# Permutes the dimension of an array\n",
    "\n",
    "arr = np.arange(8).reshape(2, 4)            # generates [[0, 1, 2, 3],\n",
    "                                            #            [4, 5, 6, 7]]\n",
    "print(arr.transpose())                      "
   ]
  },
  {
   "cell_type": "code",
   "execution_count": 15,
   "metadata": {
    "tags": []
   },
   "outputs": [
    {
     "output_type": "stream",
     "name": "stdout",
     "text": "[[5 6 7]\n [6 7 8]\n [7 8 9]]\n[[5. 6. 7.]\n [6. 7. 8.]\n [7. 8. 9.]]\n"
    }
   ],
   "source": [
    "# broadcast()\n",
    "\n",
    "# numpy builtsupport broadcasting\n",
    "a= np.array([[1], [2], [3]])\n",
    "b= np.array([4, 5, 6])                    #[[1+4, 3+4], [1+5, so on], [1+6], so on]\n",
    "c = a+b\n",
    "print(c)\n",
    "\n",
    "#this is what it was doing for us\n",
    "bc = np.broadcast(a, b)                  # return broadcast object, and may be used as iterator\n",
    "x = np.zeros(bc.shape)                   # x is [0 0 0]\n",
    "                                         #      [0 0 0]\n",
    "                                         #      [0 0 0]\n",
    "x.flat = [a + b for (a,b) in bc]         # turn x into 1-D array for get all values after adding them\n",
    "print(x)"
   ]
  },
  {
   "cell_type": "code",
   "execution_count": 17,
   "metadata": {
    "tags": []
   },
   "outputs": [
    {
     "output_type": "stream",
     "name": "stdout",
     "text": "[[1 2 3]\n [4 5 6]\n [1 2 3]]\n"
    }
   ],
   "source": [
    "# resize()\n",
    "#Returns a new array with the specified shape. If the new size is greater #than the original, the repeited copies of the entries in the original are #contained\n",
    "\n",
    "arr = np.array([[1,2,3], [4,5,6]])        # shape is [2, 3]\n",
    "arr_resized = np.resize(arr, (3,3))       # resize to (3,3)\n",
    "print(arr_resized)                         # it's bigger, so it repeated the first raw to fill up"
   ]
  },
  {
   "cell_type": "code",
   "execution_count": 19,
   "metadata": {
    "tags": []
   },
   "outputs": [
    {
     "output_type": "stream",
     "name": "stdout",
     "text": "[1 2 3]\n[1 2 3]\n['a' 'b' 'c'] [0 1 2]\n['a' 'b' 'c'] [2 1 1]\n"
    }
   ],
   "source": [
    "# unique()\n",
    "# Finds the unique elements of an array\n",
    "\n",
    "unique = np.unique([1, 1, 2, 2, 3, 3])\n",
    "print(unique)                         \n",
    "\n",
    "arr = np.array([[1, 1], [2, 3]])\n",
    "print(np.unique(arr))\n",
    "\n",
    "arr = np.array(['a', 'b', 'c', 'a'])\n",
    "unique, indices = np.unique(arr, return_index=True)     # returns index of the first unique values\n",
    "print(unique, indices)              \n",
    "count = np.unique(arr, return_counts=True)             # return tuple object\n",
    "print(count[0], count[1])               # first array is is unique value, secons is number of occurence"
   ]
  },
  {
   "cell_type": "code",
   "execution_count": null,
   "metadata": {},
   "outputs": [],
   "source": []
  }
 ],
 "metadata": {
  "language_info": {
   "codemirror_mode": {
    "name": "ipython",
    "version": 3
   },
   "file_extension": ".py",
   "mimetype": "text/x-python",
   "name": "python",
   "nbconvert_exporter": "python",
   "pygments_lexer": "ipython3",
   "version": 3
  },
  "orig_nbformat": 2,
  "kernelspec": {
   "name": "python_defaultSpec_1595792312605",
   "display_name": "Python 3.7.3 64-bit ('base': conda)"
  }
 },
 "nbformat": 4,
 "nbformat_minor": 2
}