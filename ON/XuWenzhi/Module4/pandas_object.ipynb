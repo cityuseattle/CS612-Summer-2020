{
 "cells": [
  {
   "cell_type": "code",
   "execution_count": 6,
   "metadata": {
    "tags": []
   },
   "outputs": [
    {
     "output_type": "stream",
     "name": "stdout",
     "text": "Collecting pandas\n  Using cached https://files.pythonhosted.org/packages/2f/30/5ab95bee54e0221160af169bdb36c2eb5c65e0549a4c143d54aa515e2f27/pandas-1.1.0-cp37-cp37m-macosx_10_9_x86_64.whl\nRequirement already satisfied: numpy>=1.15.4 in /Users/xuwenzhi/Library/Python/3.7/lib/python/site-packages (from pandas) (1.19.1)\nCollecting pytz>=2017.2 (from pandas)\n  Using cached https://files.pythonhosted.org/packages/4f/a4/879454d49688e2fad93e59d7d4efda580b783c745fd2ec2a3adf87b0808d/pytz-2020.1-py2.py3-none-any.whl\nRequirement already satisfied: python-dateutil>=2.7.3 in /Users/xuwenzhi/Library/Python/3.7/lib/python/site-packages (from pandas) (2.8.1)\nRequirement already satisfied: six>=1.5 in /Applications/Xcode.app/Contents/Developer/Library/Frameworks/Python3.framework/Versions/3.7/lib/python3.7/site-packages (from python-dateutil>=2.7.3->pandas) (1.12.0)\nInstalling collected packages: pytz, pandas\nSuccessfully installed pandas-1.1.0 pytz-2020.1\n\u001b[33mYou are using pip version 19.0.3, however version 20.2 is available.\nYou should consider upgrading via the 'pip install --upgrade pip' command.\u001b[0m\nNote: you may need to restart the kernel to use updated packages.\n"
    }
   ],
   "source": [
    "pip install pandas --user"
   ]
  },
  {
   "cell_type": "code",
   "execution_count": 7,
   "metadata": {},
   "outputs": [],
   "source": [
    "import pandas as pd"
   ]
  },
  {
   "cell_type": "code",
   "execution_count": 9,
   "metadata": {},
   "outputs": [
    {
     "output_type": "execute_result",
     "data": {
      "text/plain": "0    1\n1    3\n2    5\n3    6\n4    8\ndtype: int64"
     },
     "metadata": {},
     "execution_count": 9
    }
   ],
   "source": [
    "series  = pd.Series([1, 3, 5, 6, 8])\n",
    "series"
   ]
  },
  {
   "cell_type": "code",
   "execution_count": 10,
   "metadata": {},
   "outputs": [
    {
     "output_type": "execute_result",
     "data": {
      "text/plain": "   apples  oranges  peaches\n0       3        0        2\n1       2        3        4\n2       0        7        6\n3       1        2        8",
      "text/html": "<div>\n<style scoped>\n    .dataframe tbody tr th:only-of-type {\n        vertical-align: middle;\n    }\n\n    .dataframe tbody tr th {\n        vertical-align: top;\n    }\n\n    .dataframe thead th {\n        text-align: right;\n    }\n</style>\n<table border=\"1\" class=\"dataframe\">\n  <thead>\n    <tr style=\"text-align: right;\">\n      <th></th>\n      <th>apples</th>\n      <th>oranges</th>\n      <th>peaches</th>\n    </tr>\n  </thead>\n  <tbody>\n    <tr>\n      <th>0</th>\n      <td>3</td>\n      <td>0</td>\n      <td>2</td>\n    </tr>\n    <tr>\n      <th>1</th>\n      <td>2</td>\n      <td>3</td>\n      <td>4</td>\n    </tr>\n    <tr>\n      <th>2</th>\n      <td>0</td>\n      <td>7</td>\n      <td>6</td>\n    </tr>\n    <tr>\n      <th>3</th>\n      <td>1</td>\n      <td>2</td>\n      <td>8</td>\n    </tr>\n  </tbody>\n</table>\n</div>"
     },
     "metadata": {},
     "execution_count": 10
    }
   ],
   "source": [
    "data = {\n",
    "    'apples' : [3, 2, 0, 1],\n",
    "    'oranges': [0, 3, 7, 2],\n",
    "    'peaches': [2, 4, 6, 8]\n",
    "}\n",
    "fruits = pd.DataFrame(data)\n",
    "fruits"
   ]
  },
  {
   "cell_type": "code",
   "execution_count": 14,
   "metadata": {},
   "outputs": [
    {
     "output_type": "execute_result",
     "data": {
      "text/plain": "          apples  oranges  peaches\nTome           3        0        2\nIsabelle       2        3        4\nDaisy          0        7        6\nBlathers       1        2        8",
      "text/html": "<div>\n<style scoped>\n    .dataframe tbody tr th:only-of-type {\n        vertical-align: middle;\n    }\n\n    .dataframe tbody tr th {\n        vertical-align: top;\n    }\n\n    .dataframe thead th {\n        text-align: right;\n    }\n</style>\n<table border=\"1\" class=\"dataframe\">\n  <thead>\n    <tr style=\"text-align: right;\">\n      <th></th>\n      <th>apples</th>\n      <th>oranges</th>\n      <th>peaches</th>\n    </tr>\n  </thead>\n  <tbody>\n    <tr>\n      <th>Tome</th>\n      <td>3</td>\n      <td>0</td>\n      <td>2</td>\n    </tr>\n    <tr>\n      <th>Isabelle</th>\n      <td>2</td>\n      <td>3</td>\n      <td>4</td>\n    </tr>\n    <tr>\n      <th>Daisy</th>\n      <td>0</td>\n      <td>7</td>\n      <td>6</td>\n    </tr>\n    <tr>\n      <th>Blathers</th>\n      <td>1</td>\n      <td>2</td>\n      <td>8</td>\n    </tr>\n  </tbody>\n</table>\n</div>"
     },
     "metadata": {},
     "execution_count": 14
    }
   ],
   "source": [
    "buyer = pd.DataFrame(data, index=['Tome', 'Isabelle', 'Daisy', 'Blathers'])\n",
    "buyer"
   ]
  },
  {
   "cell_type": "code",
   "execution_count": 15,
   "metadata": {},
   "outputs": [
    {
     "output_type": "execute_result",
     "data": {
      "text/plain": "           apples  oranges  peaches\nTome      3000000        0  2000000\nIsabelle  2000000  3000000  4000000\nDaisy           0  7000000  6000000\nBlathers  1000000  2000000  8000000",
      "text/html": "<div>\n<style scoped>\n    .dataframe tbody tr th:only-of-type {\n        vertical-align: middle;\n    }\n\n    .dataframe tbody tr th {\n        vertical-align: top;\n    }\n\n    .dataframe thead th {\n        text-align: right;\n    }\n</style>\n<table border=\"1\" class=\"dataframe\">\n  <thead>\n    <tr style=\"text-align: right;\">\n      <th></th>\n      <th>apples</th>\n      <th>oranges</th>\n      <th>peaches</th>\n    </tr>\n  </thead>\n  <tbody>\n    <tr>\n      <th>Tome</th>\n      <td>3000000</td>\n      <td>0</td>\n      <td>2000000</td>\n    </tr>\n    <tr>\n      <th>Isabelle</th>\n      <td>2000000</td>\n      <td>3000000</td>\n      <td>4000000</td>\n    </tr>\n    <tr>\n      <th>Daisy</th>\n      <td>0</td>\n      <td>7000000</td>\n      <td>6000000</td>\n    </tr>\n    <tr>\n      <th>Blathers</th>\n      <td>1000000</td>\n      <td>2000000</td>\n      <td>8000000</td>\n    </tr>\n  </tbody>\n</table>\n</div>"
     },
     "metadata": {},
     "execution_count": 15
    }
   ],
   "source": [
    "buyer = buyer * 1_000_000\n",
    "buyer"
   ]
  },
  {
   "cell_type": "code",
   "execution_count": 16,
   "metadata": {},
   "outputs": [
    {
     "output_type": "execute_result",
     "data": {
      "text/plain": "          apples  oranges  peaches\nTome       False    False    False\nIsabelle   False    False    False\nDaisy      False     True    False\nBlathers   False    False     True",
      "text/html": "<div>\n<style scoped>\n    .dataframe tbody tr th:only-of-type {\n        vertical-align: middle;\n    }\n\n    .dataframe tbody tr th {\n        vertical-align: top;\n    }\n\n    .dataframe thead th {\n        text-align: right;\n    }\n</style>\n<table border=\"1\" class=\"dataframe\">\n  <thead>\n    <tr style=\"text-align: right;\">\n      <th></th>\n      <th>apples</th>\n      <th>oranges</th>\n      <th>peaches</th>\n    </tr>\n  </thead>\n  <tbody>\n    <tr>\n      <th>Tome</th>\n      <td>False</td>\n      <td>False</td>\n      <td>False</td>\n    </tr>\n    <tr>\n      <th>Isabelle</th>\n      <td>False</td>\n      <td>False</td>\n      <td>False</td>\n    </tr>\n    <tr>\n      <th>Daisy</th>\n      <td>False</td>\n      <td>True</td>\n      <td>False</td>\n    </tr>\n    <tr>\n      <th>Blathers</th>\n      <td>False</td>\n      <td>False</td>\n      <td>True</td>\n    </tr>\n  </tbody>\n</table>\n</div>"
     },
     "metadata": {},
     "execution_count": 16
    }
   ],
   "source": [
    "buyer > 6_000_000\n"
   ]
  },
  {
   "cell_type": "code",
   "execution_count": null,
   "metadata": {},
   "outputs": [],
   "source": []
  }
 ],
 "metadata": {
  "language_info": {
   "codemirror_mode": {
    "name": "ipython",
    "version": 3
   },
   "file_extension": ".py",
   "mimetype": "text/x-python",
   "name": "python",
   "nbconvert_exporter": "python",
   "pygments_lexer": "ipython3",
   "version": 3
  },
  "orig_nbformat": 2,
  "kernelspec": {
   "name": "python_defaultSpec_1596181920202",
   "display_name": "Python 3.7.3 64-bit"
  }
 },
 "nbformat": 4,
 "nbformat_minor": 2
}