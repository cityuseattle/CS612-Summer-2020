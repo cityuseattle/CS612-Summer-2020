{
 "metadata": {
  "language_info": {
   "codemirror_mode": {
    "name": "ipython",
    "version": 3
   },
   "file_extension": ".py",
   "mimetype": "text/x-python",
   "name": "python",
   "nbconvert_exporter": "python",
   "pygments_lexer": "ipython3",
   "version": 3
  },
  "orig_nbformat": 2,
  "kernelspec": {
   "name": "python_defaultSpec_1597375655369",
   "display_name": "Python 3.7.4 64-bit"
  }
 },
 "nbformat": 4,
 "nbformat_minor": 2,
 "cells": [
  {
   "cell_type": "code",
   "execution_count": 15,
   "metadata": {},
   "outputs": [],
   "source": [
    "import numpy as np\n",
    "import pandas as pd"
   ]
  },
  {
   "cell_type": "code",
   "execution_count": 16,
   "metadata": {},
   "outputs": [
    {
     "output_type": "execute_result",
     "data": {
      "text/plain": "0       0\n1     NaN\n2        \n3    None\ndtype: object"
     },
     "metadata": {},
     "execution_count": 16
    }
   ],
   "source": [
    "ex1 = pd.Series([0, np.nan, '', None])\n",
    "ex1"
   ]
  },
  {
   "cell_type": "code",
   "execution_count": 17,
   "metadata": {},
   "outputs": [
    {
     "output_type": "execute_result",
     "data": {
      "text/plain": "(nan, nan, nan)"
     },
     "metadata": {},
     "execution_count": 17
    }
   ],
   "source": [
    "ex2 = np.array([2, np.nan, 6, 8])\n",
    "ex2.sum(), ex2.min(), ex2.max()"
   ]
  },
  {
   "cell_type": "code",
   "execution_count": 18,
   "metadata": {},
   "outputs": [
    {
     "output_type": "execute_result",
     "data": {
      "text/plain": "0    False\n1     True\n2    False\n3     True\ndtype: bool"
     },
     "metadata": {},
     "execution_count": 18
    }
   ],
   "source": [
    "ex1.isnull()"
   ]
  },
  {
   "cell_type": "code",
   "execution_count": 19,
   "metadata": {},
   "outputs": [
    {
     "output_type": "execute_result",
     "data": {
      "text/plain": "0    0\n2     \ndtype: object"
     },
     "metadata": {},
     "execution_count": 19
    }
   ],
   "source": [
    "ex1[ex1.notnull()]"
   ]
  },
  {
   "cell_type": "code",
   "execution_count": 20,
   "metadata": {},
   "outputs": [
    {
     "output_type": "execute_result",
     "data": {
      "text/plain": "0    0\n2     \ndtype: object"
     },
     "metadata": {},
     "execution_count": 20
    }
   ],
   "source": [
    "ex1.dropna()"
   ]
  },
  {
   "cell_type": "code",
   "execution_count": 21,
   "metadata": {},
   "outputs": [
    {
     "output_type": "execute_result",
     "data": {
      "text/plain": "     0    1  2\n1  2.0  5.0  8",
      "text/html": "<div>\n<style scoped>\n    .dataframe tbody tr th:only-of-type {\n        vertical-align: middle;\n    }\n\n    .dataframe tbody tr th {\n        vertical-align: top;\n    }\n\n    .dataframe thead th {\n        text-align: right;\n    }\n</style>\n<table border=\"1\" class=\"dataframe\">\n  <thead>\n    <tr style=\"text-align: right;\">\n      <th></th>\n      <th>0</th>\n      <th>1</th>\n      <th>2</th>\n    </tr>\n  </thead>\n  <tbody>\n    <tr>\n      <th>1</th>\n      <td>2.0</td>\n      <td>5.0</td>\n      <td>8</td>\n    </tr>\n  </tbody>\n</table>\n</div>"
     },
     "metadata": {},
     "execution_count": 21
    }
   ],
   "source": [
    "ex3 = pd.DataFrame([[1,      np.nan, 7],\n",
    "                    [2,           5, 8],\n",
    "                    [np.nan,      6, 8]])\n",
    "ex3.dropna()"
   ]
  },
  {
   "cell_type": "code",
   "execution_count": 22,
   "metadata": {},
   "outputs": [
    {
     "output_type": "execute_result",
     "data": {
      "text/plain": "     0    1  2\n0  1.0  0.0  7\n1  2.0  5.0  8\n2  0.0  6.0  8",
      "text/html": "<div>\n<style scoped>\n    .dataframe tbody tr th:only-of-type {\n        vertical-align: middle;\n    }\n\n    .dataframe tbody tr th {\n        vertical-align: top;\n    }\n\n    .dataframe thead th {\n        text-align: right;\n    }\n</style>\n<table border=\"1\" class=\"dataframe\">\n  <thead>\n    <tr style=\"text-align: right;\">\n      <th></th>\n      <th>0</th>\n      <th>1</th>\n      <th>2</th>\n    </tr>\n  </thead>\n  <tbody>\n    <tr>\n      <th>0</th>\n      <td>1.0</td>\n      <td>0.0</td>\n      <td>7</td>\n    </tr>\n    <tr>\n      <th>1</th>\n      <td>2.0</td>\n      <td>5.0</td>\n      <td>8</td>\n    </tr>\n    <tr>\n      <th>2</th>\n      <td>0.0</td>\n      <td>6.0</td>\n      <td>8</td>\n    </tr>\n  </tbody>\n</table>\n</div>"
     },
     "metadata": {},
     "execution_count": 22
    }
   ],
   "source": [
    "ex3.fillna(0)"
   ]
  },
  {
   "cell_type": "code",
   "execution_count": 24,
   "metadata": {},
   "outputs": [
    {
     "output_type": "execute_result",
     "data": {
      "text/plain": "  letters  numbers\n0       A        1\n1       B        2\n2       A        1\n3       B        3\n4       B        3",
      "text/html": "<div>\n<style scoped>\n    .dataframe tbody tr th:only-of-type {\n        vertical-align: middle;\n    }\n\n    .dataframe tbody tr th {\n        vertical-align: top;\n    }\n\n    .dataframe thead th {\n        text-align: right;\n    }\n</style>\n<table border=\"1\" class=\"dataframe\">\n  <thead>\n    <tr style=\"text-align: right;\">\n      <th></th>\n      <th>letters</th>\n      <th>numbers</th>\n    </tr>\n  </thead>\n  <tbody>\n    <tr>\n      <th>0</th>\n      <td>A</td>\n      <td>1</td>\n    </tr>\n    <tr>\n      <th>1</th>\n      <td>B</td>\n      <td>2</td>\n    </tr>\n    <tr>\n      <th>2</th>\n      <td>A</td>\n      <td>1</td>\n    </tr>\n    <tr>\n      <th>3</th>\n      <td>B</td>\n      <td>3</td>\n    </tr>\n    <tr>\n      <th>4</th>\n      <td>B</td>\n      <td>3</td>\n    </tr>\n  </tbody>\n</table>\n</div>"
     },
     "metadata": {},
     "execution_count": 24
    }
   ],
   "source": [
    "dup = pd.DataFrame({'letters': ['A', 'B'] * 2 + ['B'],\n",
    "                    'numbers': [1,2,1,3,3]})\n",
    "dup"
   ]
  },
  {
   "cell_type": "code",
   "execution_count": 25,
   "metadata": {},
   "outputs": [
    {
     "output_type": "execute_result",
     "data": {
      "text/plain": "0    False\n1    False\n2     True\n3    False\n4     True\ndtype: bool"
     },
     "metadata": {},
     "execution_count": 25
    }
   ],
   "source": [
    "dup.duplicated()"
   ]
  },
  {
   "cell_type": "code",
   "execution_count": 26,
   "metadata": {},
   "outputs": [
    {
     "output_type": "execute_result",
     "data": {
      "text/plain": "  letters  numbers\n0       A        1\n1       B        2\n3       B        3",
      "text/html": "<div>\n<style scoped>\n    .dataframe tbody tr th:only-of-type {\n        vertical-align: middle;\n    }\n\n    .dataframe tbody tr th {\n        vertical-align: top;\n    }\n\n    .dataframe thead th {\n        text-align: right;\n    }\n</style>\n<table border=\"1\" class=\"dataframe\">\n  <thead>\n    <tr style=\"text-align: right;\">\n      <th></th>\n      <th>letters</th>\n      <th>numbers</th>\n    </tr>\n  </thead>\n  <tbody>\n    <tr>\n      <th>0</th>\n      <td>A</td>\n      <td>1</td>\n    </tr>\n    <tr>\n      <th>1</th>\n      <td>B</td>\n      <td>2</td>\n    </tr>\n    <tr>\n      <th>3</th>\n      <td>B</td>\n      <td>3</td>\n    </tr>\n  </tbody>\n</table>\n</div>"
     },
     "metadata": {},
     "execution_count": 26
    }
   ],
   "source": [
    "dup.drop_duplicates()"
   ]
  },
  {
   "cell_type": "code",
   "execution_count": 27,
   "metadata": {},
   "outputs": [
    {
     "output_type": "execute_result",
     "data": {
      "text/plain": "  letters  numbers\n0       A        1\n1       B        2",
      "text/html": "<div>\n<style scoped>\n    .dataframe tbody tr th:only-of-type {\n        vertical-align: middle;\n    }\n\n    .dataframe tbody tr th {\n        vertical-align: top;\n    }\n\n    .dataframe thead th {\n        text-align: right;\n    }\n</style>\n<table border=\"1\" class=\"dataframe\">\n  <thead>\n    <tr style=\"text-align: right;\">\n      <th></th>\n      <th>letters</th>\n      <th>numbers</th>\n    </tr>\n  </thead>\n  <tbody>\n    <tr>\n      <th>0</th>\n      <td>A</td>\n      <td>1</td>\n    </tr>\n    <tr>\n      <th>1</th>\n      <td>B</td>\n      <td>2</td>\n    </tr>\n  </tbody>\n</table>\n</div>"
     },
     "metadata": {},
     "execution_count": 27
    }
   ],
   "source": [
    "dup.drop_duplicates(['letters'])"
   ]
  },
  {
   "cell_type": "code",
   "execution_count": 28,
   "metadata": {},
   "outputs": [],
   "source": [
    "sales = pd.read_csv('../Module5/sales_data_sample.csv', encoding='latin')"
   ]
  },
  {
   "cell_type": "code",
   "execution_count": 29,
   "metadata": {},
   "outputs": [
    {
     "output_type": "execute_result",
     "data": {
      "text/plain": "    ORDERNUMBER  QUANTITYORDERED     SALES                    CUSTOMERNAME  \\\n0         10107               30   2871.00               Land of Toys Inc.   \n1         10121               34   2765.90              Reims Collectables   \n2         10134               41   3884.34                 Lyon Souveniers   \n3         10145               45   3746.70               Toys4GrownUps.com   \n4         10159               49   5205.27        Corporate Gift Ideas Co.   \n5         10168               36   3479.76            Technics Stores Inc.   \n6         10180               29   2497.77        Daedalus Designs Imports   \n7         10188               48   5512.32                    Herkku Gifts   \n8         10201               22   2168.54                 Mini Wheels Co.   \n9         10211               41   4708.44                Auto Canal Petit   \n10        10223               37   3965.66      Australian Collectors, Co.   \n11        10237               23   2333.12                 Vitachrome Inc.   \n12        10251               28   3188.64         Tekni Collectables Inc.   \n13        10263               34   3676.76                 Gift Depot Inc.   \n14        10275               45   4177.35               La Rochelle Gifts   \n15        10285               36   4099.68            Marta's Replicas Co.   \n16        10299               23   2597.39            Toys of Finland, Co.   \n17        10309               41   4394.38              Baane Mini Imports   \n18        10318               46   4358.04           Diecast Classics Inc.   \n19        10329               42   4396.14               Land of Toys Inc.   \n20        10341               41   7737.93           Salzburg Collectables   \n21        10361               20   1451.00       Souveniers And Things Co.   \n22        10375               21    733.11               La Rochelle Gifts   \n23        10388               42   3207.12                FunGiftIdeas.com   \n24        10403               24   2434.56           UK Collectables, Ltd.   \n25        10417               66   7516.08           Euro Shopping Channel   \n26        10103               26   5404.62              Baane Mini Imports   \n27        10112               29   7209.11        Volvo Model Replicas, Co   \n28        10126               38   7329.06      Corrida Auto Replicas, Ltd   \n29        10140               37   7374.10            Technics Stores Inc.   \n30        10150               45  10993.50         Dragon Souveniers, Ltd.   \n31        10163               21   4860.24            Classic Legends Inc.   \n32        10174               34   8014.82     Australian Gift Network, Co   \n33        10183               23   5372.57         Classic Gift Ideas, Inc   \n34        10194               42   7290.36          Saveley & Henriot, Co.   \n35        10206               47   9064.89  Canadian Gift Exchange Network   \n36        10215               35   6075.30     West Coast Collectables Co.   \n37        10228               29   6463.23      Cambridge Collectables Co.   \n38        10245               34   6120.34                Super Scale Inc.   \n39        10258               32   7680.64         Tokyo Collectables, Ltd   \n40        10270               21   4905.39       Souveniers And Things Co.   \n41        10280               34   8014.82              Amica Models & Co.   \n42        10291               37   7136.19         Scandinavian Gift Ideas   \n43        10304               47  10172.70              Auto Assoc. & Cie.   \n44        10312               48  11623.70    Mini Gifts Distributors Ltd.   \n45        10322               40   6000.40    Online Diecast Creations Co.   \n46        10333               26   3003.00                 Mini Wheels Co.   \n47        10347               30   3944.70      Australian Collectors, Co.   \n48        10357               32   5691.84    Mini Gifts Distributors Ltd.   \n49        10369               41   4514.92      Collectables For Less Inc.   \n50        10381               36   8254.80        Corporate Gift Ideas Co.   \n\n                               ADDRESSLINE1  \n0                   897 Long Airport Avenue  \n1                        59 rue de l'Abbaye  \n2             27 rue du Colonel Pierre Avia  \n3                        78934 Hillside Dr.  \n4                           7734 Strong St.  \n5                         9408 Furth Circle  \n6                   184, chausse de Tournai  \n7               Drammen 121, PR 744 Sentrum  \n8                 5557 North Pendale Street  \n9                         25, rue Lauriston  \n10                        636 St Kilda Road  \n11                        2678 Kingston Rd.  \n12                            7476 Moss Rd.  \n13                      25593 South Bay Ln.  \n14             67, rue des Cinquante Otages  \n15                      39323 Spinnaker Dr.  \n16                            Keskuskatu 45  \n17                   Erling Skakkes gate 78  \n18                         7586 Pompton St.  \n19                  897 Long Airport Avenue  \n20                              Geislweg 14  \n21  Monitor Money Building, 815 Pacific Hwy  \n22             67, rue des Cinquante Otages  \n23                        1785 First Street  \n24             Berkeley Gardens 12  Brewery  \n25                       C/ Moralzarzal, 86  \n26                   Erling Skakkes gate 78  \n27                          Berguvsvgen  8  \n28                           C/ Araquil, 67  \n29                        9408 Furth Circle  \n30     Bronz Sok., Bronz Apt. 3/6 Tesvikiye  \n31                         5905 Pompton St.  \n32                   31 Duncan St. West End  \n33                         782 First Street  \n34                       2, rue du Commerce  \n35                             1900 Oak St.  \n36                        3675 Furth Circle  \n37                           4658 Baden Av.  \n38                 567 North Pendale Street  \n39                           2-2-8 Roppongi  \n40  Monitor Money Building, 815 Pacific Hwy  \n41                      Via Monte Bianco 34  \n42                             ?kergatan 24  \n43                   67, avenue de l'Europe  \n44                          5677 Strong St.  \n45                 2304 Long Airport Avenue  \n46                5557 North Pendale Street  \n47                        636 St Kilda Road  \n48                          5677 Strong St.  \n49                         7825 Douglas Av.  \n50                          7734 Strong St.  ",
      "text/html": "<div>\n<style scoped>\n    .dataframe tbody tr th:only-of-type {\n        vertical-align: middle;\n    }\n\n    .dataframe tbody tr th {\n        vertical-align: top;\n    }\n\n    .dataframe thead th {\n        text-align: right;\n    }\n</style>\n<table border=\"1\" class=\"dataframe\">\n  <thead>\n    <tr style=\"text-align: right;\">\n      <th></th>\n      <th>ORDERNUMBER</th>\n      <th>QUANTITYORDERED</th>\n      <th>SALES</th>\n      <th>CUSTOMERNAME</th>\n      <th>ADDRESSLINE1</th>\n    </tr>\n  </thead>\n  <tbody>\n    <tr>\n      <th>0</th>\n      <td>10107</td>\n      <td>30</td>\n      <td>2871.00</td>\n      <td>Land of Toys Inc.</td>\n      <td>897 Long Airport Avenue</td>\n    </tr>\n    <tr>\n      <th>1</th>\n      <td>10121</td>\n      <td>34</td>\n      <td>2765.90</td>\n      <td>Reims Collectables</td>\n      <td>59 rue de l'Abbaye</td>\n    </tr>\n    <tr>\n      <th>2</th>\n      <td>10134</td>\n      <td>41</td>\n      <td>3884.34</td>\n      <td>Lyon Souveniers</td>\n      <td>27 rue du Colonel Pierre Avia</td>\n    </tr>\n    <tr>\n      <th>3</th>\n      <td>10145</td>\n      <td>45</td>\n      <td>3746.70</td>\n      <td>Toys4GrownUps.com</td>\n      <td>78934 Hillside Dr.</td>\n    </tr>\n    <tr>\n      <th>4</th>\n      <td>10159</td>\n      <td>49</td>\n      <td>5205.27</td>\n      <td>Corporate Gift Ideas Co.</td>\n      <td>7734 Strong St.</td>\n    </tr>\n    <tr>\n      <th>5</th>\n      <td>10168</td>\n      <td>36</td>\n      <td>3479.76</td>\n      <td>Technics Stores Inc.</td>\n      <td>9408 Furth Circle</td>\n    </tr>\n    <tr>\n      <th>6</th>\n      <td>10180</td>\n      <td>29</td>\n      <td>2497.77</td>\n      <td>Daedalus Designs Imports</td>\n      <td>184, chausse de Tournai</td>\n    </tr>\n    <tr>\n      <th>7</th>\n      <td>10188</td>\n      <td>48</td>\n      <td>5512.32</td>\n      <td>Herkku Gifts</td>\n      <td>Drammen 121, PR 744 Sentrum</td>\n    </tr>\n    <tr>\n      <th>8</th>\n      <td>10201</td>\n      <td>22</td>\n      <td>2168.54</td>\n      <td>Mini Wheels Co.</td>\n      <td>5557 North Pendale Street</td>\n    </tr>\n    <tr>\n      <th>9</th>\n      <td>10211</td>\n      <td>41</td>\n      <td>4708.44</td>\n      <td>Auto Canal Petit</td>\n      <td>25, rue Lauriston</td>\n    </tr>\n    <tr>\n      <th>10</th>\n      <td>10223</td>\n      <td>37</td>\n      <td>3965.66</td>\n      <td>Australian Collectors, Co.</td>\n      <td>636 St Kilda Road</td>\n    </tr>\n    <tr>\n      <th>11</th>\n      <td>10237</td>\n      <td>23</td>\n      <td>2333.12</td>\n      <td>Vitachrome Inc.</td>\n      <td>2678 Kingston Rd.</td>\n    </tr>\n    <tr>\n      <th>12</th>\n      <td>10251</td>\n      <td>28</td>\n      <td>3188.64</td>\n      <td>Tekni Collectables Inc.</td>\n      <td>7476 Moss Rd.</td>\n    </tr>\n    <tr>\n      <th>13</th>\n      <td>10263</td>\n      <td>34</td>\n      <td>3676.76</td>\n      <td>Gift Depot Inc.</td>\n      <td>25593 South Bay Ln.</td>\n    </tr>\n    <tr>\n      <th>14</th>\n      <td>10275</td>\n      <td>45</td>\n      <td>4177.35</td>\n      <td>La Rochelle Gifts</td>\n      <td>67, rue des Cinquante Otages</td>\n    </tr>\n    <tr>\n      <th>15</th>\n      <td>10285</td>\n      <td>36</td>\n      <td>4099.68</td>\n      <td>Marta's Replicas Co.</td>\n      <td>39323 Spinnaker Dr.</td>\n    </tr>\n    <tr>\n      <th>16</th>\n      <td>10299</td>\n      <td>23</td>\n      <td>2597.39</td>\n      <td>Toys of Finland, Co.</td>\n      <td>Keskuskatu 45</td>\n    </tr>\n    <tr>\n      <th>17</th>\n      <td>10309</td>\n      <td>41</td>\n      <td>4394.38</td>\n      <td>Baane Mini Imports</td>\n      <td>Erling Skakkes gate 78</td>\n    </tr>\n    <tr>\n      <th>18</th>\n      <td>10318</td>\n      <td>46</td>\n      <td>4358.04</td>\n      <td>Diecast Classics Inc.</td>\n      <td>7586 Pompton St.</td>\n    </tr>\n    <tr>\n      <th>19</th>\n      <td>10329</td>\n      <td>42</td>\n      <td>4396.14</td>\n      <td>Land of Toys Inc.</td>\n      <td>897 Long Airport Avenue</td>\n    </tr>\n    <tr>\n      <th>20</th>\n      <td>10341</td>\n      <td>41</td>\n      <td>7737.93</td>\n      <td>Salzburg Collectables</td>\n      <td>Geislweg 14</td>\n    </tr>\n    <tr>\n      <th>21</th>\n      <td>10361</td>\n      <td>20</td>\n      <td>1451.00</td>\n      <td>Souveniers And Things Co.</td>\n      <td>Monitor Money Building, 815 Pacific Hwy</td>\n    </tr>\n    <tr>\n      <th>22</th>\n      <td>10375</td>\n      <td>21</td>\n      <td>733.11</td>\n      <td>La Rochelle Gifts</td>\n      <td>67, rue des Cinquante Otages</td>\n    </tr>\n    <tr>\n      <th>23</th>\n      <td>10388</td>\n      <td>42</td>\n      <td>3207.12</td>\n      <td>FunGiftIdeas.com</td>\n      <td>1785 First Street</td>\n    </tr>\n    <tr>\n      <th>24</th>\n      <td>10403</td>\n      <td>24</td>\n      <td>2434.56</td>\n      <td>UK Collectables, Ltd.</td>\n      <td>Berkeley Gardens 12  Brewery</td>\n    </tr>\n    <tr>\n      <th>25</th>\n      <td>10417</td>\n      <td>66</td>\n      <td>7516.08</td>\n      <td>Euro Shopping Channel</td>\n      <td>C/ Moralzarzal, 86</td>\n    </tr>\n    <tr>\n      <th>26</th>\n      <td>10103</td>\n      <td>26</td>\n      <td>5404.62</td>\n      <td>Baane Mini Imports</td>\n      <td>Erling Skakkes gate 78</td>\n    </tr>\n    <tr>\n      <th>27</th>\n      <td>10112</td>\n      <td>29</td>\n      <td>7209.11</td>\n      <td>Volvo Model Replicas, Co</td>\n      <td>Berguvsvgen  8</td>\n    </tr>\n    <tr>\n      <th>28</th>\n      <td>10126</td>\n      <td>38</td>\n      <td>7329.06</td>\n      <td>Corrida Auto Replicas, Ltd</td>\n      <td>C/ Araquil, 67</td>\n    </tr>\n    <tr>\n      <th>29</th>\n      <td>10140</td>\n      <td>37</td>\n      <td>7374.10</td>\n      <td>Technics Stores Inc.</td>\n      <td>9408 Furth Circle</td>\n    </tr>\n    <tr>\n      <th>30</th>\n      <td>10150</td>\n      <td>45</td>\n      <td>10993.50</td>\n      <td>Dragon Souveniers, Ltd.</td>\n      <td>Bronz Sok., Bronz Apt. 3/6 Tesvikiye</td>\n    </tr>\n    <tr>\n      <th>31</th>\n      <td>10163</td>\n      <td>21</td>\n      <td>4860.24</td>\n      <td>Classic Legends Inc.</td>\n      <td>5905 Pompton St.</td>\n    </tr>\n    <tr>\n      <th>32</th>\n      <td>10174</td>\n      <td>34</td>\n      <td>8014.82</td>\n      <td>Australian Gift Network, Co</td>\n      <td>31 Duncan St. West End</td>\n    </tr>\n    <tr>\n      <th>33</th>\n      <td>10183</td>\n      <td>23</td>\n      <td>5372.57</td>\n      <td>Classic Gift Ideas, Inc</td>\n      <td>782 First Street</td>\n    </tr>\n    <tr>\n      <th>34</th>\n      <td>10194</td>\n      <td>42</td>\n      <td>7290.36</td>\n      <td>Saveley &amp; Henriot, Co.</td>\n      <td>2, rue du Commerce</td>\n    </tr>\n    <tr>\n      <th>35</th>\n      <td>10206</td>\n      <td>47</td>\n      <td>9064.89</td>\n      <td>Canadian Gift Exchange Network</td>\n      <td>1900 Oak St.</td>\n    </tr>\n    <tr>\n      <th>36</th>\n      <td>10215</td>\n      <td>35</td>\n      <td>6075.30</td>\n      <td>West Coast Collectables Co.</td>\n      <td>3675 Furth Circle</td>\n    </tr>\n    <tr>\n      <th>37</th>\n      <td>10228</td>\n      <td>29</td>\n      <td>6463.23</td>\n      <td>Cambridge Collectables Co.</td>\n      <td>4658 Baden Av.</td>\n    </tr>\n    <tr>\n      <th>38</th>\n      <td>10245</td>\n      <td>34</td>\n      <td>6120.34</td>\n      <td>Super Scale Inc.</td>\n      <td>567 North Pendale Street</td>\n    </tr>\n    <tr>\n      <th>39</th>\n      <td>10258</td>\n      <td>32</td>\n      <td>7680.64</td>\n      <td>Tokyo Collectables, Ltd</td>\n      <td>2-2-8 Roppongi</td>\n    </tr>\n    <tr>\n      <th>40</th>\n      <td>10270</td>\n      <td>21</td>\n      <td>4905.39</td>\n      <td>Souveniers And Things Co.</td>\n      <td>Monitor Money Building, 815 Pacific Hwy</td>\n    </tr>\n    <tr>\n      <th>41</th>\n      <td>10280</td>\n      <td>34</td>\n      <td>8014.82</td>\n      <td>Amica Models &amp; Co.</td>\n      <td>Via Monte Bianco 34</td>\n    </tr>\n    <tr>\n      <th>42</th>\n      <td>10291</td>\n      <td>37</td>\n      <td>7136.19</td>\n      <td>Scandinavian Gift Ideas</td>\n      <td>?kergatan 24</td>\n    </tr>\n    <tr>\n      <th>43</th>\n      <td>10304</td>\n      <td>47</td>\n      <td>10172.70</td>\n      <td>Auto Assoc. &amp; Cie.</td>\n      <td>67, avenue de l'Europe</td>\n    </tr>\n    <tr>\n      <th>44</th>\n      <td>10312</td>\n      <td>48</td>\n      <td>11623.70</td>\n      <td>Mini Gifts Distributors Ltd.</td>\n      <td>5677 Strong St.</td>\n    </tr>\n    <tr>\n      <th>45</th>\n      <td>10322</td>\n      <td>40</td>\n      <td>6000.40</td>\n      <td>Online Diecast Creations Co.</td>\n      <td>2304 Long Airport Avenue</td>\n    </tr>\n    <tr>\n      <th>46</th>\n      <td>10333</td>\n      <td>26</td>\n      <td>3003.00</td>\n      <td>Mini Wheels Co.</td>\n      <td>5557 North Pendale Street</td>\n    </tr>\n    <tr>\n      <th>47</th>\n      <td>10347</td>\n      <td>30</td>\n      <td>3944.70</td>\n      <td>Australian Collectors, Co.</td>\n      <td>636 St Kilda Road</td>\n    </tr>\n    <tr>\n      <th>48</th>\n      <td>10357</td>\n      <td>32</td>\n      <td>5691.84</td>\n      <td>Mini Gifts Distributors Ltd.</td>\n      <td>5677 Strong St.</td>\n    </tr>\n    <tr>\n      <th>49</th>\n      <td>10369</td>\n      <td>41</td>\n      <td>4514.92</td>\n      <td>Collectables For Less Inc.</td>\n      <td>7825 Douglas Av.</td>\n    </tr>\n    <tr>\n      <th>50</th>\n      <td>10381</td>\n      <td>36</td>\n      <td>8254.80</td>\n      <td>Corporate Gift Ideas Co.</td>\n      <td>7734 Strong St.</td>\n    </tr>\n  </tbody>\n</table>\n</div>"
     },
     "metadata": {},
     "execution_count": 29
    }
   ],
   "source": [
    "data = pd.DataFrame(sales.loc[:50, ['ORDERNUMBER', 'QUANTITYORDERED', 'SALES','CUSTOMERNAME', 'ADDRESSLINE1']])\n",
    "data"
   ]
  },
  {
   "cell_type": "code",
   "execution_count": 32,
   "metadata": {},
   "outputs": [
    {
     "output_type": "error",
     "ename": "TypeError",
     "evalue": "rename() got an unexpected keyword argument 'colunms'",
     "traceback": [
      "\u001b[1;31m---------------------------------------------------------------------------\u001b[0m",
      "\u001b[1;31mTypeError\u001b[0m                                 Traceback (most recent call last)",
      "\u001b[1;32m<ipython-input-32-ab47179aadf8>\u001b[0m in \u001b[0;36m<module>\u001b[1;34m\u001b[0m\n\u001b[0;32m      1\u001b[0m \u001b[1;31m### Rename Column Name/Inplace\u001b[0m\u001b[1;33m\u001b[0m\u001b[1;33m\u001b[0m\u001b[1;33m\u001b[0m\u001b[0m\n\u001b[1;32m----> 2\u001b[1;33m \u001b[0mdata\u001b[0m\u001b[1;33m.\u001b[0m\u001b[0mrename\u001b[0m\u001b[1;33m(\u001b[0m\u001b[0mcolunms\u001b[0m \u001b[1;33m=\u001b[0m \u001b[1;33m{\u001b[0m\u001b[1;34m'ORDERNUMBER'\u001b[0m\u001b[1;33m:\u001b[0m\u001b[1;34m'ORDER_ID'\u001b[0m\u001b[1;33m,\u001b[0m \u001b[1;34m'ADDRESSLINE1'\u001b[0m\u001b[1;33m:\u001b[0m\u001b[1;34m'ADDRESS'\u001b[0m\u001b[1;33m}\u001b[0m\u001b[1;33m,\u001b[0m \u001b[0minplace\u001b[0m\u001b[1;33m=\u001b[0m\u001b[1;32mTrue\u001b[0m\u001b[1;33m)\u001b[0m\u001b[1;33m\u001b[0m\u001b[1;33m\u001b[0m\u001b[0m\n\u001b[0m\u001b[0;32m      3\u001b[0m \u001b[0mdata\u001b[0m\u001b[1;33m\u001b[0m\u001b[1;33m\u001b[0m\u001b[0m\n",
      "\u001b[1;32mD:\\Python\\Python37\\lib\\site-packages\\pandas\\util\\_decorators.py\u001b[0m in \u001b[0;36mwrapper\u001b[1;34m(*args, **kwargs)\u001b[0m\n\u001b[0;32m    225\u001b[0m         \u001b[1;33m@\u001b[0m\u001b[0mwraps\u001b[0m\u001b[1;33m(\u001b[0m\u001b[0mfunc\u001b[0m\u001b[1;33m)\u001b[0m\u001b[1;33m\u001b[0m\u001b[1;33m\u001b[0m\u001b[0m\n\u001b[0;32m    226\u001b[0m         \u001b[1;32mdef\u001b[0m \u001b[0mwrapper\u001b[0m\u001b[1;33m(\u001b[0m\u001b[1;33m*\u001b[0m\u001b[0margs\u001b[0m\u001b[1;33m,\u001b[0m \u001b[1;33m**\u001b[0m\u001b[0mkwargs\u001b[0m\u001b[1;33m)\u001b[0m \u001b[1;33m->\u001b[0m \u001b[0mCallable\u001b[0m\u001b[1;33m[\u001b[0m\u001b[1;33m...\u001b[0m\u001b[1;33m,\u001b[0m \u001b[0mAny\u001b[0m\u001b[1;33m]\u001b[0m\u001b[1;33m:\u001b[0m\u001b[1;33m\u001b[0m\u001b[1;33m\u001b[0m\u001b[0m\n\u001b[1;32m--> 227\u001b[1;33m             \u001b[1;32mreturn\u001b[0m \u001b[0mfunc\u001b[0m\u001b[1;33m(\u001b[0m\u001b[1;33m*\u001b[0m\u001b[0margs\u001b[0m\u001b[1;33m,\u001b[0m \u001b[1;33m**\u001b[0m\u001b[0mkwargs\u001b[0m\u001b[1;33m)\u001b[0m\u001b[1;33m\u001b[0m\u001b[1;33m\u001b[0m\u001b[0m\n\u001b[0m\u001b[0;32m    228\u001b[0m \u001b[1;33m\u001b[0m\u001b[0m\n\u001b[0;32m    229\u001b[0m         \u001b[0mkind\u001b[0m \u001b[1;33m=\u001b[0m \u001b[0minspect\u001b[0m\u001b[1;33m.\u001b[0m\u001b[0mParameter\u001b[0m\u001b[1;33m.\u001b[0m\u001b[0mPOSITIONAL_OR_KEYWORD\u001b[0m\u001b[1;33m\u001b[0m\u001b[1;33m\u001b[0m\u001b[0m\n",
      "\u001b[1;31mTypeError\u001b[0m: rename() got an unexpected keyword argument 'colunms'"
     ]
    }
   ],
   "source": [
    "### Rename Column Name/Inplace\n",
    "data.rename(columns = {'ORDERNUMBER':'ORDER_ID', 'ADDRESSLINE1':'ADDRESS'}, inplace=True)\n",
    "data"
   ]
  },
  {
   "cell_type": "code",
   "execution_count": null,
   "metadata": {},
   "outputs": [],
   "source": []
  }
 ]
}