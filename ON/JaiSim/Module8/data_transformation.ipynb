{
 "metadata": {
  "language_info": {
   "codemirror_mode": {
    "name": "ipython",
    "version": 3
   },
   "file_extension": ".py",
   "mimetype": "text/x-python",
   "name": "python",
   "nbconvert_exporter": "python",
   "pygments_lexer": "ipython3",
   "version": "3.8.5-final"
  },
  "orig_nbformat": 2,
  "kernelspec": {
   "name": "python38532bit8eb05e646ae848b99e0d24a3e707ad45",
   "display_name": "Python 3.8.5 32-bit"
  }
 },
 "nbformat": 4,
 "nbformat_minor": 2,
 "cells": [
  {
   "cell_type": "code",
   "execution_count": 1,
   "metadata": {},
   "outputs": [],
   "source": [
    "import numpy as np\n",
    "import pandas as pd"
   ]
  },
  {
   "cell_type": "code",
   "execution_count": 2,
   "metadata": {},
   "outputs": [
    {
     "output_type": "execute_result",
     "data": {
      "text/plain": "          A     B   C     D\nRow_1  12.0   7.0  20  14.0\nRow_2   4.0   2.0  17   3.0\nRow_3   5.0  54.0  11   NaN\nRow_4   NaN   3.0   3   2.0\nRow_5   1.0   NaN   8   6.0",
      "text/html": "<div>\n<style scoped>\n    .dataframe tbody tr th:only-of-type {\n        vertical-align: middle;\n    }\n\n    .dataframe tbody tr th {\n        vertical-align: top;\n    }\n\n    .dataframe thead th {\n        text-align: right;\n    }\n</style>\n<table border=\"1\" class=\"dataframe\">\n  <thead>\n    <tr style=\"text-align: right;\">\n      <th></th>\n      <th>A</th>\n      <th>B</th>\n      <th>C</th>\n      <th>D</th>\n    </tr>\n  </thead>\n  <tbody>\n    <tr>\n      <th>Row_1</th>\n      <td>12.0</td>\n      <td>7.0</td>\n      <td>20</td>\n      <td>14.0</td>\n    </tr>\n    <tr>\n      <th>Row_2</th>\n      <td>4.0</td>\n      <td>2.0</td>\n      <td>17</td>\n      <td>3.0</td>\n    </tr>\n    <tr>\n      <th>Row_3</th>\n      <td>5.0</td>\n      <td>54.0</td>\n      <td>11</td>\n      <td>NaN</td>\n    </tr>\n    <tr>\n      <th>Row_4</th>\n      <td>NaN</td>\n      <td>3.0</td>\n      <td>3</td>\n      <td>2.0</td>\n    </tr>\n    <tr>\n      <th>Row_5</th>\n      <td>1.0</td>\n      <td>NaN</td>\n      <td>8</td>\n      <td>6.0</td>\n    </tr>\n  </tbody>\n</table>\n</div>"
     },
     "metadata": {},
     "execution_count": 2
    }
   ],
   "source": [
    "trans=pd.DataFrame({\"A\":[12,4,5,None,1],\"B\": [7,2,54,3,None],\n",
    "\"C\": [20,17,11,3,8],\n",
    "\"D\": [14,3,None,2,6]},\n",
    "index=['Row_1','Row_2','Row_3','Row_4','Row_5'])\n",
    "trans"
   ]
  },
  {
   "cell_type": "code",
   "execution_count": 4,
   "metadata": {},
   "outputs": [
    {
     "output_type": "execute_result",
     "data": {
      "text/plain": "          A     B   C     D\nRow_1  22.0  17.0  30  24.0\nRow_2  14.0  12.0  27  13.0\nRow_3  15.0  64.0  21   NaN\nRow_4   NaN  13.0  13  12.0\nRow_5  11.0   NaN  18  16.0",
      "text/html": "<div>\n<style scoped>\n    .dataframe tbody tr th:only-of-type {\n        vertical-align: middle;\n    }\n\n    .dataframe tbody tr th {\n        vertical-align: top;\n    }\n\n    .dataframe thead th {\n        text-align: right;\n    }\n</style>\n<table border=\"1\" class=\"dataframe\">\n  <thead>\n    <tr style=\"text-align: right;\">\n      <th></th>\n      <th>A</th>\n      <th>B</th>\n      <th>C</th>\n      <th>D</th>\n    </tr>\n  </thead>\n  <tbody>\n    <tr>\n      <th>Row_1</th>\n      <td>22.0</td>\n      <td>17.0</td>\n      <td>30</td>\n      <td>24.0</td>\n    </tr>\n    <tr>\n      <th>Row_2</th>\n      <td>14.0</td>\n      <td>12.0</td>\n      <td>27</td>\n      <td>13.0</td>\n    </tr>\n    <tr>\n      <th>Row_3</th>\n      <td>15.0</td>\n      <td>64.0</td>\n      <td>21</td>\n      <td>NaN</td>\n    </tr>\n    <tr>\n      <th>Row_4</th>\n      <td>NaN</td>\n      <td>13.0</td>\n      <td>13</td>\n      <td>12.0</td>\n    </tr>\n    <tr>\n      <th>Row_5</th>\n      <td>11.0</td>\n      <td>NaN</td>\n      <td>18</td>\n      <td>16.0</td>\n    </tr>\n  </tbody>\n</table>\n</div>"
     },
     "metadata": {},
     "execution_count": 4
    }
   ],
   "source": [
    "result=trans.transform(lambda x: x +10)\n",
    "result"
   ]
  },
  {
   "cell_type": "code",
   "execution_count": 5,
   "metadata": {},
   "outputs": [
    {
     "output_type": "execute_result",
     "data": {
      "text/plain": "              A                        B                       C  \\\n           sqrt            exp      sqrt           exp      sqrt   \nRow_1  3.464102  162754.791419  2.645751  1.096633e+03  4.472136   \nRow_2  2.000000      54.598150  1.414214  7.389056e+00  4.123106   \nRow_3  2.236068     148.413159  7.348469  2.830753e+23  3.316625   \nRow_4       NaN            NaN  1.732051  2.008554e+01  1.732051   \nRow_5  1.000000       2.718282       NaN           NaN  2.828427   \n\n                            D                \n                exp      sqrt           exp  \nRow_1  4.851652e+08  3.741657  1.202604e+06  \nRow_2  2.415495e+07  1.732051  2.008554e+01  \nRow_3  5.987414e+04       NaN           NaN  \nRow_4  2.008554e+01  1.414214  7.389056e+00  \nRow_5  2.980958e+03  2.449490  4.034288e+02  ",
      "text/html": "<div>\n<style scoped>\n    .dataframe tbody tr th:only-of-type {\n        vertical-align: middle;\n    }\n\n    .dataframe tbody tr th {\n        vertical-align: top;\n    }\n\n    .dataframe thead tr th {\n        text-align: left;\n    }\n</style>\n<table border=\"1\" class=\"dataframe\">\n  <thead>\n    <tr>\n      <th></th>\n      <th colspan=\"2\" halign=\"left\">A</th>\n      <th colspan=\"2\" halign=\"left\">B</th>\n      <th colspan=\"2\" halign=\"left\">C</th>\n      <th colspan=\"2\" halign=\"left\">D</th>\n    </tr>\n    <tr>\n      <th></th>\n      <th>sqrt</th>\n      <th>exp</th>\n      <th>sqrt</th>\n      <th>exp</th>\n      <th>sqrt</th>\n      <th>exp</th>\n      <th>sqrt</th>\n      <th>exp</th>\n    </tr>\n  </thead>\n  <tbody>\n    <tr>\n      <th>Row_1</th>\n      <td>3.464102</td>\n      <td>162754.791419</td>\n      <td>2.645751</td>\n      <td>1.096633e+03</td>\n      <td>4.472136</td>\n      <td>4.851652e+08</td>\n      <td>3.741657</td>\n      <td>1.202604e+06</td>\n    </tr>\n    <tr>\n      <th>Row_2</th>\n      <td>2.000000</td>\n      <td>54.598150</td>\n      <td>1.414214</td>\n      <td>7.389056e+00</td>\n      <td>4.123106</td>\n      <td>2.415495e+07</td>\n      <td>1.732051</td>\n      <td>2.008554e+01</td>\n    </tr>\n    <tr>\n      <th>Row_3</th>\n      <td>2.236068</td>\n      <td>148.413159</td>\n      <td>7.348469</td>\n      <td>2.830753e+23</td>\n      <td>3.316625</td>\n      <td>5.987414e+04</td>\n      <td>NaN</td>\n      <td>NaN</td>\n    </tr>\n    <tr>\n      <th>Row_4</th>\n      <td>NaN</td>\n      <td>NaN</td>\n      <td>1.732051</td>\n      <td>2.008554e+01</td>\n      <td>1.732051</td>\n      <td>2.008554e+01</td>\n      <td>1.414214</td>\n      <td>7.389056e+00</td>\n    </tr>\n    <tr>\n      <th>Row_5</th>\n      <td>1.000000</td>\n      <td>2.718282</td>\n      <td>NaN</td>\n      <td>NaN</td>\n      <td>2.828427</td>\n      <td>2.980958e+03</td>\n      <td>2.449490</td>\n      <td>4.034288e+02</td>\n    </tr>\n  </tbody>\n</table>\n</div>"
     },
     "metadata": {},
     "execution_count": 5
    }
   ],
   "source": [
    "result2=trans.transform([np.sqrt,np.exp])\n",
    "result2"
   ]
  },
  {
   "cell_type": "code",
   "execution_count": 6,
   "metadata": {},
   "outputs": [
    {
     "output_type": "execute_result",
     "data": {
      "text/plain": "array([152,  95, 180, 132, 197, 133,  84, 108, 162, 108])"
     },
     "metadata": {},
     "execution_count": 6
    }
   ],
   "source": [
    "x=np.random.randint(10,200, size=10)\n",
    "x"
   ]
  },
  {
   "cell_type": "code",
   "execution_count": 7,
   "metadata": {},
   "outputs": [
    {
     "output_type": "execute_result",
     "data": {
      "text/plain": "array([1, 1, 1, 1, 1, 1, 1, 1, 1, 1], dtype=int32)"
     },
     "metadata": {},
     "execution_count": 7
    }
   ],
   "source": [
    "np.digitize(x,bins=[50])"
   ]
  },
  {
   "cell_type": "code",
   "execution_count": 8,
   "metadata": {},
   "outputs": [
    {
     "output_type": "execute_result",
     "data": {
      "text/plain": "array([2, 1, 2, 2, 2, 2, 1, 2, 2, 2], dtype=int32)"
     },
     "metadata": {},
     "execution_count": 8
    }
   ],
   "source": [
    "np.digitize(x, bins=[50,100])\n"
   ]
  },
  {
   "cell_type": "code",
   "execution_count": 9,
   "metadata": {},
   "outputs": [
    {
     "output_type": "execute_result",
     "data": {
      "text/plain": "   height\n0     152\n1      95\n2     180\n3     132\n4     197\n5     133\n6      84\n7     108\n8     162\n9     108",
      "text/html": "<div>\n<style scoped>\n    .dataframe tbody tr th:only-of-type {\n        vertical-align: middle;\n    }\n\n    .dataframe tbody tr th {\n        vertical-align: top;\n    }\n\n    .dataframe thead th {\n        text-align: right;\n    }\n</style>\n<table border=\"1\" class=\"dataframe\">\n  <thead>\n    <tr style=\"text-align: right;\">\n      <th></th>\n      <th>height</th>\n    </tr>\n  </thead>\n  <tbody>\n    <tr>\n      <th>0</th>\n      <td>152</td>\n    </tr>\n    <tr>\n      <th>1</th>\n      <td>95</td>\n    </tr>\n    <tr>\n      <th>2</th>\n      <td>180</td>\n    </tr>\n    <tr>\n      <th>3</th>\n      <td>132</td>\n    </tr>\n    <tr>\n      <th>4</th>\n      <td>197</td>\n    </tr>\n    <tr>\n      <th>5</th>\n      <td>133</td>\n    </tr>\n    <tr>\n      <th>6</th>\n      <td>84</td>\n    </tr>\n    <tr>\n      <th>7</th>\n      <td>108</td>\n    </tr>\n    <tr>\n      <th>8</th>\n      <td>162</td>\n    </tr>\n    <tr>\n      <th>9</th>\n      <td>108</td>\n    </tr>\n  </tbody>\n</table>\n</div>"
     },
     "metadata": {},
     "execution_count": 9
    }
   ],
   "source": [
    "df=pd.DataFrame({\"height\": x})\n",
    "df"
   ]
  },
  {
   "cell_type": "code",
   "execution_count": 11,
   "metadata": {},
   "outputs": [
    {
     "output_type": "execute_result",
     "data": {
      "text/plain": "   height      binned\n0     152  (100, 200]\n1      95   (50, 100]\n2     180  (100, 200]\n3     132  (100, 200]\n4     197  (100, 200]\n5     133  (100, 200]\n6      84   (50, 100]\n7     108  (100, 200]\n8     162  (100, 200]\n9     108  (100, 200]",
      "text/html": "<div>\n<style scoped>\n    .dataframe tbody tr th:only-of-type {\n        vertical-align: middle;\n    }\n\n    .dataframe tbody tr th {\n        vertical-align: top;\n    }\n\n    .dataframe thead th {\n        text-align: right;\n    }\n</style>\n<table border=\"1\" class=\"dataframe\">\n  <thead>\n    <tr style=\"text-align: right;\">\n      <th></th>\n      <th>height</th>\n      <th>binned</th>\n    </tr>\n  </thead>\n  <tbody>\n    <tr>\n      <th>0</th>\n      <td>152</td>\n      <td>(100, 200]</td>\n    </tr>\n    <tr>\n      <th>1</th>\n      <td>95</td>\n      <td>(50, 100]</td>\n    </tr>\n    <tr>\n      <th>2</th>\n      <td>180</td>\n      <td>(100, 200]</td>\n    </tr>\n    <tr>\n      <th>3</th>\n      <td>132</td>\n      <td>(100, 200]</td>\n    </tr>\n    <tr>\n      <th>4</th>\n      <td>197</td>\n      <td>(100, 200]</td>\n    </tr>\n    <tr>\n      <th>5</th>\n      <td>133</td>\n      <td>(100, 200]</td>\n    </tr>\n    <tr>\n      <th>6</th>\n      <td>84</td>\n      <td>(50, 100]</td>\n    </tr>\n    <tr>\n      <th>7</th>\n      <td>108</td>\n      <td>(100, 200]</td>\n    </tr>\n    <tr>\n      <th>8</th>\n      <td>162</td>\n      <td>(100, 200]</td>\n    </tr>\n    <tr>\n      <th>9</th>\n      <td>108</td>\n      <td>(100, 200]</td>\n    </tr>\n  </tbody>\n</table>\n</div>"
     },
     "metadata": {},
     "execution_count": 11
    }
   ],
   "source": [
    "df['binned']=pd.cut(x=df['height'],bins=[0,25,50,100,200])\n",
    "df"
   ]
  },
  {
   "cell_type": "code",
   "execution_count": 12,
   "metadata": {},
   "outputs": [
    {
     "output_type": "execute_result",
     "data": {
      "text/plain": "   height      binned bin_label\n0     152  (100, 200]         4\n1      95   (50, 100]         3\n2     180  (100, 200]         4\n3     132  (100, 200]         4\n4     197  (100, 200]         4\n5     133  (100, 200]         4\n6      84   (50, 100]         3\n7     108  (100, 200]         4\n8     162  (100, 200]         4\n9     108  (100, 200]         4",
      "text/html": "<div>\n<style scoped>\n    .dataframe tbody tr th:only-of-type {\n        vertical-align: middle;\n    }\n\n    .dataframe tbody tr th {\n        vertical-align: top;\n    }\n\n    .dataframe thead th {\n        text-align: right;\n    }\n</style>\n<table border=\"1\" class=\"dataframe\">\n  <thead>\n    <tr style=\"text-align: right;\">\n      <th></th>\n      <th>height</th>\n      <th>binned</th>\n      <th>bin_label</th>\n    </tr>\n  </thead>\n  <tbody>\n    <tr>\n      <th>0</th>\n      <td>152</td>\n      <td>(100, 200]</td>\n      <td>4</td>\n    </tr>\n    <tr>\n      <th>1</th>\n      <td>95</td>\n      <td>(50, 100]</td>\n      <td>3</td>\n    </tr>\n    <tr>\n      <th>2</th>\n      <td>180</td>\n      <td>(100, 200]</td>\n      <td>4</td>\n    </tr>\n    <tr>\n      <th>3</th>\n      <td>132</td>\n      <td>(100, 200]</td>\n      <td>4</td>\n    </tr>\n    <tr>\n      <th>4</th>\n      <td>197</td>\n      <td>(100, 200]</td>\n      <td>4</td>\n    </tr>\n    <tr>\n      <th>5</th>\n      <td>133</td>\n      <td>(100, 200]</td>\n      <td>4</td>\n    </tr>\n    <tr>\n      <th>6</th>\n      <td>84</td>\n      <td>(50, 100]</td>\n      <td>3</td>\n    </tr>\n    <tr>\n      <th>7</th>\n      <td>108</td>\n      <td>(100, 200]</td>\n      <td>4</td>\n    </tr>\n    <tr>\n      <th>8</th>\n      <td>162</td>\n      <td>(100, 200]</td>\n      <td>4</td>\n    </tr>\n    <tr>\n      <th>9</th>\n      <td>108</td>\n      <td>(100, 200]</td>\n      <td>4</td>\n    </tr>\n  </tbody>\n</table>\n</div>"
     },
     "metadata": {},
     "execution_count": 12
    }
   ],
   "source": [
    "df['bin_label']=pd.cut(x=df['height'],\n",
    "bins=[0,25,50,100,200],\n",
    "labels=[1,2,3,4])\n",
    "df"
   ]
  },
  {
   "cell_type": "code",
   "execution_count": 14,
   "metadata": {},
   "outputs": [
    {
     "output_type": "execute_result",
     "data": {
      "text/plain": "0     (140.6, 165.6]\n1    (83.999, 105.4]\n2     (165.6, 197.0]\n3     (122.4, 140.6]\n4     (165.6, 197.0]\n5     (122.4, 140.6]\n6    (83.999, 105.4]\n7     (105.4, 122.4]\n8     (140.6, 165.6]\n9     (105.4, 122.4]\nName: height, dtype: category\nCategories (5, interval[float64]): [(83.999, 105.4] < (105.4, 122.4] < (122.4, 140.6] < (140.6, 165.6] < (165.6, 197.0]]"
     },
     "metadata": {},
     "execution_count": 14
    }
   ],
   "source": [
    "pd.qcut(df['height'],q=5)"
   ]
  },
  {
   "cell_type": "code",
   "execution_count": 17,
   "metadata": {},
   "outputs": [
    {
     "output_type": "execute_result",
     "data": {
      "text/plain": "    grades           honors\n0    3.930  summa cum laude\n1    3.910  summa cum laude\n2    3.820  magna cum laude\n3    3.731        cum laude\n4    3.698        cum laude\n5    3.250             none\n6    3.240             none\n7    3.240             none\n8    3.220             none\n9    2.830             none\n10   2.800             none",
      "text/html": "<div>\n<style scoped>\n    .dataframe tbody tr th:only-of-type {\n        vertical-align: middle;\n    }\n\n    .dataframe tbody tr th {\n        vertical-align: top;\n    }\n\n    .dataframe thead th {\n        text-align: right;\n    }\n</style>\n<table border=\"1\" class=\"dataframe\">\n  <thead>\n    <tr style=\"text-align: right;\">\n      <th></th>\n      <th>grades</th>\n      <th>honors</th>\n    </tr>\n  </thead>\n  <tbody>\n    <tr>\n      <th>0</th>\n      <td>3.930</td>\n      <td>summa cum laude</td>\n    </tr>\n    <tr>\n      <th>1</th>\n      <td>3.910</td>\n      <td>summa cum laude</td>\n    </tr>\n    <tr>\n      <th>2</th>\n      <td>3.820</td>\n      <td>magna cum laude</td>\n    </tr>\n    <tr>\n      <th>3</th>\n      <td>3.731</td>\n      <td>cum laude</td>\n    </tr>\n    <tr>\n      <th>4</th>\n      <td>3.698</td>\n      <td>cum laude</td>\n    </tr>\n    <tr>\n      <th>5</th>\n      <td>3.250</td>\n      <td>none</td>\n    </tr>\n    <tr>\n      <th>6</th>\n      <td>3.240</td>\n      <td>none</td>\n    </tr>\n    <tr>\n      <th>7</th>\n      <td>3.240</td>\n      <td>none</td>\n    </tr>\n    <tr>\n      <th>8</th>\n      <td>3.220</td>\n      <td>none</td>\n    </tr>\n    <tr>\n      <th>9</th>\n      <td>2.830</td>\n      <td>none</td>\n    </tr>\n    <tr>\n      <th>10</th>\n      <td>2.800</td>\n      <td>none</td>\n    </tr>\n  </tbody>\n</table>\n</div>"
     },
     "metadata": {},
     "execution_count": 17
    }
   ],
   "source": [
    "degrees = [\"none\",\"cum laude\",\"magna cum laude\",\"summa cum laude\"]\n",
    "student_results=[3.93,3.24,2.80,2.83,3.91,3.698,3.731,3.25,3.24,3.82,3.22]\n",
    "student_results.sort(reverse=True)\n",
    "\n",
    "student_results_degrees=pd.cut(student_results,[0,3.6,3.8,3.9,4.0],labels=degrees)\n",
    "honor = pd.DataFrame({'grades': student_results,\n",
    "                    'honors': student_results_degrees})\n",
    "honor"
   ]
  },
  {
   "cell_type": "code",
   "execution_count": 18,
   "metadata": {},
   "outputs": [
    {
     "output_type": "error",
     "ename": "ImportError",
     "evalue": "matplotlib is required for plotting when the default backend \"matplotlib\" is selected.",
     "traceback": [
      "\u001b[1;31m---------------------------------------------------------------------------\u001b[0m",
      "\u001b[1;31mImportError\u001b[0m                               Traceback (most recent call last)",
      "\u001b[1;32m<ipython-input-18-0f97eea91862>\u001b[0m in \u001b[0;36m<module>\u001b[1;34m\u001b[0m\n\u001b[1;32m----> 1\u001b[1;33m \u001b[0mpd\u001b[0m\u001b[1;33m.\u001b[0m\u001b[0mvalue_counts\u001b[0m\u001b[1;33m(\u001b[0m\u001b[0mstudent_results_degrees\u001b[0m\u001b[1;33m)\u001b[0m\u001b[1;33m.\u001b[0m\u001b[0mplot\u001b[0m\u001b[1;33m.\u001b[0m\u001b[0mbar\u001b[0m\u001b[1;33m(\u001b[0m\u001b[1;33m)\u001b[0m\u001b[1;33m\u001b[0m\u001b[1;33m\u001b[0m\u001b[0m\n\u001b[0m",
      "\u001b[1;32m~\\AppData\\Local\\Programs\\Python\\Python38-32\\lib\\site-packages\\pandas\\plotting\\_core.py\u001b[0m in \u001b[0;36mbar\u001b[1;34m(self, x, y, **kwargs)\u001b[0m\n\u001b[0;32m   1105\u001b[0m         \u001b[0mother\u001b[0m \u001b[0maxis\u001b[0m \u001b[0mrepresents\u001b[0m \u001b[0ma\u001b[0m \u001b[0mmeasured\u001b[0m \u001b[0mvalue\u001b[0m\u001b[1;33m.\u001b[0m\u001b[1;33m\u001b[0m\u001b[1;33m\u001b[0m\u001b[0m\n\u001b[0;32m   1106\u001b[0m         \"\"\"\n\u001b[1;32m-> 1107\u001b[1;33m         \u001b[1;32mreturn\u001b[0m \u001b[0mself\u001b[0m\u001b[1;33m(\u001b[0m\u001b[0mkind\u001b[0m\u001b[1;33m=\u001b[0m\u001b[1;34m\"bar\"\u001b[0m\u001b[1;33m,\u001b[0m \u001b[0mx\u001b[0m\u001b[1;33m=\u001b[0m\u001b[0mx\u001b[0m\u001b[1;33m,\u001b[0m \u001b[0my\u001b[0m\u001b[1;33m=\u001b[0m\u001b[0my\u001b[0m\u001b[1;33m,\u001b[0m \u001b[1;33m**\u001b[0m\u001b[0mkwargs\u001b[0m\u001b[1;33m)\u001b[0m\u001b[1;33m\u001b[0m\u001b[1;33m\u001b[0m\u001b[0m\n\u001b[0m\u001b[0;32m   1108\u001b[0m \u001b[1;33m\u001b[0m\u001b[0m\n\u001b[0;32m   1109\u001b[0m     @Appender(\n",
      "\u001b[1;32m~\\AppData\\Local\\Programs\\Python\\Python38-32\\lib\\site-packages\\pandas\\plotting\\_core.py\u001b[0m in \u001b[0;36m__call__\u001b[1;34m(self, *args, **kwargs)\u001b[0m\n\u001b[0;32m    867\u001b[0m \u001b[1;33m\u001b[0m\u001b[0m\n\u001b[0;32m    868\u001b[0m     \u001b[1;32mdef\u001b[0m \u001b[0m__call__\u001b[0m\u001b[1;33m(\u001b[0m\u001b[0mself\u001b[0m\u001b[1;33m,\u001b[0m \u001b[1;33m*\u001b[0m\u001b[0margs\u001b[0m\u001b[1;33m,\u001b[0m \u001b[1;33m**\u001b[0m\u001b[0mkwargs\u001b[0m\u001b[1;33m)\u001b[0m\u001b[1;33m:\u001b[0m\u001b[1;33m\u001b[0m\u001b[1;33m\u001b[0m\u001b[0m\n\u001b[1;32m--> 869\u001b[1;33m         \u001b[0mplot_backend\u001b[0m \u001b[1;33m=\u001b[0m \u001b[0m_get_plot_backend\u001b[0m\u001b[1;33m(\u001b[0m\u001b[0mkwargs\u001b[0m\u001b[1;33m.\u001b[0m\u001b[0mpop\u001b[0m\u001b[1;33m(\u001b[0m\u001b[1;34m\"backend\"\u001b[0m\u001b[1;33m,\u001b[0m \u001b[1;32mNone\u001b[0m\u001b[1;33m)\u001b[0m\u001b[1;33m)\u001b[0m\u001b[1;33m\u001b[0m\u001b[1;33m\u001b[0m\u001b[0m\n\u001b[0m\u001b[0;32m    870\u001b[0m \u001b[1;33m\u001b[0m\u001b[0m\n\u001b[0;32m    871\u001b[0m         x, y, kind, kwargs = self._get_call_args(\n",
      "\u001b[1;32m~\\AppData\\Local\\Programs\\Python\\Python38-32\\lib\\site-packages\\pandas\\plotting\\_core.py\u001b[0m in \u001b[0;36m_get_plot_backend\u001b[1;34m(backend)\u001b[0m\n\u001b[0;32m   1778\u001b[0m             \u001b[1;32mimport\u001b[0m \u001b[0mpandas\u001b[0m\u001b[1;33m.\u001b[0m\u001b[0mplotting\u001b[0m\u001b[1;33m.\u001b[0m\u001b[0m_matplotlib\u001b[0m \u001b[1;32mas\u001b[0m \u001b[0mmodule\u001b[0m\u001b[1;33m\u001b[0m\u001b[1;33m\u001b[0m\u001b[0m\n\u001b[0;32m   1779\u001b[0m         \u001b[1;32mexcept\u001b[0m \u001b[0mImportError\u001b[0m\u001b[1;33m:\u001b[0m\u001b[1;33m\u001b[0m\u001b[1;33m\u001b[0m\u001b[0m\n\u001b[1;32m-> 1780\u001b[1;33m             raise ImportError(\n\u001b[0m\u001b[0;32m   1781\u001b[0m                 \u001b[1;34m\"matplotlib is required for plotting when the \"\u001b[0m\u001b[1;33m\u001b[0m\u001b[1;33m\u001b[0m\u001b[0m\n\u001b[0;32m   1782\u001b[0m                 \u001b[1;34m'default backend \"matplotlib\" is selected.'\u001b[0m\u001b[1;33m\u001b[0m\u001b[1;33m\u001b[0m\u001b[0m\n",
      "\u001b[1;31mImportError\u001b[0m: matplotlib is required for plotting when the default backend \"matplotlib\" is selected."
     ]
    }
   ],
   "source": [
    "pd.value_counts(student_results_degrees).plot.bar()\n"
   ]
  },
  {
   "cell_type": "code",
   "execution_count": null,
   "metadata": {},
   "outputs": [],
   "source": []
  }
 ]
}