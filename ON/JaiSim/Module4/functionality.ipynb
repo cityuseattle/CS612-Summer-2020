{
 "metadata": {
  "language_info": {
   "codemirror_mode": {
    "name": "ipython",
    "version": 3
   },
   "file_extension": ".py",
   "mimetype": "text/x-python",
   "name": "python",
   "nbconvert_exporter": "python",
   "pygments_lexer": "ipython3",
   "version": "3.8.5-final"
  },
  "orig_nbformat": 2,
  "kernelspec": {
   "name": "python38532bit8eb05e646ae848b99e0d24a3e707ad45",
   "display_name": "Python 3.8.5 32-bit"
  }
 },
 "nbformat": 4,
 "nbformat_minor": 2,
 "cells": [
  {
   "cell_type": "code",
   "execution_count": 1,
   "metadata": {},
   "outputs": [],
   "source": [
    "import pandas as pd"
   ]
  },
  {
   "cell_type": "code",
   "execution_count": 2,
   "metadata": {},
   "outputs": [
    {
     "output_type": "execute_result",
     "data": {
      "text/plain": "           Value  Change  Sector\nAmazon       220    17.5  Retail\nGoogle       160    11.9    Tech\nApple        140    -8.5    Tech\nMicrosoft    117    -2.1    Tech\nSamsung       94     3.5    Tech",
      "text/html": "<div>\n<style scoped>\n    .dataframe tbody tr th:only-of-type {\n        vertical-align: middle;\n    }\n\n    .dataframe tbody tr th {\n        vertical-align: top;\n    }\n\n    .dataframe thead th {\n        text-align: right;\n    }\n</style>\n<table border=\"1\" class=\"dataframe\">\n  <thead>\n    <tr style=\"text-align: right;\">\n      <th></th>\n      <th>Value</th>\n      <th>Change</th>\n      <th>Sector</th>\n    </tr>\n  </thead>\n  <tbody>\n    <tr>\n      <th>Amazon</th>\n      <td>220</td>\n      <td>17.5</td>\n      <td>Retail</td>\n    </tr>\n    <tr>\n      <th>Google</th>\n      <td>160</td>\n      <td>11.9</td>\n      <td>Tech</td>\n    </tr>\n    <tr>\n      <th>Apple</th>\n      <td>140</td>\n      <td>-8.5</td>\n      <td>Tech</td>\n    </tr>\n    <tr>\n      <th>Microsoft</th>\n      <td>117</td>\n      <td>-2.1</td>\n      <td>Tech</td>\n    </tr>\n    <tr>\n      <th>Samsung</th>\n      <td>94</td>\n      <td>3.5</td>\n      <td>Tech</td>\n    </tr>\n  </tbody>\n</table>\n</div>"
     },
     "metadata": {},
     "execution_count": 2
    }
   ],
   "source": [
    "companies = {\n",
    "    'Value': [220,160,140,117,94],\n",
    "    'Change':[17.5,11.9,-8.5,-2.1,3.5],\n",
    "    'Sector':['Retail','Tech','Tech','Tech','Tech']\n",
    "}\n",
    "\n",
    "data=pd.DataFrame(companies, index=['Amazon','Google','Apple','Microsoft','Samsung'])\n",
    "\n",
    "data"
   ]
  },
  {
   "cell_type": "code",
   "execution_count": 3,
   "metadata": {
    "tags": []
   },
   "outputs": [
    {
     "output_type": "stream",
     "name": "stdout",
     "text": "<class 'pandas.core.frame.DataFrame'>\nIndex: 5 entries, Amazon to Samsung\nData columns (total 3 columns):\n #   Column  Non-Null Count  Dtype  \n---  ------  --------------  -----  \n 0   Value   5 non-null      int64  \n 1   Change  5 non-null      float64\n 2   Sector  5 non-null      object \ndtypes: float64(1), int64(1), object(1)\nmemory usage: 216.0+ bytes\n"
    }
   ],
   "source": [
    "data.info()"
   ]
  },
  {
   "cell_type": "code",
   "execution_count": 5,
   "metadata": {},
   "outputs": [
    {
     "output_type": "error",
     "ename": "NameError",
     "evalue": "name 'describe' is not defined",
     "traceback": [
      "\u001b[1;31m---------------------------------------------------------------------------\u001b[0m",
      "\u001b[1;31mNameError\u001b[0m                                 Traceback (most recent call last)",
      "\u001b[1;32m<ipython-input-5-9758953c2086>\u001b[0m in \u001b[0;36m<module>\u001b[1;34m\u001b[0m\n\u001b[1;32m----> 1\u001b[1;33m \u001b[0mdescribe\u001b[0m\u001b[1;33m(\u001b[0m\u001b[1;33m)\u001b[0m\u001b[1;33m\u001b[0m\u001b[1;33m\u001b[0m\u001b[0m\n\u001b[0m",
      "\u001b[1;31mNameError\u001b[0m: name 'describe' is not defined"
     ]
    }
   ],
   "source": [
    "describe() "
   ]
  },
  {
   "cell_type": "code",
   "execution_count": 6,
   "metadata": {},
   "outputs": [
    {
     "output_type": "execute_result",
     "data": {
      "text/plain": "        Value  Change  Sector\nAmazon    220    17.5  Retail\nGoogle    160    11.9    Tech",
      "text/html": "<div>\n<style scoped>\n    .dataframe tbody tr th:only-of-type {\n        vertical-align: middle;\n    }\n\n    .dataframe tbody tr th {\n        vertical-align: top;\n    }\n\n    .dataframe thead th {\n        text-align: right;\n    }\n</style>\n<table border=\"1\" class=\"dataframe\">\n  <thead>\n    <tr style=\"text-align: right;\">\n      <th></th>\n      <th>Value</th>\n      <th>Change</th>\n      <th>Sector</th>\n    </tr>\n  </thead>\n  <tbody>\n    <tr>\n      <th>Amazon</th>\n      <td>220</td>\n      <td>17.5</td>\n      <td>Retail</td>\n    </tr>\n    <tr>\n      <th>Google</th>\n      <td>160</td>\n      <td>11.9</td>\n      <td>Tech</td>\n    </tr>\n  </tbody>\n</table>\n</div>"
     },
     "metadata": {},
     "execution_count": 6
    }
   ],
   "source": [
    "data.loc[data['Value']>150]"
   ]
  },
  {
   "cell_type": "code",
   "execution_count": 7,
   "metadata": {},
   "outputs": [
    {
     "output_type": "execute_result",
     "data": {
      "text/plain": "           Value  Change  Sector\nAmazon       220    17.5  Retail\nGoogle       160    11.9    Tech\nApple        140    -8.5    Tech\nMicrosoft    117    -2.1    Tech\nSamsung       94     3.5    Tech",
      "text/html": "<div>\n<style scoped>\n    .dataframe tbody tr th:only-of-type {\n        vertical-align: middle;\n    }\n\n    .dataframe tbody tr th {\n        vertical-align: top;\n    }\n\n    .dataframe thead th {\n        text-align: right;\n    }\n</style>\n<table border=\"1\" class=\"dataframe\">\n  <thead>\n    <tr style=\"text-align: right;\">\n      <th></th>\n      <th>Value</th>\n      <th>Change</th>\n      <th>Sector</th>\n    </tr>\n  </thead>\n  <tbody>\n    <tr>\n      <th>Amazon</th>\n      <td>220</td>\n      <td>17.5</td>\n      <td>Retail</td>\n    </tr>\n    <tr>\n      <th>Google</th>\n      <td>160</td>\n      <td>11.9</td>\n      <td>Tech</td>\n    </tr>\n    <tr>\n      <th>Apple</th>\n      <td>140</td>\n      <td>-8.5</td>\n      <td>Tech</td>\n    </tr>\n    <tr>\n      <th>Microsoft</th>\n      <td>117</td>\n      <td>-2.1</td>\n      <td>Tech</td>\n    </tr>\n    <tr>\n      <th>Samsung</th>\n      <td>94</td>\n      <td>3.5</td>\n      <td>Tech</td>\n    </tr>\n  </tbody>\n</table>\n</div>"
     },
     "metadata": {},
     "execution_count": 7
    }
   ],
   "source": [
    "data"
   ]
  },
  {
   "cell_type": "code",
   "execution_count": 8,
   "metadata": {},
   "outputs": [
    {
     "output_type": "execute_result",
     "data": {
      "text/plain": "Value      117\nChange    -2.1\nSector    Tech\nName: Microsoft, dtype: object"
     },
     "metadata": {},
     "execution_count": 8
    }
   ],
   "source": [
    "data.iloc[3]"
   ]
  },
  {
   "cell_type": "code",
   "execution_count": 9,
   "metadata": {},
   "outputs": [
    {
     "output_type": "execute_result",
     "data": {
      "text/plain": "           Change Sector\nGoogle       11.9   Tech\nApple        -8.5   Tech\nMicrosoft    -2.1   Tech",
      "text/html": "<div>\n<style scoped>\n    .dataframe tbody tr th:only-of-type {\n        vertical-align: middle;\n    }\n\n    .dataframe tbody tr th {\n        vertical-align: top;\n    }\n\n    .dataframe thead th {\n        text-align: right;\n    }\n</style>\n<table border=\"1\" class=\"dataframe\">\n  <thead>\n    <tr style=\"text-align: right;\">\n      <th></th>\n      <th>Change</th>\n      <th>Sector</th>\n    </tr>\n  </thead>\n  <tbody>\n    <tr>\n      <th>Google</th>\n      <td>11.9</td>\n      <td>Tech</td>\n    </tr>\n    <tr>\n      <th>Apple</th>\n      <td>-8.5</td>\n      <td>Tech</td>\n    </tr>\n    <tr>\n      <th>Microsoft</th>\n      <td>-2.1</td>\n      <td>Tech</td>\n    </tr>\n  </tbody>\n</table>\n</div>"
     },
     "metadata": {},
     "execution_count": 9
    }
   ],
   "source": [
    "data.iloc[1:4,1:3]"
   ]
  },
  {
   "cell_type": "code",
   "execution_count": 10,
   "metadata": {},
   "outputs": [
    {
     "output_type": "execute_result",
     "data": {
      "text/plain": "        Value  Change  Sector\nAmazon    220    17.5  Retail\nGoogle    160    11.9    Tech\nApple     140    -8.5    Tech",
      "text/html": "<div>\n<style scoped>\n    .dataframe tbody tr th:only-of-type {\n        vertical-align: middle;\n    }\n\n    .dataframe tbody tr th {\n        vertical-align: top;\n    }\n\n    .dataframe thead th {\n        text-align: right;\n    }\n</style>\n<table border=\"1\" class=\"dataframe\">\n  <thead>\n    <tr style=\"text-align: right;\">\n      <th></th>\n      <th>Value</th>\n      <th>Change</th>\n      <th>Sector</th>\n    </tr>\n  </thead>\n  <tbody>\n    <tr>\n      <th>Amazon</th>\n      <td>220</td>\n      <td>17.5</td>\n      <td>Retail</td>\n    </tr>\n    <tr>\n      <th>Google</th>\n      <td>160</td>\n      <td>11.9</td>\n      <td>Tech</td>\n    </tr>\n    <tr>\n      <th>Apple</th>\n      <td>140</td>\n      <td>-8.5</td>\n      <td>Tech</td>\n    </tr>\n  </tbody>\n</table>\n</div>"
     },
     "metadata": {},
     "execution_count": 10
    }
   ],
   "source": [
    "data[0:3]"
   ]
  },
  {
   "cell_type": "code",
   "execution_count": 11,
   "metadata": {},
   "outputs": [
    {
     "output_type": "execute_result",
     "data": {
      "text/plain": "           Value  Change  Sector\nAmazon       220    17.5  Retail\nGoogle       160    11.9    Tech\nApple        140    -8.5    Tech\nMicrosoft    117    -2.1    Tech",
      "text/html": "<div>\n<style scoped>\n    .dataframe tbody tr th:only-of-type {\n        vertical-align: middle;\n    }\n\n    .dataframe tbody tr th {\n        vertical-align: top;\n    }\n\n    .dataframe thead th {\n        text-align: right;\n    }\n</style>\n<table border=\"1\" class=\"dataframe\">\n  <thead>\n    <tr style=\"text-align: right;\">\n      <th></th>\n      <th>Value</th>\n      <th>Change</th>\n      <th>Sector</th>\n    </tr>\n  </thead>\n  <tbody>\n    <tr>\n      <th>Amazon</th>\n      <td>220</td>\n      <td>17.5</td>\n      <td>Retail</td>\n    </tr>\n    <tr>\n      <th>Google</th>\n      <td>160</td>\n      <td>11.9</td>\n      <td>Tech</td>\n    </tr>\n    <tr>\n      <th>Apple</th>\n      <td>140</td>\n      <td>-8.5</td>\n      <td>Tech</td>\n    </tr>\n    <tr>\n      <th>Microsoft</th>\n      <td>117</td>\n      <td>-2.1</td>\n      <td>Tech</td>\n    </tr>\n  </tbody>\n</table>\n</div>"
     },
     "metadata": {},
     "execution_count": 11
    }
   ],
   "source": [
    "data['Amazon':'Microsoft']"
   ]
  },
  {
   "cell_type": "code",
   "execution_count": 12,
   "metadata": {},
   "outputs": [
    {
     "output_type": "execute_result",
     "data": {
      "text/plain": "           Value  Change  Sector\nAmazon       220    17.5  Retail\nGoogle       160    11.9    Tech\nApple        140    -8.5    Tech\nMicrosoft    117    -2.1    Tech\nSamsung       94     3.5    Tech",
      "text/html": "<div>\n<style scoped>\n    .dataframe tbody tr th:only-of-type {\n        vertical-align: middle;\n    }\n\n    .dataframe tbody tr th {\n        vertical-align: top;\n    }\n\n    .dataframe thead th {\n        text-align: right;\n    }\n</style>\n<table border=\"1\" class=\"dataframe\">\n  <thead>\n    <tr style=\"text-align: right;\">\n      <th></th>\n      <th>Value</th>\n      <th>Change</th>\n      <th>Sector</th>\n    </tr>\n  </thead>\n  <tbody>\n    <tr>\n      <th>Amazon</th>\n      <td>220</td>\n      <td>17.5</td>\n      <td>Retail</td>\n    </tr>\n    <tr>\n      <th>Google</th>\n      <td>160</td>\n      <td>11.9</td>\n      <td>Tech</td>\n    </tr>\n    <tr>\n      <th>Apple</th>\n      <td>140</td>\n      <td>-8.5</td>\n      <td>Tech</td>\n    </tr>\n    <tr>\n      <th>Microsoft</th>\n      <td>117</td>\n      <td>-2.1</td>\n      <td>Tech</td>\n    </tr>\n    <tr>\n      <th>Samsung</th>\n      <td>94</td>\n      <td>3.5</td>\n      <td>Tech</td>\n    </tr>\n  </tbody>\n</table>\n</div>"
     },
     "metadata": {},
     "execution_count": 12
    }
   ],
   "source": [
    "data"
   ]
  },
  {
   "cell_type": "code",
   "execution_count": 13,
   "metadata": {},
   "outputs": [
    {
     "output_type": "execute_result",
     "data": {
      "text/plain": "Amazon       440\nGoogle       320\nApple        280\nMicrosoft    234\nSamsung      188\nName: Value, dtype: int64"
     },
     "metadata": {},
     "execution_count": 13
    }
   ],
   "source": [
    "data['Value'].mul(2)"
   ]
  },
  {
   "cell_type": "code",
   "execution_count": 14,
   "metadata": {},
   "outputs": [
    {
     "output_type": "execute_result",
     "data": {
      "text/plain": "Amazon       218\nGoogle       158\nApple        138\nMicrosoft    115\nSamsung       92\nName: Value, dtype: int64"
     },
     "metadata": {},
     "execution_count": 14
    }
   ],
   "source": [
    "data['Value'].sub(2)"
   ]
  },
  {
   "cell_type": "code",
   "execution_count": 15,
   "metadata": {},
   "outputs": [
    {
     "output_type": "execute_result",
     "data": {
      "text/plain": "Amazon       222\nGoogle       162\nApple        142\nMicrosoft    119\nSamsung       96\nName: Value, dtype: int64"
     },
     "metadata": {},
     "execution_count": 15
    }
   ],
   "source": [
    "data['Value'].add(2)"
   ]
  },
  {
   "cell_type": "code",
   "execution_count": 16,
   "metadata": {},
   "outputs": [
    {
     "output_type": "execute_result",
     "data": {
      "text/plain": "(Amazon       110\n Google        80\n Apple         70\n Microsoft     58\n Samsung       47\n Name: Value, dtype: int64,\n Amazon       0\n Google       0\n Apple        0\n Microsoft    1\n Samsung      0\n Name: Value, dtype: int64)"
     },
     "metadata": {},
     "execution_count": 16
    }
   ],
   "source": [
    "div,rem=divmod(data['Value'],2)\n",
    "\n",
    "div,rem"
   ]
  },
  {
   "cell_type": "code",
   "execution_count": 17,
   "metadata": {},
   "outputs": [
    {
     "output_type": "execute_result",
     "data": {
      "text/plain": "           Value  Change  Sector\nAmazon       220    17.5  Retail\nGoogle       160    11.9    Tech\nApple        140    -8.5    Tech\nMicrosoft    117    -2.1    Tech\nSamsung       94     3.5    Tech",
      "text/html": "<div>\n<style scoped>\n    .dataframe tbody tr th:only-of-type {\n        vertical-align: middle;\n    }\n\n    .dataframe tbody tr th {\n        vertical-align: top;\n    }\n\n    .dataframe thead th {\n        text-align: right;\n    }\n</style>\n<table border=\"1\" class=\"dataframe\">\n  <thead>\n    <tr style=\"text-align: right;\">\n      <th></th>\n      <th>Value</th>\n      <th>Change</th>\n      <th>Sector</th>\n    </tr>\n  </thead>\n  <tbody>\n    <tr>\n      <th>Amazon</th>\n      <td>220</td>\n      <td>17.5</td>\n      <td>Retail</td>\n    </tr>\n    <tr>\n      <th>Google</th>\n      <td>160</td>\n      <td>11.9</td>\n      <td>Tech</td>\n    </tr>\n    <tr>\n      <th>Apple</th>\n      <td>140</td>\n      <td>-8.5</td>\n      <td>Tech</td>\n    </tr>\n    <tr>\n      <th>Microsoft</th>\n      <td>117</td>\n      <td>-2.1</td>\n      <td>Tech</td>\n    </tr>\n    <tr>\n      <th>Samsung</th>\n      <td>94</td>\n      <td>3.5</td>\n      <td>Tech</td>\n    </tr>\n  </tbody>\n</table>\n</div>"
     },
     "metadata": {},
     "execution_count": 17
    }
   ],
   "source": [
    "data"
   ]
  },
  {
   "cell_type": "code",
   "execution_count": 18,
   "metadata": {},
   "outputs": [
    {
     "output_type": "execute_result",
     "data": {
      "text/plain": "Value     146.20\nChange      4.46\ndtype: float64"
     },
     "metadata": {},
     "execution_count": 18
    }
   ],
   "source": [
    "data.mean()"
   ]
  },
  {
   "cell_type": "code",
   "execution_count": 19,
   "metadata": {},
   "outputs": [
    {
     "output_type": "execute_result",
     "data": {
      "text/plain": "Value                        731\nChange                      22.3\nSector    RetailTechTechTechTech\ndtype: object"
     },
     "metadata": {},
     "execution_count": 19
    }
   ],
   "source": [
    "data.sum()"
   ]
  },
  {
   "cell_type": "code",
   "execution_count": 20,
   "metadata": {},
   "outputs": [
    {
     "output_type": "execute_result",
     "data": {
      "text/plain": "Amazon       237.5\nGoogle       171.9\nApple        131.5\nMicrosoft    114.9\nSamsung       97.5\ndtype: float64"
     },
     "metadata": {},
     "execution_count": 20
    }
   ],
   "source": [
    "data.sum(1)"
   ]
  },
  {
   "cell_type": "code",
   "execution_count": 21,
   "metadata": {},
   "outputs": [
    {
     "output_type": "execute_result",
     "data": {
      "text/plain": "Value     48.095738\nChange    10.456003\ndtype: float64"
     },
     "metadata": {},
     "execution_count": 21
    }
   ],
   "source": [
    "data.std()"
   ]
  },
  {
   "cell_type": "code",
   "execution_count": 22,
   "metadata": {},
   "outputs": [
    {
     "output_type": "execute_result",
     "data": {
      "text/plain": "Value     140.0\nChange      3.5\nName: 0.5, dtype: float64"
     },
     "metadata": {},
     "execution_count": 22
    }
   ],
   "source": [
    "data.quantile(.5)"
   ]
  },
  {
   "cell_type": "code",
   "execution_count": 23,
   "metadata": {},
   "outputs": [
    {
     "output_type": "execute_result",
     "data": {
      "text/plain": "Value         94\nChange      -8.5\nSector    Retail\ndtype: object"
     },
     "metadata": {},
     "execution_count": 23
    }
   ],
   "source": [
    "data.min()"
   ]
  },
  {
   "cell_type": "code",
   "execution_count": 24,
   "metadata": {},
   "outputs": [
    {
     "output_type": "execute_result",
     "data": {
      "text/plain": "           Value  Change                  Sector\nAmazon       220    17.5                  Retail\nGoogle       380    29.4              RetailTech\nApple        520    20.9          RetailTechTech\nMicrosoft    637    18.8      RetailTechTechTech\nSamsung      731    22.3  RetailTechTechTechTech",
      "text/html": "<div>\n<style scoped>\n    .dataframe tbody tr th:only-of-type {\n        vertical-align: middle;\n    }\n\n    .dataframe tbody tr th {\n        vertical-align: top;\n    }\n\n    .dataframe thead th {\n        text-align: right;\n    }\n</style>\n<table border=\"1\" class=\"dataframe\">\n  <thead>\n    <tr style=\"text-align: right;\">\n      <th></th>\n      <th>Value</th>\n      <th>Change</th>\n      <th>Sector</th>\n    </tr>\n  </thead>\n  <tbody>\n    <tr>\n      <th>Amazon</th>\n      <td>220</td>\n      <td>17.5</td>\n      <td>Retail</td>\n    </tr>\n    <tr>\n      <th>Google</th>\n      <td>380</td>\n      <td>29.4</td>\n      <td>RetailTech</td>\n    </tr>\n    <tr>\n      <th>Apple</th>\n      <td>520</td>\n      <td>20.9</td>\n      <td>RetailTechTech</td>\n    </tr>\n    <tr>\n      <th>Microsoft</th>\n      <td>637</td>\n      <td>18.8</td>\n      <td>RetailTechTechTech</td>\n    </tr>\n    <tr>\n      <th>Samsung</th>\n      <td>731</td>\n      <td>22.3</td>\n      <td>RetailTechTechTechTech</td>\n    </tr>\n  </tbody>\n</table>\n</div>"
     },
     "metadata": {},
     "execution_count": 24
    }
   ],
   "source": [
    "data.cumsum()"
   ]
  },
  {
   "cell_type": "code",
   "execution_count": 25,
   "metadata": {},
   "outputs": [
    {
     "output_type": "execute_result",
     "data": {
      "text/plain": "Value     5\nChange    5\nSector    5\ndtype: int64"
     },
     "metadata": {},
     "execution_count": 25
    }
   ],
   "source": [
    "data.count()"
   ]
  },
  {
   "cell_type": "code",
   "execution_count": null,
   "metadata": {},
   "outputs": [],
   "source": []
  }
 ]
}