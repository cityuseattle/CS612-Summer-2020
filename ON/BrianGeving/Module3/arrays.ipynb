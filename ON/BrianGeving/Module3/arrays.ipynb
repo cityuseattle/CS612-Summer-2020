{
 "metadata": {
  "language_info": {
   "codemirror_mode": {
    "name": "ipython",
    "version": 3
   },
   "file_extension": ".py",
   "mimetype": "text/x-python",
   "name": "python",
   "nbconvert_exporter": "python",
   "pygments_lexer": "ipython3",
   "version": "3.6.5-final"
  },
  "orig_nbformat": 2,
  "kernelspec": {
   "name": "python3",
   "display_name": "Python 3"
  }
 },
 "nbformat": 4,
 "nbformat_minor": 2,
 "cells": [
  {
   "cell_type": "code",
   "execution_count": 1,
   "metadata": {},
   "outputs": [],
   "source": [
    "import numpy as np"
   ]
  },
  {
   "cell_type": "code",
   "execution_count": 2,
   "metadata": {
    "tags": []
   },
   "outputs": [
    {
     "output_type": "stream",
     "name": "stdout",
     "text": "<class 'numpy.ndarray'>\nint32\n(3,)\n1 2 3\n[1 2 4]\n(2, 3)\n1 2 4\n[4 5 6]\n"
    }
   ],
   "source": [
    "arr = np.array([1, 2, 3])\n",
    "print(type(arr))\n",
    "print(arr.dtype)\n",
    "print(arr.shape)\n",
    "print(arr[0], arr[1], arr[2])\n",
    "arr[2] = 4\n",
    "print(arr)\n",
    "\n",
    "#rank 2 array\n",
    "arr2 = np.array([[1, 2, 3], [4, 5, 6]])\n",
    "print(arr2.shape)\n",
    "print(arr2[0,0], arr2[0,1], arr2[1,0])\n",
    "print(arr2[-1])"
   ]
  },
  {
   "cell_type": "code",
   "execution_count": 3,
   "metadata": {
    "tags": []
   },
   "outputs": [
    {
     "output_type": "stream",
     "name": "stdout",
     "text": "[[0. 0.]\n [0. 0.]]\n[[1. 1.]]\n[[5 5]\n [5 5]]\n[[1. 0. 0.]\n [0. 1. 0.]\n [0. 0. 1.]]\n[[0. 1. 0. 0.]\n [0. 0. 1. 0.]\n [0. 0. 0. 1.]\n [0. 0. 0. 0.]]\n[[0.43997433 0.33363257]\n [0.94876404 0.49935972]]\n"
    }
   ],
   "source": [
    "#array of zeros\n",
    "zero = np.zeros((2,2))\n",
    "print(zero)\n",
    "\n",
    "#array of ones\n",
    "one = np.ones((1,2))\n",
    "print(one)\n",
    "\n",
    "#array of constant value\n",
    "constant = np.full((2,2), 5)\n",
    "print(constant)\n",
    "\n",
    "#one on diagonal\n",
    "diag = np.eye(3)\n",
    "print(diag)\n",
    "\n",
    "#change diag start index\n",
    "diag = np.eye(4, k=1)\n",
    "print(diag)\n",
    "\n",
    "#array of random values\n",
    "rand = np.random.random((2,2))\n",
    "print(rand)"
   ]
  },
  {
   "cell_type": "code",
   "execution_count": 6,
   "metadata": {
    "tags": []
   },
   "outputs": [
    {
     "output_type": "stream",
     "name": "stdout",
     "text": "[0 2 4 6]\n[[1 2]\n [5 6]]\n"
    }
   ],
   "source": [
    "#array indexing\n",
    "arr = np.arange(10)\n",
    "print(arr[0:8:2])       #every 2 number from 0 up not including 8\n",
    "\n",
    "arr = np.array([[1, 2, 3, 4], [5, 6, 7, 8], [9, 10, 11, 12]])\n",
    "print(arr[:2, :2])"
   ]
  },
  {
   "cell_type": "code",
   "execution_count": 11,
   "metadata": {
    "tags": []
   },
   "outputs": [
    {
     "output_type": "stream",
     "name": "stdout",
     "text": "[1 4 6]\n"
    }
   ],
   "source": [
    "#integer indexing\n",
    "\n",
    "arr = np.array([[1,2], [3,4], [5,6]])\n",
    "print(arr[[0,1,2],[0,1,1]])             #[0,1,2] specifies rows (all rows) [0,1,1] specifies columns"
   ]
  },
  {
   "cell_type": "code",
   "execution_count": 12,
   "metadata": {
    "tags": []
   },
   "outputs": [
    {
     "output_type": "stream",
     "name": "stdout",
     "text": "[[0 1 2]\n [3 4 5]\n [6 7 8]]\n"
    }
   ],
   "source": [
    "arr = np.arange(9)\n",
    "reshape_arr = arr.reshape(3,3)          #reshape array into 3x3 array\n",
    "print(reshape_arr)"
   ]
  },
  {
   "cell_type": "code",
   "execution_count": 13,
   "metadata": {
    "tags": []
   },
   "outputs": [
    {
     "output_type": "stream",
     "name": "stdout",
     "text": "4\n"
    }
   ],
   "source": [
    "arr = np.arange(8).reshape(2,4)\n",
    "print(arr.flat[4])              #flat turns array into 1d array, 4 is index"
   ]
  },
  {
   "cell_type": "code",
   "execution_count": 14,
   "metadata": {
    "tags": []
   },
   "outputs": [
    {
     "output_type": "stream",
     "name": "stdout",
     "text": "[0 1 2 3 4 5 6 7]\n"
    }
   ],
   "source": [
    "arr = np.arange(8).reshape(2,4)\n",
    "print(arr.flatten())            #print array as 1d array"
   ]
  },
  {
   "cell_type": "code",
   "execution_count": 15,
   "metadata": {
    "tags": []
   },
   "outputs": [
    {
     "output_type": "stream",
     "name": "stdout",
     "text": "[[0 4]\n [1 5]\n [2 6]\n [3 7]]\n"
    }
   ],
   "source": [
    "arr = np.arange(8).reshape(2,4)\n",
    "print(arr.transpose())          #turns 2x4 array into 4x2 array"
   ]
  },
  {
   "cell_type": "code",
   "execution_count": 16,
   "metadata": {
    "tags": []
   },
   "outputs": [
    {
     "output_type": "stream",
     "name": "stdout",
     "text": "[[5 6 7]\n [6 7 8]\n [7 8 9]]\n[[5. 6. 7.]\n [6. 7. 8.]\n [7. 8. 9.]]\n"
    }
   ],
   "source": [
    "#numpy automatically supports broadcasting\n",
    "a = np.array([[1], [2], [3]])\n",
    "b = np.array([4,5,6])\n",
    "c = a+b\n",
    "print(c)\n",
    "\n",
    "#behind the scenes\n",
    "bc = np.broadcast(a, b)\n",
    "x = np.zeros(bc.shape)\n",
    "x.flat = [a+b for (a,b) in bc]\n",
    "print(x)"
   ]
  },
  {
   "cell_type": "code",
   "execution_count": 17,
   "metadata": {
    "tags": []
   },
   "outputs": [
    {
     "output_type": "stream",
     "name": "stdout",
     "text": "[[1 2 3]\n [4 5 6]\n [1 2 3]]\n"
    }
   ],
   "source": [
    "arr = np.array([[1,2,3], [4,5,6]])\n",
    "arr_resized = np.resize(arr, (3,3))     #resizes array into 3x3, repeats elements for missing 3 values\n",
    "print(arr_resized)"
   ]
  },
  {
   "cell_type": "code",
   "execution_count": 18,
   "metadata": {
    "tags": []
   },
   "outputs": [
    {
     "output_type": "stream",
     "name": "stdout",
     "text": "[1 2 3]\n[1 2 3]\n['a' 'b' 'c'] [0 1 3]\n['a' 'b' 'c'] [2 2 1]\n"
    }
   ],
   "source": [
    "unique = np.unique([1,1,2,2,3,3])\n",
    "print(unique)                           #removes repeated values\n",
    "\n",
    "arr = np.array([[1,1], [2,3]])\n",
    "print(np.unique(arr))                   #call unique on separate array\n",
    "\n",
    "arr = np.array(['a', 'b', 'b', 'c', 'a'])       #unique works on characters as well\n",
    "unique, indices = np.unique(arr,return_index=True) #can set variable to index\n",
    "print(unique, indices)\n",
    "\n",
    "count = np.unique(arr, return_counts=True)      #tuple containing value, count\n",
    "print(count[0], count[1])"
   ]
  },
  {
   "cell_type": "code",
   "execution_count": null,
   "metadata": {},
   "outputs": [],
   "source": []
  }
 ]
}