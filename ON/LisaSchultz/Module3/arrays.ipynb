{
 "metadata": {
  "language_info": {
   "codemirror_mode": {
    "name": "ipython",
    "version": 3
   },
   "file_extension": ".py",
   "mimetype": "text/x-python",
   "name": "python",
   "nbconvert_exporter": "python",
   "pygments_lexer": "ipython3",
   "version": 3
  },
  "orig_nbformat": 2,
  "kernelspec": {
   "name": "python_defaultSpec_1595201925565",
   "display_name": "Python 3.8.3 64-bit"
  }
 },
 "nbformat": 4,
 "nbformat_minor": 2,
 "cells": [
  {
   "cell_type": "code",
   "execution_count": 1,
   "metadata": {},
   "outputs": [],
   "source": [
    "import numpy as np"
   ]
  },
  {
   "cell_type": "code",
   "execution_count": 5,
   "metadata": {
    "tags": []
   },
   "outputs": [
    {
     "output_type": "stream",
     "name": "stdout",
     "text": "<class 'numpy.ndarray'>\nint32\n(3,)\n1 2 3\n[1 2 4]\n(2, 3)\n1 2 4\n[4 5 6]\n"
    }
   ],
   "source": [
    "# create rank 1 dim array\n",
    "arr = np.array([1,2,3])\n",
    "print(type(arr))            # outputs <class 'numpy.ndarray'>\n",
    "print(arr.dtype)            # outputs data type\n",
    "print(arr.shape)            # outputs array shape\n",
    "print(arr[0], arr[1], arr[2])  # prints individual elements\n",
    "arr[2] = 4                  # changes element\n",
    "print(arr)\n",
    "\n",
    "# create rank 2 array\n",
    "arr2 = np.array([[1,2,3], [4,5,6]])\n",
    "print(arr2.shape)\n",
    "print(arr2[0,0], arr2[0,1], arr2[1,0])\n",
    "print(arr2[-1])             #prints last element\n"
   ]
  },
  {
   "cell_type": "code",
   "execution_count": 6,
   "metadata": {
    "tags": []
   },
   "outputs": [
    {
     "output_type": "stream",
     "name": "stdout",
     "text": "[[0. 0.]\n [0. 0.]]\n[[1. 1.]]\n[[5 5]\n [5 5]]\n[[1. 0. 0.]\n [0. 1. 0.]\n [0. 0. 1.]]\n[[0. 1. 0. 0.]\n [0. 0. 1. 0.]\n [0. 0. 0. 1.]\n [0. 0. 0. 0.]]\n[[0.47415861 0.23636407]\n [0.7309936  0.99476703]]\n"
    }
   ],
   "source": [
    "# create an array of zeros with 2 dim and size of 2 each\n",
    "zero = np.zeros((2,2))\n",
    "print(zero)\n",
    "\n",
    "# create an array of ones with 1 dim and size of 2 each\n",
    "one = np.ones((1,2))\n",
    "print(one)\n",
    "\n",
    "# create a new array with given shape, type, and filled with value\n",
    "constant = np.full((2,2), 5)\n",
    "print(constant)\n",
    "\n",
    "# create a 2-D array with 1 on diagonal and 0 on others\n",
    "diag = np.eye(3)\n",
    "print(diag)\n",
    "\n",
    "#diag starts at index 1\n",
    "diag = np.eye(4, k=1)\n",
    "print(diag)\n",
    "\n",
    "#create an array with random values\n",
    "rand = np.random.random((2,2))\n",
    "print(rand)"
   ]
  },
  {
   "cell_type": "code",
   "execution_count": 7,
   "metadata": {
    "tags": []
   },
   "outputs": [
    {
     "output_type": "stream",
     "name": "stdout",
     "text": "[0 2 4 6]\n[[1 2]\n [5 6]]\n"
    }
   ],
   "source": [
    "arr = np.arange(10)\n",
    "print(arr[0:8:2])           # print every two numbers from 0 up to but not including 8\n",
    "\n",
    "#create rank2 with shape (3,4) array\n",
    "arr = np.array([[1,2,3,4], [5,6,7,8], [9,10,11,12]])\n",
    "print(arr[:2, :2])          # prints the first to elements in the first two indexes [1,2] & [5,6]\n",
    "\n"
   ]
  },
  {
   "cell_type": "code",
   "execution_count": 8,
   "metadata": {
    "tags": []
   },
   "outputs": [
    {
     "output_type": "stream",
     "name": "stdout",
     "text": "[1 4 6]\n"
    }
   ],
   "source": [
    "#integer indexing\n",
    "arr = np.array([[1,2], [3,4], [5,6]])\n",
    "print(arr[[0,1,2], [0,1,1]])        # equivalent to [arr[0,0], arr[1,1,arr[2,1]]]\n"
   ]
  },
  {
   "cell_type": "code",
   "execution_count": 9,
   "metadata": {
    "tags": []
   },
   "outputs": [
    {
     "output_type": "stream",
     "name": "stdout",
     "text": "[0 1 2 3 4 5 6 7 8]\n[[0 1 2]\n [3 4 5]\n [6 7 8]]\n"
    }
   ],
   "source": [
    "# reshape: gives a new shape to an array without chaging its data\n",
    "arr = np.arange(9)\n",
    "print(arr)\n",
    "reshape_arr = arr.reshape(3,3)\n",
    "print(reshape_arr)"
   ]
  },
  {
   "cell_type": "code",
   "execution_count": 10,
   "metadata": {
    "tags": []
   },
   "outputs": [
    {
     "output_type": "stream",
     "name": "stdout",
     "text": "[[0 1 2 3]\n [4 5 6 7]]\n4\n"
    }
   ],
   "source": [
    "# flat: iterator over the array turned into 1-D array\n",
    "arr = np.arange(8).reshape(2,4)\n",
    "print(arr)\n",
    "print(arr.flat[4])"
   ]
  },
  {
   "cell_type": "code",
   "execution_count": 11,
   "metadata": {
    "tags": []
   },
   "outputs": [
    {
     "output_type": "stream",
     "name": "stdout",
     "text": "[[0 1 2 3]\n [4 5 6 7]]\n[0 1 2 3 4 5 6 7]\n"
    }
   ],
   "source": [
    "#flatten: collapse to 1-D array and return a copy of the  array\n",
    "arr = np.arange(8).reshape(2,4)\n",
    "print(arr)\n",
    "print(arr.flatten())"
   ]
  },
  {
   "cell_type": "code",
   "execution_count": 12,
   "metadata": {
    "tags": []
   },
   "outputs": [
    {
     "output_type": "stream",
     "name": "stdout",
     "text": "[[0 1 2 3]\n [4 5 6 7]]\n[[0 4]\n [1 5]\n [2 6]\n [3 7]]\n"
    }
   ],
   "source": [
    "#transpose: permutes the dimentions of an array\n",
    "arr = np.arange(8).reshape(2,4)\n",
    "print(arr)\n",
    "print(arr.transpose())"
   ]
  },
  {
   "cell_type": "code",
   "execution_count": 14,
   "metadata": {
    "tags": []
   },
   "outputs": [
    {
     "output_type": "stream",
     "name": "stdout",
     "text": "[[5 6 7]\n [6 7 8]\n [7 8 9]]\n<numpy.broadcast object at 0x000002AEEFF8E5F0>\n[[0. 0. 0.]\n [0. 0. 0.]\n [0. 0. 0.]]\n[[5. 6. 7.]\n [6. 7. 8.]\n [7. 8. 9.]]\n"
    }
   ],
   "source": [
    "#broadcast: Produces an object tha mimics broadcasting.\n",
    "# numpy built-in support broadcasting\n",
    "a = np.array([[1], [2], [3]])\n",
    "b = np.array([4,5,6])\n",
    "c = a + b                       # [[1+4, 2+4, 3+4], [1+5, and so on], [1+6, and so on]]\n",
    "print(c)\n",
    "\n",
    "bc = np.broadcast(a,b)\n",
    "x = np.zeros(bc.shape)\n",
    "print(bc)\n",
    "print(x)\n",
    "\n",
    "x.flat = [a+b for (a,b) in bc]      # turn x into 1-D array for get all values after adding them\n",
    "print(x)"
   ]
  },
  {
   "cell_type": "code",
   "execution_count": 15,
   "metadata": {
    "tags": []
   },
   "outputs": [
    {
     "output_type": "stream",
     "name": "stdout",
     "text": "[[1 2 3]\n [4 5 6]]\n[[1 2 3]\n [4 5 6]\n [1 2 3]]\n"
    }
   ],
   "source": [
    "#resize: returns a new array with the specified shape\n",
    "arr = np.array([[1,2,3], [4,5,6]])\n",
    "print(arr)\n",
    "arr_resized = np.resize(arr, (3,3))\n",
    "print(arr_resized)"
   ]
  },
  {
   "cell_type": "code",
   "execution_count": 18,
   "metadata": {
    "tags": []
   },
   "outputs": [
    {
     "output_type": "stream",
     "name": "stdout",
     "text": "[1 2 3]\n[1 2 3]\n['a' 'b' 'c'] [0 1 3]\n['a' 'b' 'c'] [2 2 1]\n"
    }
   ],
   "source": [
    "#unique: finds the unique elements of an array\n",
    "unique = np.unique([1,1,2,2,3,3])\n",
    "print(unique)\n",
    "\n",
    "arr = np.array([[1,1], [2,3]])\n",
    "print(np.unique(arr))\n",
    "\n",
    "arr = np.array(['a', 'b', 'b', 'c', 'a'])\n",
    "unique, indices = np.unique(arr, return_index=True)     #returns index of the first unque values\n",
    "print(unique, indices)\n",
    "\n",
    "count = np.unique(arr, return_counts=True)\n",
    "print(count[0], count[1])                               #first array is unique value, second is number of occurances\n"
   ]
  },
  {
   "cell_type": "code",
   "execution_count": null,
   "metadata": {},
   "outputs": [],
   "source": []
  }
 ]
}