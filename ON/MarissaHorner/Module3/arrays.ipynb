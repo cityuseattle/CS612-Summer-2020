{
 "metadata": {
  "language_info": {
   "codemirror_mode": {
    "name": "ipython",
    "version": 3
   },
   "file_extension": ".py",
   "mimetype": "text/x-python",
   "name": "python",
   "nbconvert_exporter": "python",
   "pygments_lexer": "ipython3",
   "version": "3.8.3-final"
  },
  "orig_nbformat": 2,
  "kernelspec": {
   "name": "python38332bite1fd57cfa5eb40da98ed00ca95b07516",
   "display_name": "Python 3.8.3 32-bit"
  }
 },
 "nbformat": 4,
 "nbformat_minor": 2,
 "cells": [
  {
   "cell_type": "code",
   "execution_count": 76,
   "metadata": {},
   "outputs": [],
   "source": [
    "import numpy as np"
   ]
  },
  {
   "cell_type": "code",
   "execution_count": 77,
   "metadata": {
    "tags": []
   },
   "outputs": [
    {
     "output_type": "stream",
     "name": "stdout",
     "text": "<class 'numpy.ndarray'>\nint32\n(3,)\n1 2 3\n[1 2 4]\n(2, 3)\n1 2 4\n[4 5 6]\n"
    }
   ],
   "source": [
    "# create rank 1 dim array\n",
    "arr = np.array([1, 2, 3])\n",
    "print(type(arr))                            # outputs <class 'numpy.ndarray'>\n",
    "print(arr.dtype)                            # outputs int64\n",
    "print(arr.shape)                            # outputs (3, )\n",
    "print(arr[0], arr[1], arr[2])               # outputs 1 2 3\n",
    "arr[2] = 4                                  # change last element to 4\n",
    "print(arr)                                  # outputs [1 2 4]\n",
    "\n",
    "# create rank 2 array\n",
    "arr2 = np.array([[1, 2, 3], [4, 5, 6]])\n",
    "print(arr2.shape)                           # outputs (2, 3)\n",
    "print(arr2[0, 0], arr2[0, 1], arr2[1, 0])   # outputs 1 2 4\n",
    "print(arr2[-1])                             # outputs last element"
   ]
  },
  {
   "cell_type": "code",
   "execution_count": 78,
   "metadata": {
    "tags": []
   },
   "outputs": [
    {
     "output_type": "stream",
     "name": "stdout",
     "text": "[[0. 0.]\n [0. 0.]]\n[[1. 1.]]\n[[5 5]\n [5 5]]\n[[1. 0. 0.]\n [0. 1. 0.]\n [0. 0. 1.]]\n[[0. 1. 0. 0.]\n [0. 0. 1. 0.]\n [0. 0. 0. 1.]\n [0. 0. 0. 0.]]\n[[0.71868231 0.72142989]\n [0.98611563 0.66626303]]\n"
    }
   ],
   "source": [
    "# create an array of zeros with 2 dim and size of 2 each\n",
    "zero = np.zeros((2,2))\n",
    "print(zero)                                 # outputs \"[[0. 0.]\n",
    "                                            #           [0. 0.]]\"\n",
    "\n",
    "# create an array of ones with 1 dim and size of 2 each\n",
    "one = np.ones((1,2))\n",
    "print(one)                                  # outputs \"[[1. 1.]]\"\n",
    "\n",
    "# create a nee array with given shape, type, and filled value\n",
    "constant = np.full((2,2), 5)                # default type is float\n",
    "print(constant)                             # outputs \"[[5 5]\n",
    "                                            #           [5 5]]\"\n",
    "\n",
    "# create a 2-D array with 1 on diagonal and 0 on others\n",
    "diag = np.eye(3)                            # number of rows\n",
    "print(diag)                                 # outputs [[1. 0. 0.]\n",
    "                                            #          [0. 1. 0.]\n",
    "                                            #          [0. 0. 1.]]\n",
    "\n",
    "#diag starts at index 1\n",
    "diag = np.eye(4, k=1)               \n",
    "print(diag)                                 # outputs [[0. 1. 0. 0.]\n",
    "                                            #          [0. 0. 1. 0.]\n",
    "                                            #          [0. 0. 0. 1.]\n",
    "                                            #          [0. 0. 0. 0.]]\n",
    "\n",
    "# create an array with random values\n",
    "rand = np.random.random((2,2))\n",
    "print(rand)"
   ]
  },
  {
   "cell_type": "code",
   "execution_count": 79,
   "metadata": {
    "tags": []
   },
   "outputs": [
    {
     "output_type": "stream",
     "name": "stdout",
     "text": "[1 4 6]\n"
    }
   ],
   "source": [
    "# integer indexing\n",
    "\n",
    "arr = np.array([[1,2], [3, 4], [5, 6]])\n",
    "print(arr[[0, 1, 2], [0, 1, 1]])                # outputs [1 4 6]\n",
    "\n",
    "# arr [[0, 1, 2], [0, 1, 1]] is equivalent to [arr[0, 0], arr[1, 1, arr[2, 1]]]"
   ]
  },
  {
   "cell_type": "code",
   "execution_count": 80,
   "metadata": {
    "tags": []
   },
   "outputs": [
    {
     "output_type": "stream",
     "name": "stdout",
     "text": "[[0 1 2]\n [3 4 5]\n [6 7 8]]\n"
    }
   ],
   "source": [
    "arr = np.arange(9)                         # create [0, 1, 2, 3, 4, 5, 6, 7, 8]\n",
    "reshape_arr = arr.reshape(3, 3)             # reshape 1-D arr to 2-D with (3, 3)\n",
    "print(reshape_arr)                          # outputs  [[0 1 2]\n",
    "                                            #           [3 4 5]\n",
    "                                            #           [6 7 8]]\n",
    "\n"
   ]
  },
  {
   "cell_type": "code",
   "execution_count": 81,
   "metadata": {
    "tags": []
   },
   "outputs": [
    {
     "output_type": "stream",
     "name": "stdout",
     "text": "4\n"
    }
   ],
   "source": [
    "arr = np.arange(8).reshape(2, 4)           # generates [[0, 1, 2, 3],\n",
    "                                            #            [4, 5, 6, 7]]\n",
    "\n",
    "# print (arr[4])                            # access arr[4] would cause an error\n",
    "                                            # since index out of range\n",
    "\n",
    "print(arr.flat[4])                          # turned arr into 1-D array -> [0,1,2,3,4,5,6,7]\n",
    "                                            # then indexing at 4\n",
    "                                            # outputs 4"
   ]
  },
  {
   "cell_type": "code",
   "execution_count": 82,
   "metadata": {
    "tags": []
   },
   "outputs": [
    {
     "output_type": "stream",
     "name": "stdout",
     "text": "[0 1 2 3 4 5 6 7]\n"
    }
   ],
   "source": [
    "arr = np.arange(8).reshape(2, 4)           # generates [[0, 1, 2, 3],\n",
    "                                            #            [4, 5, 6, 7]]\n",
    "print(arr.flatten())                        # outputs [0,1,2,3,4,5,6,7,8]"
   ]
  },
  {
   "cell_type": "code",
   "execution_count": 83,
   "metadata": {
    "tags": []
   },
   "outputs": [
    {
     "output_type": "stream",
     "name": "stdout",
     "text": "[[0 4]\n [1 5]\n [2 6]\n [3 7]]\n"
    }
   ],
   "source": [
    "arr = np.arange(8).reshape(2, 4)           # generates [[0, 1, 2, 3],\n",
    "                                            #            [4, 5, 6, 7]]\n",
    "print(arr.transpose())                      # outputs [[0 4]\n",
    "                                            #          [1 5]\n",
    "                                            #          [2 6]\n",
    "                                            #          [3 7]]"
   ]
  },
  {
   "cell_type": "code",
   "execution_count": 84,
   "metadata": {
    "tags": []
   },
   "outputs": [
    {
     "output_type": "stream",
     "name": "stdout",
     "text": "[[5. 6. 7.]\n [6. 7. 8.]\n [7. 8. 9.]]\n"
    }
   ],
   "source": [
    "# numpy built-in supports boardcasting\n",
    "a = np.array([[1], [2], [3]])\n",
    "b = np.array([4, 5, 6])\n",
    "c = a + b                               # [[1+4, 2+4, 3+4], [1+5, so on], [1+6, so on]]\n",
    "                                        # outputs [[5 6 7]\n",
    "                                        #          [6 7 8]\n",
    "                                        #          [7 8 9]]\n",
    "# this is what it was doing for us\n",
    "bc = np.broadcast(a, b)                 # return broadcast object, and may be used as an iterator\n",
    "x = np.zeros(bc.shape)                  # x is [[0 0 0]\n",
    "                                        #       [0 0 0]\n",
    "                                        #       [0 0 0]]\n",
    "x.flat = [a + b for (a,b) in bc]        # turn x into 1-D array for get all values after adding them\n",
    "print(x)                                # now x is back to 3x3 with [[5., 6., 7.],\n",
    "                                        #                           [6., 7., 8.],\n",
    "                                        #                           [7., 8., 9.]]"
   ]
  },
  {
   "cell_type": "code",
   "execution_count": 85,
   "metadata": {
    "tags": []
   },
   "outputs": [
    {
     "output_type": "stream",
     "name": "stdout",
     "text": "[[1 2 3]\n [4 5 6]\n [1 2 3]]\n"
    }
   ],
   "source": [
    "arr = np.array([[1,2,3], [4,5,6]])          # shape is (2, 3)\n",
    "arr_resized = np.resize(arr, (3,3))         # resize to (3, 3)\n",
    "print(arr_resized)                          # it's bigger, so it repeated the first row to fill up\n",
    "                                            # here it is [[1 2 3]\n",
    "                                            #             [4 5 6]\n",
    "                                            #             [1 2 3]]"
   ]
  },
  {
   "cell_type": "code",
   "execution_count": 86,
   "metadata": {
    "tags": []
   },
   "outputs": [
    {
     "output_type": "stream",
     "name": "stdout",
     "text": "[1 2 3]\n[1 2 3]\n['a' 'b' 'c'] [0 1 2]\n['a' 'b' 'c'] [2 1 1]\n"
    }
   ],
   "source": [
    "unique = np.unique([1, 1, 2, 2, 3, 3])\n",
    "print(unique)                               # outputs [1 2 3]\n",
    "\n",
    "arr = np.array([[1, 1], [2, 3]])\n",
    "print(np.unique(arr))                       # outputs [1 2 3]\n",
    "\n",
    "arr = np.array(['a', 'b', 'c', 'a'])\n",
    "unique, indices = np.unique(arr, return_index=True)     # returns index of the first unique values\n",
    "print(unique, indices)                      # outputs ['a' 'b' 'c'] [0 1 3]\n",
    "\n",
    "count = np.unique(arr, return_counts=True)  # return tuple object\n",
    "print(count[0], count[1])"
   ]
  }
 ]
}