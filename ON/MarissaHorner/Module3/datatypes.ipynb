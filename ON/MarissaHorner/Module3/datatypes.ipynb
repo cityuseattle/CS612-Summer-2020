{
 "metadata": {
  "language_info": {
   "codemirror_mode": {
    "name": "ipython",
    "version": 3
   },
   "file_extension": ".py",
   "mimetype": "text/x-python",
   "name": "python",
   "nbconvert_exporter": "python",
   "pygments_lexer": "ipython3",
   "version": "3.8.3-final"
  },
  "orig_nbformat": 2,
  "kernelspec": {
   "name": "python38332bite1fd57cfa5eb40da98ed00ca95b07516",
   "display_name": "Python 3.8.3 32-bit"
  }
 },
 "nbformat": 4,
 "nbformat_minor": 2,
 "cells": [
  {
   "cell_type": "code",
   "execution_count": 4,
   "metadata": {},
   "outputs": [],
   "source": [
    "import numpy as np"
   ]
  },
  {
   "cell_type": "code",
   "execution_count": 5,
   "metadata": {
    "tags": []
   },
   "outputs": [
    {
     "output_type": "stream",
     "name": "stdout",
     "text": "int32\nfloat64\n[1. 2.]\nfloat64\n"
    }
   ],
   "source": [
    "dt = np.array([1, 2])\n",
    "print(dt.dtype)             # output > \"int64\"\n",
    "\n",
    "dt = np.array([1.0, 2.0])   \n",
    "print(dt.dtype)             # output > \"float64\"\n",
    "\n",
    "dt = np.array([1, 2], dtype=np.float64)     # force a particular datatype\n",
    "print(dt)\n",
    "print(dt.dtype)"
   ]
  }
 ]
}