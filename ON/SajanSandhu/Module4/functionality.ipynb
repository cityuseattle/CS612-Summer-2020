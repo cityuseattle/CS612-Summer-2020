{
 "metadata": {
  "language_info": {
   "codemirror_mode": {
    "name": "ipython",
    "version": 3
   },
   "file_extension": ".py",
   "mimetype": "text/x-python",
   "name": "python",
   "nbconvert_exporter": "python",
   "pygments_lexer": "ipython3",
   "version": 3
  },
  "orig_nbformat": 2,
  "kernelspec": {
   "name": "python_defaultSpec_1596180214564",
   "display_name": "Python 3.6.3 64-bit ('root': conda)"
  }
 },
 "nbformat": 4,
 "nbformat_minor": 2,
 "cells": [
  {
   "cell_type": "code",
   "execution_count": 3,
   "metadata": {},
   "outputs": [],
   "source": [
    "import pandas as pd"
   ]
  },
  {
   "cell_type": "code",
   "execution_count": 4,
   "metadata": {},
   "outputs": [
    {
     "output_type": "execute_result",
     "data": {
      "text/plain": "           Change  Sector  Value\nAmazon       17.5  Ratail    220\nGoogle       11.9    Tech    160\nApple        -8.5    Tech    140\nMicrosoft    -2.1    Tech    117\nSamsung       3.5    Tech     94",
      "text/html": "<div>\n<style>\n    .dataframe thead tr:only-child th {\n        text-align: right;\n    }\n\n    .dataframe thead th {\n        text-align: left;\n    }\n\n    .dataframe tbody tr th {\n        vertical-align: top;\n    }\n</style>\n<table border=\"1\" class=\"dataframe\">\n  <thead>\n    <tr style=\"text-align: right;\">\n      <th></th>\n      <th>Change</th>\n      <th>Sector</th>\n      <th>Value</th>\n    </tr>\n  </thead>\n  <tbody>\n    <tr>\n      <th>Amazon</th>\n      <td>17.5</td>\n      <td>Ratail</td>\n      <td>220</td>\n    </tr>\n    <tr>\n      <th>Google</th>\n      <td>11.9</td>\n      <td>Tech</td>\n      <td>160</td>\n    </tr>\n    <tr>\n      <th>Apple</th>\n      <td>-8.5</td>\n      <td>Tech</td>\n      <td>140</td>\n    </tr>\n    <tr>\n      <th>Microsoft</th>\n      <td>-2.1</td>\n      <td>Tech</td>\n      <td>117</td>\n    </tr>\n    <tr>\n      <th>Samsung</th>\n      <td>3.5</td>\n      <td>Tech</td>\n      <td>94</td>\n    </tr>\n  </tbody>\n</table>\n</div>"
     },
     "metadata": {},
     "execution_count": 4
    }
   ],
   "source": [
    "companies = {\n",
    "    'Value': [220,160,140,117,94],\n",
    "    'Change': [17.5,11.9,-8.5,-2.1,3.5],\n",
    "    'Sector': ['Ratail','Tech','Tech','Tech','Tech']\n",
    "}\n",
    "data = pd.DataFrame(companies, index =['Amazon', 'Google', 'Apple', 'Microsoft','Samsung'])\n",
    "data"
   ]
  },
  {
   "cell_type": "code",
   "execution_count": 5,
   "metadata": {
    "tags": []
   },
   "outputs": [
    {
     "output_type": "stream",
     "name": "stdout",
     "text": "<class 'pandas.core.frame.DataFrame'>\nIndex: 5 entries, Amazon to Samsung\nData columns (total 3 columns):\nChange    5 non-null float64\nSector    5 non-null object\nValue     5 non-null int64\ndtypes: float64(1), int64(1), object(1)\nmemory usage: 160.0+ bytes\n"
    }
   ],
   "source": [
    "data.info()"
   ]
  },
  {
   "cell_type": "code",
   "execution_count": 6,
   "metadata": {},
   "outputs": [
    {
     "output_type": "execute_result",
     "data": {
      "text/plain": "Index(['Change', 'Sector', 'Value'], dtype='object')"
     },
     "metadata": {},
     "execution_count": 6
    }
   ],
   "source": [
    "data.columns"
   ]
  },
  {
   "cell_type": "code",
   "execution_count": 7,
   "metadata": {},
   "outputs": [
    {
     "output_type": "execute_result",
     "data": {
      "text/plain": "Index(['Amazon', 'Google', 'Apple', 'Microsoft', 'Samsung'], dtype='object')"
     },
     "metadata": {},
     "execution_count": 7
    }
   ],
   "source": [
    "data.index"
   ]
  },
  {
   "cell_type": "code",
   "execution_count": 8,
   "metadata": {},
   "outputs": [
    {
     "output_type": "execute_result",
     "data": {
      "text/plain": "          Change       Value\ncount   5.000000    5.000000\nmean    4.460000  146.200000\nstd    10.456003   48.095738\nmin    -8.500000   94.000000\n25%    -2.100000  117.000000\n50%     3.500000  140.000000\n75%    11.900000  160.000000\nmax    17.500000  220.000000",
      "text/html": "<div>\n<style>\n    .dataframe thead tr:only-child th {\n        text-align: right;\n    }\n\n    .dataframe thead th {\n        text-align: left;\n    }\n\n    .dataframe tbody tr th {\n        vertical-align: top;\n    }\n</style>\n<table border=\"1\" class=\"dataframe\">\n  <thead>\n    <tr style=\"text-align: right;\">\n      <th></th>\n      <th>Change</th>\n      <th>Value</th>\n    </tr>\n  </thead>\n  <tbody>\n    <tr>\n      <th>count</th>\n      <td>5.000000</td>\n      <td>5.000000</td>\n    </tr>\n    <tr>\n      <th>mean</th>\n      <td>4.460000</td>\n      <td>146.200000</td>\n    </tr>\n    <tr>\n      <th>std</th>\n      <td>10.456003</td>\n      <td>48.095738</td>\n    </tr>\n    <tr>\n      <th>min</th>\n      <td>-8.500000</td>\n      <td>94.000000</td>\n    </tr>\n    <tr>\n      <th>25%</th>\n      <td>-2.100000</td>\n      <td>117.000000</td>\n    </tr>\n    <tr>\n      <th>50%</th>\n      <td>3.500000</td>\n      <td>140.000000</td>\n    </tr>\n    <tr>\n      <th>75%</th>\n      <td>11.900000</td>\n      <td>160.000000</td>\n    </tr>\n    <tr>\n      <th>max</th>\n      <td>17.500000</td>\n      <td>220.000000</td>\n    </tr>\n  </tbody>\n</table>\n</div>"
     },
     "metadata": {},
     "execution_count": 8
    }
   ],
   "source": [
    "data.describe()"
   ]
  },
  {
   "cell_type": "code",
   "execution_count": 9,
   "metadata": {},
   "outputs": [
    {
     "output_type": "execute_result",
     "data": {
      "text/plain": "        Change  Sector  Value\nAmazon    17.5  Ratail    220\nGoogle    11.9    Tech    160",
      "text/html": "<div>\n<style>\n    .dataframe thead tr:only-child th {\n        text-align: right;\n    }\n\n    .dataframe thead th {\n        text-align: left;\n    }\n\n    .dataframe tbody tr th {\n        vertical-align: top;\n    }\n</style>\n<table border=\"1\" class=\"dataframe\">\n  <thead>\n    <tr style=\"text-align: right;\">\n      <th></th>\n      <th>Change</th>\n      <th>Sector</th>\n      <th>Value</th>\n    </tr>\n  </thead>\n  <tbody>\n    <tr>\n      <th>Amazon</th>\n      <td>17.5</td>\n      <td>Ratail</td>\n      <td>220</td>\n    </tr>\n    <tr>\n      <th>Google</th>\n      <td>11.9</td>\n      <td>Tech</td>\n      <td>160</td>\n    </tr>\n  </tbody>\n</table>\n</div>"
     },
     "metadata": {},
     "execution_count": 9
    }
   ],
   "source": [
    "data.loc[data['Value'] >150]"
   ]
  },
  {
   "cell_type": "code",
   "execution_count": 10,
   "metadata": {},
   "outputs": [
    {
     "output_type": "execute_result",
     "data": {
      "text/plain": "Amazon       17.5\nGoogle       11.9\nApple        -8.5\nMicrosoft    -2.1\nSamsung       3.5\nName: Change, dtype: float64"
     },
     "metadata": {},
     "execution_count": 10
    }
   ],
   "source": [
    "data['Change']"
   ]
  },
  {
   "cell_type": "code",
   "execution_count": 11,
   "metadata": {},
   "outputs": [
    {
     "output_type": "execute_result",
     "data": {
      "text/plain": "           Change  Sector  Value\nAmazon       17.5  Ratail    220\nGoogle       11.9    Tech    160\nApple        -8.5    Tech    140\nMicrosoft    -2.1    Tech    117\nSamsung       3.5    Tech     94",
      "text/html": "<div>\n<style>\n    .dataframe thead tr:only-child th {\n        text-align: right;\n    }\n\n    .dataframe thead th {\n        text-align: left;\n    }\n\n    .dataframe tbody tr th {\n        vertical-align: top;\n    }\n</style>\n<table border=\"1\" class=\"dataframe\">\n  <thead>\n    <tr style=\"text-align: right;\">\n      <th></th>\n      <th>Change</th>\n      <th>Sector</th>\n      <th>Value</th>\n    </tr>\n  </thead>\n  <tbody>\n    <tr>\n      <th>Amazon</th>\n      <td>17.5</td>\n      <td>Ratail</td>\n      <td>220</td>\n    </tr>\n    <tr>\n      <th>Google</th>\n      <td>11.9</td>\n      <td>Tech</td>\n      <td>160</td>\n    </tr>\n    <tr>\n      <th>Apple</th>\n      <td>-8.5</td>\n      <td>Tech</td>\n      <td>140</td>\n    </tr>\n    <tr>\n      <th>Microsoft</th>\n      <td>-2.1</td>\n      <td>Tech</td>\n      <td>117</td>\n    </tr>\n    <tr>\n      <th>Samsung</th>\n      <td>3.5</td>\n      <td>Tech</td>\n      <td>94</td>\n    </tr>\n  </tbody>\n</table>\n</div>"
     },
     "metadata": {},
     "execution_count": 11
    }
   ],
   "source": [
    "data"
   ]
  },
  {
   "cell_type": "code",
   "execution_count": 12,
   "metadata": {},
   "outputs": [
    {
     "output_type": "execute_result",
     "data": {
      "text/plain": "Change    -2.1\nSector    Tech\nValue      117\nName: Microsoft, dtype: object"
     },
     "metadata": {},
     "execution_count": 12
    }
   ],
   "source": [
    "data.iloc[3]"
   ]
  },
  {
   "cell_type": "code",
   "execution_count": 13,
   "metadata": {},
   "outputs": [
    {
     "output_type": "execute_result",
     "data": {
      "text/plain": "          Sector  Value\nGoogle      Tech    160\nApple       Tech    140\nMicrosoft   Tech    117",
      "text/html": "<div>\n<style>\n    .dataframe thead tr:only-child th {\n        text-align: right;\n    }\n\n    .dataframe thead th {\n        text-align: left;\n    }\n\n    .dataframe tbody tr th {\n        vertical-align: top;\n    }\n</style>\n<table border=\"1\" class=\"dataframe\">\n  <thead>\n    <tr style=\"text-align: right;\">\n      <th></th>\n      <th>Sector</th>\n      <th>Value</th>\n    </tr>\n  </thead>\n  <tbody>\n    <tr>\n      <th>Google</th>\n      <td>Tech</td>\n      <td>160</td>\n    </tr>\n    <tr>\n      <th>Apple</th>\n      <td>Tech</td>\n      <td>140</td>\n    </tr>\n    <tr>\n      <th>Microsoft</th>\n      <td>Tech</td>\n      <td>117</td>\n    </tr>\n  </tbody>\n</table>\n</div>"
     },
     "metadata": {},
     "execution_count": 13
    }
   ],
   "source": [
    "data.iloc[1:4,1:3]"
   ]
  },
  {
   "cell_type": "code",
   "execution_count": 14,
   "metadata": {
    "tags": []
   },
   "outputs": [
    {
     "output_type": "execute_result",
     "data": {
      "text/plain": "        Change  Sector  Value\nAmazon    17.5  Ratail    220\nGoogle    11.9    Tech    160\nApple     -8.5    Tech    140",
      "text/html": "<div>\n<style>\n    .dataframe thead tr:only-child th {\n        text-align: right;\n    }\n\n    .dataframe thead th {\n        text-align: left;\n    }\n\n    .dataframe tbody tr th {\n        vertical-align: top;\n    }\n</style>\n<table border=\"1\" class=\"dataframe\">\n  <thead>\n    <tr style=\"text-align: right;\">\n      <th></th>\n      <th>Change</th>\n      <th>Sector</th>\n      <th>Value</th>\n    </tr>\n  </thead>\n  <tbody>\n    <tr>\n      <th>Amazon</th>\n      <td>17.5</td>\n      <td>Ratail</td>\n      <td>220</td>\n    </tr>\n    <tr>\n      <th>Google</th>\n      <td>11.9</td>\n      <td>Tech</td>\n      <td>160</td>\n    </tr>\n    <tr>\n      <th>Apple</th>\n      <td>-8.5</td>\n      <td>Tech</td>\n      <td>140</td>\n    </tr>\n  </tbody>\n</table>\n</div>"
     },
     "metadata": {},
     "execution_count": 14
    }
   ],
   "source": [
    "data[0:3]"
   ]
  },
  {
   "cell_type": "code",
   "execution_count": 15,
   "metadata": {},
   "outputs": [
    {
     "output_type": "execute_result",
     "data": {
      "text/plain": "           Change  Sector  Value\nAmazon       17.5  Ratail    220\nGoogle       11.9    Tech    160\nApple        -8.5    Tech    140\nMicrosoft    -2.1    Tech    117",
      "text/html": "<div>\n<style>\n    .dataframe thead tr:only-child th {\n        text-align: right;\n    }\n\n    .dataframe thead th {\n        text-align: left;\n    }\n\n    .dataframe tbody tr th {\n        vertical-align: top;\n    }\n</style>\n<table border=\"1\" class=\"dataframe\">\n  <thead>\n    <tr style=\"text-align: right;\">\n      <th></th>\n      <th>Change</th>\n      <th>Sector</th>\n      <th>Value</th>\n    </tr>\n  </thead>\n  <tbody>\n    <tr>\n      <th>Amazon</th>\n      <td>17.5</td>\n      <td>Ratail</td>\n      <td>220</td>\n    </tr>\n    <tr>\n      <th>Google</th>\n      <td>11.9</td>\n      <td>Tech</td>\n      <td>160</td>\n    </tr>\n    <tr>\n      <th>Apple</th>\n      <td>-8.5</td>\n      <td>Tech</td>\n      <td>140</td>\n    </tr>\n    <tr>\n      <th>Microsoft</th>\n      <td>-2.1</td>\n      <td>Tech</td>\n      <td>117</td>\n    </tr>\n  </tbody>\n</table>\n</div>"
     },
     "metadata": {},
     "execution_count": 15
    }
   ],
   "source": [
    "data['Amazon':'Microsoft']"
   ]
  },
  {
   "cell_type": "code",
   "execution_count": 16,
   "metadata": {},
   "outputs": [
    {
     "output_type": "execute_result",
     "data": {
      "text/plain": "           Change  Sector  Value\nAmazon       17.5  Ratail    220\nGoogle       11.9    Tech    160\nApple        -8.5    Tech    140\nMicrosoft    -2.1    Tech    117\nSamsung       3.5    Tech     94",
      "text/html": "<div>\n<style>\n    .dataframe thead tr:only-child th {\n        text-align: right;\n    }\n\n    .dataframe thead th {\n        text-align: left;\n    }\n\n    .dataframe tbody tr th {\n        vertical-align: top;\n    }\n</style>\n<table border=\"1\" class=\"dataframe\">\n  <thead>\n    <tr style=\"text-align: right;\">\n      <th></th>\n      <th>Change</th>\n      <th>Sector</th>\n      <th>Value</th>\n    </tr>\n  </thead>\n  <tbody>\n    <tr>\n      <th>Amazon</th>\n      <td>17.5</td>\n      <td>Ratail</td>\n      <td>220</td>\n    </tr>\n    <tr>\n      <th>Google</th>\n      <td>11.9</td>\n      <td>Tech</td>\n      <td>160</td>\n    </tr>\n    <tr>\n      <th>Apple</th>\n      <td>-8.5</td>\n      <td>Tech</td>\n      <td>140</td>\n    </tr>\n    <tr>\n      <th>Microsoft</th>\n      <td>-2.1</td>\n      <td>Tech</td>\n      <td>117</td>\n    </tr>\n    <tr>\n      <th>Samsung</th>\n      <td>3.5</td>\n      <td>Tech</td>\n      <td>94</td>\n    </tr>\n  </tbody>\n</table>\n</div>"
     },
     "metadata": {},
     "execution_count": 16
    }
   ],
   "source": [
    "data"
   ]
  },
  {
   "cell_type": "code",
   "execution_count": 17,
   "metadata": {},
   "outputs": [
    {
     "output_type": "execute_result",
     "data": {
      "text/plain": "Amazon       440\nGoogle       320\nApple        280\nMicrosoft    234\nSamsung      188\nName: Value, dtype: int64"
     },
     "metadata": {},
     "execution_count": 17
    }
   ],
   "source": [
    "data['Value'].mul(2)"
   ]
  },
  {
   "cell_type": "code",
   "execution_count": 19,
   "metadata": {},
   "outputs": [
    {
     "output_type": "execute_result",
     "data": {
      "text/plain": "Amazon       218\nGoogle       158\nApple        138\nMicrosoft    115\nSamsung       92\nName: Value, dtype: int64"
     },
     "metadata": {},
     "execution_count": 19
    }
   ],
   "source": [
    "data['Value'].sub(2)"
   ]
  },
  {
   "cell_type": "code",
   "execution_count": 20,
   "metadata": {},
   "outputs": [
    {
     "output_type": "execute_result",
     "data": {
      "text/plain": "Amazon       222\nGoogle       162\nApple        142\nMicrosoft    119\nSamsung       96\nName: Value, dtype: int64"
     },
     "metadata": {},
     "execution_count": 20
    }
   ],
   "source": [
    "data['Value'].add(2)"
   ]
  },
  {
   "cell_type": "code",
   "execution_count": 21,
   "metadata": {},
   "outputs": [
    {
     "output_type": "execute_result",
     "data": {
      "text/plain": "(Amazon       110\n Google        80\n Apple         70\n Microsoft     58\n Samsung       47\n Name: Value, dtype: int64, Amazon       0\n Google       0\n Apple        0\n Microsoft    1\n Samsung      0\n Name: Value, dtype: int64)"
     },
     "metadata": {},
     "execution_count": 21
    }
   ],
   "source": [
    "div, rem = divmod(data['Value'], 2)\n",
    "div, rem"
   ]
  },
  {
   "cell_type": "code",
   "execution_count": 22,
   "metadata": {},
   "outputs": [
    {
     "output_type": "execute_result",
     "data": {
      "text/plain": "           Change  Sector  Value\nAmazon       17.5  Ratail    220\nGoogle       11.9    Tech    160\nApple        -8.5    Tech    140\nMicrosoft    -2.1    Tech    117\nSamsung       3.5    Tech     94",
      "text/html": "<div>\n<style>\n    .dataframe thead tr:only-child th {\n        text-align: right;\n    }\n\n    .dataframe thead th {\n        text-align: left;\n    }\n\n    .dataframe tbody tr th {\n        vertical-align: top;\n    }\n</style>\n<table border=\"1\" class=\"dataframe\">\n  <thead>\n    <tr style=\"text-align: right;\">\n      <th></th>\n      <th>Change</th>\n      <th>Sector</th>\n      <th>Value</th>\n    </tr>\n  </thead>\n  <tbody>\n    <tr>\n      <th>Amazon</th>\n      <td>17.5</td>\n      <td>Ratail</td>\n      <td>220</td>\n    </tr>\n    <tr>\n      <th>Google</th>\n      <td>11.9</td>\n      <td>Tech</td>\n      <td>160</td>\n    </tr>\n    <tr>\n      <th>Apple</th>\n      <td>-8.5</td>\n      <td>Tech</td>\n      <td>140</td>\n    </tr>\n    <tr>\n      <th>Microsoft</th>\n      <td>-2.1</td>\n      <td>Tech</td>\n      <td>117</td>\n    </tr>\n    <tr>\n      <th>Samsung</th>\n      <td>3.5</td>\n      <td>Tech</td>\n      <td>94</td>\n    </tr>\n  </tbody>\n</table>\n</div>"
     },
     "metadata": {},
     "execution_count": 22
    }
   ],
   "source": [
    "data"
   ]
  },
  {
   "cell_type": "code",
   "execution_count": 23,
   "metadata": {},
   "outputs": [
    {
     "output_type": "execute_result",
     "data": {
      "text/plain": "Change      4.46\nValue     146.20\ndtype: float64"
     },
     "metadata": {},
     "execution_count": 23
    }
   ],
   "source": [
    "data.mean()"
   ]
  },
  {
   "cell_type": "code",
   "execution_count": 24,
   "metadata": {},
   "outputs": [
    {
     "output_type": "execute_result",
     "data": {
      "text/plain": "Change                      22.3\nSector    RatailTechTechTechTech\nValue                        731\ndtype: object"
     },
     "metadata": {},
     "execution_count": 24
    }
   ],
   "source": [
    "data.sum(0)"
   ]
  },
  {
   "cell_type": "code",
   "execution_count": 25,
   "metadata": {},
   "outputs": [
    {
     "output_type": "execute_result",
     "data": {
      "text/plain": "Amazon       237.5\nGoogle       171.9\nApple        131.5\nMicrosoft    114.9\nSamsung       97.5\ndtype: float64"
     },
     "metadata": {},
     "execution_count": 25
    }
   ],
   "source": [
    "data.sum(1)"
   ]
  },
  {
   "cell_type": "code",
   "execution_count": 26,
   "metadata": {},
   "outputs": [
    {
     "output_type": "execute_result",
     "data": {
      "text/plain": "Change    10.456003\nValue     48.095738\ndtype: float64"
     },
     "metadata": {},
     "execution_count": 26
    }
   ],
   "source": [
    "data.std()"
   ]
  },
  {
   "cell_type": "code",
   "execution_count": 29,
   "metadata": {},
   "outputs": [
    {
     "output_type": "execute_result",
     "data": {
      "text/plain": "Change      3.5\nValue     140.0\nName: 0.5, dtype: float64"
     },
     "metadata": {},
     "execution_count": 29
    }
   ],
   "source": [
    "data.quantile(.5)"
   ]
  },
  {
   "cell_type": "code",
   "execution_count": 30,
   "metadata": {},
   "outputs": [
    {
     "output_type": "execute_result",
     "data": {
      "text/plain": "Change      -8.5\nSector    Ratail\nValue         94\ndtype: object"
     },
     "metadata": {},
     "execution_count": 30
    }
   ],
   "source": [
    "data.min()"
   ]
  },
  {
   "cell_type": "code",
   "execution_count": 31,
   "metadata": {},
   "outputs": [
    {
     "output_type": "execute_result",
     "data": {
      "text/plain": "          Change                  Sector Value\nAmazon      17.5                  Ratail   220\nGoogle      29.4              RatailTech   380\nApple       20.9          RatailTechTech   520\nMicrosoft   18.8      RatailTechTechTech   637\nSamsung     22.3  RatailTechTechTechTech   731",
      "text/html": "<div>\n<style>\n    .dataframe thead tr:only-child th {\n        text-align: right;\n    }\n\n    .dataframe thead th {\n        text-align: left;\n    }\n\n    .dataframe tbody tr th {\n        vertical-align: top;\n    }\n</style>\n<table border=\"1\" class=\"dataframe\">\n  <thead>\n    <tr style=\"text-align: right;\">\n      <th></th>\n      <th>Change</th>\n      <th>Sector</th>\n      <th>Value</th>\n    </tr>\n  </thead>\n  <tbody>\n    <tr>\n      <th>Amazon</th>\n      <td>17.5</td>\n      <td>Ratail</td>\n      <td>220</td>\n    </tr>\n    <tr>\n      <th>Google</th>\n      <td>29.4</td>\n      <td>RatailTech</td>\n      <td>380</td>\n    </tr>\n    <tr>\n      <th>Apple</th>\n      <td>20.9</td>\n      <td>RatailTechTech</td>\n      <td>520</td>\n    </tr>\n    <tr>\n      <th>Microsoft</th>\n      <td>18.8</td>\n      <td>RatailTechTechTech</td>\n      <td>637</td>\n    </tr>\n    <tr>\n      <th>Samsung</th>\n      <td>22.3</td>\n      <td>RatailTechTechTechTech</td>\n      <td>731</td>\n    </tr>\n  </tbody>\n</table>\n</div>"
     },
     "metadata": {},
     "execution_count": 31
    }
   ],
   "source": [
    "data.cumsum()"
   ]
  },
  {
   "cell_type": "code",
   "execution_count": null,
   "metadata": {},
   "outputs": [],
   "source": []
  }
 ]
}