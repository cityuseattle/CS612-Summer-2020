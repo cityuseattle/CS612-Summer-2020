{
 "metadata": {
  "language_info": {
   "codemirror_mode": {
    "name": "ipython",
    "version": 3
   },
   "file_extension": ".py",
   "mimetype": "text/x-python",
   "name": "python",
   "nbconvert_exporter": "python",
   "pygments_lexer": "ipython3",
   "version": 3
  },
  "orig_nbformat": 2,
  "kernelspec": {
   "name": "python_defaultSpec_1596077736444",
   "display_name": "Python 3.8.5 32-bit"
  }
 },
 "nbformat": 4,
 "nbformat_minor": 2,
 "cells": [
  {
   "cell_type": "code",
   "execution_count": null,
   "metadata": {},
   "outputs": [],
   "source": [
    "import numpy as np "
   ]
  },
  {
   "cell_type": "code",
   "execution_count": 2,
   "metadata": {
    "tags": []
   },
   "outputs": [
    {
     "output_type": "stream",
     "name": "stdout",
     "text": "<class 'numpy.ndarray'>\nint32\n(3,)\n1 2 3\n[1 2 4]\n(2, 3)\n1 2 4\n[4 5 6]\n"
    }
   ],
   "source": [
    "import numpy as np \n",
    "\n",
    "#create rank 1 dim array\n",
    "arr = np.array([1, 2, 3])                   \n",
    "print(type(arr))                            #outputs <class 'numpy.ndarrray>          \n",
    "print(arr.dtype)                            #outputs int64              \n",
    "print(arr.shape)                            #outputs (3,)\n",
    "print(arr[0], arr[1], arr[2])               #outputs 1 2 3\n",
    "arr[2] = 4                                  #change last element to 4\n",
    "print(arr)                                  #output 1 2 4\n",
    "\n",
    "#crete rank 2 array\n",
    "arr2 = np.array([[1,2,3], [4,5,6]])         \n",
    "print(arr2.shape)                           #output (2, 3)\n",
    "print(arr2[0,0], arr2[0,1], arr2[1,0])      #output 1 2 4\n",
    "print(arr2[-1])                             #outputs last element 4 5 6\n"
   ]
  },
  {
   "cell_type": "code",
   "execution_count": 3,
   "metadata": {
    "tags": []
   },
   "outputs": [
    {
     "output_type": "stream",
     "name": "stdout",
     "text": "[[0. 0.]\n [0. 0.]]\n[[1. 1.]]\n[[5 5]\n [5 5]]\n[[0. 1. 0. 0.]\n [0. 0. 1. 0.]\n [0. 0. 0. 1.]\n [0. 0. 0. 0.]]\n[[0.17945559 0.89607018]\n [0.00171455 0.23195973]]\n"
    }
   ],
   "source": [
    "import numpy as np \n",
    "#create an array of zeros with 2 dimension and size of 2\n",
    "zero = np.zeros((2,2))\n",
    "print (zero)           #outputs \"[[0. 0.]\n",
    "                       #         [0. 0.]\"\n",
    "\n",
    "#create an array of ones with 1 dim and size of 2 each\n",
    "one = np.ones((1,2))\n",
    "print (one)             #outputs \"[[1. 1.]]\"\n",
    "\n",
    "#create a new array with given shape, type and filled with value\n",
    "constant = np.full((2,2), 5)    #default type is float\n",
    "print(constant)                 #diytoyts \"[[5 5\n",
    "                                #           [5 5]]\"\n",
    "                                \n",
    "#create a 2-D array with 1 on diagonal and 0 others\n",
    "diag = np.eye(3)                #number of rows\n",
    "                                #outputs [[1. 0. 0.]]\n",
    "                                #        [0. 1. 0]\n",
    "                                #        [0. 0. 1.]]\n",
    "\n",
    "#diag starts at index 1\n",
    "diag = np.eye(4, k=1)\n",
    "print(diag)                 #outputs [[0. 1. 0. 0.]]\n",
    "                            #         [0. 0. 1. 0.]\n",
    "                            #         [0. 0. 0. 1.]\n",
    "                            #         [0. 0. 0. 0.]]\n",
    "\n",
    "#create an array with random values\n",
    "rand = np.random.random((2,2))\n",
    "print(rand)\n"
   ]
  },
  {
   "cell_type": "code",
   "execution_count": 4,
   "metadata": {
    "tags": []
   },
   "outputs": [
    {
     "output_type": "stream",
     "name": "stdout",
     "text": "[0 2 4 6]\n[[1 2]\n [5 6]]\n"
    }
   ],
   "source": [
    "#Array indexing\n",
    "\n",
    "arr = np.arange(10)         #generate array [0 1 2 3 4 5 6 7 8 9]\n",
    "print (arr[0:8:2])          #every two number from 0 up to but not include 8\n",
    "\n",
    "#create rank 2 with shape (3, 4) array\n",
    "arr = np.array([[1,2,3,4], [5, 6, 7, 8], [9, 10, 11, 12]])\n",
    "print(arr[:2, :2])          #outputs [[1 2]]\n",
    "                            #        [5 6]"
   ]
  },
  {
   "cell_type": "code",
   "execution_count": 5,
   "metadata": {
    "tags": []
   },
   "outputs": [
    {
     "output_type": "stream",
     "name": "stdout",
     "text": "[1 4 6]\n"
    }
   ],
   "source": [
    "#integer indexing\n",
    "\n",
    "arr = np.array([[1,2], [3,4], [5,6]])\n",
    "print(arr[[0, 1, 2], [0, 1, 1]])        #outputs [1 4 6]\n",
    "\n"
   ]
  },
  {
   "cell_type": "code",
   "execution_count": null,
   "metadata": {},
   "outputs": [],
   "source": [
    "reshape()   "
   ]
  },
  {
   "cell_type": "code",
   "execution_count": 6,
   "metadata": {
    "tags": []
   },
   "outputs": [
    {
     "output_type": "stream",
     "name": "stdout",
     "text": "[[0 1 2]\n [3 4 5]\n [6 7 8]]\n"
    }
   ],
   "source": [
    "arr = np.arange(9)              #create [0, 1, 2, 3, 4, 5, 6, 7, 8]\n",
    "reshape_arr = arr.reshape(3, 3) #reshape 1-D arr to 2-D with (3,3)\n",
    "print(reshape_arr)              #outputs [[0 1 2]\n",
    "                                #         [3 4 5]\n",
    "                                #         [6 7 8]]"
   ]
  },
  {
   "cell_type": "code",
   "execution_count": null,
   "metadata": {},
   "outputs": [],
   "source": [
    "flat[]"
   ]
  },
  {
   "cell_type": "code",
   "execution_count": 9,
   "metadata": {
    "tags": []
   },
   "outputs": [
    {
     "output_type": "stream",
     "name": "stdout",
     "text": "4\n"
    }
   ],
   "source": [
    "arr = np.arange(8).reshape(2, 4)\n",
    "print(arr.flat[4])"
   ]
  },
  {
   "cell_type": "code",
   "execution_count": null,
   "metadata": {},
   "outputs": [],
   "source": [
    "flatten()\n",
    "#collapse to 1-d and return a copy of the array"
   ]
  },
  {
   "cell_type": "code",
   "execution_count": 10,
   "metadata": {
    "tags": []
   },
   "outputs": [
    {
     "output_type": "stream",
     "name": "stdout",
     "text": "[0 1 2 3 4 5 6 7]\n"
    }
   ],
   "source": [
    "arr = np.arange(8).reshape(2, 4)\n",
    "print(arr.flatten())"
   ]
  },
  {
   "cell_type": "code",
   "execution_count": null,
   "metadata": {},
   "outputs": [],
   "source": [
    "transpose()\n",
    "#permutes the dimensions of an array"
   ]
  },
  {
   "cell_type": "code",
   "execution_count": 11,
   "metadata": {
    "tags": []
   },
   "outputs": [
    {
     "output_type": "stream",
     "name": "stdout",
     "text": "[[0 4]\n [1 5]\n [2 6]\n [3 7]]\n"
    }
   ],
   "source": [
    "arr = np.arange(8).reshape(2, 4)\n",
    "print(arr.transpose())"
   ]
  },
  {
   "cell_type": "code",
   "execution_count": null,
   "metadata": {},
   "outputs": [],
   "source": [
    "broadcast()\n",
    "#Produce an object that mimics broadcasting. Broadcasting is a powerful mechanis that allows numpy to work with arrays of different shapes when performing arithmetic operations"
   ]
  },
  {
   "cell_type": "code",
   "execution_count": 14,
   "metadata": {
    "tags": []
   },
   "outputs": [
    {
     "output_type": "stream",
     "name": "stdout",
     "text": "[[5 6 7]\n [6 7 8]\n [7 8 9]]\n[[5. 6. 7.]\n [6. 7. 8.]\n [7. 8. 9.]]\n"
    }
   ],
   "source": [
    "#numpy built-in supports broadcasting\n",
    "a = np.array([[1], [2], [3]])\n",
    "b = np.array([4, 5, 6])\n",
    "c = a + b\n",
    "print(c)\n",
    "\n",
    "#this is what it was doing for us\n",
    "bc = np.broadcast(a, b)     \n",
    "x = np.zeros(bc.shape)\n",
    "\n",
    "x.flat = [a + b for (a,b) in bc]\n",
    "print(x)"
   ]
  },
  {
   "cell_type": "code",
   "execution_count": null,
   "metadata": {},
   "outputs": [],
   "source": [
    "resize()\n",
    "#dReturns a new array with the specified shape. If the new size is greater than the orginal, the repeated copies of entries in the original are contained"
   ]
  },
  {
   "cell_type": "code",
   "execution_count": 15,
   "metadata": {
    "tags": []
   },
   "outputs": [
    {
     "output_type": "stream",
     "name": "stdout",
     "text": "[[1 2 3]\n [4 5 6]\n [1 2 3]]\n"
    }
   ],
   "source": [
    "arr = np.array([[1,2,3], [4,5,6]])\n",
    "arr_resized = np.resize(arr, (3,3))\n",
    "print(arr_resized)"
   ]
  },
  {
   "cell_type": "code",
   "execution_count": null,
   "metadata": {},
   "outputs": [],
   "source": [
    "unique()\n",
    "#Finds the unique elements of an array"
   ]
  },
  {
   "cell_type": "code",
   "execution_count": 16,
   "metadata": {
    "tags": []
   },
   "outputs": [
    {
     "output_type": "stream",
     "name": "stdout",
     "text": "[1 2 3]\n[1 2 3]\n['a' 'b' 'c'] [0 1 3]\n['a' 'b' 'c'] [2 2 1]\n"
    }
   ],
   "source": [
    "unique = np.unique([1, 1, 2, 2, 3, 3])\n",
    "print(unique)               #output [1 2 3]\n",
    "\n",
    "arr = np.array([[1, 1], [2, 3]])\n",
    "print(np.unique(arr))       #output [1 2 3]\n",
    "\n",
    "arr = np.array(['a', 'b', 'b', 'c', 'a'])\n",
    "unique, indices = np.unique(arr, return_index=True)\n",
    "print(unique, indices)\n",
    "\n",
    "count = np.unique(arr, return_counts=True)\n",
    "print(count[0], count[1])"
   ]
  },
  {
   "cell_type": "code",
   "execution_count": null,
   "metadata": {},
   "outputs": [],
   "source": []
  }
 ]
}