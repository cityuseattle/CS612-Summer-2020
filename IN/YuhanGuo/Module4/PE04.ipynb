{
 "metadata": {
  "language_info": {
   "codemirror_mode": {
    "name": "ipython",
    "version": 3
   },
   "file_extension": ".py",
   "mimetype": "text/x-python",
   "name": "python",
   "nbconvert_exporter": "python",
   "pygments_lexer": "ipython3",
   "version": "3.8.4-final"
  },
  "orig_nbformat": 2,
  "kernelspec": {
   "name": "python38464bit4faf48487c1e45cd9bbda51cde3b2f7d",
   "display_name": "Python 3.8.4 64-bit"
  }
 },
 "nbformat": 4,
 "nbformat_minor": 2,
 "cells": [
  {
   "cell_type": "code",
   "execution_count": 113,
   "metadata": {},
   "outputs": [],
   "source": [
    "import numpy as np, pandas as pd"
   ]
  },
  {
   "cell_type": "code",
   "execution_count": 151,
   "metadata": {},
   "outputs": [
    {
     "output_type": "execute_result",
     "data": {
      "text/plain": "   One  Two  Three  Four  Five  Six  Seven  Eight\nA   47   19     38    12    24   15     23     41\nB   26   30     43    30    44   26     48     28\nC    5   16      9    47    48   12     37     34\nD   38    3     39    11     0   41     11     16\nE    3    2     19    12     1   11     43     17\nF   14    7     42    43    46   28     17     23",
      "text/html": "<div>\n<style scoped>\n    .dataframe tbody tr th:only-of-type {\n        vertical-align: middle;\n    }\n\n    .dataframe tbody tr th {\n        vertical-align: top;\n    }\n\n    .dataframe thead th {\n        text-align: right;\n    }\n</style>\n<table border=\"1\" class=\"dataframe\">\n  <thead>\n    <tr style=\"text-align: right;\">\n      <th></th>\n      <th>One</th>\n      <th>Two</th>\n      <th>Three</th>\n      <th>Four</th>\n      <th>Five</th>\n      <th>Six</th>\n      <th>Seven</th>\n      <th>Eight</th>\n    </tr>\n  </thead>\n  <tbody>\n    <tr>\n      <th>A</th>\n      <td>47</td>\n      <td>19</td>\n      <td>38</td>\n      <td>12</td>\n      <td>24</td>\n      <td>15</td>\n      <td>23</td>\n      <td>41</td>\n    </tr>\n    <tr>\n      <th>B</th>\n      <td>26</td>\n      <td>30</td>\n      <td>43</td>\n      <td>30</td>\n      <td>44</td>\n      <td>26</td>\n      <td>48</td>\n      <td>28</td>\n    </tr>\n    <tr>\n      <th>C</th>\n      <td>5</td>\n      <td>16</td>\n      <td>9</td>\n      <td>47</td>\n      <td>48</td>\n      <td>12</td>\n      <td>37</td>\n      <td>34</td>\n    </tr>\n    <tr>\n      <th>D</th>\n      <td>38</td>\n      <td>3</td>\n      <td>39</td>\n      <td>11</td>\n      <td>0</td>\n      <td>41</td>\n      <td>11</td>\n      <td>16</td>\n    </tr>\n    <tr>\n      <th>E</th>\n      <td>3</td>\n      <td>2</td>\n      <td>19</td>\n      <td>12</td>\n      <td>1</td>\n      <td>11</td>\n      <td>43</td>\n      <td>17</td>\n    </tr>\n    <tr>\n      <th>F</th>\n      <td>14</td>\n      <td>7</td>\n      <td>42</td>\n      <td>43</td>\n      <td>46</td>\n      <td>28</td>\n      <td>17</td>\n      <td>23</td>\n    </tr>\n  </tbody>\n</table>\n</div>"
     },
     "metadata": {},
     "execution_count": 151
    }
   ],
   "source": [
    "rs = np.random.RandomState(1234)\n",
    "data1 = pd.DataFrame(rs.randint(0,49,[6,8]))\n",
    "data1.columns = ['One', 'Two', 'Three', 'Four', 'Five', 'Six', 'Seven', 'Eight']\n",
    "data1.index = ['A', 'B', 'C', 'D', 'E', 'F']\n",
    "data1"
   ]
  },
  {
   "cell_type": "code",
   "execution_count": 153,
   "metadata": {},
   "outputs": [
    {
     "output_type": "execute_result",
     "data": {
      "text/plain": "   One  Two  Three  Four  Five  Six  Seven  Eight   IQR\nA   47   19     38    12    24   15     23     41  19.0\nB   26   30     43    30    44   26     48     28  17.0\nC    5   16      9    47    48   12     37     34  25.0\nD   38    3     39    11     0   41     11     16  27.0\nE    3    2     19    12     1   11     43     17  14.0\nF   14    7     42    43    46   28     17     23  25.0",
      "text/html": "<div>\n<style scoped>\n    .dataframe tbody tr th:only-of-type {\n        vertical-align: middle;\n    }\n\n    .dataframe tbody tr th {\n        vertical-align: top;\n    }\n\n    .dataframe thead th {\n        text-align: right;\n    }\n</style>\n<table border=\"1\" class=\"dataframe\">\n  <thead>\n    <tr style=\"text-align: right;\">\n      <th></th>\n      <th>One</th>\n      <th>Two</th>\n      <th>Three</th>\n      <th>Four</th>\n      <th>Five</th>\n      <th>Six</th>\n      <th>Seven</th>\n      <th>Eight</th>\n      <th>IQR</th>\n    </tr>\n  </thead>\n  <tbody>\n    <tr>\n      <th>A</th>\n      <td>47</td>\n      <td>19</td>\n      <td>38</td>\n      <td>12</td>\n      <td>24</td>\n      <td>15</td>\n      <td>23</td>\n      <td>41</td>\n      <td>19.0</td>\n    </tr>\n    <tr>\n      <th>B</th>\n      <td>26</td>\n      <td>30</td>\n      <td>43</td>\n      <td>30</td>\n      <td>44</td>\n      <td>26</td>\n      <td>48</td>\n      <td>28</td>\n      <td>17.0</td>\n    </tr>\n    <tr>\n      <th>C</th>\n      <td>5</td>\n      <td>16</td>\n      <td>9</td>\n      <td>47</td>\n      <td>48</td>\n      <td>12</td>\n      <td>37</td>\n      <td>34</td>\n      <td>25.0</td>\n    </tr>\n    <tr>\n      <th>D</th>\n      <td>38</td>\n      <td>3</td>\n      <td>39</td>\n      <td>11</td>\n      <td>0</td>\n      <td>41</td>\n      <td>11</td>\n      <td>16</td>\n      <td>27.0</td>\n    </tr>\n    <tr>\n      <th>E</th>\n      <td>3</td>\n      <td>2</td>\n      <td>19</td>\n      <td>12</td>\n      <td>1</td>\n      <td>11</td>\n      <td>43</td>\n      <td>17</td>\n      <td>14.0</td>\n    </tr>\n    <tr>\n      <th>F</th>\n      <td>14</td>\n      <td>7</td>\n      <td>42</td>\n      <td>43</td>\n      <td>46</td>\n      <td>28</td>\n      <td>17</td>\n      <td>23</td>\n      <td>25.0</td>\n    </tr>\n  </tbody>\n</table>\n</div>"
     },
     "metadata": {},
     "execution_count": 153
    }
   ],
   "source": [
    "data1['IQR']= data1.quantile(0.75, axis=1) - data1.quantile(0.25, axis=1) # Calculating difference (range) between 3rd(0.75) and 1st(0.25) quantile, for each row\n",
    "data1"
   ]
  },
  {
   "cell_type": "code",
   "execution_count": 154,
   "metadata": {},
   "outputs": [
    {
     "output_type": "execute_result",
     "data": {
      "text/plain": "               A          B          C          D          E          F\ncount   9.000000   9.000000   9.000000   9.000000   9.000000   9.000000\nmean   26.444444  32.444444  25.888889  20.666667  13.555556  27.222222\nstd    12.430920  10.248306  16.343534  15.960890  12.846314  13.836345\nmin    12.000000  17.000000   5.000000   0.000000   1.000000   7.000000\n25%    19.000000  26.000000  12.000000  11.000000   3.000000  17.000000\n50%    23.000000  30.000000  25.000000  16.000000  12.000000  25.000000\n75%    38.000000  43.000000  37.000000  38.000000  17.000000  42.000000\nmax    47.000000  48.000000  48.000000  41.000000  43.000000  46.000000",
      "text/html": "<div>\n<style scoped>\n    .dataframe tbody tr th:only-of-type {\n        vertical-align: middle;\n    }\n\n    .dataframe tbody tr th {\n        vertical-align: top;\n    }\n\n    .dataframe thead th {\n        text-align: right;\n    }\n</style>\n<table border=\"1\" class=\"dataframe\">\n  <thead>\n    <tr style=\"text-align: right;\">\n      <th></th>\n      <th>A</th>\n      <th>B</th>\n      <th>C</th>\n      <th>D</th>\n      <th>E</th>\n      <th>F</th>\n    </tr>\n  </thead>\n  <tbody>\n    <tr>\n      <th>count</th>\n      <td>9.000000</td>\n      <td>9.000000</td>\n      <td>9.000000</td>\n      <td>9.000000</td>\n      <td>9.000000</td>\n      <td>9.000000</td>\n    </tr>\n    <tr>\n      <th>mean</th>\n      <td>26.444444</td>\n      <td>32.444444</td>\n      <td>25.888889</td>\n      <td>20.666667</td>\n      <td>13.555556</td>\n      <td>27.222222</td>\n    </tr>\n    <tr>\n      <th>std</th>\n      <td>12.430920</td>\n      <td>10.248306</td>\n      <td>16.343534</td>\n      <td>15.960890</td>\n      <td>12.846314</td>\n      <td>13.836345</td>\n    </tr>\n    <tr>\n      <th>min</th>\n      <td>12.000000</td>\n      <td>17.000000</td>\n      <td>5.000000</td>\n      <td>0.000000</td>\n      <td>1.000000</td>\n      <td>7.000000</td>\n    </tr>\n    <tr>\n      <th>25%</th>\n      <td>19.000000</td>\n      <td>26.000000</td>\n      <td>12.000000</td>\n      <td>11.000000</td>\n      <td>3.000000</td>\n      <td>17.000000</td>\n    </tr>\n    <tr>\n      <th>50%</th>\n      <td>23.000000</td>\n      <td>30.000000</td>\n      <td>25.000000</td>\n      <td>16.000000</td>\n      <td>12.000000</td>\n      <td>25.000000</td>\n    </tr>\n    <tr>\n      <th>75%</th>\n      <td>38.000000</td>\n      <td>43.000000</td>\n      <td>37.000000</td>\n      <td>38.000000</td>\n      <td>17.000000</td>\n      <td>42.000000</td>\n    </tr>\n    <tr>\n      <th>max</th>\n      <td>47.000000</td>\n      <td>48.000000</td>\n      <td>48.000000</td>\n      <td>41.000000</td>\n      <td>43.000000</td>\n      <td>46.000000</td>\n    </tr>\n  </tbody>\n</table>\n</div>"
     },
     "metadata": {},
     "execution_count": 154
    }
   ],
   "source": [
    "data1.T.describe() #Reference for checking to IQR and CV result"
   ]
  },
  {
   "cell_type": "code",
   "execution_count": 166,
   "metadata": {},
   "outputs": [
    {
     "output_type": "execute_result",
     "data": {
      "text/plain": "   One  Two  Three  Four  Five  Six  Seven  Eight   IQR        CV\nA   47   19     38    12    24   15     23     41  19.0  0.598845\nB   26   30     43    30    44   26     48     28  17.0  0.478110\nC    5   16      9    47    48   12     37     34  25.0  0.741837\nD   38    3     39    11     0   41     11     16  27.0  0.872150\nE    3    2     19    12     1   11     43     17  14.0  1.035659\nF   14    7     42    43    46   28     17     23  25.0  0.631849",
      "text/html": "<div>\n<style scoped>\n    .dataframe tbody tr th:only-of-type {\n        vertical-align: middle;\n    }\n\n    .dataframe tbody tr th {\n        vertical-align: top;\n    }\n\n    .dataframe thead th {\n        text-align: right;\n    }\n</style>\n<table border=\"1\" class=\"dataframe\">\n  <thead>\n    <tr style=\"text-align: right;\">\n      <th></th>\n      <th>One</th>\n      <th>Two</th>\n      <th>Three</th>\n      <th>Four</th>\n      <th>Five</th>\n      <th>Six</th>\n      <th>Seven</th>\n      <th>Eight</th>\n      <th>IQR</th>\n      <th>CV</th>\n    </tr>\n  </thead>\n  <tbody>\n    <tr>\n      <th>A</th>\n      <td>47</td>\n      <td>19</td>\n      <td>38</td>\n      <td>12</td>\n      <td>24</td>\n      <td>15</td>\n      <td>23</td>\n      <td>41</td>\n      <td>19.0</td>\n      <td>0.598845</td>\n    </tr>\n    <tr>\n      <th>B</th>\n      <td>26</td>\n      <td>30</td>\n      <td>43</td>\n      <td>30</td>\n      <td>44</td>\n      <td>26</td>\n      <td>48</td>\n      <td>28</td>\n      <td>17.0</td>\n      <td>0.478110</td>\n    </tr>\n    <tr>\n      <th>C</th>\n      <td>5</td>\n      <td>16</td>\n      <td>9</td>\n      <td>47</td>\n      <td>48</td>\n      <td>12</td>\n      <td>37</td>\n      <td>34</td>\n      <td>25.0</td>\n      <td>0.741837</td>\n    </tr>\n    <tr>\n      <th>D</th>\n      <td>38</td>\n      <td>3</td>\n      <td>39</td>\n      <td>11</td>\n      <td>0</td>\n      <td>41</td>\n      <td>11</td>\n      <td>16</td>\n      <td>27.0</td>\n      <td>0.872150</td>\n    </tr>\n    <tr>\n      <th>E</th>\n      <td>3</td>\n      <td>2</td>\n      <td>19</td>\n      <td>12</td>\n      <td>1</td>\n      <td>11</td>\n      <td>43</td>\n      <td>17</td>\n      <td>14.0</td>\n      <td>1.035659</td>\n    </tr>\n    <tr>\n      <th>F</th>\n      <td>14</td>\n      <td>7</td>\n      <td>42</td>\n      <td>43</td>\n      <td>46</td>\n      <td>28</td>\n      <td>17</td>\n      <td>23</td>\n      <td>25.0</td>\n      <td>0.631849</td>\n    </tr>\n  </tbody>\n</table>\n</div>"
     },
     "metadata": {},
     "execution_count": 166
    }
   ],
   "source": [
    "data1['CV'] = data1.std(axis=1) / data1.mean(axis=1) #Calculating CV\n",
    "data1"
   ]
  }
 ]
}