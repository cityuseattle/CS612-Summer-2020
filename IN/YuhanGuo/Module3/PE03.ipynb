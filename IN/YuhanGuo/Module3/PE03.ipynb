{
 "metadata": {
  "language_info": {
   "codemirror_mode": {
    "name": "ipython",
    "version": 3
   },
   "file_extension": ".py",
   "mimetype": "text/x-python",
   "name": "python",
   "nbconvert_exporter": "python",
   "pygments_lexer": "ipython3",
   "version": "3.8.4-final"
  },
  "orig_nbformat": 2,
  "kernelspec": {
   "name": "python38464bit4faf48487c1e45cd9bbda51cde3b2f7d",
   "display_name": "Python 3.8.4 64-bit"
  }
 },
 "nbformat": 4,
 "nbformat_minor": 2,
 "cells": [
  {
   "cell_type": "code",
   "execution_count": 8,
   "metadata": {},
   "outputs": [],
   "source": [
    "import numpy as np\n",
    "import random"
   ]
  },
  {
   "cell_type": "code",
   "execution_count": 32,
   "metadata": {
    "tags": []
   },
   "outputs": [
    {
     "output_type": "stream",
     "name": "stdout",
     "text": "[[ 0.11785879 -0.17988513  0.17829161 ...  3.95041835  4.1356218\n   3.93514554]\n [-0.395552   -0.80059955 -0.78895908 ... 10.1307659  10.66755384\n  10.44046621]\n [-0.29676029  0.1075101   0.09683978 ... 10.33318682 11.00315025\n  11.27205811]\n ...\n [ 0.14794356  0.20263415  0.09159781 ...  7.02818476  6.89581125\n   6.95991875]\n [ 0.09920823 -0.37087537 -0.23173724 ...  1.4241117   1.20686451\n   1.35975176]\n [ 0.1069769   0.34816174  1.05429717 ... -2.0130503  -1.90246741\n  -2.27621295]]\n-29.356332676325216\n"
    }
   ],
   "source": [
    "nwalks = 5000\n",
    "nsteps = 1000\n",
    "np.random.seed(1234)\n",
    "steps = np.random.normal(loc = 0, scale=0.25, size=(nwalks,nsteps))\n",
    "walks = steps.cumsum(1)\n",
    "print(walks)\n",
    "print(walks.min()) # Did not reach -50 in 5000 walks\n"
   ]
  },
  {
   "cell_type": "code",
   "execution_count": 37,
   "metadata": {
    "tags": []
   },
   "outputs": [
    {
     "output_type": "stream",
     "name": "stdout",
     "text": "# of cases below -50:  0\n"
    }
   ],
   "source": [
    "hitsn50 = (walks <= -50).any(1)\n",
    "print('# of cases below -50: ', hitsn50.sum())"
   ]
  },
  {
   "cell_type": "code",
   "execution_count": 36,
   "metadata": {
    "tags": []
   },
   "outputs": [
    {
     "output_type": "stream",
     "name": "stdout",
     "text": "Crossing times:  []\nMean crossing times:  nan\n"
    }
   ],
   "source": [
    "crossing_times = (walks[hitsn50] <= -50).argmax(1)\n",
    "print('Crossing times: ', crossing_times)\n",
    "print('Mean crossing times: ', crossing_times.mean())"
   ]
  }
 ]
}