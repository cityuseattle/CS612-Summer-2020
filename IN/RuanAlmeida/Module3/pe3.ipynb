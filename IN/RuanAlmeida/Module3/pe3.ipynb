{
 "metadata": {
  "language_info": {
   "codemirror_mode": {
    "name": "ipython",
    "version": 3
   },
   "file_extension": ".py",
   "mimetype": "text/x-python",
   "name": "python",
   "nbconvert_exporter": "python",
   "pygments_lexer": "ipython3",
   "version": 3
  },
  "orig_nbformat": 2,
  "kernelspec": {
   "name": "python_defaultSpec_1597039357963",
   "display_name": "Python 3.8.5 64-bit"
  }
 },
 "nbformat": 4,
 "nbformat_minor": 2,
 "cells": [
  {
   "cell_type": "code",
   "execution_count": 2,
   "metadata": {
    "tags": []
   },
   "outputs": [
    {
     "output_type": "stream",
     "name": "stdout",
     "text": "=========== steps\n[[ 1 -1  1 ...  1  1 -1]\n [-1 -1  1 ...  1  1 -1]\n [-1  1 -1 ...  1  1  1]\n ...\n [ 1  1 -1 ...  1 -1  1]\n [ 1 -1  1 ...  1 -1  1]\n [ 1  1  1 ... -1  1 -1]]\n=========== walks\n[[  1   0   1 ...  14  15  14]\n [ -1  -2  -1 ...  24  25  24]\n [ -1   0  -1 ...  24  25  26]\n ...\n [  1   2   1 ...  -8  -9  -8]\n [  1   0   1 ... -20 -21 -20]\n [  1   2   3 ... -14 -13 -14]]\nThe number of random walks that hit -50 :\n604\nThe average minimum crossing time:\n82.1104\n"
    }
   ],
   "source": [
    "import numpy as np\n",
    "\n",
    "nwalks = 5000\n",
    "nsteps = 1000\n",
    "target = -50\n",
    "\n",
    "# requirement 1: Use the random seed of 1234 to generate the same random sequences\n",
    "np.random.seed(1234)\n",
    "# requirement 2: Generate normally distributed steps with mean 0 and standard deviation of 0.25\n",
    "steps = np.random.normal(loc = 0, scale = 0.25, size = (nwalks, nsteps))\n",
    "# requirement 3: Set the step +1 if the generated random number is nonnegative; otherwise -1.\n",
    "steps = np.where(steps > 0 , 1, -1)\n",
    "###print('=========== steps')\n",
    "###print(steps)\n",
    "\n",
    "# requirement 4,5: Adding up to calculate the crossing times\n",
    "randomWalks = np.cumsum(steps, 1)\n",
    "###print('=========== walks')\n",
    "###print(randomWalks)\n",
    "\n",
    "# A\n",
    "minRandomWalks = np.where(randomWalks == target, 1, 0).any(1)\n",
    "print('The number of random walks that hit -50 :')\n",
    "print(minRandomWalks.sum())\n",
    "\n",
    "# B\n",
    "minCrossingTimes = (np.where(randomWalks == target, 1, 0)).argmax(1)\n",
    "print('The average minimum crossing time:')\n",
    "print(minCrossingTimes.mean())"
   ]
  },
  {
   "cell_type": "code",
   "execution_count": null,
   "metadata": {},
   "outputs": [],
   "source": []
  }
 ]
}