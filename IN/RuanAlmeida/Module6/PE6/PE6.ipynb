{
 "metadata": {
  "language_info": {
   "codemirror_mode": {
    "name": "ipython",
    "version": 3
   },
   "file_extension": ".py",
   "mimetype": "text/x-python",
   "name": "python",
   "nbconvert_exporter": "python",
   "pygments_lexer": "ipython3",
   "version": "3.8.5-final"
  },
  "orig_nbformat": 2,
  "kernelspec": {
   "name": "python_defaultSpec_1597888598380",
   "display_name": "Python 3.8.5 64-bit"
  }
 },
 "nbformat": 4,
 "nbformat_minor": 2,
 "cells": [
  {
   "cell_type": "code",
   "execution_count": 28,
   "metadata": {},
   "outputs": [],
   "source": [
    "import numpy as np\n",
    "import pandas as pd"
   ]
  },
  {
   "cell_type": "code",
   "execution_count": 29,
   "metadata": {},
   "outputs": [
    {
     "output_type": "execute_result",
     "data": {
      "text/plain": "      ORDERNUMBER  QUANTITYORDERED  PRICEEACH  ORDERLINENUMBER    SALES  \\\n0           10107               30      95.70                2  2871.00   \n1           10121               34      81.35                5  2765.90   \n2           10134               41      94.74                2  3884.34   \n3           10145               45      83.26                6  3746.70   \n4           10159               49     100.00               14  5205.27   \n...           ...              ...        ...              ...      ...   \n2818        10350               20     100.00               15  2244.40   \n2819        10373               29     100.00                1  3978.51   \n2820        10386               43     100.00                4  5417.57   \n2821        10397               34      62.24                1  2116.16   \n2822        10414               47      65.52                9  3079.44   \n\n            ORDERDATE    STATUS  QTR_ID  MONTH_ID  YEAR_ID  ...  \\\n0      2/24/2003 0:00   Shipped       1         2     2003  ...   \n1       5/7/2003 0:00   Shipped       2         5     2003  ...   \n2       7/1/2003 0:00   Shipped       3         7     2003  ...   \n3      8/25/2003 0:00   Shipped       3         8     2003  ...   \n4     10/10/2003 0:00   Shipped       4        10     2003  ...   \n...               ...       ...     ...       ...      ...  ...   \n2818   12/2/2004 0:00   Shipped       4        12     2004  ...   \n2819   1/31/2005 0:00   Shipped       1         1     2005  ...   \n2820    3/1/2005 0:00  Resolved       1         3     2005  ...   \n2821   3/28/2005 0:00   Shipped       1         3     2005  ...   \n2822    5/6/2005 0:00   On Hold       2         5     2005  ...   \n\n                       ADDRESSLINE1  ADDRESSLINE2           CITY STATE  \\\n0           897 Long Airport Avenue           NaN            NYC    NY   \n1                59 rue de l'Abbaye           NaN          Reims   NaN   \n2     27 rue du Colonel Pierre Avia           NaN          Paris   NaN   \n3                78934 Hillside Dr.           NaN       Pasadena    CA   \n4                   7734 Strong St.           NaN  San Francisco    CA   \n...                             ...           ...            ...   ...   \n2818             C/ Moralzarzal, 86           NaN         Madrid   NaN   \n2819                    Torikatu 38           NaN           Oulu   NaN   \n2820             C/ Moralzarzal, 86           NaN         Madrid   NaN   \n2821          1 rue Alsace-Lorraine           NaN       Toulouse   NaN   \n2822             8616 Spinnaker Dr.           NaN         Boston    MA   \n\n     POSTALCODE  COUNTRY TERRITORY CONTACTLASTNAME CONTACTFIRSTNAME DEALSIZE  \n0         10022      USA       NaN              Yu             Kwai    Small  \n1         51100   France      EMEA         Henriot             Paul    Small  \n2         75508   France      EMEA        Da Cunha           Daniel   Medium  \n3         90003      USA       NaN           Young            Julie   Medium  \n4           NaN      USA       NaN           Brown            Julie   Medium  \n...         ...      ...       ...             ...              ...      ...  \n2818      28034    Spain      EMEA          Freyre            Diego    Small  \n2819      90110  Finland      EMEA       Koskitalo           Pirkko   Medium  \n2820      28034    Spain      EMEA          Freyre            Diego   Medium  \n2821      31000   France      EMEA          Roulet          Annette    Small  \n2822      51003      USA       NaN         Yoshido             Juri   Medium  \n\n[2823 rows x 25 columns]",
      "text/html": "<div>\n<style scoped>\n    .dataframe tbody tr th:only-of-type {\n        vertical-align: middle;\n    }\n\n    .dataframe tbody tr th {\n        vertical-align: top;\n    }\n\n    .dataframe thead th {\n        text-align: right;\n    }\n</style>\n<table border=\"1\" class=\"dataframe\">\n  <thead>\n    <tr style=\"text-align: right;\">\n      <th></th>\n      <th>ORDERNUMBER</th>\n      <th>QUANTITYORDERED</th>\n      <th>PRICEEACH</th>\n      <th>ORDERLINENUMBER</th>\n      <th>SALES</th>\n      <th>ORDERDATE</th>\n      <th>STATUS</th>\n      <th>QTR_ID</th>\n      <th>MONTH_ID</th>\n      <th>YEAR_ID</th>\n      <th>...</th>\n      <th>ADDRESSLINE1</th>\n      <th>ADDRESSLINE2</th>\n      <th>CITY</th>\n      <th>STATE</th>\n      <th>POSTALCODE</th>\n      <th>COUNTRY</th>\n      <th>TERRITORY</th>\n      <th>CONTACTLASTNAME</th>\n      <th>CONTACTFIRSTNAME</th>\n      <th>DEALSIZE</th>\n    </tr>\n  </thead>\n  <tbody>\n    <tr>\n      <th>0</th>\n      <td>10107</td>\n      <td>30</td>\n      <td>95.70</td>\n      <td>2</td>\n      <td>2871.00</td>\n      <td>2/24/2003 0:00</td>\n      <td>Shipped</td>\n      <td>1</td>\n      <td>2</td>\n      <td>2003</td>\n      <td>...</td>\n      <td>897 Long Airport Avenue</td>\n      <td>NaN</td>\n      <td>NYC</td>\n      <td>NY</td>\n      <td>10022</td>\n      <td>USA</td>\n      <td>NaN</td>\n      <td>Yu</td>\n      <td>Kwai</td>\n      <td>Small</td>\n    </tr>\n    <tr>\n      <th>1</th>\n      <td>10121</td>\n      <td>34</td>\n      <td>81.35</td>\n      <td>5</td>\n      <td>2765.90</td>\n      <td>5/7/2003 0:00</td>\n      <td>Shipped</td>\n      <td>2</td>\n      <td>5</td>\n      <td>2003</td>\n      <td>...</td>\n      <td>59 rue de l'Abbaye</td>\n      <td>NaN</td>\n      <td>Reims</td>\n      <td>NaN</td>\n      <td>51100</td>\n      <td>France</td>\n      <td>EMEA</td>\n      <td>Henriot</td>\n      <td>Paul</td>\n      <td>Small</td>\n    </tr>\n    <tr>\n      <th>2</th>\n      <td>10134</td>\n      <td>41</td>\n      <td>94.74</td>\n      <td>2</td>\n      <td>3884.34</td>\n      <td>7/1/2003 0:00</td>\n      <td>Shipped</td>\n      <td>3</td>\n      <td>7</td>\n      <td>2003</td>\n      <td>...</td>\n      <td>27 rue du Colonel Pierre Avia</td>\n      <td>NaN</td>\n      <td>Paris</td>\n      <td>NaN</td>\n      <td>75508</td>\n      <td>France</td>\n      <td>EMEA</td>\n      <td>Da Cunha</td>\n      <td>Daniel</td>\n      <td>Medium</td>\n    </tr>\n    <tr>\n      <th>3</th>\n      <td>10145</td>\n      <td>45</td>\n      <td>83.26</td>\n      <td>6</td>\n      <td>3746.70</td>\n      <td>8/25/2003 0:00</td>\n      <td>Shipped</td>\n      <td>3</td>\n      <td>8</td>\n      <td>2003</td>\n      <td>...</td>\n      <td>78934 Hillside Dr.</td>\n      <td>NaN</td>\n      <td>Pasadena</td>\n      <td>CA</td>\n      <td>90003</td>\n      <td>USA</td>\n      <td>NaN</td>\n      <td>Young</td>\n      <td>Julie</td>\n      <td>Medium</td>\n    </tr>\n    <tr>\n      <th>4</th>\n      <td>10159</td>\n      <td>49</td>\n      <td>100.00</td>\n      <td>14</td>\n      <td>5205.27</td>\n      <td>10/10/2003 0:00</td>\n      <td>Shipped</td>\n      <td>4</td>\n      <td>10</td>\n      <td>2003</td>\n      <td>...</td>\n      <td>7734 Strong St.</td>\n      <td>NaN</td>\n      <td>San Francisco</td>\n      <td>CA</td>\n      <td>NaN</td>\n      <td>USA</td>\n      <td>NaN</td>\n      <td>Brown</td>\n      <td>Julie</td>\n      <td>Medium</td>\n    </tr>\n    <tr>\n      <th>...</th>\n      <td>...</td>\n      <td>...</td>\n      <td>...</td>\n      <td>...</td>\n      <td>...</td>\n      <td>...</td>\n      <td>...</td>\n      <td>...</td>\n      <td>...</td>\n      <td>...</td>\n      <td>...</td>\n      <td>...</td>\n      <td>...</td>\n      <td>...</td>\n      <td>...</td>\n      <td>...</td>\n      <td>...</td>\n      <td>...</td>\n      <td>...</td>\n      <td>...</td>\n      <td>...</td>\n    </tr>\n    <tr>\n      <th>2818</th>\n      <td>10350</td>\n      <td>20</td>\n      <td>100.00</td>\n      <td>15</td>\n      <td>2244.40</td>\n      <td>12/2/2004 0:00</td>\n      <td>Shipped</td>\n      <td>4</td>\n      <td>12</td>\n      <td>2004</td>\n      <td>...</td>\n      <td>C/ Moralzarzal, 86</td>\n      <td>NaN</td>\n      <td>Madrid</td>\n      <td>NaN</td>\n      <td>28034</td>\n      <td>Spain</td>\n      <td>EMEA</td>\n      <td>Freyre</td>\n      <td>Diego</td>\n      <td>Small</td>\n    </tr>\n    <tr>\n      <th>2819</th>\n      <td>10373</td>\n      <td>29</td>\n      <td>100.00</td>\n      <td>1</td>\n      <td>3978.51</td>\n      <td>1/31/2005 0:00</td>\n      <td>Shipped</td>\n      <td>1</td>\n      <td>1</td>\n      <td>2005</td>\n      <td>...</td>\n      <td>Torikatu 38</td>\n      <td>NaN</td>\n      <td>Oulu</td>\n      <td>NaN</td>\n      <td>90110</td>\n      <td>Finland</td>\n      <td>EMEA</td>\n      <td>Koskitalo</td>\n      <td>Pirkko</td>\n      <td>Medium</td>\n    </tr>\n    <tr>\n      <th>2820</th>\n      <td>10386</td>\n      <td>43</td>\n      <td>100.00</td>\n      <td>4</td>\n      <td>5417.57</td>\n      <td>3/1/2005 0:00</td>\n      <td>Resolved</td>\n      <td>1</td>\n      <td>3</td>\n      <td>2005</td>\n      <td>...</td>\n      <td>C/ Moralzarzal, 86</td>\n      <td>NaN</td>\n      <td>Madrid</td>\n      <td>NaN</td>\n      <td>28034</td>\n      <td>Spain</td>\n      <td>EMEA</td>\n      <td>Freyre</td>\n      <td>Diego</td>\n      <td>Medium</td>\n    </tr>\n    <tr>\n      <th>2821</th>\n      <td>10397</td>\n      <td>34</td>\n      <td>62.24</td>\n      <td>1</td>\n      <td>2116.16</td>\n      <td>3/28/2005 0:00</td>\n      <td>Shipped</td>\n      <td>1</td>\n      <td>3</td>\n      <td>2005</td>\n      <td>...</td>\n      <td>1 rue Alsace-Lorraine</td>\n      <td>NaN</td>\n      <td>Toulouse</td>\n      <td>NaN</td>\n      <td>31000</td>\n      <td>France</td>\n      <td>EMEA</td>\n      <td>Roulet</td>\n      <td>Annette</td>\n      <td>Small</td>\n    </tr>\n    <tr>\n      <th>2822</th>\n      <td>10414</td>\n      <td>47</td>\n      <td>65.52</td>\n      <td>9</td>\n      <td>3079.44</td>\n      <td>5/6/2005 0:00</td>\n      <td>On Hold</td>\n      <td>2</td>\n      <td>5</td>\n      <td>2005</td>\n      <td>...</td>\n      <td>8616 Spinnaker Dr.</td>\n      <td>NaN</td>\n      <td>Boston</td>\n      <td>MA</td>\n      <td>51003</td>\n      <td>USA</td>\n      <td>NaN</td>\n      <td>Yoshido</td>\n      <td>Juri</td>\n      <td>Medium</td>\n    </tr>\n  </tbody>\n</table>\n<p>2823 rows × 25 columns</p>\n</div>"
     },
     "metadata": {},
     "execution_count": 29
    }
   ],
   "source": [
    "# 1. Convert the entire sales data into pandas DataFrame and name it data\n",
    "sales = pd.read_csv('../../Module5/sales_data_sample.csv', encoding='latin')\n",
    "data = pd.DataFrame(sales)\n",
    "data"
   ]
  },
  {
   "cell_type": "code",
   "execution_count": 30,
   "metadata": {},
   "outputs": [
    {
     "output_type": "execute_result",
     "data": {
      "text/plain": "1004"
     },
     "metadata": {},
     "execution_count": 30
    }
   ],
   "source": [
    "# 2. Count the number of ‘USA’ in ‘COUNTRY’ column\n",
    "dataaux = data[data['COUNTRY'] == 'USA'].count()\n",
    "dataaux['COUNTRY']"
   ]
  },
  {
   "cell_type": "code",
   "execution_count": 31,
   "metadata": {},
   "outputs": [
    {
     "output_type": "execute_result",
     "data": {
      "text/plain": "      ORDERNUMBER  QUANTITYORDERED  PRICEEACH  ORDERLINENUMBER    SALES  \\\n1           10121               34      81.35                5  2765.90   \n2           10134               41      94.74                2  3884.34   \n6           10180               29      86.13                9  2497.77   \n7           10188               48     100.00                1  5512.32   \n9           10211               41     100.00               14  4708.44   \n...           ...              ...        ...              ...      ...   \n2816        10327               37      86.74                4  3209.38   \n2818        10350               20     100.00               15  2244.40   \n2819        10373               29     100.00                1  3978.51   \n2820        10386               43     100.00                4  5417.57   \n2821        10397               34      62.24                1  2116.16   \n\n            ORDERDATE    STATUS  QTR_ID  MONTH_ID  YEAR_ID  ...  \\\n1       5/7/2003 0:00   Shipped       2         5     2003  ...   \n2       7/1/2003 0:00   Shipped       3         7     2003  ...   \n6     11/11/2003 0:00   Shipped       4        11     2003  ...   \n7     11/18/2003 0:00   Shipped       4        11     2003  ...   \n9      1/15/2004 0:00   Shipped       1         1     2004  ...   \n...               ...       ...     ...       ...      ...  ...   \n2816  11/10/2004 0:00  Resolved       4        11     2004  ...   \n2818   12/2/2004 0:00   Shipped       4        12     2004  ...   \n2819   1/31/2005 0:00   Shipped       1         1     2005  ...   \n2820    3/1/2005 0:00  Resolved       1         3     2005  ...   \n2821   3/28/2005 0:00   Shipped       1         3     2005  ...   \n\n                       ADDRESSLINE1  ADDRESSLINE2       CITY STATE POSTALCODE  \\\n1                59 rue de l'Abbaye           NaN      Reims   NaN      51100   \n2     27 rue du Colonel Pierre Avia           NaN      Paris   NaN      75508   \n6           184, chausse de Tournai           NaN      Lille   NaN      59000   \n7       Drammen 121, PR 744 Sentrum           NaN     Bergen   NaN     N 5804   \n9                 25, rue Lauriston           NaN      Paris   NaN      75016   \n...                             ...           ...        ...   ...        ...   \n2816                   Vinb'ltet 34           NaN  Kobenhavn   NaN       1734   \n2818             C/ Moralzarzal, 86           NaN     Madrid   NaN      28034   \n2819                    Torikatu 38           NaN       Oulu   NaN      90110   \n2820             C/ Moralzarzal, 86           NaN     Madrid   NaN      28034   \n2821          1 rue Alsace-Lorraine           NaN   Toulouse   NaN      31000   \n\n      COUNTRY TERRITORY CONTACTLASTNAME CONTACTFIRSTNAME DEALSIZE  \n1      France      EMEA         Henriot             Paul    Small  \n2      France      EMEA        Da Cunha           Daniel   Medium  \n6      France      EMEA           Rance          Martine    Small  \n7      Norway      EMEA          Oeztan           Veysel   Medium  \n9      France      EMEA         Perrier        Dominique   Medium  \n...       ...       ...             ...              ...      ...  \n2816  Denmark      EMEA        Petersen            Jytte   Medium  \n2818    Spain      EMEA          Freyre            Diego    Small  \n2819  Finland      EMEA       Koskitalo           Pirkko   Medium  \n2820    Spain      EMEA          Freyre            Diego   Medium  \n2821   France      EMEA          Roulet          Annette    Small  \n\n[1749 rows x 25 columns]",
      "text/html": "<div>\n<style scoped>\n    .dataframe tbody tr th:only-of-type {\n        vertical-align: middle;\n    }\n\n    .dataframe tbody tr th {\n        vertical-align: top;\n    }\n\n    .dataframe thead th {\n        text-align: right;\n    }\n</style>\n<table border=\"1\" class=\"dataframe\">\n  <thead>\n    <tr style=\"text-align: right;\">\n      <th></th>\n      <th>ORDERNUMBER</th>\n      <th>QUANTITYORDERED</th>\n      <th>PRICEEACH</th>\n      <th>ORDERLINENUMBER</th>\n      <th>SALES</th>\n      <th>ORDERDATE</th>\n      <th>STATUS</th>\n      <th>QTR_ID</th>\n      <th>MONTH_ID</th>\n      <th>YEAR_ID</th>\n      <th>...</th>\n      <th>ADDRESSLINE1</th>\n      <th>ADDRESSLINE2</th>\n      <th>CITY</th>\n      <th>STATE</th>\n      <th>POSTALCODE</th>\n      <th>COUNTRY</th>\n      <th>TERRITORY</th>\n      <th>CONTACTLASTNAME</th>\n      <th>CONTACTFIRSTNAME</th>\n      <th>DEALSIZE</th>\n    </tr>\n  </thead>\n  <tbody>\n    <tr>\n      <th>1</th>\n      <td>10121</td>\n      <td>34</td>\n      <td>81.35</td>\n      <td>5</td>\n      <td>2765.90</td>\n      <td>5/7/2003 0:00</td>\n      <td>Shipped</td>\n      <td>2</td>\n      <td>5</td>\n      <td>2003</td>\n      <td>...</td>\n      <td>59 rue de l'Abbaye</td>\n      <td>NaN</td>\n      <td>Reims</td>\n      <td>NaN</td>\n      <td>51100</td>\n      <td>France</td>\n      <td>EMEA</td>\n      <td>Henriot</td>\n      <td>Paul</td>\n      <td>Small</td>\n    </tr>\n    <tr>\n      <th>2</th>\n      <td>10134</td>\n      <td>41</td>\n      <td>94.74</td>\n      <td>2</td>\n      <td>3884.34</td>\n      <td>7/1/2003 0:00</td>\n      <td>Shipped</td>\n      <td>3</td>\n      <td>7</td>\n      <td>2003</td>\n      <td>...</td>\n      <td>27 rue du Colonel Pierre Avia</td>\n      <td>NaN</td>\n      <td>Paris</td>\n      <td>NaN</td>\n      <td>75508</td>\n      <td>France</td>\n      <td>EMEA</td>\n      <td>Da Cunha</td>\n      <td>Daniel</td>\n      <td>Medium</td>\n    </tr>\n    <tr>\n      <th>6</th>\n      <td>10180</td>\n      <td>29</td>\n      <td>86.13</td>\n      <td>9</td>\n      <td>2497.77</td>\n      <td>11/11/2003 0:00</td>\n      <td>Shipped</td>\n      <td>4</td>\n      <td>11</td>\n      <td>2003</td>\n      <td>...</td>\n      <td>184, chausse de Tournai</td>\n      <td>NaN</td>\n      <td>Lille</td>\n      <td>NaN</td>\n      <td>59000</td>\n      <td>France</td>\n      <td>EMEA</td>\n      <td>Rance</td>\n      <td>Martine</td>\n      <td>Small</td>\n    </tr>\n    <tr>\n      <th>7</th>\n      <td>10188</td>\n      <td>48</td>\n      <td>100.00</td>\n      <td>1</td>\n      <td>5512.32</td>\n      <td>11/18/2003 0:00</td>\n      <td>Shipped</td>\n      <td>4</td>\n      <td>11</td>\n      <td>2003</td>\n      <td>...</td>\n      <td>Drammen 121, PR 744 Sentrum</td>\n      <td>NaN</td>\n      <td>Bergen</td>\n      <td>NaN</td>\n      <td>N 5804</td>\n      <td>Norway</td>\n      <td>EMEA</td>\n      <td>Oeztan</td>\n      <td>Veysel</td>\n      <td>Medium</td>\n    </tr>\n    <tr>\n      <th>9</th>\n      <td>10211</td>\n      <td>41</td>\n      <td>100.00</td>\n      <td>14</td>\n      <td>4708.44</td>\n      <td>1/15/2004 0:00</td>\n      <td>Shipped</td>\n      <td>1</td>\n      <td>1</td>\n      <td>2004</td>\n      <td>...</td>\n      <td>25, rue Lauriston</td>\n      <td>NaN</td>\n      <td>Paris</td>\n      <td>NaN</td>\n      <td>75016</td>\n      <td>France</td>\n      <td>EMEA</td>\n      <td>Perrier</td>\n      <td>Dominique</td>\n      <td>Medium</td>\n    </tr>\n    <tr>\n      <th>...</th>\n      <td>...</td>\n      <td>...</td>\n      <td>...</td>\n      <td>...</td>\n      <td>...</td>\n      <td>...</td>\n      <td>...</td>\n      <td>...</td>\n      <td>...</td>\n      <td>...</td>\n      <td>...</td>\n      <td>...</td>\n      <td>...</td>\n      <td>...</td>\n      <td>...</td>\n      <td>...</td>\n      <td>...</td>\n      <td>...</td>\n      <td>...</td>\n      <td>...</td>\n      <td>...</td>\n    </tr>\n    <tr>\n      <th>2816</th>\n      <td>10327</td>\n      <td>37</td>\n      <td>86.74</td>\n      <td>4</td>\n      <td>3209.38</td>\n      <td>11/10/2004 0:00</td>\n      <td>Resolved</td>\n      <td>4</td>\n      <td>11</td>\n      <td>2004</td>\n      <td>...</td>\n      <td>Vinb'ltet 34</td>\n      <td>NaN</td>\n      <td>Kobenhavn</td>\n      <td>NaN</td>\n      <td>1734</td>\n      <td>Denmark</td>\n      <td>EMEA</td>\n      <td>Petersen</td>\n      <td>Jytte</td>\n      <td>Medium</td>\n    </tr>\n    <tr>\n      <th>2818</th>\n      <td>10350</td>\n      <td>20</td>\n      <td>100.00</td>\n      <td>15</td>\n      <td>2244.40</td>\n      <td>12/2/2004 0:00</td>\n      <td>Shipped</td>\n      <td>4</td>\n      <td>12</td>\n      <td>2004</td>\n      <td>...</td>\n      <td>C/ Moralzarzal, 86</td>\n      <td>NaN</td>\n      <td>Madrid</td>\n      <td>NaN</td>\n      <td>28034</td>\n      <td>Spain</td>\n      <td>EMEA</td>\n      <td>Freyre</td>\n      <td>Diego</td>\n      <td>Small</td>\n    </tr>\n    <tr>\n      <th>2819</th>\n      <td>10373</td>\n      <td>29</td>\n      <td>100.00</td>\n      <td>1</td>\n      <td>3978.51</td>\n      <td>1/31/2005 0:00</td>\n      <td>Shipped</td>\n      <td>1</td>\n      <td>1</td>\n      <td>2005</td>\n      <td>...</td>\n      <td>Torikatu 38</td>\n      <td>NaN</td>\n      <td>Oulu</td>\n      <td>NaN</td>\n      <td>90110</td>\n      <td>Finland</td>\n      <td>EMEA</td>\n      <td>Koskitalo</td>\n      <td>Pirkko</td>\n      <td>Medium</td>\n    </tr>\n    <tr>\n      <th>2820</th>\n      <td>10386</td>\n      <td>43</td>\n      <td>100.00</td>\n      <td>4</td>\n      <td>5417.57</td>\n      <td>3/1/2005 0:00</td>\n      <td>Resolved</td>\n      <td>1</td>\n      <td>3</td>\n      <td>2005</td>\n      <td>...</td>\n      <td>C/ Moralzarzal, 86</td>\n      <td>NaN</td>\n      <td>Madrid</td>\n      <td>NaN</td>\n      <td>28034</td>\n      <td>Spain</td>\n      <td>EMEA</td>\n      <td>Freyre</td>\n      <td>Diego</td>\n      <td>Medium</td>\n    </tr>\n    <tr>\n      <th>2821</th>\n      <td>10397</td>\n      <td>34</td>\n      <td>62.24</td>\n      <td>1</td>\n      <td>2116.16</td>\n      <td>3/28/2005 0:00</td>\n      <td>Shipped</td>\n      <td>1</td>\n      <td>3</td>\n      <td>2005</td>\n      <td>...</td>\n      <td>1 rue Alsace-Lorraine</td>\n      <td>NaN</td>\n      <td>Toulouse</td>\n      <td>NaN</td>\n      <td>31000</td>\n      <td>France</td>\n      <td>EMEA</td>\n      <td>Roulet</td>\n      <td>Annette</td>\n      <td>Small</td>\n    </tr>\n  </tbody>\n</table>\n<p>1749 rows × 25 columns</p>\n</div>"
     },
     "metadata": {},
     "execution_count": 31
    }
   ],
   "source": [
    "# 3. Delete all the rows whose ‘TERRITORY’ attribute is equal to ‘NaN’\n",
    "\n",
    "data.dropna(subset=['TERRITORY'])"
   ]
  },
  {
   "cell_type": "code",
   "execution_count": 32,
   "metadata": {},
   "outputs": [
    {
     "output_type": "execute_result",
     "data": {
      "text/plain": "1004"
     },
     "metadata": {},
     "execution_count": 32
    }
   ],
   "source": [
    "# 4. Count the number of ‘USA’ in ‘COUNTRY’ column again. Does the number match with that in #2? What happened?\n",
    "\n",
    "\n",
    "dataaux = data[data['COUNTRY'] == 'USA'].count()\n",
    "dataaux['COUNTRY']\n",
    "\n",
    "# Anwser: in my case, the number didnt change. Maybe is because of my solution (using a aux), but overall, I believe that dropna do not extract the rows from the DataFrame, only display it filtered  "
   ]
  },
  {
   "cell_type": "code",
   "execution_count": 33,
   "metadata": {},
   "outputs": [
    {
     "output_type": "execute_result",
     "data": {
      "text/plain": "      ORDERNUMBER  QUANTITYORDERED  PRICEEACH  ORDERLINENUMBER    SALES  \\\n222         10216               43     100.00                1  5759.42   \n247         10189               28     100.00                1  4512.48   \n313         10376               35     100.00                1  3987.20   \n327         10231               49     100.00                1  6952.12   \n408         10277               28     100.00                1  3127.88   \n...           ...              ...        ...              ...      ...   \n2818        10350               20     100.00               15  2244.40   \n2819        10373               29     100.00                1  3978.51   \n2820        10386               43     100.00                4  5417.57   \n2821        10397               34      62.24                1  2116.16   \n2822        10414               47      65.52                9  3079.44   \n\n            ORDERDATE    STATUS  QTR_ID  MONTH_ID  YEAR_ID  ...  \\\n222     2/2/2004 0:00   Shipped       1         2     2004  ...   \n247   11/18/2003 0:00   Shipped       4        11     2003  ...   \n313     2/8/2005 0:00   Shipped       1         2     2005  ...   \n327    3/19/2004 0:00   Shipped       1         3     2004  ...   \n408     8/4/2004 0:00   Shipped       3         8     2004  ...   \n...               ...       ...     ...       ...      ...  ...   \n2818   12/2/2004 0:00   Shipped       4        12     2004  ...   \n2819   1/31/2005 0:00   Shipped       1         1     2005  ...   \n2820    3/1/2005 0:00  Resolved       1         3     2005  ...   \n2821   3/28/2005 0:00   Shipped       1         3     2005  ...   \n2822    5/6/2005 0:00   On Hold       2         5     2005  ...   \n\n                                ADDRESSLINE1  ADDRESSLINE2        CITY STATE  \\\n222                   67, avenue de l'Europe           NaN  Versailles   NaN   \n247                       78934 Hillside Dr.           NaN    Pasadena    CA   \n313                         4097 Douglas Av.           NaN    Glendale    CA   \n327   Merchants House, 27-30 Merchant's Quay           NaN      Madrid   NaN   \n408     Bronz Sok., Bronz Apt. 3/6 Tesvikiye           NaN   Singapore   NaN   \n...                                      ...           ...         ...   ...   \n2818                      C/ Moralzarzal, 86           NaN      Madrid   NaN   \n2819                             Torikatu 38           NaN        Oulu   NaN   \n2820                      C/ Moralzarzal, 86           NaN      Madrid   NaN   \n2821                   1 rue Alsace-Lorraine           NaN    Toulouse   NaN   \n2822                      8616 Spinnaker Dr.           NaN      Boston    MA   \n\n     POSTALCODE    COUNTRY TERRITORY CONTACTLASTNAME CONTACTFIRSTNAME DEALSIZE  \n222       78000     France      EMEA          Tonini           Daniel   Medium  \n247       90003        USA       NaN           Young            Julie   Medium  \n313       92561        USA       NaN           Young           Leslie   Medium  \n327       28023      Spain      EMEA       Fernandez            Jesus   Medium  \n408       79903  Singapore     Japan       Natividad             Eric   Medium  \n...         ...        ...       ...             ...              ...      ...  \n2818      28034      Spain      EMEA          Freyre            Diego    Small  \n2819      90110    Finland      EMEA       Koskitalo           Pirkko   Medium  \n2820      28034      Spain      EMEA          Freyre            Diego   Medium  \n2821      31000     France      EMEA          Roulet          Annette    Small  \n2822      51003        USA       NaN         Yoshido             Juri   Medium  \n\n[307 rows x 25 columns]",
      "text/html": "<div>\n<style scoped>\n    .dataframe tbody tr th:only-of-type {\n        vertical-align: middle;\n    }\n\n    .dataframe tbody tr th {\n        vertical-align: top;\n    }\n\n    .dataframe thead th {\n        text-align: right;\n    }\n</style>\n<table border=\"1\" class=\"dataframe\">\n  <thead>\n    <tr style=\"text-align: right;\">\n      <th></th>\n      <th>ORDERNUMBER</th>\n      <th>QUANTITYORDERED</th>\n      <th>PRICEEACH</th>\n      <th>ORDERLINENUMBER</th>\n      <th>SALES</th>\n      <th>ORDERDATE</th>\n      <th>STATUS</th>\n      <th>QTR_ID</th>\n      <th>MONTH_ID</th>\n      <th>YEAR_ID</th>\n      <th>...</th>\n      <th>ADDRESSLINE1</th>\n      <th>ADDRESSLINE2</th>\n      <th>CITY</th>\n      <th>STATE</th>\n      <th>POSTALCODE</th>\n      <th>COUNTRY</th>\n      <th>TERRITORY</th>\n      <th>CONTACTLASTNAME</th>\n      <th>CONTACTFIRSTNAME</th>\n      <th>DEALSIZE</th>\n    </tr>\n  </thead>\n  <tbody>\n    <tr>\n      <th>222</th>\n      <td>10216</td>\n      <td>43</td>\n      <td>100.00</td>\n      <td>1</td>\n      <td>5759.42</td>\n      <td>2/2/2004 0:00</td>\n      <td>Shipped</td>\n      <td>1</td>\n      <td>2</td>\n      <td>2004</td>\n      <td>...</td>\n      <td>67, avenue de l'Europe</td>\n      <td>NaN</td>\n      <td>Versailles</td>\n      <td>NaN</td>\n      <td>78000</td>\n      <td>France</td>\n      <td>EMEA</td>\n      <td>Tonini</td>\n      <td>Daniel</td>\n      <td>Medium</td>\n    </tr>\n    <tr>\n      <th>247</th>\n      <td>10189</td>\n      <td>28</td>\n      <td>100.00</td>\n      <td>1</td>\n      <td>4512.48</td>\n      <td>11/18/2003 0:00</td>\n      <td>Shipped</td>\n      <td>4</td>\n      <td>11</td>\n      <td>2003</td>\n      <td>...</td>\n      <td>78934 Hillside Dr.</td>\n      <td>NaN</td>\n      <td>Pasadena</td>\n      <td>CA</td>\n      <td>90003</td>\n      <td>USA</td>\n      <td>NaN</td>\n      <td>Young</td>\n      <td>Julie</td>\n      <td>Medium</td>\n    </tr>\n    <tr>\n      <th>313</th>\n      <td>10376</td>\n      <td>35</td>\n      <td>100.00</td>\n      <td>1</td>\n      <td>3987.20</td>\n      <td>2/8/2005 0:00</td>\n      <td>Shipped</td>\n      <td>1</td>\n      <td>2</td>\n      <td>2005</td>\n      <td>...</td>\n      <td>4097 Douglas Av.</td>\n      <td>NaN</td>\n      <td>Glendale</td>\n      <td>CA</td>\n      <td>92561</td>\n      <td>USA</td>\n      <td>NaN</td>\n      <td>Young</td>\n      <td>Leslie</td>\n      <td>Medium</td>\n    </tr>\n    <tr>\n      <th>327</th>\n      <td>10231</td>\n      <td>49</td>\n      <td>100.00</td>\n      <td>1</td>\n      <td>6952.12</td>\n      <td>3/19/2004 0:00</td>\n      <td>Shipped</td>\n      <td>1</td>\n      <td>3</td>\n      <td>2004</td>\n      <td>...</td>\n      <td>Merchants House, 27-30 Merchant's Quay</td>\n      <td>NaN</td>\n      <td>Madrid</td>\n      <td>NaN</td>\n      <td>28023</td>\n      <td>Spain</td>\n      <td>EMEA</td>\n      <td>Fernandez</td>\n      <td>Jesus</td>\n      <td>Medium</td>\n    </tr>\n    <tr>\n      <th>408</th>\n      <td>10277</td>\n      <td>28</td>\n      <td>100.00</td>\n      <td>1</td>\n      <td>3127.88</td>\n      <td>8/4/2004 0:00</td>\n      <td>Shipped</td>\n      <td>3</td>\n      <td>8</td>\n      <td>2004</td>\n      <td>...</td>\n      <td>Bronz Sok., Bronz Apt. 3/6 Tesvikiye</td>\n      <td>NaN</td>\n      <td>Singapore</td>\n      <td>NaN</td>\n      <td>79903</td>\n      <td>Singapore</td>\n      <td>Japan</td>\n      <td>Natividad</td>\n      <td>Eric</td>\n      <td>Medium</td>\n    </tr>\n    <tr>\n      <th>...</th>\n      <td>...</td>\n      <td>...</td>\n      <td>...</td>\n      <td>...</td>\n      <td>...</td>\n      <td>...</td>\n      <td>...</td>\n      <td>...</td>\n      <td>...</td>\n      <td>...</td>\n      <td>...</td>\n      <td>...</td>\n      <td>...</td>\n      <td>...</td>\n      <td>...</td>\n      <td>...</td>\n      <td>...</td>\n      <td>...</td>\n      <td>...</td>\n      <td>...</td>\n      <td>...</td>\n    </tr>\n    <tr>\n      <th>2818</th>\n      <td>10350</td>\n      <td>20</td>\n      <td>100.00</td>\n      <td>15</td>\n      <td>2244.40</td>\n      <td>12/2/2004 0:00</td>\n      <td>Shipped</td>\n      <td>4</td>\n      <td>12</td>\n      <td>2004</td>\n      <td>...</td>\n      <td>C/ Moralzarzal, 86</td>\n      <td>NaN</td>\n      <td>Madrid</td>\n      <td>NaN</td>\n      <td>28034</td>\n      <td>Spain</td>\n      <td>EMEA</td>\n      <td>Freyre</td>\n      <td>Diego</td>\n      <td>Small</td>\n    </tr>\n    <tr>\n      <th>2819</th>\n      <td>10373</td>\n      <td>29</td>\n      <td>100.00</td>\n      <td>1</td>\n      <td>3978.51</td>\n      <td>1/31/2005 0:00</td>\n      <td>Shipped</td>\n      <td>1</td>\n      <td>1</td>\n      <td>2005</td>\n      <td>...</td>\n      <td>Torikatu 38</td>\n      <td>NaN</td>\n      <td>Oulu</td>\n      <td>NaN</td>\n      <td>90110</td>\n      <td>Finland</td>\n      <td>EMEA</td>\n      <td>Koskitalo</td>\n      <td>Pirkko</td>\n      <td>Medium</td>\n    </tr>\n    <tr>\n      <th>2820</th>\n      <td>10386</td>\n      <td>43</td>\n      <td>100.00</td>\n      <td>4</td>\n      <td>5417.57</td>\n      <td>3/1/2005 0:00</td>\n      <td>Resolved</td>\n      <td>1</td>\n      <td>3</td>\n      <td>2005</td>\n      <td>...</td>\n      <td>C/ Moralzarzal, 86</td>\n      <td>NaN</td>\n      <td>Madrid</td>\n      <td>NaN</td>\n      <td>28034</td>\n      <td>Spain</td>\n      <td>EMEA</td>\n      <td>Freyre</td>\n      <td>Diego</td>\n      <td>Medium</td>\n    </tr>\n    <tr>\n      <th>2821</th>\n      <td>10397</td>\n      <td>34</td>\n      <td>62.24</td>\n      <td>1</td>\n      <td>2116.16</td>\n      <td>3/28/2005 0:00</td>\n      <td>Shipped</td>\n      <td>1</td>\n      <td>3</td>\n      <td>2005</td>\n      <td>...</td>\n      <td>1 rue Alsace-Lorraine</td>\n      <td>NaN</td>\n      <td>Toulouse</td>\n      <td>NaN</td>\n      <td>31000</td>\n      <td>France</td>\n      <td>EMEA</td>\n      <td>Roulet</td>\n      <td>Annette</td>\n      <td>Small</td>\n    </tr>\n    <tr>\n      <th>2822</th>\n      <td>10414</td>\n      <td>47</td>\n      <td>65.52</td>\n      <td>9</td>\n      <td>3079.44</td>\n      <td>5/6/2005 0:00</td>\n      <td>On Hold</td>\n      <td>2</td>\n      <td>5</td>\n      <td>2005</td>\n      <td>...</td>\n      <td>8616 Spinnaker Dr.</td>\n      <td>NaN</td>\n      <td>Boston</td>\n      <td>MA</td>\n      <td>51003</td>\n      <td>USA</td>\n      <td>NaN</td>\n      <td>Yoshido</td>\n      <td>Juri</td>\n      <td>Medium</td>\n    </tr>\n  </tbody>\n</table>\n<p>307 rows × 25 columns</p>\n</div>"
     },
     "metadata": {},
     "execution_count": 33
    }
   ],
   "source": [
    "# 5. In data, filter duplicates based on the ‘ORDERNUMBER’ column using drop_duplicates(). Keep the last row by passing keep=’last’. \n",
    "\n",
    "data.drop_duplicates(['ORDERNUMBER'], keep='last')"
   ]
  },
  {
   "cell_type": "code",
   "execution_count": 34,
   "metadata": {},
   "outputs": [
    {
     "output_type": "execute_result",
     "data": {
      "text/plain": "      ORDERNUMBER  QUANTITYORDERED  PRICEEACH  ORDERLINENUMBER    SALES  \\\n0           10107               30      95.70                2  2871.00   \n1           10121               34      81.35                5  2765.90   \n2           10134               41      94.74                2  3884.34   \n3           10145               45      83.26                6  3746.70   \n4           10159               49     100.00               14  5205.27   \n...           ...              ...        ...              ...      ...   \n2452        10356               26     100.00                4  3937.70   \n2453        10365               44     100.00                2  4984.32   \n2454        10375               49     100.00                8  5406.66   \n2455        10390               22     100.00               13  3491.18   \n2456        10403               31      68.34                3  2118.54   \n\n            ORDERDATE   STATUS  QTR_ID  MONTH_ID  YEAR_ID  ...  \\\n0      2/24/2003 0:00  Shipped       1         2     2003  ...   \n1       5/7/2003 0:00  Shipped       2         5     2003  ...   \n2       7/1/2003 0:00  Shipped       3         7     2003  ...   \n3      8/25/2003 0:00  Shipped       3         8     2003  ...   \n4     10/10/2003 0:00  Shipped       4        10     2003  ...   \n...               ...      ...     ...       ...      ...  ...   \n2452   12/9/2004 0:00  Shipped       4        12     2004  ...   \n2453    1/7/2005 0:00  Shipped       1         1     2005  ...   \n2454    2/3/2005 0:00  Shipped       1         2     2005  ...   \n2455    3/4/2005 0:00  Shipped       1         3     2005  ...   \n2456    4/8/2005 0:00  Shipped       2         4     2005  ...   \n\n                       ADDRESSLINE1  ADDRESSLINE2           CITY STATE  \\\n0           897 Long Airport Avenue           NaN            NYC    NY   \n1                59 rue de l'Abbaye           NaN          Reims   NaN   \n2     27 rue du Colonel Pierre Avia           NaN          Paris   NaN   \n3                78934 Hillside Dr.           NaN       Pasadena    CA   \n4                   7734 Strong St.           NaN  San Francisco    CA   \n...                             ...           ...            ...   ...   \n2452  27 rue du Colonel Pierre Avia           NaN          Paris   NaN   \n2453              4575 Hillside Dr.           NaN    New Bedford    MA   \n2454   67, rue des Cinquante Otages           NaN         Nantes   NaN   \n2455                5677 Strong St.           NaN     San Rafael    CA   \n2456   Berkeley Gardens 12  Brewery           NaN      Liverpool   NaN   \n\n     POSTALCODE COUNTRY TERRITORY CONTACTLASTNAME CONTACTFIRSTNAME DEALSIZE  \n0         10022     USA       NaN              Yu             Kwai    Small  \n1         51100  France      EMEA         Henriot             Paul    Small  \n2         75508  France      EMEA        Da Cunha           Daniel   Medium  \n3         90003     USA       NaN           Young            Julie   Medium  \n4           NaN     USA       NaN           Brown            Julie   Medium  \n...         ...     ...       ...             ...              ...      ...  \n2452      75508  France      EMEA        Da Cunha           Daniel   Medium  \n2453      50553     USA       NaN             Tam           Wing C   Medium  \n2454      44000  France      EMEA         Labrune           Janine   Medium  \n2455      97562     USA       NaN          Nelson          Valarie   Medium  \n2456    WX1 6LT      UK      EMEA           Devon        Elizabeth    Small  \n\n[331 rows x 25 columns]",
      "text/html": "<div>\n<style scoped>\n    .dataframe tbody tr th:only-of-type {\n        vertical-align: middle;\n    }\n\n    .dataframe tbody tr th {\n        vertical-align: top;\n    }\n\n    .dataframe thead th {\n        text-align: right;\n    }\n</style>\n<table border=\"1\" class=\"dataframe\">\n  <thead>\n    <tr style=\"text-align: right;\">\n      <th></th>\n      <th>ORDERNUMBER</th>\n      <th>QUANTITYORDERED</th>\n      <th>PRICEEACH</th>\n      <th>ORDERLINENUMBER</th>\n      <th>SALES</th>\n      <th>ORDERDATE</th>\n      <th>STATUS</th>\n      <th>QTR_ID</th>\n      <th>MONTH_ID</th>\n      <th>YEAR_ID</th>\n      <th>...</th>\n      <th>ADDRESSLINE1</th>\n      <th>ADDRESSLINE2</th>\n      <th>CITY</th>\n      <th>STATE</th>\n      <th>POSTALCODE</th>\n      <th>COUNTRY</th>\n      <th>TERRITORY</th>\n      <th>CONTACTLASTNAME</th>\n      <th>CONTACTFIRSTNAME</th>\n      <th>DEALSIZE</th>\n    </tr>\n  </thead>\n  <tbody>\n    <tr>\n      <th>0</th>\n      <td>10107</td>\n      <td>30</td>\n      <td>95.70</td>\n      <td>2</td>\n      <td>2871.00</td>\n      <td>2/24/2003 0:00</td>\n      <td>Shipped</td>\n      <td>1</td>\n      <td>2</td>\n      <td>2003</td>\n      <td>...</td>\n      <td>897 Long Airport Avenue</td>\n      <td>NaN</td>\n      <td>NYC</td>\n      <td>NY</td>\n      <td>10022</td>\n      <td>USA</td>\n      <td>NaN</td>\n      <td>Yu</td>\n      <td>Kwai</td>\n      <td>Small</td>\n    </tr>\n    <tr>\n      <th>1</th>\n      <td>10121</td>\n      <td>34</td>\n      <td>81.35</td>\n      <td>5</td>\n      <td>2765.90</td>\n      <td>5/7/2003 0:00</td>\n      <td>Shipped</td>\n      <td>2</td>\n      <td>5</td>\n      <td>2003</td>\n      <td>...</td>\n      <td>59 rue de l'Abbaye</td>\n      <td>NaN</td>\n      <td>Reims</td>\n      <td>NaN</td>\n      <td>51100</td>\n      <td>France</td>\n      <td>EMEA</td>\n      <td>Henriot</td>\n      <td>Paul</td>\n      <td>Small</td>\n    </tr>\n    <tr>\n      <th>2</th>\n      <td>10134</td>\n      <td>41</td>\n      <td>94.74</td>\n      <td>2</td>\n      <td>3884.34</td>\n      <td>7/1/2003 0:00</td>\n      <td>Shipped</td>\n      <td>3</td>\n      <td>7</td>\n      <td>2003</td>\n      <td>...</td>\n      <td>27 rue du Colonel Pierre Avia</td>\n      <td>NaN</td>\n      <td>Paris</td>\n      <td>NaN</td>\n      <td>75508</td>\n      <td>France</td>\n      <td>EMEA</td>\n      <td>Da Cunha</td>\n      <td>Daniel</td>\n      <td>Medium</td>\n    </tr>\n    <tr>\n      <th>3</th>\n      <td>10145</td>\n      <td>45</td>\n      <td>83.26</td>\n      <td>6</td>\n      <td>3746.70</td>\n      <td>8/25/2003 0:00</td>\n      <td>Shipped</td>\n      <td>3</td>\n      <td>8</td>\n      <td>2003</td>\n      <td>...</td>\n      <td>78934 Hillside Dr.</td>\n      <td>NaN</td>\n      <td>Pasadena</td>\n      <td>CA</td>\n      <td>90003</td>\n      <td>USA</td>\n      <td>NaN</td>\n      <td>Young</td>\n      <td>Julie</td>\n      <td>Medium</td>\n    </tr>\n    <tr>\n      <th>4</th>\n      <td>10159</td>\n      <td>49</td>\n      <td>100.00</td>\n      <td>14</td>\n      <td>5205.27</td>\n      <td>10/10/2003 0:00</td>\n      <td>Shipped</td>\n      <td>4</td>\n      <td>10</td>\n      <td>2003</td>\n      <td>...</td>\n      <td>7734 Strong St.</td>\n      <td>NaN</td>\n      <td>San Francisco</td>\n      <td>CA</td>\n      <td>NaN</td>\n      <td>USA</td>\n      <td>NaN</td>\n      <td>Brown</td>\n      <td>Julie</td>\n      <td>Medium</td>\n    </tr>\n    <tr>\n      <th>...</th>\n      <td>...</td>\n      <td>...</td>\n      <td>...</td>\n      <td>...</td>\n      <td>...</td>\n      <td>...</td>\n      <td>...</td>\n      <td>...</td>\n      <td>...</td>\n      <td>...</td>\n      <td>...</td>\n      <td>...</td>\n      <td>...</td>\n      <td>...</td>\n      <td>...</td>\n      <td>...</td>\n      <td>...</td>\n      <td>...</td>\n      <td>...</td>\n      <td>...</td>\n      <td>...</td>\n    </tr>\n    <tr>\n      <th>2452</th>\n      <td>10356</td>\n      <td>26</td>\n      <td>100.00</td>\n      <td>4</td>\n      <td>3937.70</td>\n      <td>12/9/2004 0:00</td>\n      <td>Shipped</td>\n      <td>4</td>\n      <td>12</td>\n      <td>2004</td>\n      <td>...</td>\n      <td>27 rue du Colonel Pierre Avia</td>\n      <td>NaN</td>\n      <td>Paris</td>\n      <td>NaN</td>\n      <td>75508</td>\n      <td>France</td>\n      <td>EMEA</td>\n      <td>Da Cunha</td>\n      <td>Daniel</td>\n      <td>Medium</td>\n    </tr>\n    <tr>\n      <th>2453</th>\n      <td>10365</td>\n      <td>44</td>\n      <td>100.00</td>\n      <td>2</td>\n      <td>4984.32</td>\n      <td>1/7/2005 0:00</td>\n      <td>Shipped</td>\n      <td>1</td>\n      <td>1</td>\n      <td>2005</td>\n      <td>...</td>\n      <td>4575 Hillside Dr.</td>\n      <td>NaN</td>\n      <td>New Bedford</td>\n      <td>MA</td>\n      <td>50553</td>\n      <td>USA</td>\n      <td>NaN</td>\n      <td>Tam</td>\n      <td>Wing C</td>\n      <td>Medium</td>\n    </tr>\n    <tr>\n      <th>2454</th>\n      <td>10375</td>\n      <td>49</td>\n      <td>100.00</td>\n      <td>8</td>\n      <td>5406.66</td>\n      <td>2/3/2005 0:00</td>\n      <td>Shipped</td>\n      <td>1</td>\n      <td>2</td>\n      <td>2005</td>\n      <td>...</td>\n      <td>67, rue des Cinquante Otages</td>\n      <td>NaN</td>\n      <td>Nantes</td>\n      <td>NaN</td>\n      <td>44000</td>\n      <td>France</td>\n      <td>EMEA</td>\n      <td>Labrune</td>\n      <td>Janine</td>\n      <td>Medium</td>\n    </tr>\n    <tr>\n      <th>2455</th>\n      <td>10390</td>\n      <td>22</td>\n      <td>100.00</td>\n      <td>13</td>\n      <td>3491.18</td>\n      <td>3/4/2005 0:00</td>\n      <td>Shipped</td>\n      <td>1</td>\n      <td>3</td>\n      <td>2005</td>\n      <td>...</td>\n      <td>5677 Strong St.</td>\n      <td>NaN</td>\n      <td>San Rafael</td>\n      <td>CA</td>\n      <td>97562</td>\n      <td>USA</td>\n      <td>NaN</td>\n      <td>Nelson</td>\n      <td>Valarie</td>\n      <td>Medium</td>\n    </tr>\n    <tr>\n      <th>2456</th>\n      <td>10403</td>\n      <td>31</td>\n      <td>68.34</td>\n      <td>3</td>\n      <td>2118.54</td>\n      <td>4/8/2005 0:00</td>\n      <td>Shipped</td>\n      <td>2</td>\n      <td>4</td>\n      <td>2005</td>\n      <td>...</td>\n      <td>Berkeley Gardens 12  Brewery</td>\n      <td>NaN</td>\n      <td>Liverpool</td>\n      <td>NaN</td>\n      <td>WX1 6LT</td>\n      <td>UK</td>\n      <td>EMEA</td>\n      <td>Devon</td>\n      <td>Elizabeth</td>\n      <td>Small</td>\n    </tr>\n  </tbody>\n</table>\n<p>331 rows × 25 columns</p>\n</div>"
     },
     "metadata": {},
     "execution_count": 34
    }
   ],
   "source": [
    "# 6. Select all the rows where ‘PRODUCTLINE’ column is equal to ‘Motorcycles’\n",
    "\n",
    "data[data['PRODUCTLINE'] == 'Motorcycles']\n"
   ]
  },
  {
   "cell_type": "code",
   "execution_count": 35,
   "metadata": {
    "tags": []
   },
   "outputs": [
    {
     "output_type": "execute_result",
     "data": {
      "text/plain": "pandas.core.series.Series"
     },
     "metadata": {},
     "execution_count": 35
    }
   ],
   "source": [
    "# 7. Select the ‘QUANTITYORDERED’ column only and save it as qty\n",
    "\n",
    "qty = data['QUANTITYORDERED']\n",
    "type(qty) # Show that qty becomes a Series"
   ]
  },
  {
   "cell_type": "code",
   "execution_count": 42,
   "metadata": {},
   "outputs": [
    {
     "output_type": "execute_result",
     "data": {
      "text/plain": "0        (28.75, 51.5]\n1        (28.75, 51.5]\n2        (28.75, 51.5]\n3        (28.75, 51.5]\n4        (28.75, 51.5]\n             ...      \n2818    (5.909, 28.75]\n2819     (28.75, 51.5]\n2820     (28.75, 51.5]\n2821     (28.75, 51.5]\n2822     (28.75, 51.5]\nName: QUANTITYORDERED, Length: 2823, dtype: category\nCategories (4, interval[float64]): [(5.909, 28.75] < (28.75, 51.5] < (51.5, 74.25] < (74.25, 97.0]]"
     },
     "metadata": {},
     "execution_count": 42
    }
   ],
   "source": [
    "# 8. Use cut to divide the qty data into four bins of an equal length\n",
    "\n",
    "pd.cut(qty, 4)"
   ]
  },
  {
   "cell_type": "code",
   "execution_count": 43,
   "metadata": {},
   "outputs": [
    {
     "output_type": "execute_result",
     "data": {
      "text/plain": "(28.75, 51.5]     1930\n(5.909, 28.75]     843\n(51.5, 74.25]       44\n(74.25, 97.0]        6\nName: QUANTITYORDERED, dtype: int64"
     },
     "metadata": {},
     "execution_count": 43
    }
   ],
   "source": [
    "# 9. Use pd.value_counts() to count the number of data points in each bin in #8. It shows the number data points appearing in four bins of an equal length.\n",
    "\n",
    "index = pd.Index(pd.cut(qty, 4))\n",
    "index.value_counts()"
   ]
  },
  {
   "cell_type": "code",
   "execution_count": 44,
   "metadata": {},
   "outputs": [
    {
     "output_type": "execute_result",
     "data": {
      "text/plain": "0        (27.0, 35.0]\n1        (27.0, 35.0]\n2        (35.0, 43.0]\n3        (43.0, 97.0]\n4        (43.0, 97.0]\n            ...      \n2818    (5.999, 27.0]\n2819     (27.0, 35.0]\n2820     (35.0, 43.0]\n2821     (27.0, 35.0]\n2822     (43.0, 97.0]\nName: QUANTITYORDERED, Length: 2823, dtype: category\nCategories (4, interval[float64]): [(5.999, 27.0] < (27.0, 35.0] < (35.0, 43.0] < (43.0, 97.0]]"
     },
     "metadata": {},
     "execution_count": 44
    }
   ],
   "source": [
    "# 10. Use qcut to divide the qty data into four bins pertaining to each quartile.\n",
    "\n",
    "pd.qcut(qty, 4)"
   ]
  },
  {
   "cell_type": "code",
   "execution_count": 45,
   "metadata": {},
   "outputs": [
    {
     "output_type": "execute_result",
     "data": {
      "text/plain": "(5.999, 27.0]    761\n(27.0, 35.0]     714\n(35.0, 43.0]     687\n(43.0, 97.0]     661\nName: QUANTITYORDERED, dtype: int64"
     },
     "metadata": {},
     "execution_count": 45
    }
   ],
   "source": [
    "# 11. Use pd.value_counts() to count the number of data points in each bin in #10. (Discretization and Binning in 7.2) (Why aren’t there an equal number of data points in each bin?)\n",
    "\n",
    "index = pd.Index(pd.qcut(qty, 4))\n",
    "index.value_counts()"
   ]
  }
 ]
}