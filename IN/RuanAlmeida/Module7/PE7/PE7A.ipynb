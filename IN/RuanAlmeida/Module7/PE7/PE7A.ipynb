{
 "metadata": {
  "language_info": {
   "codemirror_mode": {
    "name": "ipython",
    "version": 3
   },
   "file_extension": ".py",
   "mimetype": "text/x-python",
   "name": "python",
   "nbconvert_exporter": "python",
   "pygments_lexer": "ipython3",
   "version": "3.8.5-final"
  },
  "orig_nbformat": 2,
  "kernelspec": {
   "name": "python_defaultSpec_1598640826776",
   "display_name": "Python 3.8.5 64-bit"
  }
 },
 "nbformat": 4,
 "nbformat_minor": 2,
 "cells": [
  {
   "cell_type": "code",
   "execution_count": 42,
   "metadata": {},
   "outputs": [],
   "source": [
    "import numpy as np\n",
    "import pandas as pd"
   ]
  },
  {
   "cell_type": "code",
   "execution_count": 43,
   "metadata": {},
   "outputs": [
    {
     "output_type": "execute_result",
     "data": {
      "text/plain": "     Ohio     Colorado\n    Green Red    Green\na 1     0   1        2\n  2     3   4        5\nb 1     6   7        8\n  2     9  10       11",
      "text/html": "<div>\n<style scoped>\n    .dataframe tbody tr th:only-of-type {\n        vertical-align: middle;\n    }\n\n    .dataframe tbody tr th {\n        vertical-align: top;\n    }\n\n    .dataframe thead tr th {\n        text-align: left;\n    }\n</style>\n<table border=\"1\" class=\"dataframe\">\n  <thead>\n    <tr>\n      <th></th>\n      <th></th>\n      <th colspan=\"2\" halign=\"left\">Ohio</th>\n      <th>Colorado</th>\n    </tr>\n    <tr>\n      <th></th>\n      <th></th>\n      <th>Green</th>\n      <th>Red</th>\n      <th>Green</th>\n    </tr>\n  </thead>\n  <tbody>\n    <tr>\n      <th rowspan=\"2\" valign=\"top\">a</th>\n      <th>1</th>\n      <td>0</td>\n      <td>1</td>\n      <td>2</td>\n    </tr>\n    <tr>\n      <th>2</th>\n      <td>3</td>\n      <td>4</td>\n      <td>5</td>\n    </tr>\n    <tr>\n      <th rowspan=\"2\" valign=\"top\">b</th>\n      <th>1</th>\n      <td>6</td>\n      <td>7</td>\n      <td>8</td>\n    </tr>\n    <tr>\n      <th>2</th>\n      <td>9</td>\n      <td>10</td>\n      <td>11</td>\n    </tr>\n  </tbody>\n</table>\n</div>"
     },
     "metadata": {},
     "execution_count": 43
    }
   ],
   "source": [
    "frame = pd.DataFrame(np.arange(12).reshape((4,3)), index=[['a','a','b','b'],[1,2,1,2]], columns = [['Ohio', 'Ohio', 'Colorado'], ['Green', 'Red', 'Green']])\n",
    "frame"
   ]
  },
  {
   "cell_type": "code",
   "execution_count": 44,
   "metadata": {},
   "outputs": [
    {
     "output_type": "execute_result",
     "data": {
      "text/plain": "a  1  Green  Colorado     2.0\n             Ohio         0.0\n      Red    Ohio         1.0\n   2  Green  Colorado     5.0\n             Ohio         3.0\n      Red    Ohio         4.0\nb  1  Green  Colorado     8.0\n             Ohio         6.0\n      Red    Ohio         7.0\n   2  Green  Colorado    11.0\n             Ohio         9.0\n      Red    Ohio        10.0\ndtype: float64"
     },
     "metadata": {},
     "execution_count": 44
    }
   ],
   "source": [
    "frame1 = frame.stack().stack()\n",
    "frame1"
   ]
  },
  {
   "cell_type": "code",
   "execution_count": 45,
   "metadata": {},
   "outputs": [
    {
     "output_type": "execute_result",
     "data": {
      "text/plain": "Ohio      Green  1  a     0\n                    b     6\n                 2  a     3\n                    b     9\n          Red    1  a     1\n                    b     7\n                 2  a     4\n                    b    10\nColorado  Green  1  a     2\n                    b     8\n                 2  a     5\n                    b    11\ndtype: int32"
     },
     "metadata": {},
     "execution_count": 45
    }
   ],
   "source": [
    "frame2 = frame.unstack().unstack()\n",
    "frame2"
   ]
  },
  {
   "cell_type": "code",
   "execution_count": 46,
   "metadata": {},
   "outputs": [
    {
     "output_type": "execute_result",
     "data": {
      "text/plain": "a  1  Green  Colorado     2\n             Ohio         0\n      Red    Ohio         1\n   2  Green  Colorado     5\n             Ohio         3\n      Red    Ohio         4\nb  1  Green  Colorado     8\n             Ohio         6\n      Red    Ohio         7\n   2  Green  Colorado    11\n             Ohio         9\n      Red    Ohio        10\ndtype: int32"
     },
     "metadata": {},
     "execution_count": 46
    }
   ],
   "source": [
    "# Apply a series of .swaplevel() and a .sort_index() to frame 2 so that it is the same as frame 1\n",
    "\n",
    "frame2 = frame2.swaplevel(0,3).sort_index()\n",
    "#frame2\n",
    "frame2.swaplevel(1,2).sort_index()"
   ]
  }
 ]
}