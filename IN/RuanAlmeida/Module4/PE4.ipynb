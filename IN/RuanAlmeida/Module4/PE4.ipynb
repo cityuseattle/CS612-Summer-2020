{
 "metadata": {
  "language_info": {
   "codemirror_mode": {
    "name": "ipython",
    "version": 3
   },
   "file_extension": ".py",
   "mimetype": "text/x-python",
   "name": "python",
   "nbconvert_exporter": "python",
   "pygments_lexer": "ipython3",
   "version": 3
  },
  "orig_nbformat": 2,
  "kernelspec": {
   "name": "python_defaultSpec_1596694756690",
   "display_name": "Python 3.8.5 64-bit"
  }
 },
 "nbformat": 4,
 "nbformat_minor": 2,
 "cells": [
  {
   "cell_type": "code",
   "execution_count": 2,
   "metadata": {
    "tags": []
   },
   "outputs": [
    {
     "output_type": "stream",
     "name": "stdout",
     "text": "One        Two      Three       Four       Five        Six  \\\nA       47.000000  19.000000  38.000000  12.000000  24.000000  15.000000   \nB       26.000000  30.000000  43.000000  30.000000  44.000000  26.000000   \nC        5.000000  16.000000   9.000000  47.000000  48.000000  12.000000   \nD       38.000000   3.000000  39.000000  11.000000   0.000000  41.000000   \nE        3.000000   2.000000  19.000000  12.000000   1.000000  11.000000   \nF       14.000000   7.000000  42.000000  43.000000  46.000000  28.000000   \n<MEAN>  22.166667  12.833333  31.666667  25.833333  27.166667  22.166667   \n\n            Seven  Eight        IQR        CV  \nA       23.000000   41.0  20.750000  0.462221  \nB       48.000000   28.0  15.750000  0.324694  \nC       37.000000   34.0  28.250000  0.623137  \nD       11.000000   16.0  29.250000  0.769224  \nE       43.000000   17.0  14.750000  0.942305  \nF       17.000000   23.0  26.000000  0.505620  \n<MEAN>  29.833333   26.5  22.458333  0.604533  \n"
    }
   ],
   "source": [
    "import pandas as pd\n",
    "import numpy as np\n",
    "\n",
    "np.random.seed(1234) # Setting the seed value to 1234\n",
    "RandomData = np.random.randint(0,49, size = (6,8)) # Generating controlled random numbers into matrix 6(rows)x8(columns)\n",
    "# 1: Generating the DataFrame data1\n",
    "# Using the list of the following alphabets [‘A’, ‘B’, ‘C’, ‘D’, ‘E’, ‘F’] as indexes \n",
    "#   and the following list ['One', 'Two', 'Three', 'Four', 'Five', 'Six', 'Seven', 'Eight'] as columns\n",
    "data1 = pd.DataFrame(RandomData, columns = ['One','Two','Three','Four','Five','Six','Seven','Eight'], index = ['A','B','C','D','E','F'])\n",
    "\n",
    "# 2: Calculating interquartile range (IQR) for each row\n",
    "data1['IQR'] = (data1.quantile(q = 0.75, axis = 1)) - (data1.quantile(q = 0.25, axis = 1)) \n",
    "\n",
    "# 3: Calculating the coefficient of variation (CV) for each row\n",
    "data1['CV'] = data1.std(axis = 1) / data1.mean(axis = 1) # CV = standard deviation / mean\n",
    "\n",
    "# 4: Calculating the mean for each column (adding it as new row)\n",
    "meanRow = data1.mean(axis = 'rows')\n",
    "auxData1 = data1.append({'One': meanRow[0], 'Two': meanRow[1], 'Three': meanRow[2], 'Four': meanRow[3], 'Five': meanRow[4], 'Six': meanRow[5], 'Seven': meanRow[6], 'Eight': meanRow[7], 'IQR': meanRow[8], 'CV': meanRow[9]}, ignore_index = True)\n",
    "data1 = auxData1.rename(index = {0:'A', 1: 'B', 2: 'C', 3: 'D', 4: 'E', 5: 'F', 6: '<MEAN>'}) # Adjusting row labels\n",
    "\n",
    "print(data1)"
   ]
  },
  {
   "cell_type": "code",
   "execution_count": null,
   "metadata": {},
   "outputs": [],
   "source": []
  }
 ]
}