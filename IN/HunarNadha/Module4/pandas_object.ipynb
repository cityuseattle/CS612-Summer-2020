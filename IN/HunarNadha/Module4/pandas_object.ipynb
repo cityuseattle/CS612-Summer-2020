{
 "metadata": {
  "language_info": {
   "codemirror_mode": {
    "name": "ipython",
    "version": 3
   },
   "file_extension": ".py",
   "mimetype": "text/x-python",
   "name": "python",
   "nbconvert_exporter": "python",
   "pygments_lexer": "ipython3",
   "version": 3
  },
  "orig_nbformat": 2,
  "kernelspec": {
   "name": "python_defaultSpec_1596168212077",
   "display_name": "Python 3.8.4 32-bit"
  }
 },
 "nbformat": 4,
 "nbformat_minor": 2,
 "cells": [
  {
   "cell_type": "code",
   "execution_count": 1,
   "metadata": {},
   "outputs": [],
   "source": [
    "import pandas as pd"
   ]
  },
  {
   "cell_type": "code",
   "execution_count": 3,
   "metadata": {},
   "outputs": [
    {
     "output_type": "execute_result",
     "data": {
      "text/plain": "0    1\n1    3\n2    5\n3    6\n4    8\ndtype: int64"
     },
     "metadata": {},
     "execution_count": 3
    }
   ],
   "source": [
    "series = pd.Series([1,3,5,6,8])\n",
    "series"
   ]
  },
  {
   "cell_type": "code",
   "execution_count": 4,
   "metadata": {},
   "outputs": [
    {
     "output_type": "execute_result",
     "data": {
      "text/plain": "   apples  oranges  peaches\n0       3        0        2\n1       2        3        4\n2       0        7        6\n3       1        2        8",
      "text/html": "<div>\n<style scoped>\n    .dataframe tbody tr th:only-of-type {\n        vertical-align: middle;\n    }\n\n    .dataframe tbody tr th {\n        vertical-align: top;\n    }\n\n    .dataframe thead th {\n        text-align: right;\n    }\n</style>\n<table border=\"1\" class=\"dataframe\">\n  <thead>\n    <tr style=\"text-align: right;\">\n      <th></th>\n      <th>apples</th>\n      <th>oranges</th>\n      <th>peaches</th>\n    </tr>\n  </thead>\n  <tbody>\n    <tr>\n      <th>0</th>\n      <td>3</td>\n      <td>0</td>\n      <td>2</td>\n    </tr>\n    <tr>\n      <th>1</th>\n      <td>2</td>\n      <td>3</td>\n      <td>4</td>\n    </tr>\n    <tr>\n      <th>2</th>\n      <td>0</td>\n      <td>7</td>\n      <td>6</td>\n    </tr>\n    <tr>\n      <th>3</th>\n      <td>1</td>\n      <td>2</td>\n      <td>8</td>\n    </tr>\n  </tbody>\n</table>\n</div>"
     },
     "metadata": {},
     "execution_count": 4
    }
   ],
   "source": [
    "data = {\n",
    "    'apples': [3,2,0,1],\n",
    "    'oranges': [0,3,7,2],\n",
    "    'peaches': [2,4,6,8]\n",
    "}\n",
    "fruits = pd.DataFrame(data)\n",
    "fruits"
   ]
  },
  {
   "cell_type": "code",
   "execution_count": 5,
   "metadata": {},
   "outputs": [
    {
     "output_type": "execute_result",
     "data": {
      "text/plain": "          apples  oranges  peaches\nTom            3        0        2\nIsabelle       2        3        4\nDaisy          0        7        6\nBlathers       1        2        8",
      "text/html": "<div>\n<style scoped>\n    .dataframe tbody tr th:only-of-type {\n        vertical-align: middle;\n    }\n\n    .dataframe tbody tr th {\n        vertical-align: top;\n    }\n\n    .dataframe thead th {\n        text-align: right;\n    }\n</style>\n<table border=\"1\" class=\"dataframe\">\n  <thead>\n    <tr style=\"text-align: right;\">\n      <th></th>\n      <th>apples</th>\n      <th>oranges</th>\n      <th>peaches</th>\n    </tr>\n  </thead>\n  <tbody>\n    <tr>\n      <th>Tom</th>\n      <td>3</td>\n      <td>0</td>\n      <td>2</td>\n    </tr>\n    <tr>\n      <th>Isabelle</th>\n      <td>2</td>\n      <td>3</td>\n      <td>4</td>\n    </tr>\n    <tr>\n      <th>Daisy</th>\n      <td>0</td>\n      <td>7</td>\n      <td>6</td>\n    </tr>\n    <tr>\n      <th>Blathers</th>\n      <td>1</td>\n      <td>2</td>\n      <td>8</td>\n    </tr>\n  </tbody>\n</table>\n</div>"
     },
     "metadata": {},
     "execution_count": 5
    }
   ],
   "source": [
    "buyer = pd.DataFrame(data, index=['Tom','Isabelle','Daisy','Blathers'])\n",
    "buyer"
   ]
  },
  {
   "cell_type": "code",
   "execution_count": 6,
   "metadata": {},
   "outputs": [
    {
     "output_type": "execute_result",
     "data": {
      "text/plain": "apples     3\noranges    0\npeaches    2\nName: Tom, dtype: int64"
     },
     "metadata": {},
     "execution_count": 6
    }
   ],
   "source": [
    "buyer.loc['Tom']"
   ]
  },
  {
   "cell_type": "code",
   "execution_count": 7,
   "metadata": {},
   "outputs": [
    {
     "output_type": "execute_result",
     "data": {
      "text/plain": "           apples  oranges  peaches\nTom       3000000        0  2000000\nIsabelle  2000000  3000000  4000000\nDaisy           0  7000000  6000000\nBlathers  1000000  2000000  8000000",
      "text/html": "<div>\n<style scoped>\n    .dataframe tbody tr th:only-of-type {\n        vertical-align: middle;\n    }\n\n    .dataframe tbody tr th {\n        vertical-align: top;\n    }\n\n    .dataframe thead th {\n        text-align: right;\n    }\n</style>\n<table border=\"1\" class=\"dataframe\">\n  <thead>\n    <tr style=\"text-align: right;\">\n      <th></th>\n      <th>apples</th>\n      <th>oranges</th>\n      <th>peaches</th>\n    </tr>\n  </thead>\n  <tbody>\n    <tr>\n      <th>Tom</th>\n      <td>3000000</td>\n      <td>0</td>\n      <td>2000000</td>\n    </tr>\n    <tr>\n      <th>Isabelle</th>\n      <td>2000000</td>\n      <td>3000000</td>\n      <td>4000000</td>\n    </tr>\n    <tr>\n      <th>Daisy</th>\n      <td>0</td>\n      <td>7000000</td>\n      <td>6000000</td>\n    </tr>\n    <tr>\n      <th>Blathers</th>\n      <td>1000000</td>\n      <td>2000000</td>\n      <td>8000000</td>\n    </tr>\n  </tbody>\n</table>\n</div>"
     },
     "metadata": {},
     "execution_count": 7
    }
   ],
   "source": [
    "#multiply 1,000,000 to each fruit\n",
    "buyer = buyer * 1_000_000\n",
    "buyer"
   ]
  },
  {
   "cell_type": "code",
   "execution_count": 8,
   "metadata": {},
   "outputs": [
    {
     "output_type": "execute_result",
     "data": {
      "text/plain": "          apples  oranges  peaches\nTom        False    False    False\nIsabelle   False    False    False\nDaisy      False     True    False\nBlathers   False    False     True",
      "text/html": "<div>\n<style scoped>\n    .dataframe tbody tr th:only-of-type {\n        vertical-align: middle;\n    }\n\n    .dataframe tbody tr th {\n        vertical-align: top;\n    }\n\n    .dataframe thead th {\n        text-align: right;\n    }\n</style>\n<table border=\"1\" class=\"dataframe\">\n  <thead>\n    <tr style=\"text-align: right;\">\n      <th></th>\n      <th>apples</th>\n      <th>oranges</th>\n      <th>peaches</th>\n    </tr>\n  </thead>\n  <tbody>\n    <tr>\n      <th>Tom</th>\n      <td>False</td>\n      <td>False</td>\n      <td>False</td>\n    </tr>\n    <tr>\n      <th>Isabelle</th>\n      <td>False</td>\n      <td>False</td>\n      <td>False</td>\n    </tr>\n    <tr>\n      <th>Daisy</th>\n      <td>False</td>\n      <td>True</td>\n      <td>False</td>\n    </tr>\n    <tr>\n      <th>Blathers</th>\n      <td>False</td>\n      <td>False</td>\n      <td>True</td>\n    </tr>\n  </tbody>\n</table>\n</div>"
     },
     "metadata": {},
     "execution_count": 8
    }
   ],
   "source": [
    "buyer > 6_000_000"
   ]
  },
  {
   "cell_type": "code",
   "execution_count": 10,
   "metadata": {},
   "outputs": [
    {
     "output_type": "execute_result",
     "data": {
      "text/plain": "           Value  Change  Sector\nAmazon       220    17.5  Ratail\nGoogle       160    11.9    Tech\nApple        140    -8.5    Tech\nMicrosoft    117    -2.1    Tech\nSamsung       94     3.5    Tech",
      "text/html": "<div>\n<style scoped>\n    .dataframe tbody tr th:only-of-type {\n        vertical-align: middle;\n    }\n\n    .dataframe tbody tr th {\n        vertical-align: top;\n    }\n\n    .dataframe thead th {\n        text-align: right;\n    }\n</style>\n<table border=\"1\" class=\"dataframe\">\n  <thead>\n    <tr style=\"text-align: right;\">\n      <th></th>\n      <th>Value</th>\n      <th>Change</th>\n      <th>Sector</th>\n    </tr>\n  </thead>\n  <tbody>\n    <tr>\n      <th>Amazon</th>\n      <td>220</td>\n      <td>17.5</td>\n      <td>Ratail</td>\n    </tr>\n    <tr>\n      <th>Google</th>\n      <td>160</td>\n      <td>11.9</td>\n      <td>Tech</td>\n    </tr>\n    <tr>\n      <th>Apple</th>\n      <td>140</td>\n      <td>-8.5</td>\n      <td>Tech</td>\n    </tr>\n    <tr>\n      <th>Microsoft</th>\n      <td>117</td>\n      <td>-2.1</td>\n      <td>Tech</td>\n    </tr>\n    <tr>\n      <th>Samsung</th>\n      <td>94</td>\n      <td>3.5</td>\n      <td>Tech</td>\n    </tr>\n  </tbody>\n</table>\n</div>"
     },
     "metadata": {},
     "execution_count": 10
    }
   ],
   "source": [
    "companies = {\n",
    "    'Value': [220, 160, 140, 117, 94],\n",
    "    'Change': [17.5, 11.9, -8.5, -2.1, 3.5],\n",
    "    'Sector': ['Ratail', 'Tech', 'Tech', 'Tech', 'Tech']\n",
    "}\n",
    "\n",
    "data = pd.DataFrame(companies, index=['Amazon','Google','Apple','Microsoft','Samsung'])\n",
    "data"
   ]
  },
  {
   "cell_type": "code",
   "execution_count": 11,
   "metadata": {
    "tags": []
   },
   "outputs": [
    {
     "output_type": "stream",
     "name": "stdout",
     "text": "<class 'pandas.core.frame.DataFrame'>\nIndex: 5 entries, Amazon to Samsung\nData columns (total 3 columns):\n #   Column  Non-Null Count  Dtype  \n---  ------  --------------  -----  \n 0   Value   5 non-null      int64  \n 1   Change  5 non-null      float64\n 2   Sector  5 non-null      object \ndtypes: float64(1), int64(1), object(1)\nmemory usage: 120.0+ bytes\n"
    }
   ],
   "source": [
    "data.info()"
   ]
  },
  {
   "cell_type": "code",
   "execution_count": 12,
   "metadata": {},
   "outputs": [
    {
     "output_type": "execute_result",
     "data": {
      "text/plain": "Index(['Value', 'Change', 'Sector'], dtype='object')"
     },
     "metadata": {},
     "execution_count": 12
    }
   ],
   "source": [
    "data.columns"
   ]
  },
  {
   "cell_type": "code",
   "execution_count": 13,
   "metadata": {},
   "outputs": [
    {
     "output_type": "execute_result",
     "data": {
      "text/plain": "Index(['Amazon', 'Google', 'Apple', 'Microsoft', 'Samsung'], dtype='object')"
     },
     "metadata": {},
     "execution_count": 13
    }
   ],
   "source": [
    "data.index"
   ]
  },
  {
   "cell_type": "code",
   "execution_count": 15,
   "metadata": {},
   "outputs": [
    {
     "output_type": "execute_result",
     "data": {
      "text/plain": "            Value     Change\ncount    5.000000   5.000000\nmean   146.200000   4.460000\nstd     48.095738  10.456003\nmin     94.000000  -8.500000\n25%    117.000000  -2.100000\n50%    140.000000   3.500000\n75%    160.000000  11.900000\nmax    220.000000  17.500000",
      "text/html": "<div>\n<style scoped>\n    .dataframe tbody tr th:only-of-type {\n        vertical-align: middle;\n    }\n\n    .dataframe tbody tr th {\n        vertical-align: top;\n    }\n\n    .dataframe thead th {\n        text-align: right;\n    }\n</style>\n<table border=\"1\" class=\"dataframe\">\n  <thead>\n    <tr style=\"text-align: right;\">\n      <th></th>\n      <th>Value</th>\n      <th>Change</th>\n    </tr>\n  </thead>\n  <tbody>\n    <tr>\n      <th>count</th>\n      <td>5.000000</td>\n      <td>5.000000</td>\n    </tr>\n    <tr>\n      <th>mean</th>\n      <td>146.200000</td>\n      <td>4.460000</td>\n    </tr>\n    <tr>\n      <th>std</th>\n      <td>48.095738</td>\n      <td>10.456003</td>\n    </tr>\n    <tr>\n      <th>min</th>\n      <td>94.000000</td>\n      <td>-8.500000</td>\n    </tr>\n    <tr>\n      <th>25%</th>\n      <td>117.000000</td>\n      <td>-2.100000</td>\n    </tr>\n    <tr>\n      <th>50%</th>\n      <td>140.000000</td>\n      <td>3.500000</td>\n    </tr>\n    <tr>\n      <th>75%</th>\n      <td>160.000000</td>\n      <td>11.900000</td>\n    </tr>\n    <tr>\n      <th>max</th>\n      <td>220.000000</td>\n      <td>17.500000</td>\n    </tr>\n  </tbody>\n</table>\n</div>"
     },
     "metadata": {},
     "execution_count": 15
    }
   ],
   "source": [
    "data.describe()"
   ]
  },
  {
   "cell_type": "code",
   "execution_count": 16,
   "metadata": {},
   "outputs": [
    {
     "output_type": "execute_result",
     "data": {
      "text/plain": "        Value  Change  Sector\nAmazon    220    17.5  Ratail\nGoogle    160    11.9    Tech",
      "text/html": "<div>\n<style scoped>\n    .dataframe tbody tr th:only-of-type {\n        vertical-align: middle;\n    }\n\n    .dataframe tbody tr th {\n        vertical-align: top;\n    }\n\n    .dataframe thead th {\n        text-align: right;\n    }\n</style>\n<table border=\"1\" class=\"dataframe\">\n  <thead>\n    <tr style=\"text-align: right;\">\n      <th></th>\n      <th>Value</th>\n      <th>Change</th>\n      <th>Sector</th>\n    </tr>\n  </thead>\n  <tbody>\n    <tr>\n      <th>Amazon</th>\n      <td>220</td>\n      <td>17.5</td>\n      <td>Ratail</td>\n    </tr>\n    <tr>\n      <th>Google</th>\n      <td>160</td>\n      <td>11.9</td>\n      <td>Tech</td>\n    </tr>\n  </tbody>\n</table>\n</div>"
     },
     "metadata": {},
     "execution_count": 16
    }
   ],
   "source": [
    "data.loc[data['Value'] > 150]"
   ]
  },
  {
   "cell_type": "code",
   "execution_count": 17,
   "metadata": {},
   "outputs": [
    {
     "output_type": "execute_result",
     "data": {
      "text/plain": "Amazon       17.5\nGoogle       11.9\nApple        -8.5\nMicrosoft    -2.1\nSamsung       3.5\nName: Change, dtype: float64"
     },
     "metadata": {},
     "execution_count": 17
    }
   ],
   "source": [
    "data['Change']"
   ]
  },
  {
   "cell_type": "code",
   "execution_count": 18,
   "metadata": {},
   "outputs": [
    {
     "output_type": "execute_result",
     "data": {
      "text/plain": "           Value  Change  Sector\nAmazon       220    17.5  Ratail\nGoogle       160    11.9    Tech\nApple        140    -8.5    Tech\nMicrosoft    117    -2.1    Tech\nSamsung       94     3.5    Tech",
      "text/html": "<div>\n<style scoped>\n    .dataframe tbody tr th:only-of-type {\n        vertical-align: middle;\n    }\n\n    .dataframe tbody tr th {\n        vertical-align: top;\n    }\n\n    .dataframe thead th {\n        text-align: right;\n    }\n</style>\n<table border=\"1\" class=\"dataframe\">\n  <thead>\n    <tr style=\"text-align: right;\">\n      <th></th>\n      <th>Value</th>\n      <th>Change</th>\n      <th>Sector</th>\n    </tr>\n  </thead>\n  <tbody>\n    <tr>\n      <th>Amazon</th>\n      <td>220</td>\n      <td>17.5</td>\n      <td>Ratail</td>\n    </tr>\n    <tr>\n      <th>Google</th>\n      <td>160</td>\n      <td>11.9</td>\n      <td>Tech</td>\n    </tr>\n    <tr>\n      <th>Apple</th>\n      <td>140</td>\n      <td>-8.5</td>\n      <td>Tech</td>\n    </tr>\n    <tr>\n      <th>Microsoft</th>\n      <td>117</td>\n      <td>-2.1</td>\n      <td>Tech</td>\n    </tr>\n    <tr>\n      <th>Samsung</th>\n      <td>94</td>\n      <td>3.5</td>\n      <td>Tech</td>\n    </tr>\n  </tbody>\n</table>\n</div>"
     },
     "metadata": {},
     "execution_count": 18
    }
   ],
   "source": [
    "data"
   ]
  },
  {
   "cell_type": "code",
   "execution_count": 20,
   "metadata": {},
   "outputs": [
    {
     "output_type": "execute_result",
     "data": {
      "text/plain": "Value      117\nChange    -2.1\nSector    Tech\nName: Microsoft, dtype: object"
     },
     "metadata": {},
     "execution_count": 20
    }
   ],
   "source": [
    "data.iloc[3]"
   ]
  },
  {
   "cell_type": "code",
   "execution_count": 21,
   "metadata": {},
   "outputs": [
    {
     "output_type": "execute_result",
     "data": {
      "text/plain": "           Change Sector\nGoogle       11.9   Tech\nApple        -8.5   Tech\nMicrosoft    -2.1   Tech",
      "text/html": "<div>\n<style scoped>\n    .dataframe tbody tr th:only-of-type {\n        vertical-align: middle;\n    }\n\n    .dataframe tbody tr th {\n        vertical-align: top;\n    }\n\n    .dataframe thead th {\n        text-align: right;\n    }\n</style>\n<table border=\"1\" class=\"dataframe\">\n  <thead>\n    <tr style=\"text-align: right;\">\n      <th></th>\n      <th>Change</th>\n      <th>Sector</th>\n    </tr>\n  </thead>\n  <tbody>\n    <tr>\n      <th>Google</th>\n      <td>11.9</td>\n      <td>Tech</td>\n    </tr>\n    <tr>\n      <th>Apple</th>\n      <td>-8.5</td>\n      <td>Tech</td>\n    </tr>\n    <tr>\n      <th>Microsoft</th>\n      <td>-2.1</td>\n      <td>Tech</td>\n    </tr>\n  </tbody>\n</table>\n</div>"
     },
     "metadata": {},
     "execution_count": 21
    }
   ],
   "source": [
    "data.iloc[1:4, 1:3]"
   ]
  },
  {
   "cell_type": "code",
   "execution_count": 22,
   "metadata": {},
   "outputs": [
    {
     "output_type": "execute_result",
     "data": {
      "text/plain": "        Value  Change  Sector\nAmazon    220    17.5  Ratail\nGoogle    160    11.9    Tech\nApple     140    -8.5    Tech",
      "text/html": "<div>\n<style scoped>\n    .dataframe tbody tr th:only-of-type {\n        vertical-align: middle;\n    }\n\n    .dataframe tbody tr th {\n        vertical-align: top;\n    }\n\n    .dataframe thead th {\n        text-align: right;\n    }\n</style>\n<table border=\"1\" class=\"dataframe\">\n  <thead>\n    <tr style=\"text-align: right;\">\n      <th></th>\n      <th>Value</th>\n      <th>Change</th>\n      <th>Sector</th>\n    </tr>\n  </thead>\n  <tbody>\n    <tr>\n      <th>Amazon</th>\n      <td>220</td>\n      <td>17.5</td>\n      <td>Ratail</td>\n    </tr>\n    <tr>\n      <th>Google</th>\n      <td>160</td>\n      <td>11.9</td>\n      <td>Tech</td>\n    </tr>\n    <tr>\n      <th>Apple</th>\n      <td>140</td>\n      <td>-8.5</td>\n      <td>Tech</td>\n    </tr>\n  </tbody>\n</table>\n</div>"
     },
     "metadata": {},
     "execution_count": 22
    }
   ],
   "source": [
    "data[0:3]"
   ]
  },
  {
   "cell_type": "code",
   "execution_count": 23,
   "metadata": {},
   "outputs": [
    {
     "output_type": "execute_result",
     "data": {
      "text/plain": "           Value  Change  Sector\nAmazon       220    17.5  Ratail\nGoogle       160    11.9    Tech\nApple        140    -8.5    Tech\nMicrosoft    117    -2.1    Tech\nSamsung       94     3.5    Tech",
      "text/html": "<div>\n<style scoped>\n    .dataframe tbody tr th:only-of-type {\n        vertical-align: middle;\n    }\n\n    .dataframe tbody tr th {\n        vertical-align: top;\n    }\n\n    .dataframe thead th {\n        text-align: right;\n    }\n</style>\n<table border=\"1\" class=\"dataframe\">\n  <thead>\n    <tr style=\"text-align: right;\">\n      <th></th>\n      <th>Value</th>\n      <th>Change</th>\n      <th>Sector</th>\n    </tr>\n  </thead>\n  <tbody>\n    <tr>\n      <th>Amazon</th>\n      <td>220</td>\n      <td>17.5</td>\n      <td>Ratail</td>\n    </tr>\n    <tr>\n      <th>Google</th>\n      <td>160</td>\n      <td>11.9</td>\n      <td>Tech</td>\n    </tr>\n    <tr>\n      <th>Apple</th>\n      <td>140</td>\n      <td>-8.5</td>\n      <td>Tech</td>\n    </tr>\n    <tr>\n      <th>Microsoft</th>\n      <td>117</td>\n      <td>-2.1</td>\n      <td>Tech</td>\n    </tr>\n    <tr>\n      <th>Samsung</th>\n      <td>94</td>\n      <td>3.5</td>\n      <td>Tech</td>\n    </tr>\n  </tbody>\n</table>\n</div>"
     },
     "metadata": {},
     "execution_count": 23
    }
   ],
   "source": [
    "data"
   ]
  },
  {
   "cell_type": "code",
   "execution_count": 24,
   "metadata": {},
   "outputs": [
    {
     "output_type": "execute_result",
     "data": {
      "text/plain": "Amazon       440\nGoogle       320\nApple        280\nMicrosoft    234\nSamsung      188\nName: Value, dtype: int64"
     },
     "metadata": {},
     "execution_count": 24
    }
   ],
   "source": [
    "data['Value'].mul(2)"
   ]
  },
  {
   "cell_type": "code",
   "execution_count": 25,
   "metadata": {},
   "outputs": [
    {
     "output_type": "execute_result",
     "data": {
      "text/plain": "Amazon       218\nGoogle       158\nApple        138\nMicrosoft    115\nSamsung       92\nName: Value, dtype: int64"
     },
     "metadata": {},
     "execution_count": 25
    }
   ],
   "source": [
    "data['Value'].sub(2)"
   ]
  },
  {
   "cell_type": "code",
   "execution_count": 27,
   "metadata": {},
   "outputs": [
    {
     "output_type": "execute_result",
     "data": {
      "text/plain": "Amazon       222\nGoogle       162\nApple        142\nMicrosoft    119\nSamsung       96\nName: Value, dtype: int64"
     },
     "metadata": {},
     "execution_count": 27
    }
   ],
   "source": [
    "data['Value'].add(2)"
   ]
  },
  {
   "cell_type": "code",
   "execution_count": 28,
   "metadata": {},
   "outputs": [
    {
     "output_type": "execute_result",
     "data": {
      "text/plain": "(Amazon       110\n Google        80\n Apple         70\n Microsoft     58\n Samsung       47\n Name: Value, dtype: int64,\n Amazon       0\n Google       0\n Apple        0\n Microsoft    1\n Samsung      0\n Name: Value, dtype: int64)"
     },
     "metadata": {},
     "execution_count": 28
    }
   ],
   "source": [
    "div, rem = divmod(data['Value'], 2)\n",
    "div,rem"
   ]
  },
  {
   "cell_type": "code",
   "execution_count": 29,
   "metadata": {},
   "outputs": [
    {
     "output_type": "execute_result",
     "data": {
      "text/plain": "Value     146.20\nChange      4.46\ndtype: float64"
     },
     "metadata": {},
     "execution_count": 29
    }
   ],
   "source": [
    "data.mean()"
   ]
  },
  {
   "cell_type": "code",
   "execution_count": 31,
   "metadata": {},
   "outputs": [
    {
     "output_type": "execute_result",
     "data": {
      "text/plain": "Value                        731\nChange                      22.3\nSector    RatailTechTechTechTech\ndtype: object"
     },
     "metadata": {},
     "execution_count": 31
    }
   ],
   "source": [
    "data.sum(0)"
   ]
  },
  {
   "cell_type": "code",
   "execution_count": 32,
   "metadata": {},
   "outputs": [
    {
     "output_type": "execute_result",
     "data": {
      "text/plain": "Amazon       237.5\nGoogle       171.9\nApple        131.5\nMicrosoft    114.9\nSamsung       97.5\ndtype: float64"
     },
     "metadata": {},
     "execution_count": 32
    }
   ],
   "source": [
    "data.sum(1)"
   ]
  },
  {
   "cell_type": "code",
   "execution_count": 33,
   "metadata": {},
   "outputs": [
    {
     "output_type": "execute_result",
     "data": {
      "text/plain": "Value     48.095738\nChange    10.456003\ndtype: float64"
     },
     "metadata": {},
     "execution_count": 33
    }
   ],
   "source": [
    "data.std()"
   ]
  },
  {
   "cell_type": "code",
   "execution_count": 34,
   "metadata": {},
   "outputs": [
    {
     "output_type": "execute_result",
     "data": {
      "text/plain": "Value     140.0\nChange      3.5\nName: 0.5, dtype: float64"
     },
     "metadata": {},
     "execution_count": 34
    }
   ],
   "source": [
    "data.quantile(.5)"
   ]
  },
  {
   "cell_type": "code",
   "execution_count": 35,
   "metadata": {},
   "outputs": [
    {
     "output_type": "execute_result",
     "data": {
      "text/plain": "Value         94\nChange      -8.5\nSector    Ratail\ndtype: object"
     },
     "metadata": {},
     "execution_count": 35
    }
   ],
   "source": [
    "data.min()"
   ]
  },
  {
   "cell_type": "code",
   "execution_count": 36,
   "metadata": {},
   "outputs": [
    {
     "output_type": "execute_result",
     "data": {
      "text/plain": "           Value  Change                  Sector\nAmazon       220    17.5                  Ratail\nGoogle       380    29.4              RatailTech\nApple        520    20.9          RatailTechTech\nMicrosoft    637    18.8      RatailTechTechTech\nSamsung      731    22.3  RatailTechTechTechTech",
      "text/html": "<div>\n<style scoped>\n    .dataframe tbody tr th:only-of-type {\n        vertical-align: middle;\n    }\n\n    .dataframe tbody tr th {\n        vertical-align: top;\n    }\n\n    .dataframe thead th {\n        text-align: right;\n    }\n</style>\n<table border=\"1\" class=\"dataframe\">\n  <thead>\n    <tr style=\"text-align: right;\">\n      <th></th>\n      <th>Value</th>\n      <th>Change</th>\n      <th>Sector</th>\n    </tr>\n  </thead>\n  <tbody>\n    <tr>\n      <th>Amazon</th>\n      <td>220</td>\n      <td>17.5</td>\n      <td>Ratail</td>\n    </tr>\n    <tr>\n      <th>Google</th>\n      <td>380</td>\n      <td>29.4</td>\n      <td>RatailTech</td>\n    </tr>\n    <tr>\n      <th>Apple</th>\n      <td>520</td>\n      <td>20.9</td>\n      <td>RatailTechTech</td>\n    </tr>\n    <tr>\n      <th>Microsoft</th>\n      <td>637</td>\n      <td>18.8</td>\n      <td>RatailTechTechTech</td>\n    </tr>\n    <tr>\n      <th>Samsung</th>\n      <td>731</td>\n      <td>22.3</td>\n      <td>RatailTechTechTechTech</td>\n    </tr>\n  </tbody>\n</table>\n</div>"
     },
     "metadata": {},
     "execution_count": 36
    }
   ],
   "source": [
    "data.cumsum()"
   ]
  },
  {
   "cell_type": "code",
   "execution_count": 37,
   "metadata": {},
   "outputs": [
    {
     "output_type": "execute_result",
     "data": {
      "text/plain": "Value     5\nChange    5\nSector    5\ndtype: int64"
     },
     "metadata": {},
     "execution_count": 37
    }
   ],
   "source": [
    "data.count()"
   ]
  },
  {
   "cell_type": "code",
   "execution_count": null,
   "metadata": {},
   "outputs": [],
   "source": []
  }
 ]
}