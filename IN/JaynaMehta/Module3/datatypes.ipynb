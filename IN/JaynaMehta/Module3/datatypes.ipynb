{
 "metadata": {
  "language_info": {
   "codemirror_mode": {
    "name": "ipython",
    "version": 3
   },
   "file_extension": ".py",
   "mimetype": "text/x-python",
   "name": "python",
   "nbconvert_exporter": "python",
   "pygments_lexer": "ipython3",
   "version": 3
  },
  "orig_nbformat": 2,
  "kernelspec": {
   "name": "python_defaultSpec_1595829631738",
   "display_name": "Python 3.8.5 64-bit"
  }
 },
 "nbformat": 4,
 "nbformat_minor": 2,
 "cells": [
  {
   "cell_type": "code",
   "execution_count": 1,
   "metadata": {},
   "outputs": [],
   "source": [
    "import numpy as np\n"
   ]
  },
  {
   "cell_type": "code",
   "execution_count": 3,
   "metadata": {
    "tags": []
   },
   "outputs": [
    {
     "output_type": "stream",
     "name": "stdout",
     "text": "int32\nfloat64\n[1. 2.]\nfloat64\n"
    }
   ],
   "source": [
    "dt = np. array([1,2])\n",
    "print(dt.dtype)\n",
    "\n",
    "dt = np. array([1.0,2.0])\n",
    "print(dt.dtype)\n",
    "\n",
    "dt = np.array([1,2], dtype=np.float64)\n",
    "print(dt)\n",
    "print(dt.dtype)\n"
   ]
  },
  {
   "cell_type": "code",
   "execution_count": 4,
   "metadata": {
    "tags": []
   },
   "outputs": [
    {
     "output_type": "stream",
     "name": "stdout",
     "text": "[('name', '<U10'), ('age', '<i8'), ('marks', '<f8')]\n"
    }
   ],
   "source": [
    "student = np.dtype([('name',np.unicode_, 10), ('age', np.int64), ('marks', np.float64)])\n",
    "\n",
    "print(student)"
   ]
  },
  {
   "cell_type": "code",
   "execution_count": null,
   "metadata": {},
   "outputs": [],
   "source": [
    "ms_student = np.array([('student1', 20,100), ('student2withlongname', 22, 89)], dtype=student)\n",
    "print(ms_student)\n",
    "print(ms_student.dtype)"
   ]
  }
 ]
}