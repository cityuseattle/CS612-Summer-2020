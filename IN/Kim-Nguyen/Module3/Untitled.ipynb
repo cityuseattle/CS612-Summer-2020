{
 "metadata": {
  "language_info": {
   "codemirror_mode": {
    "name": "ipython",
    "version": 3
   },
   "file_extension": ".py",
   "mimetype": "text/x-python",
   "name": "python",
   "nbconvert_exporter": "python",
   "pygments_lexer": "ipython3",
   "version": "3.8.3-final"
  },
  "orig_nbformat": 2,
  "kernelspec": {
   "name": "python38364bita33c045d11cf4bfc837fcd954533ce65",
   "display_name": "Python 3.8.3 64-bit"
  }
 },
 "nbformat": 4,
 "nbformat_minor": 2,
 "cells": [
  {
   "cell_type": "code",
   "execution_count": 1,
   "metadata": {
    "tags": []
   },
   "outputs": [
    {
     "output_type": "stream",
     "name": "stdout",
     "text": "int64\nfloat64\nfloat64\n"
    }
   ],
   "source": [
    "\n",
    "import numpy as np\n",
    "\n",
    "dt = np.array([1,2])    #output = int64\n",
    "print(dt.dtype)\n",
    "\n",
    "dt = np.array([1.0,2.0])     #output = float64\n",
    "print(dt.dtype)\n",
    "\n",
    "dt = np.array([1,2], dtype=np.float64)  #force output = float64\n",
    "print(dt.dtype)\n",
    "\n",
    "student = np.dtype([('name', np.unicode_, 10), ('age', np.int64), ('marks', np.float64)])\n",
    "print(student)\n",
    "\n",
    "ms_student = np.array([('student1', 20, 100), ('student2withlongname', 22, 89)], dtype=student)\n",
    "print(ms_student)\n",
    "print(ms_student.dtype)"
   ]
  },
  {
   "cell_type": "code",
   "execution_count": null,
   "metadata": {},
   "outputs": [],
   "source": []
  }
 ]
}