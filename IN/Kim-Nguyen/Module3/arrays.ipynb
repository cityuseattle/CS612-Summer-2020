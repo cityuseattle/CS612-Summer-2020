{
 "metadata": {
  "language_info": {
   "codemirror_mode": {
    "name": "ipython",
    "version": 3
   },
   "file_extension": ".py",
   "mimetype": "text/x-python",
   "name": "python",
   "nbconvert_exporter": "python",
   "pygments_lexer": "ipython3",
   "version": 3
  },
  "orig_nbformat": 2
 },
 "nbformat": 4,
 "nbformat_minor": 2,
 "cells": [
  {
   "cell_type": "code",
   "execution_count": null,
   "metadata": {},
   "outputs": [],
   "source": [
    "import numpy as np \n",
    "\n",
    "#create rank 1 dim array\n",
    "arr = np.array([1,2,3])\n",
    "print(type(arr))\n",
    "print(arr.dtype)\n",
    "print(arr.shape)\n",
    "print(arr[0], arr[1], arr[2])\n",
    "arr[2] = 4\n",
    "print(arr)\n",
    "\n",
    "#create rank 2 array\n",
    "arr2 = np.array([[1,2,3], [4,5,6]])\n",
    "print(arr2.shape)\n",
    "print(arr2[0,0], arr2[0,1], arr2[1,0])\n",
    "print(arr2[-1])"
   ]
  }
 ]
}