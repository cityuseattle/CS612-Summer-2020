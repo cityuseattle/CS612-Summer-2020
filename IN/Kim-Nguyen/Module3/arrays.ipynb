{
 "metadata": {
  "language_info": {
   "codemirror_mode": {
    "name": "ipython",
    "version": 3
   },
   "file_extension": ".py",
   "mimetype": "text/x-python",
   "name": "python",
   "nbconvert_exporter": "python",
   "pygments_lexer": "ipython3",
   "version": 3
  },
  "orig_nbformat": 2
 },
 "nbformat": 4,
 "nbformat_minor": 2,
 "cells": [
  {
   "cell_type": "code",
   "execution_count": null,
   "metadata": {},
   "outputs": [],
   "source": [
    "import numpy as np \n",
    "\n",
    "#create rank 1 dim array\n",
    "arr = np.array([1,2,3])\n",
    "print(type(arr))\n",
    "print(arr.dtype)\n",
    "print(arr.shape)\n",
    "print(arr[0], arr[1], arr[2])\n",
    "arr[2] = 4\n",
    "print(arr)\n",
    "\n",
    "#create rank 2 array\n",
    "arr2 = np.array([[1,2,3], [4,5,6]])\n",
    "print(arr2.shape)\n",
    "print(arr2[0,0], arr2[0,1], arr2[1,0])\n",
    "print(arr2[-1])\n",
    "\n",
    "#create an array of zeros with 2 dim and size of 2 each\n",
    "zero = np.zeros ((2,2))\n",
    "print(zero)\n",
    "\n",
    "#create an array of ones with 1 dim and size of 2 each\n",
    "one = np.ones((1,2))\n",
    "print(one)\n",
    "\n",
    "#create an array with given shape, type and filled with values\n",
    "constant = np.full((2,2),5)     #defaul type = float\n",
    "                                #output == [[5,5]\n",
    "                                #           [5,5]]\n",
    "\n",
    "#create 2D array with 1 on diagonal and 0 on others\n",
    "diag = np.eye(3)\n",
    "\n",
    "#diagonal starts at index 1\n",
    "diag = np.eye(4, k=1)\n",
    "\n",
    "#array with random values\n",
    "rand = np.random.random((2,2))\n"
   ]
  },
  {
   "cell_type": "code",
   "execution_count": null,
   "metadata": {},
   "outputs": [],
   "source": [
    "#indexing\n",
    "arr = np.range(10)\n",
    "print(arr[0:8:2]) #every 2 nums between 0 and 8, 8 not included\n",
    "\n",
    "#create rank 2 with shape (3,4) array\n",
    "arr = np.arry([[1,2,3,4], [5,6,7,8], [9,10,11,12]])\n",
    "print(arr[:2, :2])"
   ]
  },
  {
   "cell_type": "code",
   "execution_count": null,
   "metadata": {},
   "outputs": [],
   "source": [
    "#integer indexing\n",
    "arr = np.array([[1,2], [3,4], [5,6]])\n",
    "print(arr[0,1,2], [0,1,1])"
   ]
  },
  {
   "cell_type": "code",
   "execution_count": null,
   "metadata": {},
   "outputs": [],
   "source": [
    "#reshape, 1D to 2D\n",
    "arr = np.arange(9)\n",
    "reshaped = arr.reshape(3,3)\n"
   ]
  },
  {
   "cell_type": "code",
   "execution_count": null,
   "metadata": {},
   "outputs": [],
   "source": [
    "#flat, 2D to 1D\n",
    "arr = np.arange(8).reshape(2,4)\n",
    "print(arr.flat[4]) #turn array to 1D then accessing arr at index 4"
   ]
  },
  {
   "cell_type": "code",
   "execution_count": null,
   "metadata": {},
   "outputs": [],
   "source": [
    "#flatten, turn to 1D then return the array\n",
    "arr = np.arange(8).reshape(2,4)\n",
    "print(arr.flatten())"
   ]
  },
  {
   "cell_type": "code",
   "execution_count": null,
   "metadata": {},
   "outputs": [],
   "source": [
    "#transpose, permutes the dimensions on an array\n",
    "arr = np.arange(8).reshape(2,4)     #[[0,1,2,3],\n",
    "                                    #[4,5,6,7]]\n",
    "\n",
    "print(arr.transpose())              #[[0,4]\n",
    "                                    # [1,5]\n",
    "                                    # [2,6]\n",
    "                                    # [3,7]]"
   ]
  },
  {
   "cell_type": "code",
   "execution_count": null,
   "metadata": {},
   "outputs": [],
   "source": [
    "#broadcast, numpy built in\n",
    "a = np.array([[1], [2], [3]])\n",
    "b = np.array([4,5,6])\n",
    "c = a + b       # -> 1+4, 2+4, 3+4; 1+5 and so on\n"
   ]
  },
  {
   "cell_type": "code",
   "execution_count": null,
   "metadata": {},
   "outputs": [],
   "source": [
    "#resize\n",
    "arr = np.array([[1,2,3], [4,5,6]])\n",
    "resized = np.resize(arr, (3,3))     #=> resize from 2,3 to 3,3"
   ]
  },
  {
   "cell_type": "code",
   "execution_count": null,
   "metadata": {},
   "outputs": [],
   "source": [
    "#find unique(), returns fist new elem\n",
    "unique = np.unique([1,1,2,2,3,3])   #output [1,2,3]\n",
    "\n",
    "arr = np.array([[1,1],[2,3])\n",
    "\n",
    "arr = np.array(['a', 'b', 'b', 'c', 'a'])\n",
    "unique, indices = np.unique(arr, return_index=True)     # -> output ['a', 'b', 'c'] [0, 1, 3]\n",
    "\n",
    "count = np.unique(arr, return_counts = True)\n",
    "print(count[0], count[1]) #-> return unique and number of occurences; output = ['a', 'b', 'c'] [2,2,1]"
   ]
  }
 ]
}