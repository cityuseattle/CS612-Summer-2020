{
 "metadata": {
  "language_info": {
   "codemirror_mode": {
    "name": "ipython",
    "version": 3
   },
   "file_extension": ".py",
   "mimetype": "text/x-python",
   "name": "python",
   "nbconvert_exporter": "python",
   "pygments_lexer": "ipython3",
   "version": 3
  },
  "orig_nbformat": 2,
  "kernelspec": {
   "name": "python_defaultSpec_1595656263044",
   "display_name": "Python 3.7.6 64-bit ('base': conda)"
  }
 },
 "nbformat": 4,
 "nbformat_minor": 2,
 "cells": [
  {
   "cell_type": "code",
   "execution_count": 64,
   "metadata": {
    "tags": []
   },
   "outputs": [
    {
     "output_type": "stream",
     "name": "stdout",
     "text": "2\n"
    }
   ],
   "source": [
    "import numpy as np\n",
    "nsteps = 1000\n",
    "draws = np.random.randint(0,2,size=nsteps)\n",
    "steps = np.where(draws>0,1,-1)\n",
    "walk = steps.cumsum()"
   ]
  },
  {
   "cell_type": "code",
   "execution_count": 27,
   "metadata": {
    "tags": []
   },
   "outputs": [
    {
     "output_type": "stream",
     "name": "stdout",
     "text": "[[  0.35717582  -7.95487847   5.16353484  -3.56325948]\n [ -5.60294367   2.4358147    2.29794207  -5.18261752]\n [ -1.92151814 -13.21342477   3.75017862   2.95973011]]\n"
    }
   ],
   "source": [
    "np.random.seed(1234)\n",
    "samples = np.random.normal(-2,5,size=(3,4))\n",
    "print(samples)"
   ]
  },
  {
   "cell_type": "code",
   "execution_count": 69,
   "metadata": {
    "tags": []
   },
   "outputs": [
    {
     "output_type": "stream",
     "name": "stdout",
     "text": "604\n679.7218543046357\n[[ -1  -2  -3 ... -46 -45 -46]\n [  1   0  -1 ... -36 -37 -38]\n [  1   0  -1 ... -20 -19 -20]\n ...\n [ -1  -2  -3 ... -38 -39 -40]\n [ -1  -2  -3 ... -44 -45 -44]\n [  1   2   1 ...  -8  -9  -8]]\n====\n[[False False False ... False False False]\n [False False False ... False False False]\n [False False False ... False False False]\n ...\n [False False False ... False False False]\n [False False False ... False False False]\n [False False False ... False False False]]\n====\n[[  1   0   1 ...  14  15  14]\n [ -1  -2  -1 ...  24  25  24]\n [ -1   0  -1 ...  24  25  26]\n ...\n [  1   2   1 ...  -8  -9  -8]\n [  1   0   1 ... -20 -21 -20]\n [  1   2   3 ... -14 -13 -14]]\n"
    }
   ],
   "source": [
    "import numpy as np\n",
    "nwalks=5000\n",
    "nsteps=1000\n",
    "np.random.seed(1234)\n",
    "draws = np.random.normal(loc=0,scale=0.25,size=(nwalks,nsteps))\n",
    "steps = np.where(draws > 0,1,-1)\n",
    "walks = steps.cumsum(1)\n",
    "hitN50 = (walks==-50).any(1)\n",
    "print(hitN50.sum())\n",
    "crossing_time = (walks[hitN50]==-50).argmax(1)\n",
    "print(crossing_time.mean())\n",
    "\n",
    "print(walks[hitN50])\n",
    "print(\"====\")\n",
    "print(walks[hitN50]==-50)\n",
    "print(\"====\")\n",
    "print(walks)"
   ]
  },
  {
   "cell_type": "code",
   "execution_count": null,
   "metadata": {},
   "outputs": [],
   "source": []
  }
 ]
}