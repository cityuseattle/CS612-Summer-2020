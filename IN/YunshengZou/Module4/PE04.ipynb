{
 "metadata": {
  "language_info": {
   "codemirror_mode": {
    "name": "ipython",
    "version": 3
   },
   "file_extension": ".py",
   "mimetype": "text/x-python",
   "name": "python",
   "nbconvert_exporter": "python",
   "pygments_lexer": "ipython3",
   "version": 3
  },
  "orig_nbformat": 2,
  "kernelspec": {
   "name": "python_defaultSpec_1596346648379",
   "display_name": "Python 3.7.6 64-bit ('base': conda)"
  }
 },
 "nbformat": 4,
 "nbformat_minor": 2,
 "cells": [
  {
   "cell_type": "code",
   "execution_count": 1,
   "metadata": {},
   "outputs": [],
   "source": [
    "import numpy as np\n",
    "import pandas as pd"
   ]
  },
  {
   "cell_type": "code",
   "execution_count": 2,
   "metadata": {},
   "outputs": [
    {
     "output_type": "execute_result",
     "data": {
      "text/plain": "   One  Two  Three  Four  Five  Six  Seven  Eight\nA   47   19     38    12    24   15     49     23\nB   41   26     30    43    30   44     26     48\nC   28    5     16     9    47   48     12     37\nD   34   38      3    39    11    0     41     11\nE   16    3      2    19    12    1     11     43\nF   17   14      7    42    43   46     28     17",
      "text/html": "<div>\n<style scoped>\n    .dataframe tbody tr th:only-of-type {\n        vertical-align: middle;\n    }\n\n    .dataframe tbody tr th {\n        vertical-align: top;\n    }\n\n    .dataframe thead th {\n        text-align: right;\n    }\n</style>\n<table border=\"1\" class=\"dataframe\">\n  <thead>\n    <tr style=\"text-align: right;\">\n      <th></th>\n      <th>One</th>\n      <th>Two</th>\n      <th>Three</th>\n      <th>Four</th>\n      <th>Five</th>\n      <th>Six</th>\n      <th>Seven</th>\n      <th>Eight</th>\n    </tr>\n  </thead>\n  <tbody>\n    <tr>\n      <th>A</th>\n      <td>47</td>\n      <td>19</td>\n      <td>38</td>\n      <td>12</td>\n      <td>24</td>\n      <td>15</td>\n      <td>49</td>\n      <td>23</td>\n    </tr>\n    <tr>\n      <th>B</th>\n      <td>41</td>\n      <td>26</td>\n      <td>30</td>\n      <td>43</td>\n      <td>30</td>\n      <td>44</td>\n      <td>26</td>\n      <td>48</td>\n    </tr>\n    <tr>\n      <th>C</th>\n      <td>28</td>\n      <td>5</td>\n      <td>16</td>\n      <td>9</td>\n      <td>47</td>\n      <td>48</td>\n      <td>12</td>\n      <td>37</td>\n    </tr>\n    <tr>\n      <th>D</th>\n      <td>34</td>\n      <td>38</td>\n      <td>3</td>\n      <td>39</td>\n      <td>11</td>\n      <td>0</td>\n      <td>41</td>\n      <td>11</td>\n    </tr>\n    <tr>\n      <th>E</th>\n      <td>16</td>\n      <td>3</td>\n      <td>2</td>\n      <td>19</td>\n      <td>12</td>\n      <td>1</td>\n      <td>11</td>\n      <td>43</td>\n    </tr>\n    <tr>\n      <th>F</th>\n      <td>17</td>\n      <td>14</td>\n      <td>7</td>\n      <td>42</td>\n      <td>43</td>\n      <td>46</td>\n      <td>28</td>\n      <td>17</td>\n    </tr>\n  </tbody>\n</table>\n</div>"
     },
     "metadata": {},
     "execution_count": 2
    }
   ],
   "source": [
    "np.random.seed(1234)\n",
    "data1 = np.random.randint(50,size=(6,8))\n",
    "data1 = pd.DataFrame(data1,index=['A','B','C','D','E','F'],columns=['One','Two','Three','Four','Five','Six','Seven','Eight'])\n",
    "data1"
   ]
  },
  {
   "cell_type": "code",
   "execution_count": 14,
   "metadata": {},
   "outputs": [
    {
     "output_type": "execute_result",
     "data": {
      "text/plain": "   One  Two  Three  Four  Five  Six  Seven  Eight    IQR\nA   47   19     38    12    24   15     49     23  18.00\nB   41   26     30    43    30   44     26     48  29.00\nC   28    5     16     9    47   48     12     37  11.25\nD   34   38      3    39    11    0     41     11   9.00\nE   16    3      2    19    12    1     11     43   2.75\nF   17   14      7    42    43   46     28     17  16.25",
      "text/html": "<div>\n<style scoped>\n    .dataframe tbody tr th:only-of-type {\n        vertical-align: middle;\n    }\n\n    .dataframe tbody tr th {\n        vertical-align: top;\n    }\n\n    .dataframe thead th {\n        text-align: right;\n    }\n</style>\n<table border=\"1\" class=\"dataframe\">\n  <thead>\n    <tr style=\"text-align: right;\">\n      <th></th>\n      <th>One</th>\n      <th>Two</th>\n      <th>Three</th>\n      <th>Four</th>\n      <th>Five</th>\n      <th>Six</th>\n      <th>Seven</th>\n      <th>Eight</th>\n      <th>IQR</th>\n    </tr>\n  </thead>\n  <tbody>\n    <tr>\n      <th>A</th>\n      <td>47</td>\n      <td>19</td>\n      <td>38</td>\n      <td>12</td>\n      <td>24</td>\n      <td>15</td>\n      <td>49</td>\n      <td>23</td>\n      <td>18.00</td>\n    </tr>\n    <tr>\n      <th>B</th>\n      <td>41</td>\n      <td>26</td>\n      <td>30</td>\n      <td>43</td>\n      <td>30</td>\n      <td>44</td>\n      <td>26</td>\n      <td>48</td>\n      <td>29.00</td>\n    </tr>\n    <tr>\n      <th>C</th>\n      <td>28</td>\n      <td>5</td>\n      <td>16</td>\n      <td>9</td>\n      <td>47</td>\n      <td>48</td>\n      <td>12</td>\n      <td>37</td>\n      <td>11.25</td>\n    </tr>\n    <tr>\n      <th>D</th>\n      <td>34</td>\n      <td>38</td>\n      <td>3</td>\n      <td>39</td>\n      <td>11</td>\n      <td>0</td>\n      <td>41</td>\n      <td>11</td>\n      <td>9.00</td>\n    </tr>\n    <tr>\n      <th>E</th>\n      <td>16</td>\n      <td>3</td>\n      <td>2</td>\n      <td>19</td>\n      <td>12</td>\n      <td>1</td>\n      <td>11</td>\n      <td>43</td>\n      <td>2.75</td>\n    </tr>\n    <tr>\n      <th>F</th>\n      <td>17</td>\n      <td>14</td>\n      <td>7</td>\n      <td>42</td>\n      <td>43</td>\n      <td>46</td>\n      <td>28</td>\n      <td>17</td>\n      <td>16.25</td>\n    </tr>\n  </tbody>\n</table>\n</div>"
     },
     "metadata": {},
     "execution_count": 14
    }
   ],
   "source": [
    "qu = data1.quantile(0.25,1)\n",
    "#data1.insert(len(data1.columns),\"IQR\",list(qu),True)\n",
    "data1['IQR'] = list(qu)\n",
    "data1"
   ]
  },
  {
   "cell_type": "code",
   "execution_count": 5,
   "metadata": {},
   "outputs": [
    {
     "output_type": "execute_result",
     "data": {
      "text/plain": "   One  Two  Three  Four  Five  Six  Seven  Eight    IQR        CV\nA   47   19     38    12    24   15     49     23  18.00  0.510261\nB   41   26     30    43    30   44     26     48  29.00  0.245373\nC   28    5     16     9    47   48     12     37  11.25  0.707109\nD   34   38      3    39    11    0     41     11   9.00  0.818658\nE   16    3      2    19    12    1     11     43   2.75  1.090315\nF   17   14      7    42    43   46     28     17  16.25  0.571390",
      "text/html": "<div>\n<style scoped>\n    .dataframe tbody tr th:only-of-type {\n        vertical-align: middle;\n    }\n\n    .dataframe tbody tr th {\n        vertical-align: top;\n    }\n\n    .dataframe thead th {\n        text-align: right;\n    }\n</style>\n<table border=\"1\" class=\"dataframe\">\n  <thead>\n    <tr style=\"text-align: right;\">\n      <th></th>\n      <th>One</th>\n      <th>Two</th>\n      <th>Three</th>\n      <th>Four</th>\n      <th>Five</th>\n      <th>Six</th>\n      <th>Seven</th>\n      <th>Eight</th>\n      <th>IQR</th>\n      <th>CV</th>\n    </tr>\n  </thead>\n  <tbody>\n    <tr>\n      <th>A</th>\n      <td>47</td>\n      <td>19</td>\n      <td>38</td>\n      <td>12</td>\n      <td>24</td>\n      <td>15</td>\n      <td>49</td>\n      <td>23</td>\n      <td>18.00</td>\n      <td>0.510261</td>\n    </tr>\n    <tr>\n      <th>B</th>\n      <td>41</td>\n      <td>26</td>\n      <td>30</td>\n      <td>43</td>\n      <td>30</td>\n      <td>44</td>\n      <td>26</td>\n      <td>48</td>\n      <td>29.00</td>\n      <td>0.245373</td>\n    </tr>\n    <tr>\n      <th>C</th>\n      <td>28</td>\n      <td>5</td>\n      <td>16</td>\n      <td>9</td>\n      <td>47</td>\n      <td>48</td>\n      <td>12</td>\n      <td>37</td>\n      <td>11.25</td>\n      <td>0.707109</td>\n    </tr>\n    <tr>\n      <th>D</th>\n      <td>34</td>\n      <td>38</td>\n      <td>3</td>\n      <td>39</td>\n      <td>11</td>\n      <td>0</td>\n      <td>41</td>\n      <td>11</td>\n      <td>9.00</td>\n      <td>0.818658</td>\n    </tr>\n    <tr>\n      <th>E</th>\n      <td>16</td>\n      <td>3</td>\n      <td>2</td>\n      <td>19</td>\n      <td>12</td>\n      <td>1</td>\n      <td>11</td>\n      <td>43</td>\n      <td>2.75</td>\n      <td>1.090315</td>\n    </tr>\n    <tr>\n      <th>F</th>\n      <td>17</td>\n      <td>14</td>\n      <td>7</td>\n      <td>42</td>\n      <td>43</td>\n      <td>46</td>\n      <td>28</td>\n      <td>17</td>\n      <td>16.25</td>\n      <td>0.571390</td>\n    </tr>\n  </tbody>\n</table>\n</div>"
     },
     "metadata": {},
     "execution_count": 5
    }
   ],
   "source": [
    "data1_std = data1.std(1)\n",
    "data1_mean = data1.mean(1)\n",
    "data1_CV = data1_std/data1_mean\n",
    "data1.insert(len(data1.columns),\"CV\",list(data1_CV),True)\n",
    "data1"
   ]
  },
  {
   "cell_type": "code",
   "execution_count": 6,
   "metadata": {},
   "outputs": [
    {
     "output_type": "execute_result",
     "data": {
      "text/plain": "   One  Two  Three  Four  Five  Six  Seven  Eight    IQR        CV       mean\nA   47   19     38    12    24   15     49     23  18.00  0.510261  27.222222\nB   41   26     30    43    30   44     26     48  29.00  0.245373  35.222222\nC   28    5     16     9    47   48     12     37  11.25  0.707109  23.694444\nD   34   38      3    39    11    0     41     11   9.00  0.818658  20.666667\nE   16    3      2    19    12    1     11     43   2.75  1.090315  12.194444\nF   17   14      7    42    43   46     28     17  16.25  0.571390  25.583333",
      "text/html": "<div>\n<style scoped>\n    .dataframe tbody tr th:only-of-type {\n        vertical-align: middle;\n    }\n\n    .dataframe tbody tr th {\n        vertical-align: top;\n    }\n\n    .dataframe thead th {\n        text-align: right;\n    }\n</style>\n<table border=\"1\" class=\"dataframe\">\n  <thead>\n    <tr style=\"text-align: right;\">\n      <th></th>\n      <th>One</th>\n      <th>Two</th>\n      <th>Three</th>\n      <th>Four</th>\n      <th>Five</th>\n      <th>Six</th>\n      <th>Seven</th>\n      <th>Eight</th>\n      <th>IQR</th>\n      <th>CV</th>\n      <th>mean</th>\n    </tr>\n  </thead>\n  <tbody>\n    <tr>\n      <th>A</th>\n      <td>47</td>\n      <td>19</td>\n      <td>38</td>\n      <td>12</td>\n      <td>24</td>\n      <td>15</td>\n      <td>49</td>\n      <td>23</td>\n      <td>18.00</td>\n      <td>0.510261</td>\n      <td>27.222222</td>\n    </tr>\n    <tr>\n      <th>B</th>\n      <td>41</td>\n      <td>26</td>\n      <td>30</td>\n      <td>43</td>\n      <td>30</td>\n      <td>44</td>\n      <td>26</td>\n      <td>48</td>\n      <td>29.00</td>\n      <td>0.245373</td>\n      <td>35.222222</td>\n    </tr>\n    <tr>\n      <th>C</th>\n      <td>28</td>\n      <td>5</td>\n      <td>16</td>\n      <td>9</td>\n      <td>47</td>\n      <td>48</td>\n      <td>12</td>\n      <td>37</td>\n      <td>11.25</td>\n      <td>0.707109</td>\n      <td>23.694444</td>\n    </tr>\n    <tr>\n      <th>D</th>\n      <td>34</td>\n      <td>38</td>\n      <td>3</td>\n      <td>39</td>\n      <td>11</td>\n      <td>0</td>\n      <td>41</td>\n      <td>11</td>\n      <td>9.00</td>\n      <td>0.818658</td>\n      <td>20.666667</td>\n    </tr>\n    <tr>\n      <th>E</th>\n      <td>16</td>\n      <td>3</td>\n      <td>2</td>\n      <td>19</td>\n      <td>12</td>\n      <td>1</td>\n      <td>11</td>\n      <td>43</td>\n      <td>2.75</td>\n      <td>1.090315</td>\n      <td>12.194444</td>\n    </tr>\n    <tr>\n      <th>F</th>\n      <td>17</td>\n      <td>14</td>\n      <td>7</td>\n      <td>42</td>\n      <td>43</td>\n      <td>46</td>\n      <td>28</td>\n      <td>17</td>\n      <td>16.25</td>\n      <td>0.571390</td>\n      <td>25.583333</td>\n    </tr>\n  </tbody>\n</table>\n</div>"
     },
     "metadata": {},
     "execution_count": 6
    }
   ],
   "source": [
    "data1.insert(len(data1.columns),\"mean\",list(data1_mean),True)\n",
    "data1"
   ]
  }
 ]
}