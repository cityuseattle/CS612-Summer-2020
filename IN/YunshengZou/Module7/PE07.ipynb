{
 "metadata": {
  "language_info": {
   "codemirror_mode": {
    "name": "ipython",
    "version": 3
   },
   "file_extension": ".py",
   "mimetype": "text/x-python",
   "name": "python",
   "nbconvert_exporter": "python",
   "pygments_lexer": "ipython3",
   "version": "3.7.6-final"
  },
  "orig_nbformat": 2,
  "kernelspec": {
   "name": "python_defaultSpec_1598719751849",
   "display_name": "Python 3.7.6 64-bit ('base': conda)"
  }
 },
 "nbformat": 4,
 "nbformat_minor": 2,
 "cells": [
  {
   "cell_type": "code",
   "execution_count": 10,
   "metadata": {},
   "outputs": [],
   "source": [
    "import pandas as pd\n",
    "import numpy as np"
   ]
  },
  {
   "cell_type": "code",
   "execution_count": 11,
   "metadata": {},
   "outputs": [],
   "source": [
    "#Problem A START\n",
    "frame = pd.DataFrame(np.arange(12).reshape((4,3)), index=[['a','a','b','b'],[1,2,1,2]], columns = [['Ohio', 'Ohio', 'Colorado'], ['Green', 'Red', 'Green']])"
   ]
  },
  {
   "cell_type": "code",
   "execution_count": 12,
   "metadata": {},
   "outputs": [],
   "source": [
    "frame1 = frame.stack().stack()\n",
    "frame2 = frame.unstack().unstack()"
   ]
  },
  {
   "cell_type": "code",
   "execution_count": 13,
   "metadata": {},
   "outputs": [
    {
     "output_type": "execute_result",
     "data": {
      "text/plain": "a  1  Green  Colorado     2.0\n             Ohio         0.0\n      Red    Ohio         1.0\n   2  Green  Colorado     5.0\n             Ohio         3.0\n      Red    Ohio         4.0\nb  1  Green  Colorado     8.0\n             Ohio         6.0\n      Red    Ohio         7.0\n   2  Green  Colorado    11.0\n             Ohio         9.0\n      Red    Ohio        10.0\ndtype: float64"
     },
     "metadata": {},
     "execution_count": 13
    }
   ],
   "source": [
    "frame1"
   ]
  },
  {
   "cell_type": "code",
   "execution_count": 14,
   "metadata": {},
   "outputs": [
    {
     "output_type": "execute_result",
     "data": {
      "text/plain": "a  1  Green  Colorado     2\n             Ohio         0\n      Red    Ohio         1\nb  1  Green  Colorado     8\n             Ohio         6\n      Red    Ohio         7\na  2  Green  Colorado     5\n             Ohio         3\n      Red    Ohio         4\nb  2  Green  Colorado    11\n             Ohio         9\n      Red    Ohio        10\ndtype: int64"
     },
     "metadata": {},
     "execution_count": 14
    }
   ],
   "source": [
    "frame2 = frame2.swaplevel(0,3).swaplevel(1,2)\n",
    "frame2.sort_index(level=1)\n",
    "#Problem A END"
   ]
  },
  {
   "cell_type": "code",
   "execution_count": 15,
   "metadata": {},
   "outputs": [],
   "source": [
    "#Problem B Start\n",
    "left = pd.DataFrame({'id': [1, 2, 3, 4, 5], 'Name1': ['Alex', 'Amy', 'Allen', 'Alice', 'Ayoung'], 'subject_id': ['sub1', 'sub2', 'sub4', 'sub6', 'sub5']})\n",
    "right = pd.DataFrame({'id': [1, 2, 3, 4, 5], 'Name2': ['Billy', 'Brian', 'Bran', 'Bryce', 'Betty'], 'subject_id': ['sub2', 'sub4', 'sub3', 'sub5', 'sub6']})"
   ]
  },
  {
   "cell_type": "code",
   "execution_count": 19,
   "metadata": {},
   "outputs": [],
   "source": [
    "df_union = pd.merge(left,right,on='subject_id',how='outer')"
   ]
  },
  {
   "cell_type": "code",
   "execution_count": 17,
   "metadata": {},
   "outputs": [
    {
     "output_type": "execute_result",
     "data": {
      "text/plain": "   id_x   Name1 subject_id  id_y  Name2\n0   1.0    Alex       sub1   NaN    NaN\n1   2.0     Amy       sub2   1.0  Billy\n2   3.0   Allen       sub4   2.0  Brian\n3   4.0   Alice       sub6   5.0  Betty\n4   5.0  Ayoung       sub5   4.0  Bryce\n5   NaN     NaN       sub3   3.0   Bran",
      "text/html": "<div>\n<style scoped>\n    .dataframe tbody tr th:only-of-type {\n        vertical-align: middle;\n    }\n\n    .dataframe tbody tr th {\n        vertical-align: top;\n    }\n\n    .dataframe thead th {\n        text-align: right;\n    }\n</style>\n<table border=\"1\" class=\"dataframe\">\n  <thead>\n    <tr style=\"text-align: right;\">\n      <th></th>\n      <th>id_x</th>\n      <th>Name1</th>\n      <th>subject_id</th>\n      <th>id_y</th>\n      <th>Name2</th>\n    </tr>\n  </thead>\n  <tbody>\n    <tr>\n      <th>0</th>\n      <td>1.0</td>\n      <td>Alex</td>\n      <td>sub1</td>\n      <td>NaN</td>\n      <td>NaN</td>\n    </tr>\n    <tr>\n      <th>1</th>\n      <td>2.0</td>\n      <td>Amy</td>\n      <td>sub2</td>\n      <td>1.0</td>\n      <td>Billy</td>\n    </tr>\n    <tr>\n      <th>2</th>\n      <td>3.0</td>\n      <td>Allen</td>\n      <td>sub4</td>\n      <td>2.0</td>\n      <td>Brian</td>\n    </tr>\n    <tr>\n      <th>3</th>\n      <td>4.0</td>\n      <td>Alice</td>\n      <td>sub6</td>\n      <td>5.0</td>\n      <td>Betty</td>\n    </tr>\n    <tr>\n      <th>4</th>\n      <td>5.0</td>\n      <td>Ayoung</td>\n      <td>sub5</td>\n      <td>4.0</td>\n      <td>Bryce</td>\n    </tr>\n    <tr>\n      <th>5</th>\n      <td>NaN</td>\n      <td>NaN</td>\n      <td>sub3</td>\n      <td>3.0</td>\n      <td>Bran</td>\n    </tr>\n  </tbody>\n</table>\n</div>"
     },
     "metadata": {},
     "execution_count": 17
    }
   ],
   "source": [
    "df_union"
   ]
  },
  {
   "cell_type": "code",
   "execution_count": 55,
   "metadata": {},
   "outputs": [
    {
     "output_type": "execute_result",
     "data": {
      "text/plain": "   id_x Name1 subject_id  id_y Name2\n0   1.0  Alex       sub1   NaN   NaN\n5   NaN   NaN       sub3   3.0  Bran",
      "text/html": "<div>\n<style scoped>\n    .dataframe tbody tr th:only-of-type {\n        vertical-align: middle;\n    }\n\n    .dataframe tbody tr th {\n        vertical-align: top;\n    }\n\n    .dataframe thead th {\n        text-align: right;\n    }\n</style>\n<table border=\"1\" class=\"dataframe\">\n  <thead>\n    <tr style=\"text-align: right;\">\n      <th></th>\n      <th>id_x</th>\n      <th>Name1</th>\n      <th>subject_id</th>\n      <th>id_y</th>\n      <th>Name2</th>\n    </tr>\n  </thead>\n  <tbody>\n    <tr>\n      <th>0</th>\n      <td>1.0</td>\n      <td>Alex</td>\n      <td>sub1</td>\n      <td>NaN</td>\n      <td>NaN</td>\n    </tr>\n    <tr>\n      <th>5</th>\n      <td>NaN</td>\n      <td>NaN</td>\n      <td>sub3</td>\n      <td>3.0</td>\n      <td>Bran</td>\n    </tr>\n  </tbody>\n</table>\n</div>"
     },
     "metadata": {},
     "execution_count": 55
    }
   ],
   "source": [
    "df_union.isnull().any(1)\n",
    "df_union[df_union.isnull().any(1)]"
   ]
  },
  {
   "cell_type": "code",
   "execution_count": null,
   "metadata": {},
   "outputs": [],
   "source": []
  }
 ]
}