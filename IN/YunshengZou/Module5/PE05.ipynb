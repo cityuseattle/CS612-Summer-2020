{
 "metadata": {
  "language_info": {
   "codemirror_mode": {
    "name": "ipython",
    "version": 3
   },
   "file_extension": ".py",
   "mimetype": "text/x-python",
   "name": "python",
   "nbconvert_exporter": "python",
   "pygments_lexer": "ipython3",
   "version": 3
  },
  "orig_nbformat": 2,
  "kernelspec": {
   "name": "python_defaultSpec_1597285865315",
   "display_name": "Python 3.7.6 64-bit ('base': conda)"
  }
 },
 "nbformat": 4,
 "nbformat_minor": 2,
 "cells": [
  {
   "cell_type": "code",
   "execution_count": 2,
   "metadata": {},
   "outputs": [],
   "source": [
    "import requests\n",
    "import pandas as pd"
   ]
  },
  {
   "cell_type": "code",
   "execution_count": 3,
   "metadata": {},
   "outputs": [
    {
     "output_type": "execute_result",
     "data": {
      "text/plain": "           username                      email     zipcode       lat  \\\n0              Bret          Sincere@april.biz  92998-3874  -37.3159   \n1         Antonette          Shanna@melissa.tv  90566-7771  -43.9509   \n2          Samantha         Nathan@yesenia.net  59590-4157  -68.6102   \n3          Karianne  Julianne.OConner@kory.org  53919-4257   29.4572   \n4            Kamren   Lucio_Hettinger@annie.ca       33263  -31.8129   \n5  Leopoldo_Corkery    Karley_Dach@jasper.info  23505-1337  -71.4197   \n6      Elwyn.Skiles     Telly.Hoeger@billy.biz  58804-1099   24.8918   \n7     Maxime_Nienow       Sherwood@rosamond.me       45169  -14.3990   \n8          Delphine    Chaim_McDermott@dana.io  76495-3109   24.6463   \n9    Moriah.Stanton     Rey.Padberg@karina.biz  31428-2261  -38.2386   \n\n         lng        company_name  \n0    81.1496     Romaguera-Crona  \n1   -34.4618        Deckow-Crist  \n2   -47.0653  Romaguera-Jacobson  \n3  -164.2990       Robel-Corkery  \n4    62.5342         Keebler LLC  \n5    71.7478   Considine-Lockman  \n6    21.8984         Johns Group  \n7  -120.7677     Abernathy Group  \n8  -168.8889       Yost and Sons  \n9    57.2232          Hoeger LLC  ",
      "text/html": "<div>\n<style scoped>\n    .dataframe tbody tr th:only-of-type {\n        vertical-align: middle;\n    }\n\n    .dataframe tbody tr th {\n        vertical-align: top;\n    }\n\n    .dataframe thead th {\n        text-align: right;\n    }\n</style>\n<table border=\"1\" class=\"dataframe\">\n  <thead>\n    <tr style=\"text-align: right;\">\n      <th></th>\n      <th>username</th>\n      <th>email</th>\n      <th>zipcode</th>\n      <th>lat</th>\n      <th>lng</th>\n      <th>company_name</th>\n    </tr>\n  </thead>\n  <tbody>\n    <tr>\n      <th>0</th>\n      <td>Bret</td>\n      <td>Sincere@april.biz</td>\n      <td>92998-3874</td>\n      <td>-37.3159</td>\n      <td>81.1496</td>\n      <td>Romaguera-Crona</td>\n    </tr>\n    <tr>\n      <th>1</th>\n      <td>Antonette</td>\n      <td>Shanna@melissa.tv</td>\n      <td>90566-7771</td>\n      <td>-43.9509</td>\n      <td>-34.4618</td>\n      <td>Deckow-Crist</td>\n    </tr>\n    <tr>\n      <th>2</th>\n      <td>Samantha</td>\n      <td>Nathan@yesenia.net</td>\n      <td>59590-4157</td>\n      <td>-68.6102</td>\n      <td>-47.0653</td>\n      <td>Romaguera-Jacobson</td>\n    </tr>\n    <tr>\n      <th>3</th>\n      <td>Karianne</td>\n      <td>Julianne.OConner@kory.org</td>\n      <td>53919-4257</td>\n      <td>29.4572</td>\n      <td>-164.2990</td>\n      <td>Robel-Corkery</td>\n    </tr>\n    <tr>\n      <th>4</th>\n      <td>Kamren</td>\n      <td>Lucio_Hettinger@annie.ca</td>\n      <td>33263</td>\n      <td>-31.8129</td>\n      <td>62.5342</td>\n      <td>Keebler LLC</td>\n    </tr>\n    <tr>\n      <th>5</th>\n      <td>Leopoldo_Corkery</td>\n      <td>Karley_Dach@jasper.info</td>\n      <td>23505-1337</td>\n      <td>-71.4197</td>\n      <td>71.7478</td>\n      <td>Considine-Lockman</td>\n    </tr>\n    <tr>\n      <th>6</th>\n      <td>Elwyn.Skiles</td>\n      <td>Telly.Hoeger@billy.biz</td>\n      <td>58804-1099</td>\n      <td>24.8918</td>\n      <td>21.8984</td>\n      <td>Johns Group</td>\n    </tr>\n    <tr>\n      <th>7</th>\n      <td>Maxime_Nienow</td>\n      <td>Sherwood@rosamond.me</td>\n      <td>45169</td>\n      <td>-14.3990</td>\n      <td>-120.7677</td>\n      <td>Abernathy Group</td>\n    </tr>\n    <tr>\n      <th>8</th>\n      <td>Delphine</td>\n      <td>Chaim_McDermott@dana.io</td>\n      <td>76495-3109</td>\n      <td>24.6463</td>\n      <td>-168.8889</td>\n      <td>Yost and Sons</td>\n    </tr>\n    <tr>\n      <th>9</th>\n      <td>Moriah.Stanton</td>\n      <td>Rey.Padberg@karina.biz</td>\n      <td>31428-2261</td>\n      <td>-38.2386</td>\n      <td>57.2232</td>\n      <td>Hoeger LLC</td>\n    </tr>\n  </tbody>\n</table>\n</div>"
     },
     "metadata": {},
     "execution_count": 3
    }
   ],
   "source": [
    "url = 'http://jsonplaceholder.typicode.com/users'\n",
    "res = requests.get(url)\n",
    "jsData = res.json()\n",
    "username,email,zipCode,lat,lng,cpName = [],[],[],[],[],[]\n",
    "for ad in jsData:\n",
    "    username.append(ad['username'])\n",
    "    email.append(ad['email'])\n",
    "    zipCode.append(ad['address']['zipcode'])\n",
    "    lat.append(ad['address']['geo']['lat'])\n",
    "    lng.append(ad['address']['geo']['lng'])\n",
    "    cpName.append(ad['company']['name'])\n",
    "clData = {'username':username,'email':email,'zipcode':zipCode,'lat':lat,'lng':lng,'company_name':cpName}\n",
    "df = pd.DataFrame(clData)\n",
    "df"
   ]
  },
  {
   "cell_type": "code",
   "execution_count": 5,
   "metadata": {},
   "outputs": [
    {
     "output_type": "execute_result",
     "data": {
      "text/plain": "           username                     email     zipcode       lat      lng  \\\n0              Bret         Sincere@april.biz  92998-3874  -37.3159  81.1496   \n4            Kamren  Lucio_Hettinger@annie.ca       33263  -31.8129  62.5342   \n5  Leopoldo_Corkery   Karley_Dach@jasper.info  23505-1337  -71.4197  71.7478   \n9    Moriah.Stanton    Rey.Padberg@karina.biz  31428-2261  -38.2386  57.2232   \n\n        company_name  \n0    Romaguera-Crona  \n4        Keebler LLC  \n5  Considine-Lockman  \n9         Hoeger LLC  ",
      "text/html": "<div>\n<style scoped>\n    .dataframe tbody tr th:only-of-type {\n        vertical-align: middle;\n    }\n\n    .dataframe tbody tr th {\n        vertical-align: top;\n    }\n\n    .dataframe thead th {\n        text-align: right;\n    }\n</style>\n<table border=\"1\" class=\"dataframe\">\n  <thead>\n    <tr style=\"text-align: right;\">\n      <th></th>\n      <th>username</th>\n      <th>email</th>\n      <th>zipcode</th>\n      <th>lat</th>\n      <th>lng</th>\n      <th>company_name</th>\n    </tr>\n  </thead>\n  <tbody>\n    <tr>\n      <th>0</th>\n      <td>Bret</td>\n      <td>Sincere@april.biz</td>\n      <td>92998-3874</td>\n      <td>-37.3159</td>\n      <td>81.1496</td>\n      <td>Romaguera-Crona</td>\n    </tr>\n    <tr>\n      <th>4</th>\n      <td>Kamren</td>\n      <td>Lucio_Hettinger@annie.ca</td>\n      <td>33263</td>\n      <td>-31.8129</td>\n      <td>62.5342</td>\n      <td>Keebler LLC</td>\n    </tr>\n    <tr>\n      <th>5</th>\n      <td>Leopoldo_Corkery</td>\n      <td>Karley_Dach@jasper.info</td>\n      <td>23505-1337</td>\n      <td>-71.4197</td>\n      <td>71.7478</td>\n      <td>Considine-Lockman</td>\n    </tr>\n    <tr>\n      <th>9</th>\n      <td>Moriah.Stanton</td>\n      <td>Rey.Padberg@karina.biz</td>\n      <td>31428-2261</td>\n      <td>-38.2386</td>\n      <td>57.2232</td>\n      <td>Hoeger LLC</td>\n    </tr>\n  </tbody>\n</table>\n</div>"
     },
     "metadata": {},
     "execution_count": 5
    }
   ],
   "source": [
    "df2 = df[pd.to_numeric(df['lng'])>0]\n",
    "df_a = df2[pd.to_numeric(df['lat'])<0]\n",
    "df_a.to_csv('output.csv')\n",
    "df_a"
   ]
  }
 ]
}