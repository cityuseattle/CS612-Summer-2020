{
 "metadata": {
  "language_info": {
   "codemirror_mode": {
    "name": "ipython",
    "version": 3
   },
   "file_extension": ".py",
   "mimetype": "text/x-python",
   "name": "python",
   "nbconvert_exporter": "python",
   "pygments_lexer": "ipython3",
   "version": 3
  },
  "orig_nbformat": 2,
  "kernelspec": {
   "name": "python_defaultSpec_1596499324964",
   "display_name": "Python 3.8.3 64-bit"
  }
 },
 "nbformat": 4,
 "nbformat_minor": 2,
 "cells": [
  {
   "cell_type": "code",
   "execution_count": 45,
   "metadata": {
    "tags": []
   },
   "outputs": [
    {
     "output_type": "execute_result",
     "data": {
      "text/plain": "   One  Two  Three  Four  Five  Six  Seven  Eight    IQR        CV       mean\nA   47   19     38    12    24   15     23     41  20.75  0.462221  24.021222\nB   26   30     43    30    44   26     28      5   7.25  0.504430  23.975443\nC   16    9     47    12    37   34     38      3  26.00  0.619488  22.261949\nD   39   11      0    41    11   16      3      2  19.00  0.959525  14.295952\nE   19   12      1    11    43   17     14      7   7.50  0.818754  13.231875\nF   42   43     46    28    17   23     13     32  20.75  0.410491  26.516049",
      "text/html": "<div>\n<style scoped>\n    .dataframe tbody tr th:only-of-type {\n        vertical-align: middle;\n    }\n\n    .dataframe tbody tr th {\n        vertical-align: top;\n    }\n\n    .dataframe thead th {\n        text-align: right;\n    }\n</style>\n<table border=\"1\" class=\"dataframe\">\n  <thead>\n    <tr style=\"text-align: right;\">\n      <th></th>\n      <th>One</th>\n      <th>Two</th>\n      <th>Three</th>\n      <th>Four</th>\n      <th>Five</th>\n      <th>Six</th>\n      <th>Seven</th>\n      <th>Eight</th>\n      <th>IQR</th>\n      <th>CV</th>\n      <th>mean</th>\n    </tr>\n  </thead>\n  <tbody>\n    <tr>\n      <th>A</th>\n      <td>47</td>\n      <td>19</td>\n      <td>38</td>\n      <td>12</td>\n      <td>24</td>\n      <td>15</td>\n      <td>23</td>\n      <td>41</td>\n      <td>20.75</td>\n      <td>0.462221</td>\n      <td>24.021222</td>\n    </tr>\n    <tr>\n      <th>B</th>\n      <td>26</td>\n      <td>30</td>\n      <td>43</td>\n      <td>30</td>\n      <td>44</td>\n      <td>26</td>\n      <td>28</td>\n      <td>5</td>\n      <td>7.25</td>\n      <td>0.504430</td>\n      <td>23.975443</td>\n    </tr>\n    <tr>\n      <th>C</th>\n      <td>16</td>\n      <td>9</td>\n      <td>47</td>\n      <td>12</td>\n      <td>37</td>\n      <td>34</td>\n      <td>38</td>\n      <td>3</td>\n      <td>26.00</td>\n      <td>0.619488</td>\n      <td>22.261949</td>\n    </tr>\n    <tr>\n      <th>D</th>\n      <td>39</td>\n      <td>11</td>\n      <td>0</td>\n      <td>41</td>\n      <td>11</td>\n      <td>16</td>\n      <td>3</td>\n      <td>2</td>\n      <td>19.00</td>\n      <td>0.959525</td>\n      <td>14.295952</td>\n    </tr>\n    <tr>\n      <th>E</th>\n      <td>19</td>\n      <td>12</td>\n      <td>1</td>\n      <td>11</td>\n      <td>43</td>\n      <td>17</td>\n      <td>14</td>\n      <td>7</td>\n      <td>7.50</td>\n      <td>0.818754</td>\n      <td>13.231875</td>\n    </tr>\n    <tr>\n      <th>F</th>\n      <td>42</td>\n      <td>43</td>\n      <td>46</td>\n      <td>28</td>\n      <td>17</td>\n      <td>23</td>\n      <td>13</td>\n      <td>32</td>\n      <td>20.75</td>\n      <td>0.410491</td>\n      <td>26.516049</td>\n    </tr>\n  </tbody>\n</table>\n</div>"
     },
     "metadata": {},
     "execution_count": 45
    }
   ],
   "source": [
    "import pandas as pd\n",
    "import numpy as np\n",
    "\n",
    "np.random.seed(1234)\n",
    "data = np.random.randint(0,48,size=(6,8))\n",
    "data1 = pd.DataFrame(data1, columns=['One', 'Two', 'Three', 'Four', 'Five', 'Six', 'Seven', 'Eight'], index=['A', 'B', 'C', 'D', 'E', 'F'])\n",
    "data1['IQR']=data1.quantile(0.75, axis=1)-data1.quantile(0.25, axis=1)\n",
    "data1['CV']=data1.std(axis=1)/data1.mean(axis=1)\n",
    "data1['mean']=data1.mean(axis=1)\n",
    "\n",
    "data1\n",
    "\n",
    "   \n"
   ]
  },
  {
   "cell_type": "code",
   "execution_count": null,
   "metadata": {},
   "outputs": [],
   "source": []
  }
 ]
}