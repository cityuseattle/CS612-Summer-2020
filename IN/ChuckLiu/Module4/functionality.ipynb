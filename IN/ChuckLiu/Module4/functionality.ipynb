{
 "metadata": {
  "language_info": {
   "codemirror_mode": {
    "name": "ipython",
    "version": 3
   },
   "file_extension": ".py",
   "mimetype": "text/x-python",
   "name": "python",
   "nbconvert_exporter": "python",
   "pygments_lexer": "ipython3",
   "version": "3.8.3-final"
  },
  "orig_nbformat": 2,
  "kernelspec": {
   "name": "python38332bit2930e8055cad4fb5a7b53a3f0a779e62",
   "display_name": "Python 3.8.3 32-bit"
  }
 },
 "nbformat": 4,
 "nbformat_minor": 2,
 "cells": [
  {
   "cell_type": "code",
   "execution_count": 1,
   "metadata": {},
   "outputs": [],
   "source": [
    "import pandas as pd"
   ]
  },
  {
   "cell_type": "code",
   "execution_count": 2,
   "metadata": {},
   "outputs": [],
   "source": [
    "companis = {'value' : [220, 160, 150, 170, 95], 'Change': [17, 12, -8, -2, 3.5], 'Sector': ['Retail', 'Tech', 'Tech', 'Tech', 'Tech']}"
   ]
  },
  {
   "cell_type": "code",
   "execution_count": 3,
   "metadata": {},
   "outputs": [],
   "source": [
    "data = pd.DataFrame(companis, index = ['Amazon', 'Google', 'Apple', 'Microsoft', 'Samsung'])"
   ]
  },
  {
   "cell_type": "code",
   "execution_count": 4,
   "metadata": {},
   "outputs": [
    {
     "output_type": "execute_result",
     "data": {
      "text/plain": "           value  Change  Sector\nAmazon       220    17.0  Retail\nGoogle       160    12.0    Tech\nApple        150    -8.0    Tech\nMicrosoft    170    -2.0    Tech\nSamsung       95     3.5    Tech",
      "text/html": "<div>\n<style scoped>\n    .dataframe tbody tr th:only-of-type {\n        vertical-align: middle;\n    }\n\n    .dataframe tbody tr th {\n        vertical-align: top;\n    }\n\n    .dataframe thead th {\n        text-align: right;\n    }\n</style>\n<table border=\"1\" class=\"dataframe\">\n  <thead>\n    <tr style=\"text-align: right;\">\n      <th></th>\n      <th>value</th>\n      <th>Change</th>\n      <th>Sector</th>\n    </tr>\n  </thead>\n  <tbody>\n    <tr>\n      <th>Amazon</th>\n      <td>220</td>\n      <td>17.0</td>\n      <td>Retail</td>\n    </tr>\n    <tr>\n      <th>Google</th>\n      <td>160</td>\n      <td>12.0</td>\n      <td>Tech</td>\n    </tr>\n    <tr>\n      <th>Apple</th>\n      <td>150</td>\n      <td>-8.0</td>\n      <td>Tech</td>\n    </tr>\n    <tr>\n      <th>Microsoft</th>\n      <td>170</td>\n      <td>-2.0</td>\n      <td>Tech</td>\n    </tr>\n    <tr>\n      <th>Samsung</th>\n      <td>95</td>\n      <td>3.5</td>\n      <td>Tech</td>\n    </tr>\n  </tbody>\n</table>\n</div>"
     },
     "metadata": {},
     "execution_count": 4
    }
   ],
   "source": [
    "data"
   ]
  },
  {
   "cell_type": "code",
   "execution_count": 6,
   "metadata": {
    "tags": []
   },
   "outputs": [
    {
     "output_type": "stream",
     "name": "stdout",
     "text": "<class 'pandas.core.frame.DataFrame'>\nIndex: 5 entries, Amazon to Samsung\nData columns (total 3 columns):\n #   Column  Non-Null Count  Dtype  \n---  ------  --------------  -----  \n 0   value   5 non-null      int64  \n 1   Change  5 non-null      float64\n 2   Sector  5 non-null      object \ndtypes: float64(1), int64(1), object(1)\nmemory usage: 120.0+ bytes\n"
    }
   ],
   "source": [
    "data.info()"
   ]
  },
  {
   "cell_type": "code",
   "execution_count": 7,
   "metadata": {},
   "outputs": [
    {
     "output_type": "execute_result",
     "data": {
      "text/plain": "Index(['value', 'Change', 'Sector'], dtype='object')"
     },
     "metadata": {},
     "execution_count": 7
    }
   ],
   "source": [
    "data.columns"
   ]
  },
  {
   "cell_type": "code",
   "execution_count": 8,
   "metadata": {},
   "outputs": [
    {
     "output_type": "execute_result",
     "data": {
      "text/plain": "Index(['Amazon', 'Google', 'Apple', 'Microsoft', 'Samsung'], dtype='object')"
     },
     "metadata": {},
     "execution_count": 8
    }
   ],
   "source": [
    "data.index"
   ]
  },
  {
   "cell_type": "code",
   "execution_count": 9,
   "metadata": {},
   "outputs": [
    {
     "output_type": "execute_result",
     "data": {
      "text/plain": "Amazon       17.0\nGoogle       12.0\nApple        -8.0\nMicrosoft    -2.0\nSamsung       3.5\nName: Change, dtype: float64"
     },
     "metadata": {},
     "execution_count": 9
    }
   ],
   "source": [
    "data['Change']"
   ]
  },
  {
   "cell_type": "code",
   "execution_count": 11,
   "metadata": {},
   "outputs": [
    {
     "output_type": "execute_result",
     "data": {
      "text/plain": "           value  Change  Sector\nAmazon       220    17.0  Retail\nGoogle       160    12.0    Tech\nMicrosoft    170    -2.0    Tech",
      "text/html": "<div>\n<style scoped>\n    .dataframe tbody tr th:only-of-type {\n        vertical-align: middle;\n    }\n\n    .dataframe tbody tr th {\n        vertical-align: top;\n    }\n\n    .dataframe thead th {\n        text-align: right;\n    }\n</style>\n<table border=\"1\" class=\"dataframe\">\n  <thead>\n    <tr style=\"text-align: right;\">\n      <th></th>\n      <th>value</th>\n      <th>Change</th>\n      <th>Sector</th>\n    </tr>\n  </thead>\n  <tbody>\n    <tr>\n      <th>Amazon</th>\n      <td>220</td>\n      <td>17.0</td>\n      <td>Retail</td>\n    </tr>\n    <tr>\n      <th>Google</th>\n      <td>160</td>\n      <td>12.0</td>\n      <td>Tech</td>\n    </tr>\n    <tr>\n      <th>Microsoft</th>\n      <td>170</td>\n      <td>-2.0</td>\n      <td>Tech</td>\n    </tr>\n  </tbody>\n</table>\n</div>"
     },
     "metadata": {},
     "execution_count": 11
    }
   ],
   "source": [
    "data.loc[data['value'] > 150]"
   ]
  },
  {
   "cell_type": "code",
   "execution_count": 12,
   "metadata": {},
   "outputs": [
    {
     "output_type": "execute_result",
     "data": {
      "text/plain": "value      170\nChange      -2\nSector    Tech\nName: Microsoft, dtype: object"
     },
     "metadata": {},
     "execution_count": 12
    }
   ],
   "source": [
    "data.iloc[3]"
   ]
  },
  {
   "cell_type": "code",
   "execution_count": 13,
   "metadata": {},
   "outputs": [
    {
     "output_type": "execute_result",
     "data": {
      "text/plain": "           Change Sector\nGoogle       12.0   Tech\nApple        -8.0   Tech\nMicrosoft    -2.0   Tech",
      "text/html": "<div>\n<style scoped>\n    .dataframe tbody tr th:only-of-type {\n        vertical-align: middle;\n    }\n\n    .dataframe tbody tr th {\n        vertical-align: top;\n    }\n\n    .dataframe thead th {\n        text-align: right;\n    }\n</style>\n<table border=\"1\" class=\"dataframe\">\n  <thead>\n    <tr style=\"text-align: right;\">\n      <th></th>\n      <th>Change</th>\n      <th>Sector</th>\n    </tr>\n  </thead>\n  <tbody>\n    <tr>\n      <th>Google</th>\n      <td>12.0</td>\n      <td>Tech</td>\n    </tr>\n    <tr>\n      <th>Apple</th>\n      <td>-8.0</td>\n      <td>Tech</td>\n    </tr>\n    <tr>\n      <th>Microsoft</th>\n      <td>-2.0</td>\n      <td>Tech</td>\n    </tr>\n  </tbody>\n</table>\n</div>"
     },
     "metadata": {},
     "execution_count": 13
    }
   ],
   "source": [
    "data.iloc[1:4, 1:3]"
   ]
  },
  {
   "cell_type": "code",
   "execution_count": 15,
   "metadata": {},
   "outputs": [
    {
     "output_type": "execute_result",
     "data": {
      "text/plain": "           value  Change  Sector\nAmazon       220    17.0  Retail\nGoogle       160    12.0    Tech\nApple        150    -8.0    Tech\nMicrosoft    170    -2.0    Tech",
      "text/html": "<div>\n<style scoped>\n    .dataframe tbody tr th:only-of-type {\n        vertical-align: middle;\n    }\n\n    .dataframe tbody tr th {\n        vertical-align: top;\n    }\n\n    .dataframe thead th {\n        text-align: right;\n    }\n</style>\n<table border=\"1\" class=\"dataframe\">\n  <thead>\n    <tr style=\"text-align: right;\">\n      <th></th>\n      <th>value</th>\n      <th>Change</th>\n      <th>Sector</th>\n    </tr>\n  </thead>\n  <tbody>\n    <tr>\n      <th>Amazon</th>\n      <td>220</td>\n      <td>17.0</td>\n      <td>Retail</td>\n    </tr>\n    <tr>\n      <th>Google</th>\n      <td>160</td>\n      <td>12.0</td>\n      <td>Tech</td>\n    </tr>\n    <tr>\n      <th>Apple</th>\n      <td>150</td>\n      <td>-8.0</td>\n      <td>Tech</td>\n    </tr>\n    <tr>\n      <th>Microsoft</th>\n      <td>170</td>\n      <td>-2.0</td>\n      <td>Tech</td>\n    </tr>\n  </tbody>\n</table>\n</div>"
     },
     "metadata": {},
     "execution_count": 15
    }
   ],
   "source": [
    "data[0:4]"
   ]
  },
  {
   "cell_type": "code",
   "execution_count": 16,
   "metadata": {},
   "outputs": [
    {
     "output_type": "execute_result",
     "data": {
      "text/plain": "           value  Change  Sector\nAmazon       220    17.0  Retail\nGoogle       160    12.0    Tech\nApple        150    -8.0    Tech\nMicrosoft    170    -2.0    Tech",
      "text/html": "<div>\n<style scoped>\n    .dataframe tbody tr th:only-of-type {\n        vertical-align: middle;\n    }\n\n    .dataframe tbody tr th {\n        vertical-align: top;\n    }\n\n    .dataframe thead th {\n        text-align: right;\n    }\n</style>\n<table border=\"1\" class=\"dataframe\">\n  <thead>\n    <tr style=\"text-align: right;\">\n      <th></th>\n      <th>value</th>\n      <th>Change</th>\n      <th>Sector</th>\n    </tr>\n  </thead>\n  <tbody>\n    <tr>\n      <th>Amazon</th>\n      <td>220</td>\n      <td>17.0</td>\n      <td>Retail</td>\n    </tr>\n    <tr>\n      <th>Google</th>\n      <td>160</td>\n      <td>12.0</td>\n      <td>Tech</td>\n    </tr>\n    <tr>\n      <th>Apple</th>\n      <td>150</td>\n      <td>-8.0</td>\n      <td>Tech</td>\n    </tr>\n    <tr>\n      <th>Microsoft</th>\n      <td>170</td>\n      <td>-2.0</td>\n      <td>Tech</td>\n    </tr>\n  </tbody>\n</table>\n</div>"
     },
     "metadata": {},
     "execution_count": 16
    }
   ],
   "source": [
    "data['Amazon':'Microsoft']"
   ]
  },
  {
   "cell_type": "code",
   "execution_count": 17,
   "metadata": {},
   "outputs": [
    {
     "output_type": "execute_result",
     "data": {
      "text/plain": "Amazon       440\nGoogle       320\nApple        300\nMicrosoft    340\nSamsung      190\nName: value, dtype: int64"
     },
     "metadata": {},
     "execution_count": 17
    }
   ],
   "source": [
    "data['value'].mul(2)"
   ]
  },
  {
   "cell_type": "code",
   "execution_count": 20,
   "metadata": {},
   "outputs": [
    {
     "output_type": "execute_result",
     "data": {
      "text/plain": "Amazon       218\nGoogle       158\nApple        148\nMicrosoft    168\nSamsung       93\nName: value, dtype: int64"
     },
     "metadata": {},
     "execution_count": 20
    }
   ],
   "source": [
    "data['value'].sub(2)"
   ]
  },
  {
   "cell_type": "code",
   "execution_count": 21,
   "metadata": {},
   "outputs": [
    {
     "output_type": "execute_result",
     "data": {
      "text/plain": "Amazon       222\nGoogle       162\nApple        152\nMicrosoft    172\nSamsung       97\nName: value, dtype: int64"
     },
     "metadata": {},
     "execution_count": 21
    }
   ],
   "source": [
    "data['value'].add(2)"
   ]
  },
  {
   "cell_type": "code",
   "execution_count": 22,
   "metadata": {},
   "outputs": [],
   "source": [
    "div, rem = divmod(data['value'], 2)"
   ]
  },
  {
   "cell_type": "code",
   "execution_count": 23,
   "metadata": {},
   "outputs": [
    {
     "output_type": "execute_result",
     "data": {
      "text/plain": "(Amazon       110\n Google        80\n Apple         75\n Microsoft     85\n Samsung       47\n Name: value, dtype: int64,\n Amazon       0\n Google       0\n Apple        0\n Microsoft    0\n Samsung      1\n Name: value, dtype: int64)"
     },
     "metadata": {},
     "execution_count": 23
    }
   ],
   "source": [
    "div, rem"
   ]
  },
  {
   "cell_type": "code",
   "execution_count": 24,
   "metadata": {},
   "outputs": [
    {
     "output_type": "execute_result",
     "data": {
      "text/plain": "           value  Change  Sector\nAmazon       220    17.0  Retail\nGoogle       160    12.0    Tech\nApple        150    -8.0    Tech\nMicrosoft    170    -2.0    Tech\nSamsung       95     3.5    Tech",
      "text/html": "<div>\n<style scoped>\n    .dataframe tbody tr th:only-of-type {\n        vertical-align: middle;\n    }\n\n    .dataframe tbody tr th {\n        vertical-align: top;\n    }\n\n    .dataframe thead th {\n        text-align: right;\n    }\n</style>\n<table border=\"1\" class=\"dataframe\">\n  <thead>\n    <tr style=\"text-align: right;\">\n      <th></th>\n      <th>value</th>\n      <th>Change</th>\n      <th>Sector</th>\n    </tr>\n  </thead>\n  <tbody>\n    <tr>\n      <th>Amazon</th>\n      <td>220</td>\n      <td>17.0</td>\n      <td>Retail</td>\n    </tr>\n    <tr>\n      <th>Google</th>\n      <td>160</td>\n      <td>12.0</td>\n      <td>Tech</td>\n    </tr>\n    <tr>\n      <th>Apple</th>\n      <td>150</td>\n      <td>-8.0</td>\n      <td>Tech</td>\n    </tr>\n    <tr>\n      <th>Microsoft</th>\n      <td>170</td>\n      <td>-2.0</td>\n      <td>Tech</td>\n    </tr>\n    <tr>\n      <th>Samsung</th>\n      <td>95</td>\n      <td>3.5</td>\n      <td>Tech</td>\n    </tr>\n  </tbody>\n</table>\n</div>"
     },
     "metadata": {},
     "execution_count": 24
    }
   ],
   "source": [
    "data"
   ]
  },
  {
   "cell_type": "code",
   "execution_count": 25,
   "metadata": {},
   "outputs": [
    {
     "output_type": "execute_result",
     "data": {
      "text/plain": "value     159.0\nChange      4.5\ndtype: float64"
     },
     "metadata": {},
     "execution_count": 25
    }
   ],
   "source": [
    "data.mean()"
   ]
  },
  {
   "cell_type": "code",
   "execution_count": 26,
   "metadata": {},
   "outputs": [
    {
     "output_type": "execute_result",
     "data": {
      "text/plain": "value                        795\nChange                      22.5\nSector    RetailTechTechTechTech\ndtype: object"
     },
     "metadata": {},
     "execution_count": 26
    }
   ],
   "source": [
    "data.sum()"
   ]
  },
  {
   "cell_type": "code",
   "execution_count": 27,
   "metadata": {},
   "outputs": [
    {
     "output_type": "execute_result",
     "data": {
      "text/plain": "value                        795\nChange                      22.5\nSector    RetailTechTechTechTech\ndtype: object"
     },
     "metadata": {},
     "execution_count": 27
    }
   ],
   "source": [
    "data.sum(0)"
   ]
  },
  {
   "cell_type": "code",
   "execution_count": 28,
   "metadata": {},
   "outputs": [
    {
     "output_type": "execute_result",
     "data": {
      "text/plain": "Amazon       237.0\nGoogle       172.0\nApple        142.0\nMicrosoft    168.0\nSamsung       98.5\ndtype: float64"
     },
     "metadata": {},
     "execution_count": 28
    }
   ],
   "source": [
    "data.sum(1)"
   ]
  },
  {
   "cell_type": "code",
   "execution_count": 29,
   "metadata": {},
   "outputs": [
    {
     "output_type": "execute_result",
     "data": {
      "text/plain": "value     44.777226\nChange    10.148892\ndtype: float64"
     },
     "metadata": {},
     "execution_count": 29
    }
   ],
   "source": [
    "data.std()"
   ]
  },
  {
   "cell_type": "code",
   "execution_count": 30,
   "metadata": {},
   "outputs": [
    {
     "output_type": "execute_result",
     "data": {
      "text/plain": "value         95\nChange        -8\nSector    Retail\ndtype: object"
     },
     "metadata": {},
     "execution_count": 30
    }
   ],
   "source": [
    "data.min()"
   ]
  },
  {
   "cell_type": "code",
   "execution_count": 31,
   "metadata": {},
   "outputs": [
    {
     "output_type": "execute_result",
     "data": {
      "text/plain": "           value  Change                  Sector\nAmazon       220    17.0                  Retail\nGoogle       380    29.0              RetailTech\nApple        530    21.0          RetailTechTech\nMicrosoft    700    19.0      RetailTechTechTech\nSamsung      795    22.5  RetailTechTechTechTech",
      "text/html": "<div>\n<style scoped>\n    .dataframe tbody tr th:only-of-type {\n        vertical-align: middle;\n    }\n\n    .dataframe tbody tr th {\n        vertical-align: top;\n    }\n\n    .dataframe thead th {\n        text-align: right;\n    }\n</style>\n<table border=\"1\" class=\"dataframe\">\n  <thead>\n    <tr style=\"text-align: right;\">\n      <th></th>\n      <th>value</th>\n      <th>Change</th>\n      <th>Sector</th>\n    </tr>\n  </thead>\n  <tbody>\n    <tr>\n      <th>Amazon</th>\n      <td>220</td>\n      <td>17.0</td>\n      <td>Retail</td>\n    </tr>\n    <tr>\n      <th>Google</th>\n      <td>380</td>\n      <td>29.0</td>\n      <td>RetailTech</td>\n    </tr>\n    <tr>\n      <th>Apple</th>\n      <td>530</td>\n      <td>21.0</td>\n      <td>RetailTechTech</td>\n    </tr>\n    <tr>\n      <th>Microsoft</th>\n      <td>700</td>\n      <td>19.0</td>\n      <td>RetailTechTechTech</td>\n    </tr>\n    <tr>\n      <th>Samsung</th>\n      <td>795</td>\n      <td>22.5</td>\n      <td>RetailTechTechTechTech</td>\n    </tr>\n  </tbody>\n</table>\n</div>"
     },
     "metadata": {},
     "execution_count": 31
    }
   ],
   "source": [
    "data.cumsum()"
   ]
  },
  {
   "cell_type": "code",
   "execution_count": 32,
   "metadata": {},
   "outputs": [
    {
     "output_type": "execute_result",
     "data": {
      "text/plain": "value     5\nChange    5\nSector    5\ndtype: int64"
     },
     "metadata": {},
     "execution_count": 32
    }
   ],
   "source": [
    "data.count()"
   ]
  },
  {
   "cell_type": "code",
   "execution_count": null,
   "metadata": {},
   "outputs": [],
   "source": []
  }
 ]
}